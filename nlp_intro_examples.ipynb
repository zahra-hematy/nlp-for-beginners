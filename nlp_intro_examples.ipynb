{
  "cells": [
    {
      "cell_type": "markdown",
      "source": [
        "## Import Libraries"
      ],
      "metadata": {
        "id": "jCDgqlESorm7"
      }
    },
    {
      "cell_type": "code",
      "source": [
        "import nltk\n",
        "from nltk.tokenize import word_tokenize\n",
        "import re\n",
        "from nltk.corpus import stopwords\n",
        "from hazm import word_tokenize, stopwords_list\n",
        "import spacy\n",
        "from sklearn.feature_extraction.text import TfidfVectorizer\n",
        "from sklearn.feature_extraction.text import CountVectorizer\n",
        "import gensim\n",
        "from transformers import pipeline\n",
        "# !python -m spacy download en_core_web_md\n",
        "# !pip install hazm"
      ],
      "metadata": {
        "colab": {
          "base_uri": "https://localhost:8080/",
          "height": 426
        },
        "id": "F1wmN3YQonNX",
        "outputId": "083c6e85-1c2f-498b-c319-1eb6a9103f68"
      },
      "execution_count": 34,
      "outputs": [
        {
          "output_type": "error",
          "ename": "RuntimeError",
          "evalue": "Failed to import transformers.pipelines because of the following error (look up to see its traceback):\nmodule 'numpy' has no attribute 'dtypes'",
          "traceback": [
            "\u001b[0;31m---------------------------------------------------------------------------\u001b[0m",
            "\u001b[0;31mAttributeError\u001b[0m                            Traceback (most recent call last)",
            "\u001b[0;32m/usr/local/lib/python3.11/dist-packages/transformers/utils/import_utils.py\u001b[0m in \u001b[0;36m_get_module\u001b[0;34m(self, module_name)\u001b[0m\n\u001b[1;32m   1966\u001b[0m         \u001b[0;32mtry\u001b[0m\u001b[0;34m:\u001b[0m\u001b[0;34m\u001b[0m\u001b[0;34m\u001b[0m\u001b[0m\n\u001b[0;32m-> 1967\u001b[0;31m             \u001b[0;32mreturn\u001b[0m \u001b[0mimportlib\u001b[0m\u001b[0;34m.\u001b[0m\u001b[0mimport_module\u001b[0m\u001b[0;34m(\u001b[0m\u001b[0;34m\".\"\u001b[0m \u001b[0;34m+\u001b[0m \u001b[0mmodule_name\u001b[0m\u001b[0;34m,\u001b[0m \u001b[0mself\u001b[0m\u001b[0;34m.\u001b[0m\u001b[0m__name__\u001b[0m\u001b[0;34m)\u001b[0m\u001b[0;34m\u001b[0m\u001b[0;34m\u001b[0m\u001b[0m\n\u001b[0m\u001b[1;32m   1968\u001b[0m         \u001b[0;32mexcept\u001b[0m \u001b[0mException\u001b[0m \u001b[0;32mas\u001b[0m \u001b[0me\u001b[0m\u001b[0;34m:\u001b[0m\u001b[0;34m\u001b[0m\u001b[0;34m\u001b[0m\u001b[0m\n",
            "\u001b[0;32m/usr/lib/python3.11/importlib/__init__.py\u001b[0m in \u001b[0;36mimport_module\u001b[0;34m(name, package)\u001b[0m\n\u001b[1;32m    125\u001b[0m             \u001b[0mlevel\u001b[0m \u001b[0;34m+=\u001b[0m \u001b[0;36m1\u001b[0m\u001b[0;34m\u001b[0m\u001b[0;34m\u001b[0m\u001b[0m\n\u001b[0;32m--> 126\u001b[0;31m     \u001b[0;32mreturn\u001b[0m \u001b[0m_bootstrap\u001b[0m\u001b[0;34m.\u001b[0m\u001b[0m_gcd_import\u001b[0m\u001b[0;34m(\u001b[0m\u001b[0mname\u001b[0m\u001b[0;34m[\u001b[0m\u001b[0mlevel\u001b[0m\u001b[0;34m:\u001b[0m\u001b[0;34m]\u001b[0m\u001b[0;34m,\u001b[0m \u001b[0mpackage\u001b[0m\u001b[0;34m,\u001b[0m \u001b[0mlevel\u001b[0m\u001b[0;34m)\u001b[0m\u001b[0;34m\u001b[0m\u001b[0;34m\u001b[0m\u001b[0m\n\u001b[0m\u001b[1;32m    127\u001b[0m \u001b[0;34m\u001b[0m\u001b[0m\n",
            "\u001b[0;32m/usr/lib/python3.11/importlib/_bootstrap.py\u001b[0m in \u001b[0;36m_gcd_import\u001b[0;34m(name, package, level)\u001b[0m\n",
            "\u001b[0;32m/usr/lib/python3.11/importlib/_bootstrap.py\u001b[0m in \u001b[0;36m_find_and_load\u001b[0;34m(name, import_)\u001b[0m\n",
            "\u001b[0;32m/usr/lib/python3.11/importlib/_bootstrap.py\u001b[0m in \u001b[0;36m_find_and_load_unlocked\u001b[0;34m(name, import_)\u001b[0m\n",
            "\u001b[0;32m/usr/lib/python3.11/importlib/_bootstrap.py\u001b[0m in \u001b[0;36m_load_unlocked\u001b[0;34m(spec)\u001b[0m\n",
            "\u001b[0;32m/usr/lib/python3.11/importlib/_bootstrap_external.py\u001b[0m in \u001b[0;36mexec_module\u001b[0;34m(self, module)\u001b[0m\n",
            "\u001b[0;32m/usr/lib/python3.11/importlib/_bootstrap.py\u001b[0m in \u001b[0;36m_call_with_frames_removed\u001b[0;34m(f, *args, **kwds)\u001b[0m\n",
            "\u001b[0;32m/usr/local/lib/python3.11/dist-packages/transformers/pipelines/__init__.py\u001b[0m in \u001b[0;36m<module>\u001b[0;34m\u001b[0m\n\u001b[1;32m     25\u001b[0m \u001b[0;32mfrom\u001b[0m \u001b[0;34m.\u001b[0m\u001b[0;34m.\u001b[0m\u001b[0mfeature_extraction_utils\u001b[0m \u001b[0;32mimport\u001b[0m \u001b[0mPreTrainedFeatureExtractor\u001b[0m\u001b[0;34m\u001b[0m\u001b[0;34m\u001b[0m\u001b[0m\n\u001b[0;32m---> 26\u001b[0;31m \u001b[0;32mfrom\u001b[0m \u001b[0;34m.\u001b[0m\u001b[0;34m.\u001b[0m\u001b[0mimage_processing_utils\u001b[0m \u001b[0;32mimport\u001b[0m \u001b[0mBaseImageProcessor\u001b[0m\u001b[0;34m\u001b[0m\u001b[0;34m\u001b[0m\u001b[0m\n\u001b[0m\u001b[1;32m     27\u001b[0m \u001b[0;32mfrom\u001b[0m \u001b[0;34m.\u001b[0m\u001b[0;34m.\u001b[0m\u001b[0mmodels\u001b[0m\u001b[0;34m.\u001b[0m\u001b[0mauto\u001b[0m\u001b[0;34m.\u001b[0m\u001b[0mconfiguration_auto\u001b[0m \u001b[0;32mimport\u001b[0m \u001b[0mAutoConfig\u001b[0m\u001b[0;34m\u001b[0m\u001b[0;34m\u001b[0m\u001b[0m\n",
            "\u001b[0;32m/usr/local/lib/python3.11/dist-packages/transformers/image_processing_utils.py\u001b[0m in \u001b[0;36m<module>\u001b[0;34m\u001b[0m\n\u001b[1;32m     21\u001b[0m \u001b[0;32mfrom\u001b[0m \u001b[0;34m.\u001b[0m\u001b[0mimage_processing_base\u001b[0m \u001b[0;32mimport\u001b[0m \u001b[0mBatchFeature\u001b[0m\u001b[0;34m,\u001b[0m \u001b[0mImageProcessingMixin\u001b[0m\u001b[0;34m\u001b[0m\u001b[0;34m\u001b[0m\u001b[0m\n\u001b[0;32m---> 22\u001b[0;31m \u001b[0;32mfrom\u001b[0m \u001b[0;34m.\u001b[0m\u001b[0mimage_transforms\u001b[0m \u001b[0;32mimport\u001b[0m \u001b[0mcenter_crop\u001b[0m\u001b[0;34m,\u001b[0m \u001b[0mnormalize\u001b[0m\u001b[0;34m,\u001b[0m \u001b[0mrescale\u001b[0m\u001b[0;34m\u001b[0m\u001b[0;34m\u001b[0m\u001b[0m\n\u001b[0m\u001b[1;32m     23\u001b[0m \u001b[0;32mfrom\u001b[0m \u001b[0;34m.\u001b[0m\u001b[0mimage_utils\u001b[0m \u001b[0;32mimport\u001b[0m \u001b[0mChannelDimension\u001b[0m\u001b[0;34m,\u001b[0m \u001b[0mget_image_size\u001b[0m\u001b[0;34m\u001b[0m\u001b[0;34m\u001b[0m\u001b[0m\n",
            "\u001b[0;32m/usr/local/lib/python3.11/dist-packages/transformers/image_transforms.py\u001b[0m in \u001b[0;36m<module>\u001b[0;34m\u001b[0m\n\u001b[1;32m     46\u001b[0m \u001b[0;32mif\u001b[0m \u001b[0mis_tf_available\u001b[0m\u001b[0;34m(\u001b[0m\u001b[0;34m)\u001b[0m\u001b[0;34m:\u001b[0m\u001b[0;34m\u001b[0m\u001b[0;34m\u001b[0m\u001b[0m\n\u001b[0;32m---> 47\u001b[0;31m     \u001b[0;32mimport\u001b[0m \u001b[0mtensorflow\u001b[0m \u001b[0;32mas\u001b[0m \u001b[0mtf\u001b[0m\u001b[0;34m\u001b[0m\u001b[0;34m\u001b[0m\u001b[0m\n\u001b[0m\u001b[1;32m     48\u001b[0m \u001b[0;34m\u001b[0m\u001b[0m\n",
            "\u001b[0;32m/usr/local/lib/python3.11/dist-packages/tensorflow/__init__.py\u001b[0m in \u001b[0;36m<module>\u001b[0;34m\u001b[0m\n\u001b[1;32m     54\u001b[0m \u001b[0;32mfrom\u001b[0m \u001b[0mtensorflow\u001b[0m\u001b[0;34m.\u001b[0m\u001b[0m_api\u001b[0m\u001b[0;34m.\u001b[0m\u001b[0mv2\u001b[0m \u001b[0;32mimport\u001b[0m \u001b[0mbitwise\u001b[0m\u001b[0;34m\u001b[0m\u001b[0;34m\u001b[0m\u001b[0m\n\u001b[0;32m---> 55\u001b[0;31m \u001b[0;32mfrom\u001b[0m \u001b[0mtensorflow\u001b[0m\u001b[0;34m.\u001b[0m\u001b[0m_api\u001b[0m\u001b[0;34m.\u001b[0m\u001b[0mv2\u001b[0m \u001b[0;32mimport\u001b[0m \u001b[0mcompat\u001b[0m\u001b[0;34m\u001b[0m\u001b[0;34m\u001b[0m\u001b[0m\n\u001b[0m\u001b[1;32m     56\u001b[0m \u001b[0;32mfrom\u001b[0m \u001b[0mtensorflow\u001b[0m\u001b[0;34m.\u001b[0m\u001b[0m_api\u001b[0m\u001b[0;34m.\u001b[0m\u001b[0mv2\u001b[0m \u001b[0;32mimport\u001b[0m \u001b[0mconfig\u001b[0m\u001b[0;34m\u001b[0m\u001b[0;34m\u001b[0m\u001b[0m\n",
            "\u001b[0;32m/usr/local/lib/python3.11/dist-packages/tensorflow/_api/v2/compat/__init__.py\u001b[0m in \u001b[0;36m<module>\u001b[0;34m\u001b[0m\n\u001b[1;32m      7\u001b[0m \u001b[0;34m\u001b[0m\u001b[0m\n\u001b[0;32m----> 8\u001b[0;31m \u001b[0;32mfrom\u001b[0m \u001b[0mtensorflow\u001b[0m\u001b[0;34m.\u001b[0m\u001b[0m_api\u001b[0m\u001b[0;34m.\u001b[0m\u001b[0mv2\u001b[0m\u001b[0;34m.\u001b[0m\u001b[0mcompat\u001b[0m \u001b[0;32mimport\u001b[0m \u001b[0mv1\u001b[0m\u001b[0;34m\u001b[0m\u001b[0;34m\u001b[0m\u001b[0m\n\u001b[0m\u001b[1;32m      9\u001b[0m \u001b[0;32mfrom\u001b[0m \u001b[0mtensorflow\u001b[0m\u001b[0;34m.\u001b[0m\u001b[0m_api\u001b[0m\u001b[0;34m.\u001b[0m\u001b[0mv2\u001b[0m\u001b[0;34m.\u001b[0m\u001b[0mcompat\u001b[0m \u001b[0;32mimport\u001b[0m \u001b[0mv2\u001b[0m\u001b[0;34m\u001b[0m\u001b[0;34m\u001b[0m\u001b[0m\n",
            "\u001b[0;32m/usr/local/lib/python3.11/dist-packages/tensorflow/_api/v2/compat/v1/__init__.py\u001b[0m in \u001b[0;36m<module>\u001b[0;34m\u001b[0m\n\u001b[1;32m     29\u001b[0m \u001b[0;32mfrom\u001b[0m \u001b[0mtensorflow\u001b[0m\u001b[0;34m.\u001b[0m\u001b[0m_api\u001b[0m\u001b[0;34m.\u001b[0m\u001b[0mv2\u001b[0m\u001b[0;34m.\u001b[0m\u001b[0mcompat\u001b[0m\u001b[0;34m.\u001b[0m\u001b[0mv1\u001b[0m \u001b[0;32mimport\u001b[0m \u001b[0mbitwise\u001b[0m\u001b[0;34m\u001b[0m\u001b[0;34m\u001b[0m\u001b[0m\n\u001b[0;32m---> 30\u001b[0;31m \u001b[0;32mfrom\u001b[0m \u001b[0mtensorflow\u001b[0m\u001b[0;34m.\u001b[0m\u001b[0m_api\u001b[0m\u001b[0;34m.\u001b[0m\u001b[0mv2\u001b[0m\u001b[0;34m.\u001b[0m\u001b[0mcompat\u001b[0m\u001b[0;34m.\u001b[0m\u001b[0mv1\u001b[0m \u001b[0;32mimport\u001b[0m \u001b[0mcompat\u001b[0m\u001b[0;34m\u001b[0m\u001b[0;34m\u001b[0m\u001b[0m\n\u001b[0m\u001b[1;32m     31\u001b[0m \u001b[0;32mfrom\u001b[0m \u001b[0mtensorflow\u001b[0m\u001b[0;34m.\u001b[0m\u001b[0m_api\u001b[0m\u001b[0;34m.\u001b[0m\u001b[0mv2\u001b[0m\u001b[0;34m.\u001b[0m\u001b[0mcompat\u001b[0m\u001b[0;34m.\u001b[0m\u001b[0mv1\u001b[0m \u001b[0;32mimport\u001b[0m \u001b[0mconfig\u001b[0m\u001b[0;34m\u001b[0m\u001b[0;34m\u001b[0m\u001b[0m\n",
            "\u001b[0;32m/usr/local/lib/python3.11/dist-packages/tensorflow/_api/v2/compat/v1/compat/__init__.py\u001b[0m in \u001b[0;36m<module>\u001b[0;34m\u001b[0m\n\u001b[1;32m      7\u001b[0m \u001b[0;34m\u001b[0m\u001b[0m\n\u001b[0;32m----> 8\u001b[0;31m \u001b[0;32mfrom\u001b[0m \u001b[0mtensorflow\u001b[0m\u001b[0;34m.\u001b[0m\u001b[0m_api\u001b[0m\u001b[0;34m.\u001b[0m\u001b[0mv2\u001b[0m\u001b[0;34m.\u001b[0m\u001b[0mcompat\u001b[0m\u001b[0;34m.\u001b[0m\u001b[0mv1\u001b[0m\u001b[0;34m.\u001b[0m\u001b[0mcompat\u001b[0m \u001b[0;32mimport\u001b[0m \u001b[0mv1\u001b[0m\u001b[0;34m\u001b[0m\u001b[0;34m\u001b[0m\u001b[0m\n\u001b[0m\u001b[1;32m      9\u001b[0m \u001b[0;32mfrom\u001b[0m \u001b[0mtensorflow\u001b[0m\u001b[0;34m.\u001b[0m\u001b[0m_api\u001b[0m\u001b[0;34m.\u001b[0m\u001b[0mv2\u001b[0m\u001b[0;34m.\u001b[0m\u001b[0mcompat\u001b[0m\u001b[0;34m.\u001b[0m\u001b[0mv1\u001b[0m\u001b[0;34m.\u001b[0m\u001b[0mcompat\u001b[0m \u001b[0;32mimport\u001b[0m \u001b[0mv2\u001b[0m\u001b[0;34m\u001b[0m\u001b[0;34m\u001b[0m\u001b[0m\n",
            "\u001b[0;32m/usr/local/lib/python3.11/dist-packages/tensorflow/_api/v2/compat/v1/compat/v1/__init__.py\u001b[0m in \u001b[0;36m<module>\u001b[0;34m\u001b[0m\n\u001b[1;32m     46\u001b[0m \u001b[0;32mfrom\u001b[0m \u001b[0mtensorflow\u001b[0m\u001b[0;34m.\u001b[0m\u001b[0m_api\u001b[0m\u001b[0;34m.\u001b[0m\u001b[0mv2\u001b[0m\u001b[0;34m.\u001b[0m\u001b[0mcompat\u001b[0m\u001b[0;34m.\u001b[0m\u001b[0mv1\u001b[0m \u001b[0;32mimport\u001b[0m \u001b[0mlinalg\u001b[0m\u001b[0;34m\u001b[0m\u001b[0;34m\u001b[0m\u001b[0m\n\u001b[0;32m---> 47\u001b[0;31m \u001b[0;32mfrom\u001b[0m \u001b[0mtensorflow\u001b[0m\u001b[0;34m.\u001b[0m\u001b[0m_api\u001b[0m\u001b[0;34m.\u001b[0m\u001b[0mv2\u001b[0m\u001b[0;34m.\u001b[0m\u001b[0mcompat\u001b[0m\u001b[0;34m.\u001b[0m\u001b[0mv1\u001b[0m \u001b[0;32mimport\u001b[0m \u001b[0mlite\u001b[0m\u001b[0;34m\u001b[0m\u001b[0;34m\u001b[0m\u001b[0m\n\u001b[0m\u001b[1;32m     48\u001b[0m \u001b[0;32mfrom\u001b[0m \u001b[0mtensorflow\u001b[0m\u001b[0;34m.\u001b[0m\u001b[0m_api\u001b[0m\u001b[0;34m.\u001b[0m\u001b[0mv2\u001b[0m\u001b[0;34m.\u001b[0m\u001b[0mcompat\u001b[0m\u001b[0;34m.\u001b[0m\u001b[0mv1\u001b[0m \u001b[0;32mimport\u001b[0m \u001b[0mlogging\u001b[0m\u001b[0;34m\u001b[0m\u001b[0;34m\u001b[0m\u001b[0m\n",
            "\u001b[0;32m/usr/local/lib/python3.11/dist-packages/tensorflow/_api/v2/compat/v1/lite/__init__.py\u001b[0m in \u001b[0;36m<module>\u001b[0;34m\u001b[0m\n\u001b[1;32m      8\u001b[0m \u001b[0;32mfrom\u001b[0m \u001b[0mtensorflow\u001b[0m\u001b[0;34m.\u001b[0m\u001b[0m_api\u001b[0m\u001b[0;34m.\u001b[0m\u001b[0mv2\u001b[0m\u001b[0;34m.\u001b[0m\u001b[0mcompat\u001b[0m\u001b[0;34m.\u001b[0m\u001b[0mv1\u001b[0m\u001b[0;34m.\u001b[0m\u001b[0mlite\u001b[0m \u001b[0;32mimport\u001b[0m \u001b[0mconstants\u001b[0m\u001b[0;34m\u001b[0m\u001b[0;34m\u001b[0m\u001b[0m\n\u001b[0;32m----> 9\u001b[0;31m \u001b[0;32mfrom\u001b[0m \u001b[0mtensorflow\u001b[0m\u001b[0;34m.\u001b[0m\u001b[0m_api\u001b[0m\u001b[0;34m.\u001b[0m\u001b[0mv2\u001b[0m\u001b[0;34m.\u001b[0m\u001b[0mcompat\u001b[0m\u001b[0;34m.\u001b[0m\u001b[0mv1\u001b[0m\u001b[0;34m.\u001b[0m\u001b[0mlite\u001b[0m \u001b[0;32mimport\u001b[0m \u001b[0mexperimental\u001b[0m\u001b[0;34m\u001b[0m\u001b[0;34m\u001b[0m\u001b[0m\n\u001b[0m\u001b[1;32m     10\u001b[0m \u001b[0;32mfrom\u001b[0m \u001b[0mtensorflow\u001b[0m\u001b[0;34m.\u001b[0m\u001b[0mlite\u001b[0m\u001b[0;34m.\u001b[0m\u001b[0mpython\u001b[0m\u001b[0;34m.\u001b[0m\u001b[0mconvert\u001b[0m \u001b[0;32mimport\u001b[0m \u001b[0mOpsSet\u001b[0m \u001b[0;31m# line: 170\u001b[0m\u001b[0;34m\u001b[0m\u001b[0;34m\u001b[0m\u001b[0m\n",
            "\u001b[0;32m/usr/local/lib/python3.11/dist-packages/tensorflow/_api/v2/compat/v1/lite/experimental/__init__.py\u001b[0m in \u001b[0;36m<module>\u001b[0;34m\u001b[0m\n\u001b[1;32m      7\u001b[0m \u001b[0;34m\u001b[0m\u001b[0m\n\u001b[0;32m----> 8\u001b[0;31m \u001b[0;32mfrom\u001b[0m \u001b[0mtensorflow\u001b[0m\u001b[0;34m.\u001b[0m\u001b[0m_api\u001b[0m\u001b[0;34m.\u001b[0m\u001b[0mv2\u001b[0m\u001b[0;34m.\u001b[0m\u001b[0mcompat\u001b[0m\u001b[0;34m.\u001b[0m\u001b[0mv1\u001b[0m\u001b[0;34m.\u001b[0m\u001b[0mlite\u001b[0m\u001b[0;34m.\u001b[0m\u001b[0mexperimental\u001b[0m \u001b[0;32mimport\u001b[0m \u001b[0mauthoring\u001b[0m\u001b[0;34m\u001b[0m\u001b[0;34m\u001b[0m\u001b[0m\n\u001b[0m\u001b[1;32m      9\u001b[0m \u001b[0;32mfrom\u001b[0m \u001b[0mtensorflow\u001b[0m\u001b[0;34m.\u001b[0m\u001b[0mlite\u001b[0m\u001b[0;34m.\u001b[0m\u001b[0mpython\u001b[0m\u001b[0;34m.\u001b[0m\u001b[0manalyzer\u001b[0m \u001b[0;32mimport\u001b[0m \u001b[0mModelAnalyzer\u001b[0m \u001b[0;32mas\u001b[0m \u001b[0mAnalyzer\u001b[0m \u001b[0;31m# line: 35\u001b[0m\u001b[0;34m\u001b[0m\u001b[0;34m\u001b[0m\u001b[0m\n",
            "\u001b[0;32m/usr/local/lib/python3.11/dist-packages/tensorflow/_api/v2/compat/v1/lite/experimental/authoring/__init__.py\u001b[0m in \u001b[0;36m<module>\u001b[0;34m\u001b[0m\n\u001b[1;32m      7\u001b[0m \u001b[0;34m\u001b[0m\u001b[0m\n\u001b[0;32m----> 8\u001b[0;31m \u001b[0;32mfrom\u001b[0m \u001b[0mtensorflow\u001b[0m\u001b[0;34m.\u001b[0m\u001b[0mlite\u001b[0m\u001b[0;34m.\u001b[0m\u001b[0mpython\u001b[0m\u001b[0;34m.\u001b[0m\u001b[0mauthoring\u001b[0m\u001b[0;34m.\u001b[0m\u001b[0mauthoring\u001b[0m \u001b[0;32mimport\u001b[0m \u001b[0mcompatible\u001b[0m \u001b[0;31m# line: 263\u001b[0m\u001b[0;34m\u001b[0m\u001b[0;34m\u001b[0m\u001b[0m\n\u001b[0m\u001b[1;32m      9\u001b[0m \u001b[0;34m\u001b[0m\u001b[0m\n",
            "\u001b[0;32m/usr/local/lib/python3.11/dist-packages/tensorflow/lite/python/authoring/authoring.py\u001b[0m in \u001b[0;36m<module>\u001b[0;34m\u001b[0m\n\u001b[1;32m     41\u001b[0m \u001b[0;31m# pylint: disable=g-import-not-at-top\u001b[0m\u001b[0;34m\u001b[0m\u001b[0;34m\u001b[0m\u001b[0m\n\u001b[0;32m---> 42\u001b[0;31m \u001b[0;32mfrom\u001b[0m \u001b[0mtensorflow\u001b[0m\u001b[0;34m.\u001b[0m\u001b[0mlite\u001b[0m\u001b[0;34m.\u001b[0m\u001b[0mpython\u001b[0m \u001b[0;32mimport\u001b[0m \u001b[0mconvert\u001b[0m\u001b[0;34m\u001b[0m\u001b[0;34m\u001b[0m\u001b[0m\n\u001b[0m\u001b[1;32m     43\u001b[0m \u001b[0;32mfrom\u001b[0m \u001b[0mtensorflow\u001b[0m\u001b[0;34m.\u001b[0m\u001b[0mlite\u001b[0m\u001b[0;34m.\u001b[0m\u001b[0mpython\u001b[0m \u001b[0;32mimport\u001b[0m \u001b[0mlite\u001b[0m\u001b[0;34m\u001b[0m\u001b[0;34m\u001b[0m\u001b[0m\n",
            "\u001b[0;32m/usr/local/lib/python3.11/dist-packages/tensorflow/lite/python/convert.py\u001b[0m in \u001b[0;36m<module>\u001b[0;34m\u001b[0m\n\u001b[1;32m     34\u001b[0m \u001b[0;32mfrom\u001b[0m \u001b[0mtensorflow\u001b[0m\u001b[0;34m.\u001b[0m\u001b[0mlite\u001b[0m\u001b[0;34m.\u001b[0m\u001b[0mpython\u001b[0m \u001b[0;32mimport\u001b[0m \u001b[0mlite_constants\u001b[0m\u001b[0;34m\u001b[0m\u001b[0;34m\u001b[0m\u001b[0m\n\u001b[0;32m---> 35\u001b[0;31m \u001b[0;32mfrom\u001b[0m \u001b[0mtensorflow\u001b[0m\u001b[0;34m.\u001b[0m\u001b[0mlite\u001b[0m\u001b[0;34m.\u001b[0m\u001b[0mpython\u001b[0m \u001b[0;32mimport\u001b[0m \u001b[0mutil\u001b[0m\u001b[0;34m\u001b[0m\u001b[0;34m\u001b[0m\u001b[0m\n\u001b[0m\u001b[1;32m     36\u001b[0m \u001b[0;32mfrom\u001b[0m \u001b[0mtensorflow\u001b[0m\u001b[0;34m.\u001b[0m\u001b[0mlite\u001b[0m\u001b[0;34m.\u001b[0m\u001b[0mpython\u001b[0m\u001b[0;34m.\u001b[0m\u001b[0mconvert_phase\u001b[0m \u001b[0;32mimport\u001b[0m \u001b[0mComponent\u001b[0m\u001b[0;34m\u001b[0m\u001b[0;34m\u001b[0m\u001b[0m\n",
            "\u001b[0;32m/usr/local/lib/python3.11/dist-packages/tensorflow/lite/python/util.py\u001b[0m in \u001b[0;36m<module>\u001b[0;34m\u001b[0m\n\u001b[1;32m     52\u001b[0m \u001b[0;32mtry\u001b[0m\u001b[0;34m:\u001b[0m\u001b[0;34m\u001b[0m\u001b[0;34m\u001b[0m\u001b[0m\n\u001b[0;32m---> 53\u001b[0;31m   \u001b[0;32mfrom\u001b[0m \u001b[0mjax\u001b[0m \u001b[0;32mimport\u001b[0m \u001b[0mjit\u001b[0m \u001b[0;32mas\u001b[0m \u001b[0m_jit\u001b[0m\u001b[0;34m\u001b[0m\u001b[0;34m\u001b[0m\u001b[0m\n\u001b[0m\u001b[1;32m     54\u001b[0m \u001b[0;32mexcept\u001b[0m \u001b[0mImportError\u001b[0m\u001b[0;34m:\u001b[0m\u001b[0;34m\u001b[0m\u001b[0;34m\u001b[0m\u001b[0m\n",
            "\u001b[0;32m/usr/local/lib/python3.11/dist-packages/jax/__init__.py\u001b[0m in \u001b[0;36m<module>\u001b[0;34m\u001b[0m\n\u001b[1;32m     36\u001b[0m \u001b[0;31m# Force early import, allowing use of `jax.core` after importing `jax`.\u001b[0m\u001b[0;34m\u001b[0m\u001b[0;34m\u001b[0m\u001b[0m\n\u001b[0;32m---> 37\u001b[0;31m \u001b[0;32mimport\u001b[0m \u001b[0mjax\u001b[0m\u001b[0;34m.\u001b[0m\u001b[0mcore\u001b[0m \u001b[0;32mas\u001b[0m \u001b[0m_core\u001b[0m\u001b[0;34m\u001b[0m\u001b[0;34m\u001b[0m\u001b[0m\n\u001b[0m\u001b[1;32m     38\u001b[0m \u001b[0;32mdel\u001b[0m \u001b[0m_core\u001b[0m\u001b[0;34m\u001b[0m\u001b[0;34m\u001b[0m\u001b[0m\n",
            "\u001b[0;32m/usr/local/lib/python3.11/dist-packages/jax/core.py\u001b[0m in \u001b[0;36m<module>\u001b[0;34m\u001b[0m\n\u001b[1;32m     17\u001b[0m \u001b[0;34m\u001b[0m\u001b[0m\n\u001b[0;32m---> 18\u001b[0;31m from jax._src.core import (\n\u001b[0m\u001b[1;32m     19\u001b[0m   \u001b[0mAbstractToken\u001b[0m \u001b[0;32mas\u001b[0m \u001b[0mAbstractToken\u001b[0m\u001b[0;34m,\u001b[0m\u001b[0;34m\u001b[0m\u001b[0;34m\u001b[0m\u001b[0m\n",
            "\u001b[0;32m/usr/local/lib/python3.11/dist-packages/jax/_src/core.py\u001b[0m in \u001b[0;36m<module>\u001b[0;34m\u001b[0m\n\u001b[1;32m     36\u001b[0m \u001b[0;34m\u001b[0m\u001b[0m\n\u001b[0;32m---> 37\u001b[0;31m \u001b[0;32mfrom\u001b[0m \u001b[0mjax\u001b[0m\u001b[0;34m.\u001b[0m\u001b[0m_src\u001b[0m \u001b[0;32mimport\u001b[0m \u001b[0mdtypes\u001b[0m\u001b[0;34m\u001b[0m\u001b[0;34m\u001b[0m\u001b[0m\n\u001b[0m\u001b[1;32m     38\u001b[0m \u001b[0;32mfrom\u001b[0m \u001b[0mjax\u001b[0m\u001b[0;34m.\u001b[0m\u001b[0m_src\u001b[0m \u001b[0;32mimport\u001b[0m \u001b[0mconfig\u001b[0m\u001b[0;34m\u001b[0m\u001b[0;34m\u001b[0m\u001b[0m\n",
            "\u001b[0;32m/usr/local/lib/python3.11/dist-packages/jax/_src/dtypes.py\u001b[0m in \u001b[0;36m<module>\u001b[0;34m\u001b[0m\n\u001b[1;32m    520\u001b[0m \u001b[0m_string_types\u001b[0m\u001b[0;34m:\u001b[0m \u001b[0mlist\u001b[0m\u001b[0;34m[\u001b[0m\u001b[0mJAXType\u001b[0m\u001b[0;34m]\u001b[0m \u001b[0;34m=\u001b[0m \u001b[0;34m[\u001b[0m\u001b[0;34m]\u001b[0m\u001b[0;34m\u001b[0m\u001b[0;34m\u001b[0m\u001b[0m\n\u001b[0;32m--> 521\u001b[0;31m \u001b[0;32mif\u001b[0m \u001b[0mhasattr\u001b[0m\u001b[0;34m(\u001b[0m\u001b[0mnp\u001b[0m\u001b[0;34m.\u001b[0m\u001b[0mdtypes\u001b[0m\u001b[0;34m,\u001b[0m \u001b[0;34m'StringDType'\u001b[0m\u001b[0;34m)\u001b[0m \u001b[0;32mand\u001b[0m \u001b[0mxla_extension_version\u001b[0m \u001b[0;34m>=\u001b[0m \u001b[0;36m311\u001b[0m\u001b[0;34m:\u001b[0m\u001b[0;34m\u001b[0m\u001b[0;34m\u001b[0m\u001b[0m\n\u001b[0m\u001b[1;32m    522\u001b[0m   \u001b[0m_string_types\u001b[0m\u001b[0;34m:\u001b[0m \u001b[0mlist\u001b[0m\u001b[0;34m[\u001b[0m\u001b[0mJAXType\u001b[0m\u001b[0;34m]\u001b[0m \u001b[0;34m=\u001b[0m \u001b[0;34m[\u001b[0m\u001b[0mnp\u001b[0m\u001b[0;34m.\u001b[0m\u001b[0mdtypes\u001b[0m\u001b[0;34m.\u001b[0m\u001b[0mStringDType\u001b[0m\u001b[0;34m(\u001b[0m\u001b[0;34m)\u001b[0m\u001b[0;34m]\u001b[0m  \u001b[0;31m# type: ignore\u001b[0m\u001b[0;34m\u001b[0m\u001b[0;34m\u001b[0m\u001b[0m\n",
            "\u001b[0;32m/usr/local/lib/python3.11/dist-packages/numpy/__init__.py\u001b[0m in \u001b[0;36m__getattr__\u001b[0;34m(attr)\u001b[0m\n\u001b[1;32m    319\u001b[0m \u001b[0;34m\u001b[0m\u001b[0m\n\u001b[0;32m--> 320\u001b[0;31m         raise AttributeError(\"module {!r} has no attribute \"\n\u001b[0m\u001b[1;32m    321\u001b[0m                              \"{!r}\".format(__name__, attr))\n",
            "\u001b[0;31mAttributeError\u001b[0m: module 'numpy' has no attribute 'dtypes'",
            "\nThe above exception was the direct cause of the following exception:\n",
            "\u001b[0;31mRuntimeError\u001b[0m                              Traceback (most recent call last)",
            "\u001b[0;32m<ipython-input-34-10c19cbaa0d0>\u001b[0m in \u001b[0;36m<cell line: 0>\u001b[0;34m()\u001b[0m\n\u001b[1;32m      8\u001b[0m \u001b[0;32mfrom\u001b[0m \u001b[0msklearn\u001b[0m\u001b[0;34m.\u001b[0m\u001b[0mfeature_extraction\u001b[0m\u001b[0;34m.\u001b[0m\u001b[0mtext\u001b[0m \u001b[0;32mimport\u001b[0m \u001b[0mCountVectorizer\u001b[0m\u001b[0;34m\u001b[0m\u001b[0;34m\u001b[0m\u001b[0m\n\u001b[1;32m      9\u001b[0m \u001b[0;32mimport\u001b[0m \u001b[0mgensim\u001b[0m\u001b[0;34m\u001b[0m\u001b[0;34m\u001b[0m\u001b[0m\n\u001b[0;32m---> 10\u001b[0;31m \u001b[0;32mfrom\u001b[0m \u001b[0mtransformers\u001b[0m \u001b[0;32mimport\u001b[0m \u001b[0mpipeline\u001b[0m\u001b[0;34m\u001b[0m\u001b[0;34m\u001b[0m\u001b[0m\n\u001b[0m\u001b[1;32m     11\u001b[0m \u001b[0;31m# !python -m spacy download en_core_web_md\u001b[0m\u001b[0;34m\u001b[0m\u001b[0;34m\u001b[0m\u001b[0m\n\u001b[1;32m     12\u001b[0m \u001b[0;31m# !pip install hazm\u001b[0m\u001b[0;34m\u001b[0m\u001b[0;34m\u001b[0m\u001b[0m\n",
            "\u001b[0;32m/usr/lib/python3.11/importlib/_bootstrap.py\u001b[0m in \u001b[0;36m_handle_fromlist\u001b[0;34m(module, fromlist, import_, recursive)\u001b[0m\n",
            "\u001b[0;32m/usr/local/lib/python3.11/dist-packages/transformers/utils/import_utils.py\u001b[0m in \u001b[0;36m__getattr__\u001b[0;34m(self, name)\u001b[0m\n\u001b[1;32m   1953\u001b[0m             \u001b[0mvalue\u001b[0m \u001b[0;34m=\u001b[0m \u001b[0mPlaceholder\u001b[0m\u001b[0;34m\u001b[0m\u001b[0;34m\u001b[0m\u001b[0m\n\u001b[1;32m   1954\u001b[0m         \u001b[0;32melif\u001b[0m \u001b[0mname\u001b[0m \u001b[0;32min\u001b[0m \u001b[0mself\u001b[0m\u001b[0;34m.\u001b[0m\u001b[0m_class_to_module\u001b[0m\u001b[0;34m.\u001b[0m\u001b[0mkeys\u001b[0m\u001b[0;34m(\u001b[0m\u001b[0;34m)\u001b[0m\u001b[0;34m:\u001b[0m\u001b[0;34m\u001b[0m\u001b[0;34m\u001b[0m\u001b[0m\n\u001b[0;32m-> 1955\u001b[0;31m             \u001b[0mmodule\u001b[0m \u001b[0;34m=\u001b[0m \u001b[0mself\u001b[0m\u001b[0;34m.\u001b[0m\u001b[0m_get_module\u001b[0m\u001b[0;34m(\u001b[0m\u001b[0mself\u001b[0m\u001b[0;34m.\u001b[0m\u001b[0m_class_to_module\u001b[0m\u001b[0;34m[\u001b[0m\u001b[0mname\u001b[0m\u001b[0;34m]\u001b[0m\u001b[0;34m)\u001b[0m\u001b[0;34m\u001b[0m\u001b[0;34m\u001b[0m\u001b[0m\n\u001b[0m\u001b[1;32m   1956\u001b[0m             \u001b[0mvalue\u001b[0m \u001b[0;34m=\u001b[0m \u001b[0mgetattr\u001b[0m\u001b[0;34m(\u001b[0m\u001b[0mmodule\u001b[0m\u001b[0;34m,\u001b[0m \u001b[0mname\u001b[0m\u001b[0;34m)\u001b[0m\u001b[0;34m\u001b[0m\u001b[0;34m\u001b[0m\u001b[0m\n\u001b[1;32m   1957\u001b[0m         \u001b[0;32melif\u001b[0m \u001b[0mname\u001b[0m \u001b[0;32min\u001b[0m \u001b[0mself\u001b[0m\u001b[0;34m.\u001b[0m\u001b[0m_modules\u001b[0m\u001b[0;34m:\u001b[0m\u001b[0;34m\u001b[0m\u001b[0;34m\u001b[0m\u001b[0m\n",
            "\u001b[0;32m/usr/local/lib/python3.11/dist-packages/transformers/utils/import_utils.py\u001b[0m in \u001b[0;36m_get_module\u001b[0;34m(self, module_name)\u001b[0m\n\u001b[1;32m   1967\u001b[0m             \u001b[0;32mreturn\u001b[0m \u001b[0mimportlib\u001b[0m\u001b[0;34m.\u001b[0m\u001b[0mimport_module\u001b[0m\u001b[0;34m(\u001b[0m\u001b[0;34m\".\"\u001b[0m \u001b[0;34m+\u001b[0m \u001b[0mmodule_name\u001b[0m\u001b[0;34m,\u001b[0m \u001b[0mself\u001b[0m\u001b[0;34m.\u001b[0m\u001b[0m__name__\u001b[0m\u001b[0;34m)\u001b[0m\u001b[0;34m\u001b[0m\u001b[0;34m\u001b[0m\u001b[0m\n\u001b[1;32m   1968\u001b[0m         \u001b[0;32mexcept\u001b[0m \u001b[0mException\u001b[0m \u001b[0;32mas\u001b[0m \u001b[0me\u001b[0m\u001b[0;34m:\u001b[0m\u001b[0;34m\u001b[0m\u001b[0;34m\u001b[0m\u001b[0m\n\u001b[0;32m-> 1969\u001b[0;31m             raise RuntimeError(\n\u001b[0m\u001b[1;32m   1970\u001b[0m                 \u001b[0;34mf\"Failed to import {self.__name__}.{module_name} because of the following error (look up to see its\"\u001b[0m\u001b[0;34m\u001b[0m\u001b[0;34m\u001b[0m\u001b[0m\n\u001b[1;32m   1971\u001b[0m                 \u001b[0;34mf\" traceback):\\n{e}\"\u001b[0m\u001b[0;34m\u001b[0m\u001b[0;34m\u001b[0m\u001b[0m\n",
            "\u001b[0;31mRuntimeError\u001b[0m: Failed to import transformers.pipelines because of the following error (look up to see its traceback):\nmodule 'numpy' has no attribute 'dtypes'"
          ]
        }
      ]
    },
    {
      "cell_type": "markdown",
      "metadata": {
        "id": "RmQM2G0rl3Cc"
      },
      "source": [
        "# Preprocessing with Python\n",
        "\n",
        "At the beginning, I provided a simple example of basic text preprocessing in Python for natural language processing (NLP):\n",
        "\n",
        "Convert Text to Lowercase:\n",
        "The input text is converted to lowercase to ensure uniformity and avoid case sensitivity during processing.\n",
        "\n",
        "Tokenization (Splitting Text into Words):\n",
        "The lowercase text is split into a list of individual words (tokens) for easier manipulation.\n",
        "\n",
        "Stop Words Removal:\n",
        "Common and less meaningful words such as “is,” “a,” “the,” and others are removed from the list to focus on more important words and improve further text analysis."
      ]
    },
    {
      "cell_type": "markdown",
      "metadata": {
        "id": "hIou6Z9Cj_jE"
      },
      "source": [
        "## Read text\n",
        "\n",
        "\n",
        "\n",
        "\n",
        "\n"
      ]
    },
    {
      "cell_type": "code",
      "execution_count": 2,
      "metadata": {
        "colab": {
          "base_uri": "https://localhost:8080/",
          "height": 36
        },
        "id": "wiozDTPvboiD",
        "outputId": "182b7ee3-1d61-411d-dcb1-83c827c3a8df"
      },
      "outputs": [
        {
          "output_type": "execute_result",
          "data": {
            "text/plain": [
              "'Hello this is me, again and this is our king. the king is a man. Apple is Green'"
            ],
            "application/vnd.google.colaboratory.intrinsic+json": {
              "type": "string"
            }
          },
          "metadata": {},
          "execution_count": 2
        }
      ],
      "source": [
        "text = 'Hello this is me, again and this is our king. the king is a man. Apple is Green'\n",
        "text"
      ]
    },
    {
      "cell_type": "markdown",
      "metadata": {
        "id": "Wy8KS8hAj1PF"
      },
      "source": [
        "## Split text into words and lower them\n"
      ]
    },
    {
      "cell_type": "code",
      "execution_count": 3,
      "metadata": {
        "colab": {
          "base_uri": "https://localhost:8080/"
        },
        "id": "XstRjS8NfNjB",
        "outputId": "c715994c-f5ea-412e-a8f5-9f08c057fa94"
      },
      "outputs": [
        {
          "output_type": "stream",
          "name": "stdout",
          "text": [
            "['hello', 'this', 'is', 'me,', 'again', 'and', 'this', 'is', 'our', 'king.', 'the', 'king', 'is', 'a', 'man.', 'apple', 'is', 'green'], <class 'list'>\n"
          ]
        }
      ],
      "source": [
        "words = text.lower()\n",
        "words = words.split()\n",
        "print('{}, {}'.format(words, type(words)))"
      ]
    },
    {
      "cell_type": "markdown",
      "metadata": {
        "id": "-mrTbA35kbvF"
      },
      "source": [
        "##Delete stop words\n",
        "stop words don't have valuable information"
      ]
    },
    {
      "cell_type": "code",
      "execution_count": 4,
      "metadata": {
        "colab": {
          "base_uri": "https://localhost:8080/"
        },
        "id": "BkSJqzZ4gCAQ",
        "outputId": "27b07089-1196-4b3a-e206-0112fe34d7ba"
      },
      "outputs": [
        {
          "output_type": "execute_result",
          "data": {
            "text/plain": [
              "['hello',\n",
              " 'me,',\n",
              " 'again',\n",
              " 'and',\n",
              " 'this',\n",
              " 'is',\n",
              " 'our',\n",
              " 'king.',\n",
              " 'king',\n",
              " 'is',\n",
              " 'man.',\n",
              " 'apple',\n",
              " 'is',\n",
              " 'green']"
            ]
          },
          "metadata": {},
          "execution_count": 4
        }
      ],
      "source": [
        "stop_words = ['is', 'a', 'the', 'that','this']\n",
        "for word in stop_words:\n",
        "  if word in words:\n",
        "        words.remove(word)\n",
        "words"
      ]
    },
    {
      "cell_type": "markdown",
      "source": [
        "# Preprocessing with nltk library\n",
        "\n",
        "NLTK (Natural Language Toolkit) is a popular Python library used for working with human language data (text). It provides easy-to-use tools for tasks such as tokenization, stop word removal, stemming, tagging, parsing, and more, making it a great choice for learning and implementing NLP.\n",
        "This library is simple and fast, but doesn't support persian texts\n",
        "\n",
        "\n",
        "\n"
      ],
      "metadata": {
        "id": "LDvhQzNrC4VK"
      }
    },
    {
      "cell_type": "markdown",
      "source": [
        "Remove Punctuation:\n",
        "Using the re.sub() function, all characters except word characters (\\w) and whitespace (\\s) are removed from the text. This cleans the text by eliminating punctuation marks and special symbols.\n",
        "\n",
        "Convert to Lowercase:\n",
        "After cleaning, the text is converted to lowercase to standardize it for further processing.\n",
        "\n"
      ],
      "metadata": {
        "id": "zQdHI5jZCG0d"
      }
    },
    {
      "cell_type": "code",
      "source": [
        "cleaned_data = re.sub(r'[^\\w\\s]', '', text)\n",
        "cleaned_data\n",
        "lowercase_text = cleaned_data.lower()\n",
        "print(lowercase_text)"
      ],
      "metadata": {
        "colab": {
          "base_uri": "https://localhost:8080/"
        },
        "id": "AtUtGKXMByiq",
        "outputId": "0985f59d-7eea-4629-d59f-860305bc868f"
      },
      "execution_count": 5,
      "outputs": [
        {
          "output_type": "stream",
          "name": "stdout",
          "text": [
            "hello this is me again and this is our king the king is a man apple is green\n"
          ]
        }
      ]
    },
    {
      "cell_type": "markdown",
      "source": [
        "##Tokenize sentence\n",
        "We use a pre-train model called 'punkt_tab'. Each sentence turn into multiple words (Word Tokenization)\n",
        "The word_tokenize function uses pre-trained models (downloaded with nltk.download('punkt')) to accurately identify word boundaries, including handling punctuation and contractions."
      ],
      "metadata": {
        "id": "u7CFyQ2CHyF_"
      }
    },
    {
      "cell_type": "code",
      "source": [
        "nltk.download('punkt_tab')\n",
        "t = word_tokenize(text)\n",
        "t"
      ],
      "metadata": {
        "colab": {
          "base_uri": "https://localhost:8080/"
        },
        "id": "9CPvdpOZHmQK",
        "outputId": "35e1d353-bd40-40bd-aed4-ee9c65464e0c"
      },
      "execution_count": 6,
      "outputs": [
        {
          "output_type": "stream",
          "name": "stderr",
          "text": [
            "[nltk_data] Downloading package punkt_tab to /root/nltk_data...\n",
            "[nltk_data]   Package punkt_tab is already up-to-date!\n"
          ]
        },
        {
          "output_type": "execute_result",
          "data": {
            "text/plain": [
              "['Hello',\n",
              " 'this',\n",
              " 'is',\n",
              " 'me',\n",
              " ',',\n",
              " 'again',\n",
              " 'and',\n",
              " 'this',\n",
              " 'is',\n",
              " 'our',\n",
              " 'king',\n",
              " '.',\n",
              " 'the',\n",
              " 'king',\n",
              " 'is',\n",
              " 'a',\n",
              " 'man',\n",
              " '.',\n",
              " 'Apple',\n",
              " 'is',\n",
              " 'Green']"
            ]
          },
          "metadata": {},
          "execution_count": 6
        }
      ]
    },
    {
      "cell_type": "markdown",
      "source": [
        "## Remove Stop Words and punctuations\n",
        "\n",
        "\n"
      ],
      "metadata": {
        "id": "LX0BqVcECtsW"
      }
    },
    {
      "cell_type": "code",
      "source": [
        "nltk.download('stopwords')\n",
        "# List of English stopwords\n",
        "stop_words = set(stopwords.words('english'))\n",
        "print(f'stop words in English are {stop_words}')\n",
        "# Remove stopwords\n",
        "filtered_tokens = [word for word in t if word.isalpha() and word.lower() not in stop_words]\n",
        "\n",
        "print(f'final tokens are: {filtered_tokens}')\n"
      ],
      "metadata": {
        "colab": {
          "base_uri": "https://localhost:8080/"
        },
        "id": "Mg9p7vIpCuZI",
        "outputId": "23227155-8afd-4b68-e087-8d10bba58242"
      },
      "execution_count": 7,
      "outputs": [
        {
          "output_type": "stream",
          "name": "stdout",
          "text": [
            "stop words in English are {'most', \"he's\", 'if', 'which', 'between', \"we'll\", \"mightn't\", 'by', 'an', \"they're\", \"i'd\", 'here', 'below', 'while', 'your', 'hasn', \"it's\", 'its', 'and', 'ourselves', 'each', 'do', \"i'll\", \"you'll\", 'weren', 'from', 'itself', 'in', 'because', \"i'm\", 'were', 'ma', 'all', 'll', 'yourself', \"doesn't\", \"that'll\", 'wasn', 'then', 'both', 'him', 'very', \"won't\", 'hadn', 'off', 'any', 'some', 'through', 'am', 'nor', 'doing', 'myself', 'than', \"wasn't\", 'me', 'few', 'his', 'own', 'with', 'further', 'after', \"we're\", 'have', \"needn't\", 'was', 'as', 'aren', 'mustn', 'or', 'shan', \"she's\", \"hadn't\", 'just', 'what', 'now', \"you're\", 'such', 'before', 'on', \"didn't\", 'under', 'yourselves', 'shouldn', 'didn', 'i', \"they'd\", 'not', 'this', 'against', 'o', \"mustn't\", 'down', 'my', 'their', 'ain', 'up', 'd', \"they'll\", \"shan't\", 'about', 'over', 'but', 'there', 're', 'you', \"he'll\", 'will', 'until', \"it'll\", 'during', 'couldn', \"shouldn't\", 've', 'isn', 'to', 'our', 'm', 'had', 'who', 'when', 'doesn', \"hasn't\", \"she'd\", 'where', 'these', 'won', 'why', 'is', \"she'll\", 'he', 'haven', 'her', 'ours', \"he'd\", 'of', 'theirs', \"wouldn't\", 'how', 'does', \"isn't\", 'themselves', 't', 'being', \"aren't\", 'himself', 'has', \"it'd\", 'so', \"weren't\", \"don't\", 'that', 'the', \"couldn't\", \"we'd\", 'mightn', 'they', 'those', 'can', 'hers', \"you'd\", 'again', 'did', 's', 'same', 'them', 'more', 'wouldn', 'out', 'once', \"should've\", 'been', 'no', 'a', \"they've\", 'she', 'should', 'too', 'are', \"we've\", 'only', 'herself', 'into', 'at', 'above', 'other', 'y', 'we', 'for', 'yours', 'be', \"haven't\", 'don', 'having', 'needn', 'whom', \"you've\", 'it', \"i've\"}\n",
            "final tokens are: ['Hello', 'king', 'king', 'man', 'Apple', 'Green']\n"
          ]
        },
        {
          "output_type": "stream",
          "name": "stderr",
          "text": [
            "[nltk_data] Downloading package stopwords to /root/nltk_data...\n",
            "[nltk_data]   Package stopwords is already up-to-date!\n"
          ]
        }
      ]
    },
    {
      "cell_type": "markdown",
      "source": [
        "#Preprocessing wit hazm library\n",
        "hazm lobrary is just like nltk but hazm support persian text."
      ],
      "metadata": {
        "id": "e6b70XniG0aD"
      }
    },
    {
      "cell_type": "code",
      "source": [
        "text2 = \"این یک متن نمونه است و باید پردازش شود.\"\n",
        "tokens = word_tokenize(text2)\n",
        "stop_words = set(stopwords_list())  # {'و', 'این', 'یک', ...}\n",
        "print(f'stop words in persian are {stop_words}')\n",
        "filtered_tokens = [word for word in tokens if word not in stop_words]\n",
        "print(f'finall token is  {filtered_tokens}')"
      ],
      "metadata": {
        "colab": {
          "base_uri": "https://localhost:8080/"
        },
        "id": "sSgao0tnB1Yw",
        "outputId": "4c4703bd-668b-4006-d22f-c01a6729a236"
      },
      "execution_count": 8,
      "outputs": [
        {
          "output_type": "stream",
          "name": "stdout",
          "text": [
            "stop words in persian are {'بی', 'رفت', 'سوی', 'دانست', 'بنابراین', 'نشست', 'گذاری', 'پی', 'دادند', 'خودش', 'درون', 'شده', 'بهترین', 'داشته_باشد', 'چیز', 'شده_اند', 'جمعی', 'زیادی', 'کردم', 'بزرگ', 'ساز', 'مانند', 'جریان', 'بوده', 'می\\u200cیابد', 'کرده_بود', 'همین', 'یکدیگر', 'باز', 'می\\u200cکرد', 'داشتند', 'شده_است', 'محسوب', 'می\\u200cکند', 'سی', 'نوعی', 'طی', 'چند', 'می\\u200cگوید', 'کوچک', 'باره', 'خواهد_شد', 'دارند', 'تبدیل', 'هیچ', 'بیشتر', 'اند', 'می\\u200cتوان', 'تهیه', 'پیدا', 'داشته_است', 'چهار', 'دوم', 'ترتیب', 'حداقل', 'سایر', 'گردد', 'لحاظ', 'بین', 'زاده', 'بوده_است', 'لازم', 'بعضی', 'شدند', 'کنید', 'همچنین', 'همیشه', 'آنان', 'کرد', 'میان', 'بیشتری', 'ساله', 'بر', 'شان', 'کامل', 'کنیم', 'اما', 'متاسفانه', 'دو', 'گفته', 'این', 'دارد', 'اش', 'می\\u200cکنیم', 'وی', 'باشد', 'آن', 'حال', 'کننده', 'پس', 'اکنون', 'برابر', 'همواره', 'چه', 'نیست', 'همچنان', 'خویش', 'اول', 'داده_است', 'آنجا', 'هنوز', 'ما', 'فوق', 'پر', 'رو', 'دور', 'چیزی', 'کسی', 'سپس', 'داده', 'علاوه', 'تعداد', 'بخشی', 'یک', 'ناشی', 'کنند', 'دهد', 'سالهای', 'طرف', 'سوم', 'افزود', 'هنگام', 'پخش', 'جایی', 'تنها', 'مشخص', 'جمع', 'داشت', 'طور', 'آنچه', 'همچون', 'جا', 'کنم', 'کمی', 'بیرون', 'آمده_است', 'وگو', 'هر', 'می\\u200cدهد', 'می\\u200cشود', 'ندارند', 'از', 'بسیار', 'دادن', 'کسانی', 'او', 'اینجا', 'بودن', 'حالی', 'دهند', 'افرادی', 'آخرین', 'می\\u200cشوند', 'تمامی', 'کل', 'براساس', 'باید', 'حد', 'ابتدا', 'حتی', 'می\\u200cتوانند', 'فکر', 'نیز', 'امر', 'می', 'گروهی', 'روند', 'شش', 'جدید', 'نیستند', 'نبود', 'اثر', 'مربوط', 'سبب', 'می\\u200cگویند', 'فقط', 'کنندگان', 'نه', 'می\\u200cرسد', 'هایی', 'صرف', 'کاملا', 'داشتن', 'تحت', 'البته', 'مواجه', 'شد', 'گرفته', 'دیگری', 'بهتر', 'کلی', 'نظر', 'داشته', 'ویژه', 'آنها', 'نوع', 'عدم', 'سراسر', 'بدون', 'افراد', 'و', 'نزدیک', 'طول', 'گرفته_است', 'بلکه', 'آمد', 'پشت', 'که', 'بار', 'شود', 'امکان', 'بندی', 'زیرا', 'متفاوت', 'عهده', 'نحوه', 'خصوص', 'چهارم', 'سه', 'من', 'نباید', 'آورد', 'وقتی', 'زیر', 'خاص', 'گرفت', 'شمار', 'دوباره', 'ع', 'طبق', 'دیگر', 'تمام', 'چون', 'خیلی', 'خوبی', 'رشد', 'می\\u200cتواند', 'نیاز', 'آیا', 'با', 'رسیدن', 'گیرد', 'می\\u200cگیرد', 'باعث', 'کردند', 'گونه', 'باشند', 'ضمن', 'موجب', 'هستند', 'دهه', 'پیش', 'داشته_باشند', 'تعیین', 'درباره', 'داریم', 'گفت', 'نظیر', 'کرده', 'دار', 'سعی', 'جای', 'جدی', 'تا', 'کدام', 'می\\u200cآید', 'یابد', 'می\\u200cشد', 'عین', 'گاه', 'اغلب', 'نخستین', 'چنین', 'برخی', 'جاری', 'بعد', 'آوری', 'مدت', 'جز', 'سمت', 'تو', 'شوند', 'سهم', 'خواهد_کرد', 'ریزی', 'آقای', 'حدود', 'منظور', 'سازی', 'در', 'فرد', 'وارد', 'نخست', 'اینکه', 'برای', 'بسیاری', 'فردی', 'به', 'راه', 'شخصی', 'کافی', 'می\\u200cرود', 'بیان', 'روی', 'قبل', 'علت', 'چرا', 'هستیم', 'رسید', 'چگونه', 'دیگران', 'شروع', 'کرده_است', 'ندارد', 'نمی\\u200cشود', 'ایشان', 'غیر', 'مثل', 'اخیر', 'اولین', 'بود', 'مورد', 'بالا', 'متر', 'علیه', 'کردن', 'برداری', 'وجود', 'هم', 'است', 'شامل', 'ممکن', 'همه', 'یعنی', 'شدن', 'قابل', 'مهم', 'می\\u200cکنم', 'خود', 'همان', 'شده_بود', 'می\\u200cدهند', 'یکی', 'عالی', 'را', 'خطر', 'آمده', 'دسته', 'کرده_اند', 'داد', 'آنکه', 'ولی', 'روبه', 'سال\\u200cهای', 'بخش', 'خوب', 'دچار', 'اجرا', 'بروز', 'یافته_است', 'می\\u200cباشد', 'شما', 'یافت', 'بیش', 'حالا', 'کم', 'کنار', 'گیری', 'شاید', 'زیاد', 'نسبت', 'خواهد_بود', 'یا', 'روش', 'حل', 'یافته', 'بودند', 'می\\u200cکنند', 'پنج', 'تاکنون', 'کند', 'اگر', 'خاطرنشان', 'مناسب', 'دارای', 'تغییر', 'می\\u200cکردند', 'نیمه', 'لذا'}\n",
            "finall token is  ['متن', 'نمونه', 'پردازش', '.']\n"
          ]
        }
      ]
    },
    {
      "cell_type": "markdown",
      "source": [
        "# Spacy library\n",
        "spaCy is a robust open-source library for Python, ideal for natural language processing (NLP) tasks.\n",
        "There is a pipeline for Spacy library:"
      ],
      "metadata": {
        "id": "ZkUVQNp1I38C"
      }
    },
    {
      "cell_type": "markdown",
      "source": [
        "![text_steps.png](data:image/png;base64,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)"
      ],
      "metadata": {
        "id": "XyWVuahQJBZ_"
      }
    },
    {
      "cell_type": "code",
      "source": [
        "nlp = spacy.load(\"en_core_web_sm\")\n",
        "text = \"Hello this is me, again and this is our king. the king is a man. Apple is Green! Ali doesn't like maryam\"\n",
        "doc = nlp(text)\n",
        "for token in doc:\n",
        "  display(token.text)"
      ],
      "metadata": {
        "colab": {
          "base_uri": "https://localhost:8080/",
          "height": 526
        },
        "id": "7_0B8SR6Kawk",
        "outputId": "6a0b3b86-b3fe-470e-8da8-62c08f677ef7"
      },
      "execution_count": 13,
      "outputs": [
        {
          "output_type": "display_data",
          "data": {
            "text/plain": [
              "'Hello'"
            ],
            "application/vnd.google.colaboratory.intrinsic+json": {
              "type": "string"
            }
          },
          "metadata": {}
        },
        {
          "output_type": "display_data",
          "data": {
            "text/plain": [
              "'this'"
            ],
            "application/vnd.google.colaboratory.intrinsic+json": {
              "type": "string"
            }
          },
          "metadata": {}
        },
        {
          "output_type": "display_data",
          "data": {
            "text/plain": [
              "'is'"
            ],
            "application/vnd.google.colaboratory.intrinsic+json": {
              "type": "string"
            }
          },
          "metadata": {}
        },
        {
          "output_type": "display_data",
          "data": {
            "text/plain": [
              "'me'"
            ],
            "application/vnd.google.colaboratory.intrinsic+json": {
              "type": "string"
            }
          },
          "metadata": {}
        },
        {
          "output_type": "display_data",
          "data": {
            "text/plain": [
              "','"
            ],
            "application/vnd.google.colaboratory.intrinsic+json": {
              "type": "string"
            }
          },
          "metadata": {}
        },
        {
          "output_type": "display_data",
          "data": {
            "text/plain": [
              "'again'"
            ],
            "application/vnd.google.colaboratory.intrinsic+json": {
              "type": "string"
            }
          },
          "metadata": {}
        },
        {
          "output_type": "display_data",
          "data": {
            "text/plain": [
              "'and'"
            ],
            "application/vnd.google.colaboratory.intrinsic+json": {
              "type": "string"
            }
          },
          "metadata": {}
        },
        {
          "output_type": "display_data",
          "data": {
            "text/plain": [
              "'this'"
            ],
            "application/vnd.google.colaboratory.intrinsic+json": {
              "type": "string"
            }
          },
          "metadata": {}
        },
        {
          "output_type": "display_data",
          "data": {
            "text/plain": [
              "'is'"
            ],
            "application/vnd.google.colaboratory.intrinsic+json": {
              "type": "string"
            }
          },
          "metadata": {}
        },
        {
          "output_type": "display_data",
          "data": {
            "text/plain": [
              "'our'"
            ],
            "application/vnd.google.colaboratory.intrinsic+json": {
              "type": "string"
            }
          },
          "metadata": {}
        },
        {
          "output_type": "display_data",
          "data": {
            "text/plain": [
              "'king'"
            ],
            "application/vnd.google.colaboratory.intrinsic+json": {
              "type": "string"
            }
          },
          "metadata": {}
        },
        {
          "output_type": "display_data",
          "data": {
            "text/plain": [
              "'.'"
            ],
            "application/vnd.google.colaboratory.intrinsic+json": {
              "type": "string"
            }
          },
          "metadata": {}
        },
        {
          "output_type": "display_data",
          "data": {
            "text/plain": [
              "'the'"
            ],
            "application/vnd.google.colaboratory.intrinsic+json": {
              "type": "string"
            }
          },
          "metadata": {}
        },
        {
          "output_type": "display_data",
          "data": {
            "text/plain": [
              "'king'"
            ],
            "application/vnd.google.colaboratory.intrinsic+json": {
              "type": "string"
            }
          },
          "metadata": {}
        },
        {
          "output_type": "display_data",
          "data": {
            "text/plain": [
              "'is'"
            ],
            "application/vnd.google.colaboratory.intrinsic+json": {
              "type": "string"
            }
          },
          "metadata": {}
        },
        {
          "output_type": "display_data",
          "data": {
            "text/plain": [
              "'a'"
            ],
            "application/vnd.google.colaboratory.intrinsic+json": {
              "type": "string"
            }
          },
          "metadata": {}
        },
        {
          "output_type": "display_data",
          "data": {
            "text/plain": [
              "'man'"
            ],
            "application/vnd.google.colaboratory.intrinsic+json": {
              "type": "string"
            }
          },
          "metadata": {}
        },
        {
          "output_type": "display_data",
          "data": {
            "text/plain": [
              "'.'"
            ],
            "application/vnd.google.colaboratory.intrinsic+json": {
              "type": "string"
            }
          },
          "metadata": {}
        },
        {
          "output_type": "display_data",
          "data": {
            "text/plain": [
              "'Apple'"
            ],
            "application/vnd.google.colaboratory.intrinsic+json": {
              "type": "string"
            }
          },
          "metadata": {}
        },
        {
          "output_type": "display_data",
          "data": {
            "text/plain": [
              "'is'"
            ],
            "application/vnd.google.colaboratory.intrinsic+json": {
              "type": "string"
            }
          },
          "metadata": {}
        },
        {
          "output_type": "display_data",
          "data": {
            "text/plain": [
              "'Green'"
            ],
            "application/vnd.google.colaboratory.intrinsic+json": {
              "type": "string"
            }
          },
          "metadata": {}
        },
        {
          "output_type": "display_data",
          "data": {
            "text/plain": [
              "'!'"
            ],
            "application/vnd.google.colaboratory.intrinsic+json": {
              "type": "string"
            }
          },
          "metadata": {}
        },
        {
          "output_type": "display_data",
          "data": {
            "text/plain": [
              "'Ali'"
            ],
            "application/vnd.google.colaboratory.intrinsic+json": {
              "type": "string"
            }
          },
          "metadata": {}
        },
        {
          "output_type": "display_data",
          "data": {
            "text/plain": [
              "'does'"
            ],
            "application/vnd.google.colaboratory.intrinsic+json": {
              "type": "string"
            }
          },
          "metadata": {}
        },
        {
          "output_type": "display_data",
          "data": {
            "text/plain": [
              "\"n't\""
            ],
            "application/vnd.google.colaboratory.intrinsic+json": {
              "type": "string"
            }
          },
          "metadata": {}
        },
        {
          "output_type": "display_data",
          "data": {
            "text/plain": [
              "'like'"
            ],
            "application/vnd.google.colaboratory.intrinsic+json": {
              "type": "string"
            }
          },
          "metadata": {}
        },
        {
          "output_type": "display_data",
          "data": {
            "text/plain": [
              "'maryam'"
            ],
            "application/vnd.google.colaboratory.intrinsic+json": {
              "type": "string"
            }
          },
          "metadata": {}
        }
      ]
    },
    {
      "cell_type": "markdown",
      "source": [
        "We can load a small English language model that includes vocabulary, syntax, and entities.(spacy.load(\"en_core_web_sm\") )\n",
        "\n",
        "The text is processed by the model (nlp(text)), which analyzes and tokenizes it.\n",
        "\n",
        "The for loop iterates over each token (word or punctuation) in the processed text and prints its text form.\n",
        "\n",
        "SpaCy’s tokenizer is powerful and context-aware, making it great for many NLP tasks like tokenization, part-of-speech tagging, and named entity recognition.\n",
        "\n"
      ],
      "metadata": {
        "id": "WU8-uxTQq2f7"
      }
    },
    {
      "cell_type": "code",
      "source": [
        "for token in doc:\n",
        "    display(f\"Token: {token.text}, POS: {token.pos_}, Tag: {token.tag_}, Dep: {token.dep_}\")"
      ],
      "metadata": {
        "colab": {
          "base_uri": "https://localhost:8080/",
          "height": 526
        },
        "id": "tMT9RgRnKiGC",
        "outputId": "154c033a-6837-440a-dd5f-edebcf5b27c4"
      },
      "execution_count": 17,
      "outputs": [
        {
          "output_type": "display_data",
          "data": {
            "text/plain": [
              "'Token: Hello, POS: INTJ, Tag: UH, Dep: intj'"
            ],
            "application/vnd.google.colaboratory.intrinsic+json": {
              "type": "string"
            }
          },
          "metadata": {}
        },
        {
          "output_type": "display_data",
          "data": {
            "text/plain": [
              "'Token: this, POS: PRON, Tag: DT, Dep: nsubj'"
            ],
            "application/vnd.google.colaboratory.intrinsic+json": {
              "type": "string"
            }
          },
          "metadata": {}
        },
        {
          "output_type": "display_data",
          "data": {
            "text/plain": [
              "'Token: is, POS: AUX, Tag: VBZ, Dep: ROOT'"
            ],
            "application/vnd.google.colaboratory.intrinsic+json": {
              "type": "string"
            }
          },
          "metadata": {}
        },
        {
          "output_type": "display_data",
          "data": {
            "text/plain": [
              "'Token: me, POS: PRON, Tag: PRP, Dep: attr'"
            ],
            "application/vnd.google.colaboratory.intrinsic+json": {
              "type": "string"
            }
          },
          "metadata": {}
        },
        {
          "output_type": "display_data",
          "data": {
            "text/plain": [
              "'Token: ,, POS: PUNCT, Tag: ,, Dep: punct'"
            ],
            "application/vnd.google.colaboratory.intrinsic+json": {
              "type": "string"
            }
          },
          "metadata": {}
        },
        {
          "output_type": "display_data",
          "data": {
            "text/plain": [
              "'Token: again, POS: ADV, Tag: RB, Dep: advmod'"
            ],
            "application/vnd.google.colaboratory.intrinsic+json": {
              "type": "string"
            }
          },
          "metadata": {}
        },
        {
          "output_type": "display_data",
          "data": {
            "text/plain": [
              "'Token: and, POS: CCONJ, Tag: CC, Dep: cc'"
            ],
            "application/vnd.google.colaboratory.intrinsic+json": {
              "type": "string"
            }
          },
          "metadata": {}
        },
        {
          "output_type": "display_data",
          "data": {
            "text/plain": [
              "'Token: this, POS: PRON, Tag: DT, Dep: nsubj'"
            ],
            "application/vnd.google.colaboratory.intrinsic+json": {
              "type": "string"
            }
          },
          "metadata": {}
        },
        {
          "output_type": "display_data",
          "data": {
            "text/plain": [
              "'Token: is, POS: AUX, Tag: VBZ, Dep: conj'"
            ],
            "application/vnd.google.colaboratory.intrinsic+json": {
              "type": "string"
            }
          },
          "metadata": {}
        },
        {
          "output_type": "display_data",
          "data": {
            "text/plain": [
              "'Token: our, POS: PRON, Tag: PRP$, Dep: poss'"
            ],
            "application/vnd.google.colaboratory.intrinsic+json": {
              "type": "string"
            }
          },
          "metadata": {}
        },
        {
          "output_type": "display_data",
          "data": {
            "text/plain": [
              "'Token: king, POS: NOUN, Tag: NN, Dep: attr'"
            ],
            "application/vnd.google.colaboratory.intrinsic+json": {
              "type": "string"
            }
          },
          "metadata": {}
        },
        {
          "output_type": "display_data",
          "data": {
            "text/plain": [
              "'Token: ., POS: PUNCT, Tag: ., Dep: punct'"
            ],
            "application/vnd.google.colaboratory.intrinsic+json": {
              "type": "string"
            }
          },
          "metadata": {}
        },
        {
          "output_type": "display_data",
          "data": {
            "text/plain": [
              "'Token: the, POS: DET, Tag: DT, Dep: det'"
            ],
            "application/vnd.google.colaboratory.intrinsic+json": {
              "type": "string"
            }
          },
          "metadata": {}
        },
        {
          "output_type": "display_data",
          "data": {
            "text/plain": [
              "'Token: king, POS: NOUN, Tag: NN, Dep: nsubj'"
            ],
            "application/vnd.google.colaboratory.intrinsic+json": {
              "type": "string"
            }
          },
          "metadata": {}
        },
        {
          "output_type": "display_data",
          "data": {
            "text/plain": [
              "'Token: is, POS: AUX, Tag: VBZ, Dep: ROOT'"
            ],
            "application/vnd.google.colaboratory.intrinsic+json": {
              "type": "string"
            }
          },
          "metadata": {}
        },
        {
          "output_type": "display_data",
          "data": {
            "text/plain": [
              "'Token: a, POS: DET, Tag: DT, Dep: det'"
            ],
            "application/vnd.google.colaboratory.intrinsic+json": {
              "type": "string"
            }
          },
          "metadata": {}
        },
        {
          "output_type": "display_data",
          "data": {
            "text/plain": [
              "'Token: man, POS: NOUN, Tag: NN, Dep: attr'"
            ],
            "application/vnd.google.colaboratory.intrinsic+json": {
              "type": "string"
            }
          },
          "metadata": {}
        },
        {
          "output_type": "display_data",
          "data": {
            "text/plain": [
              "'Token: ., POS: PUNCT, Tag: ., Dep: punct'"
            ],
            "application/vnd.google.colaboratory.intrinsic+json": {
              "type": "string"
            }
          },
          "metadata": {}
        },
        {
          "output_type": "display_data",
          "data": {
            "text/plain": [
              "'Token: Apple, POS: PROPN, Tag: NNP, Dep: nsubj'"
            ],
            "application/vnd.google.colaboratory.intrinsic+json": {
              "type": "string"
            }
          },
          "metadata": {}
        },
        {
          "output_type": "display_data",
          "data": {
            "text/plain": [
              "'Token: is, POS: AUX, Tag: VBZ, Dep: ROOT'"
            ],
            "application/vnd.google.colaboratory.intrinsic+json": {
              "type": "string"
            }
          },
          "metadata": {}
        },
        {
          "output_type": "display_data",
          "data": {
            "text/plain": [
              "'Token: Green, POS: PROPN, Tag: NNP, Dep: attr'"
            ],
            "application/vnd.google.colaboratory.intrinsic+json": {
              "type": "string"
            }
          },
          "metadata": {}
        },
        {
          "output_type": "display_data",
          "data": {
            "text/plain": [
              "'Token: !, POS: PUNCT, Tag: ., Dep: punct'"
            ],
            "application/vnd.google.colaboratory.intrinsic+json": {
              "type": "string"
            }
          },
          "metadata": {}
        },
        {
          "output_type": "display_data",
          "data": {
            "text/plain": [
              "'Token: Ali, POS: PROPN, Tag: NNP, Dep: nsubj'"
            ],
            "application/vnd.google.colaboratory.intrinsic+json": {
              "type": "string"
            }
          },
          "metadata": {}
        },
        {
          "output_type": "display_data",
          "data": {
            "text/plain": [
              "'Token: does, POS: AUX, Tag: VBZ, Dep: aux'"
            ],
            "application/vnd.google.colaboratory.intrinsic+json": {
              "type": "string"
            }
          },
          "metadata": {}
        },
        {
          "output_type": "display_data",
          "data": {
            "text/plain": [
              "\"Token: n't, POS: PART, Tag: RB, Dep: neg\""
            ],
            "application/vnd.google.colaboratory.intrinsic+json": {
              "type": "string"
            }
          },
          "metadata": {}
        },
        {
          "output_type": "display_data",
          "data": {
            "text/plain": [
              "'Token: like, POS: VERB, Tag: VB, Dep: ROOT'"
            ],
            "application/vnd.google.colaboratory.intrinsic+json": {
              "type": "string"
            }
          },
          "metadata": {}
        },
        {
          "output_type": "display_data",
          "data": {
            "text/plain": [
              "'Token: maryam, POS: NOUN, Tag: NN, Dep: dobj'"
            ],
            "application/vnd.google.colaboratory.intrinsic+json": {
              "type": "string"
            }
          },
          "metadata": {}
        }
      ]
    },
    {
      "cell_type": "code",
      "source": [
        "for ent in doc.ents:\n",
        "    print(ent.text, ent.start_char, ent.end_char, ent.label_)"
      ],
      "metadata": {
        "colab": {
          "base_uri": "https://localhost:8080/"
        },
        "id": "7MmPEJQoKwWn",
        "outputId": "0c138495-2842-42bc-d07a-f8fb4bdfab01"
      },
      "execution_count": 16,
      "outputs": [
        {
          "output_type": "stream",
          "name": "stdout",
          "text": [
            "Apple 65 70 ORG\n",
            "Ali 81 84 PERSON\n"
          ]
        }
      ]
    },
    {
      "cell_type": "markdown",
      "source": [
        "We should clean our tokens by these steps:\n",
        "\n",
        "Filtering out stop words (common words like \"is\", \"the\", etc. that usually don’t add meaning) using token.is_stop.\n",
        "\n",
        "Filtering out punctuation marks using token.is_punct.\n",
        "\n",
        "Appending only meaningful tokens (words) to the cleaned_tokens list.\n",
        "\n"
      ],
      "metadata": {
        "id": "GMNzaoSgr551"
      }
    },
    {
      "cell_type": "code",
      "source": [
        "cleaned_tokens = []\n",
        "for token in doc:\n",
        "    if not token.is_stop and not token.is_punct:\n",
        "        cleaned_tokens.append(token.text)\n",
        "\n",
        "display(\"Cleaned tokens:\", cleaned_tokens)"
      ],
      "metadata": {
        "colab": {
          "base_uri": "https://localhost:8080/",
          "height": 53
        },
        "id": "ymTQ7HZwK5Xc",
        "outputId": "ce769a0d-fb87-487a-bbd2-a4a3d497d438"
      },
      "execution_count": 19,
      "outputs": [
        {
          "output_type": "display_data",
          "data": {
            "text/plain": [
              "'Cleaned tokens:'"
            ],
            "application/vnd.google.colaboratory.intrinsic+json": {
              "type": "string"
            }
          },
          "metadata": {}
        },
        {
          "output_type": "display_data",
          "data": {
            "text/plain": [
              "['Hello', 'king', 'king', 'man', 'Apple', 'Green', 'Ali', 'like', 'maryam']"
            ]
          },
          "metadata": {}
        }
      ]
    },
    {
      "cell_type": "markdown",
      "metadata": {
        "id": "oEbYXAymkbbs"
      },
      "source": [
        "# Embedding with gensim library\n",
        "### Using Gensim for Word Embeddings\n",
        "Gensim is a powerful and popular Python library designed for topic modeling and natural language processing. It provides an efficient and easy-to-use implementation of Word2Vec, allowing you to train your own word embeddings on custom text data.\n",
        "\n",
        "Key advantages of using Gensim for Word2Vec include:\n",
        "\n",
        "Efficient Training: Supports large datasets with optimized algorithms and incremental training.\n",
        "\n",
        "Simple API: Easy to train, save, and load models.\n",
        "\n",
        "Flexibility: Allows tuning of parameters like vector size, window size, and training algorithm (CBOW or Skip-gram).\n",
        "\n",
        "Pre-trained Models: You can also use pre-trained embeddings for many languages.\n",
        "\n",
        "With Gensim, you can quickly convert words into meaningful vector representations that capture semantic relationships, which are useful for many downstream NLP tasks.\n",
        "\n"
      ]
    },
    {
      "cell_type": "markdown",
      "metadata": {
        "id": "cEokZwJGk4Gj"
      },
      "source": [
        "# Install gensim"
      ]
    },
    {
      "cell_type": "code",
      "execution_count": 21,
      "metadata": {
        "colab": {
          "base_uri": "https://localhost:8080/"
        },
        "id": "8AvRZazDRub6",
        "outputId": "667720b8-228b-44a1-db14-eac1e66c536c"
      },
      "outputs": [
        {
          "output_type": "stream",
          "name": "stdout",
          "text": [
            "Requirement already satisfied: gensim in /usr/local/lib/python3.11/dist-packages (4.3.3)\n",
            "Requirement already satisfied: numpy<2.0,>=1.18.5 in /usr/local/lib/python3.11/dist-packages (from gensim) (1.24.3)\n",
            "Requirement already satisfied: scipy<1.14.0,>=1.7.0 in /usr/local/lib/python3.11/dist-packages (from gensim) (1.13.1)\n",
            "Requirement already satisfied: smart-open>=1.8.1 in /usr/local/lib/python3.11/dist-packages (from gensim) (7.1.0)\n",
            "Requirement already satisfied: wrapt in /usr/local/lib/python3.11/dist-packages (from smart-open>=1.8.1->gensim) (1.17.2)\n"
          ]
        }
      ],
      "source": [
        "# !pip install --only-binary=gensim gensim\n",
        "# !pip install --upgrade pip setuptools wheel\n",
        "!pip install gensim"
      ]
    },
    {
      "cell_type": "markdown",
      "metadata": {
        "id": "3o9apLdMlBUB"
      },
      "source": [
        "Word embeddings are numerical vector representations of words that capture their meanings, semantic relationships, and syntactic properties in a continuous vector space. They allow machines to understand words in context, enabling many natural language processing (NLP) tasks such as sentiment analysis, machine translation, and text classification.\n",
        "\n",
        "One of the most important and widely used methods for creating word embeddings is Word2Vec.\n",
        "\n",
        "### Word2Vec\n",
        "Word2Vec is a popular technique that converts words into dense vectors of arbitrary dimensions. It learns word representations by predicting words based on their context in a large corpus of text.\n",
        "\n",
        "Word2Vec uses two main architectures for training word embeddings:\n",
        "\n",
        "1. CBOW (Continuous Bag of Words)\n",
        "Key Question:\n",
        "Given the surrounding words (context), what is the most likely target word at the center?\n",
        "\n",
        "Example:\n",
        "Sentence: \"The cat sits on the mat\"\n",
        "Input (context): [\"The\", \"cat\", \"on\", \"the\", \"mat\"]\n",
        "Output (target): \"sits\"\n",
        "\n",
        "Characteristics:\n",
        "\n",
        "Faster to train, making it suitable for large datasets.\n",
        "\n",
        "Performs better on frequent words.\n",
        "\n",
        "2. Skip-gram\n",
        "Key Question:\n",
        "Given a target word, what words are likely to appear around it (context)?\n",
        "\n",
        "Example:\n",
        "Sentence: \"The cat sits on the mat\"\n",
        "Input (target): \"sits\"\n",
        "Output (context): [\"The\", \"cat\", \"on\", \"the\", \"mat\"]\n",
        "\n",
        "Characteristics:\n",
        "\n",
        "Provides higher accuracy for rare words or complex phrases.\n",
        "\n",
        "Requires more training data and computational resources.\n",
        "\n"
      ]
    },
    {
      "cell_type": "code",
      "execution_count": 23,
      "metadata": {
        "colab": {
          "base_uri": "https://localhost:8080/"
        },
        "id": "eve4UjUERS2s",
        "outputId": "df511a3f-aad4-4571-bd0c-c7d05b82c55c"
      },
      "outputs": [
        {
          "output_type": "execute_result",
          "data": {
            "text/plain": [
              "array([-0.24397223, -0.07779229, -0.06459137], dtype=float32)"
            ]
          },
          "metadata": {},
          "execution_count": 23
        }
      ],
      "source": [
        "w = [['hi', 'my', 'name', 'is', 'zahra'],['king', 'has', 'power'],['queen', 'is', 'loyal'], words]\n",
        "model = gensim.models.Word2Vec(w, vector_size=3, window=5, min_count=1, workers=1, sg=0) # using CBOW Architecture for trainnig by sg=0\n",
        "# model = gensim.models.Word2Vec(w, vector_size=3, window=5, min_count=1, workers=1, sg=1) # using skipGram Architecture for training by sg=1\n",
        "vector = model.wv['hello']\n",
        "vector"
      ]
    },
    {
      "cell_type": "code",
      "execution_count": 25,
      "metadata": {
        "colab": {
          "base_uri": "https://localhost:8080/"
        },
        "id": "GfhcG374bGcL",
        "outputId": "94266cf4-8ef7-4dc0-90bb-4cd038548035"
      },
      "outputs": [
        {
          "output_type": "stream",
          "name": "stdout",
          "text": [
            "Word2Vec<vocab=20, vector_size=3, alpha=0.025>\n",
            "['is', 'king', 'green', 'apple', 'my', 'name', 'zahra', 'has', 'power', 'queen', 'loyal', 'hello', 'me,', 'again', 'and', 'this', 'our', 'king.', 'man.', 'hi']\n",
            "[-0.24397223 -0.07779229 -0.06459137]\n"
          ]
        }
      ],
      "source": [
        "#Summarize the loaded model\n",
        "print(model)\n",
        "# Summarize vocabulary\n",
        "words = list(model.wv.index_to_key)\n",
        "print(words)\n",
        "# Access vector for one word\n",
        "print(model.wv['hello'])  # Correct way to get vector"
      ]
    },
    {
      "cell_type": "code",
      "execution_count": 26,
      "metadata": {
        "colab": {
          "base_uri": "https://localhost:8080/"
        },
        "id": "cMAb4PZBbXr4",
        "outputId": "81342b85-97c1-4652-eb0d-0db5ac4e3ba2"
      },
      "outputs": [
        {
          "output_type": "stream",
          "name": "stdout",
          "text": [
            "Similarity between hi and hello: 0.4137667\n",
            "Similarity between king and hi: -0.53039074\n",
            "Similarity between king and queen: 0.988718\n"
          ]
        }
      ],
      "source": [
        "#Compute similarity\n",
        "print(\"Similarity between hi and hello:\",model.wv.similarity('hello', 'hi'))\n",
        "print(\"Similarity between king and hi:\",model.wv.similarity('king', 'hi'))\n",
        "print(\"Similarity between king and queen:\",model.wv.similarity('king', 'queen'))"
      ]
    },
    {
      "cell_type": "markdown",
      "metadata": {
        "id": "I0anwlj_bANn"
      },
      "source": [
        "Word Embedding with Classic Algorithm\n",
        "TF-IDF:"
      ]
    },
    {
      "cell_type": "code",
      "execution_count": 28,
      "metadata": {
        "colab": {
          "base_uri": "https://localhost:8080/"
        },
        "id": "GtEspgnCbbym",
        "outputId": "cdff751c-3605-47f5-a676-a9e57fb7dcca"
      },
      "outputs": [
        {
          "output_type": "stream",
          "name": "stdout",
          "text": [
            "[[0.         0.         0.         0.         0.78528828 0.\n",
            "  0.6191303 ]\n",
            " [0.         0.78528828 0.         0.         0.         0.\n",
            "  0.6191303 ]\n",
            " [0.61761437 0.         0.         0.48693426 0.         0.61761437\n",
            "  0.        ]\n",
            " [0.         0.         0.78528828 0.6191303  0.         0.\n",
            "  0.        ]]\n",
            "['enjoy' 'fun' 'great' 'learning' 'love' 'machine' 'nlp']\n"
          ]
        }
      ],
      "source": [
        "corpus = ['I love nlp', 'nlp is fun', 'I enjoy machine learning', 'learning is great']\n",
        "vectorize =TfidfVectorizer(stop_words='english')\n",
        "# vectorize =CountVectorizer(stop_words='english')\n",
        "x = vectorize.fit_transform(corpus)\n",
        "print(x.toarray())\n",
        "print(vectorize.get_feature_names_out())"
      ]
    },
    {
      "cell_type": "markdown",
      "metadata": {
        "id": "2_mP1cfKd2xR"
      },
      "source": [
        "The model is created by TfidfVectorizer, which is responsible for calculating TF-IDF (Term Frequency - Inverse Document Frequency). This model assigns a numerical weight to each word in a text, indicating the importance of that word within a given dataset of texts.\n",
        "\n",
        "TF (Term Frequency): The frequency of a word in a specific document.\n",
        "\n",
        "IDF (Inverse Document Frequency): The inverse of the frequency of documents that contain the word, indicating how rare or common a word is across the entire text corpus."
      ]
    },
    {
      "cell_type": "markdown",
      "source": [
        "## Word Embedding with spaCy"
      ],
      "metadata": {
        "id": "_ZEGehfCvdjG"
      }
    },
    {
      "cell_type": "code",
      "source": [
        "nlp = spacy.load(\"en_core_web_sm\")\n",
        "doc = nlp(\"I love coffee\")\n",
        "print(\"vectore of word  'I':\", doc[2].vector)  # the vector\n",
        "doc_vector = doc.vector\n",
        "print(\" whole vector :\", doc_vector)"
      ],
      "metadata": {
        "colab": {
          "base_uri": "https://localhost:8080/"
        },
        "id": "Jl8Q_BO3vjCl",
        "outputId": "7784ba2a-8f17-4f70-8ec4-76a670ee50d4"
      },
      "execution_count": 30,
      "outputs": [
        {
          "output_type": "stream",
          "name": "stdout",
          "text": [
            "vectore of word  'I': [ 0.2798245  -0.4124304   0.75736374  0.03007131  0.02294396  0.3065338\n",
            "  1.7175772   0.3070166   0.4685409  -0.18986315  0.3022109  -0.3004337\n",
            " -0.42582202  0.36418682  0.41736928  0.6758911  -0.71772003 -0.5916075\n",
            " -0.28403097 -0.01277104  0.08186535  1.42117    -0.7210002  -0.21898009\n",
            " -0.12691122  0.15890782  0.03687936 -0.43232912 -0.37768227  0.14926013\n",
            " -0.9221091   0.6519158   0.25451374  0.32057908 -0.6961285  -0.30604187\n",
            " -0.03522727  0.1458869   0.25056964  0.42449307 -0.7809199   1.1174874\n",
            "  0.11471996  0.43448016 -0.03251775 -0.01708399 -1.3525333  -0.1380522\n",
            " -0.7680636  -0.15767384  0.926775   -0.33059442  0.26376188 -0.90464526\n",
            "  0.45594794 -0.96185887  1.0394007   0.59627026  0.15457833 -0.33140746\n",
            " -0.42168117 -0.14860088 -0.1931392  -0.5490756  -0.11835518  0.15390676\n",
            "  1.1021172   0.01342243 -0.33302575 -0.06850247 -0.61401004  0.34231162\n",
            "  0.12139341 -0.44367623 -0.7450189  -0.2920655   0.34194952 -0.7470629\n",
            "  0.0877625  -0.98352003 -0.5173587  -0.28793448 -0.6207659  -0.2752583\n",
            " -0.4924601   0.30461946  0.7686437   0.1074997  -0.1316019   1.3336821\n",
            " -1.2673417   1.0227189   1.0667119  -0.6972965  -0.37022063  1.3158706 ]\n",
            " whole vector : [-0.5302075  -0.13380274 -0.02240531 -0.16881518  0.11229388 -0.02561291\n",
            "  0.9510879   0.11572037  0.6827218  -0.36877656  0.33989337  0.00311627\n",
            " -0.2655077  -0.16562812  0.20463891  0.3771886  -0.3638672   0.14554645\n",
            " -0.41011682 -0.27976725  0.13927235  0.6397176  -0.59170943 -0.20353208\n",
            " -0.00191736  0.09371623 -0.22138952  0.31192806 -0.5268655  -0.2885075\n",
            " -0.23101123 -0.065895   -0.08904723  0.12403268 -0.68000776 -0.5692673\n",
            " -0.44033143 -0.35647225  0.26729053  0.7082564   0.07920802  0.8507549\n",
            " -0.05039291  0.26433548 -0.09005757  0.1977043  -0.3055343   0.40444455\n",
            "  0.5743327  -0.21458109  0.09795781 -0.7616772  -0.11771259 -0.6786213\n",
            "  0.25984615 -1.0910287   0.65981996 -0.0800615  -0.4110858  -0.21205115\n",
            "  0.12343117 -0.24297099  0.18809362 -0.43916845 -0.14451441  0.1216059\n",
            " -0.15735435 -0.39909348 -0.06726515  0.450065   -0.49523482  0.15572558\n",
            "  0.81300837 -0.38263512 -0.8202165   0.8591264   0.15672301 -0.5795335\n",
            " -0.04330863 -0.43393493 -0.34638396 -0.48488227 -0.07389837  0.14735653\n",
            " -0.2277687   0.39822268  0.00678331  0.14140402  0.52894765  0.40236115\n",
            " -0.04413895  0.58505106  1.1597632   0.22398074 -0.0705222   1.134338  ]\n"
          ]
        }
      ]
    },
    {
      "cell_type": "markdown",
      "metadata": {
        "id": "HP8b_q8XuGoJ"
      },
      "source": [
        "Similarity between 2 senences:"
      ]
    },
    {
      "cell_type": "code",
      "execution_count": 33,
      "metadata": {
        "colab": {
          "base_uri": "https://localhost:8080/"
        },
        "id": "ueZaRY3ytpr5",
        "outputId": "cd473d85-98e8-443c-b84a-0bae5246a83b"
      },
      "outputs": [
        {
          "output_type": "stream",
          "name": "stdout",
          "text": [
            "I like salty fries and hamburgers. <-> Fast food tastes very good. 0.8015960629076846\n",
            "salty fries <-> hamburgers 0.5733411312103271\n"
          ]
        }
      ],
      "source": [
        "nlp = spacy.load(\"en_core_web_md\")  # make sure to use larger package!\n",
        "doc1 = nlp(\"I like salty fries and hamburgers.\")\n",
        "doc2 = nlp(\"Fast food tastes very good.\")\n",
        "\n",
        "# Similarity of two documents\n",
        "print(doc1, \"<->\", doc2, doc1.similarity(doc2))\n",
        "# Similarity of tokens and spans\n",
        "french_fries = doc1[2:4]\n",
        "burgers = doc1[5]\n",
        "print(french_fries, \"<->\", burgers, french_fries.similarity(burgers))\n"
      ]
    },
    {
      "cell_type": "markdown",
      "source": [
        "The pipeline() function is a high-level API designed to simplify using transformer models for a variety of natural language processing tasks. When you call pipeline() with a specific task name, it automatically:\n",
        "\n",
        "Loads a suitable pre-trained model and its corresponding tokenizer optimized for that task.\n",
        "\n",
        "Handles all the necessary preprocessing, tokenization, and postprocessing steps internally.\n",
        "\n",
        "Provides a simple interface to perform inference, allowing you to input raw text and receive meaningful outputs like classifications, answers, or summaries.\n",
        "\n",
        "This abstraction lets users quickly leverage powerful, state-of-the-art transformer models (like BERT, RoBERTa, GPT, etc.) without needing to understand the complex underlying mechanics."
      ],
      "metadata": {
        "id": "RE434xeJxXOM"
      }
    },
    {
      "cell_type": "code",
      "execution_count": 1,
      "metadata": {
        "id": "YfVIONSzcsPF",
        "colab": {
          "base_uri": "https://localhost:8080/",
          "height": 373,
          "referenced_widgets": [
            "7c072c78f5b24dec8d6ff5076a676a85",
            "23eef085eb174e7aa3e28f7fbb982625",
            "bd38b47961194dd9bec95726d0756ef1",
            "437ad48a03ad466e8c71142135b703a1",
            "fd6c8683cb5a4cf7990cbf3b8e0dca78",
            "3dac48dbfd0c4820b770173ca77ddc95",
            "d00ac483cc8649e29072a13df0c6f158",
            "1596530f97fb4a479ee7231b80f19427",
            "6d699b53f8fc46ba9a52886299b8f8fb",
            "a17df019bca04e2995276667884e5e6b",
            "b2a5c13629f5416384fec407aa5a5f9a",
            "2a60648db1e9466e9c48fe878d041364",
            "1a83ff355992408fbb6cb41ce6d6ebc9",
            "2c064daec3f44f1499b609a9b717d200",
            "50a4971aeae74512a439b280a18db882",
            "6757dbd876cf4c0f84878b3b014c42b1",
            "5d84a2be970c4878bd1b6035687405b4",
            "4c40685232ad4bdcacf18d6b552e213f",
            "2f44906fb48a44d0987d34990f56425c",
            "587859f6b2e541e98e52e95d38c1173c",
            "ba55a62a8f4e40fcaeabe618eebd311b",
            "341f6784000b4548959b741cefb17d69",
            "f8e86f24891748d9882f3e0508047d77",
            "cfbd23c6f55a47639250f5ca91c6d4e5",
            "1a89662c419e4eb1a51da44f6a3ff125",
            "bab7fe7e10fa4b6c9c4f32e084841183",
            "9c81b4d3bec44a5a82c3cc787c7a9c0e",
            "59a24456a8c84a13a82f4799e223231f",
            "83fc1b8e39584ff2b7109db2c0ba8672",
            "3709ec77a1434c5ebd5f277cb64c9ba6",
            "338d37043a93451d9f9660b5fbf8f24f",
            "b1cf105ae9914c65af36650c3f5e7bb9",
            "f2c2d3e8556042979e61915e04546f8c",
            "19c9c3bd695e41cb990c08b2dfff5c03",
            "f179496206c44e20a0d827f897ff586d",
            "eea859b214944a919c8d7f35b81c9432",
            "41c56aff38d64f8495b274e1d4576d91",
            "3bffad1cb09740b9a62f9072f9d56965",
            "e4d5ce40c85a4d4099e4165a5b92d389",
            "a8bb9f31e2ba404da508ba71316ba430",
            "8e1cef2fa81540a8bbd01daf7684db92",
            "645d170305b8448a9e3912fd6cfa8f7d",
            "812104fa071048e7856396c62bf7cac9",
            "30cccb16e29e44858c98a04b0c6fdfab"
          ]
        },
        "outputId": "a8f5f857-e9fc-4db6-c19d-d817aad286bf"
      },
      "outputs": [
        {
          "output_type": "stream",
          "name": "stderr",
          "text": [
            "No model was supplied, defaulted to distilbert/distilbert-base-uncased-finetuned-sst-2-english and revision 714eb0f (https://huggingface.co/distilbert/distilbert-base-uncased-finetuned-sst-2-english).\n",
            "Using a pipeline without specifying a model name and revision in production is not recommended.\n",
            "/usr/local/lib/python3.11/dist-packages/huggingface_hub/utils/_auth.py:94: UserWarning: \n",
            "The secret `HF_TOKEN` does not exist in your Colab secrets.\n",
            "To authenticate with the Hugging Face Hub, create a token in your settings tab (https://huggingface.co/settings/tokens), set it as secret in your Google Colab and restart your session.\n",
            "You will be able to reuse this secret in all of your notebooks.\n",
            "Please note that authentication is recommended but still optional to access public models or datasets.\n",
            "  warnings.warn(\n"
          ]
        },
        {
          "output_type": "display_data",
          "data": {
            "text/plain": [
              "config.json:   0%|          | 0.00/629 [00:00<?, ?B/s]"
            ],
            "application/vnd.jupyter.widget-view+json": {
              "version_major": 2,
              "version_minor": 0,
              "model_id": "7c072c78f5b24dec8d6ff5076a676a85"
            }
          },
          "metadata": {}
        },
        {
          "output_type": "stream",
          "name": "stderr",
          "text": [
            "Xet Storage is enabled for this repo, but the 'hf_xet' package is not installed. Falling back to regular HTTP download. For better performance, install the package with: `pip install huggingface_hub[hf_xet]` or `pip install hf_xet`\n",
            "WARNING:huggingface_hub.file_download:Xet Storage is enabled for this repo, but the 'hf_xet' package is not installed. Falling back to regular HTTP download. For better performance, install the package with: `pip install huggingface_hub[hf_xet]` or `pip install hf_xet`\n"
          ]
        },
        {
          "output_type": "display_data",
          "data": {
            "text/plain": [
              "model.safetensors:   0%|          | 0.00/268M [00:00<?, ?B/s]"
            ],
            "application/vnd.jupyter.widget-view+json": {
              "version_major": 2,
              "version_minor": 0,
              "model_id": "2a60648db1e9466e9c48fe878d041364"
            }
          },
          "metadata": {}
        },
        {
          "output_type": "display_data",
          "data": {
            "text/plain": [
              "tokenizer_config.json:   0%|          | 0.00/48.0 [00:00<?, ?B/s]"
            ],
            "application/vnd.jupyter.widget-view+json": {
              "version_major": 2,
              "version_minor": 0,
              "model_id": "f8e86f24891748d9882f3e0508047d77"
            }
          },
          "metadata": {}
        },
        {
          "output_type": "display_data",
          "data": {
            "text/plain": [
              "vocab.txt:   0%|          | 0.00/232k [00:00<?, ?B/s]"
            ],
            "application/vnd.jupyter.widget-view+json": {
              "version_major": 2,
              "version_minor": 0,
              "model_id": "19c9c3bd695e41cb990c08b2dfff5c03"
            }
          },
          "metadata": {}
        },
        {
          "output_type": "stream",
          "name": "stderr",
          "text": [
            "Device set to use cpu\n"
          ]
        },
        {
          "output_type": "execute_result",
          "data": {
            "text/plain": [
              "[{'label': 'POSITIVE', 'score': 0.9997994303703308}]"
            ]
          },
          "metadata": {},
          "execution_count": 1
        }
      ],
      "source": [
        "from transformers import pipeline\n",
        "classifier = pipeline(\"sentiment-analysis\")\n",
        "classifier(\"We are very happy to show you the Transformers library.\")"
      ]
    },
    {
      "cell_type": "markdown",
      "metadata": {
        "id": "HPOKWbvcwZQe"
      },
      "source": [
        "\n",
        "The pipeline() automatically loads a default model and tokenizer capable of inference for your task."
      ]
    },
    {
      "cell_type": "code",
      "execution_count": 2,
      "metadata": {
        "id": "7G7izybEwZ_Q",
        "colab": {
          "base_uri": "https://localhost:8080/",
          "height": 434,
          "referenced_widgets": [
            "494b48fa33ae493d9878ed2094d93963",
            "eaa0a953aefb416a921eb937f05d550a",
            "728165ec503a4266ba33dcadeec1ff01",
            "cefc510565764eb9b4d697fe70f37f32",
            "022ef2f44013426daa9d499f9c31d7e5",
            "a0522e843a4849bbb268ec54803bbd27",
            "e63b8206aba94cb3852e5e3b7e1a8261",
            "b2763cfd9d2347338bb3f8949175e84e",
            "886e9af4f3024ecc9a03fd7a4336fa75",
            "b71da68b328d42b6b4040f56df1c4f9e",
            "87febcaba6db40649fd155dc50b78524",
            "d15226d47c06447aaceb852b5923eada",
            "810a0ce3f15b44cf99ab4a929e0ae486",
            "9567f019a1a24b7a936081ac22e14e93",
            "c63e948c264e4d6b9b33259349812fc0",
            "0aa72ec7d387488796b71db3fe19e6f9",
            "2ecab8f7a2f5423994ee98a20150703d",
            "567cf2c06e024f8da2c48caaf2cad750",
            "a46f8d8fd43945c6a820dd3ac4fd02f7",
            "f6133435dc1c4e11be9367b70e12754a",
            "c3ece073d7d5472d92b6a092b4ea2abe",
            "b85b5243e7084e3c819e9f58d5c0efa6",
            "9bdf44765fbf457493a475d8b4610c7a",
            "238c556788574f8484363c6b8bde7880",
            "30c1ba262da541b3935b3d8de035af0e",
            "1ff2c90248564010af6cf30d8a06c573",
            "076ff3a6c383427097a23da2f2113250",
            "3cec86293b7f4a45b9faede0902763e3",
            "25676f37744148a09a8a4851969fa4bd",
            "104f0dca71ab454687c0b393366dfecb",
            "953c1be60ec44eca9752bb4d69319a01",
            "768d45d761ac4d64a5b3a36a70786e27",
            "d87c8cb54f5746d2b80ad8def23ceeca",
            "f9a30429de5b4038a1ab946503e600e9",
            "fb12350bf0034fe4999e6c7c1086802f",
            "0d68e8156136420092e8e9a578336c0b",
            "5216ee504d874fc2aa0934bfd7ee3150",
            "e53e81c6b16c4b778924e90fb7467a7d",
            "96d927bad74f4484a01e8eaad3a6d71d",
            "8f2afe085b5e499d9dd342d1d698bb71",
            "7b02375247c74e868d73dff876e6025d",
            "bc882116c53542c69ab5f1dfccf474a5",
            "9edf06d6d0e84f71823bed4f8983f609",
            "d80b897f932947d395e9a9d0ad1ffa27",
            "7bbdec4fc38441e5b69c853bbc5ebb85",
            "6ce8226a1c8340788e4c6d80629d863a",
            "95c8ac834ab8417a887c47f5fba695e0",
            "8ad917a30b39412db97f74ed16685b23",
            "c1a45498f8a748d4bc25316d34facb84",
            "3925defc8fe743ae8eb4f7573d848bf1",
            "45ed0ed688624acd9ea63ed70a07f125",
            "0728aeaeb25945cab5ff8da00e26dea3",
            "fb8a07c6e2f94d9b94f938888d197c6e",
            "e729c3d288d6462488502f89bca17563",
            "38542b4497134f4aa245391d19fa9ab3",
            "d5248c2e664b42109fa9b467934242a6",
            "32e2e75154094eee9078abb41bf75418",
            "9e9a0f72aa3d45aaa631fa1e2c8c31e4",
            "e3f983bf20304f5d80a28c798102c879",
            "e81e89d9b4124c21b870828d2c28fbb2",
            "07ff4dcb5cdf4033849b84d118ceeb4f",
            "ab9a74673eba48369b4bd833be37388f",
            "305b43aa8728444fb0a3edc5c17bedc2",
            "2af1fed19bc94876b679f5cca81c7236",
            "0c79244048ec4680947957b9973aaae7",
            "5b467fc19f5040108f3ca3f9a4404298",
            "d53ecf9b4ad744c38ed254dd23e3b0dd",
            "23623909e2014ed7898edab47e773084",
            "e17d6358e4974deca067d83799ccf99f",
            "27c754d9d2a1498aad63efa7eac43253",
            "7830112af742418cb915132b007e46b2",
            "0d4ad55c2f784f458c6e30b8698e9816",
            "461a00d9a6f143c599062d8aa4880993",
            "7344a84951e7492c9d1afd56117d3f84",
            "62c6ec5b8dd6499397977a74dd39c73b",
            "27900d4ecc80450eb0185e5df23907b1",
            "6a8226919cdd4553ba00034600d7455a"
          ]
        },
        "outputId": "445b377b-e398-44fe-ab0b-496e4ea55a79"
      },
      "outputs": [
        {
          "output_type": "stream",
          "name": "stderr",
          "text": [
            "No model was supplied, defaulted to openai-community/gpt2 and revision 607a30d (https://huggingface.co/openai-community/gpt2).\n",
            "Using a pipeline without specifying a model name and revision in production is not recommended.\n"
          ]
        },
        {
          "output_type": "display_data",
          "data": {
            "text/plain": [
              "config.json:   0%|          | 0.00/665 [00:00<?, ?B/s]"
            ],
            "application/vnd.jupyter.widget-view+json": {
              "version_major": 2,
              "version_minor": 0,
              "model_id": "494b48fa33ae493d9878ed2094d93963"
            }
          },
          "metadata": {}
        },
        {
          "output_type": "stream",
          "name": "stderr",
          "text": [
            "Xet Storage is enabled for this repo, but the 'hf_xet' package is not installed. Falling back to regular HTTP download. For better performance, install the package with: `pip install huggingface_hub[hf_xet]` or `pip install hf_xet`\n",
            "WARNING:huggingface_hub.file_download:Xet Storage is enabled for this repo, but the 'hf_xet' package is not installed. Falling back to regular HTTP download. For better performance, install the package with: `pip install huggingface_hub[hf_xet]` or `pip install hf_xet`\n"
          ]
        },
        {
          "output_type": "display_data",
          "data": {
            "text/plain": [
              "model.safetensors:   0%|          | 0.00/548M [00:00<?, ?B/s]"
            ],
            "application/vnd.jupyter.widget-view+json": {
              "version_major": 2,
              "version_minor": 0,
              "model_id": "d15226d47c06447aaceb852b5923eada"
            }
          },
          "metadata": {}
        },
        {
          "output_type": "display_data",
          "data": {
            "text/plain": [
              "generation_config.json:   0%|          | 0.00/124 [00:00<?, ?B/s]"
            ],
            "application/vnd.jupyter.widget-view+json": {
              "version_major": 2,
              "version_minor": 0,
              "model_id": "9bdf44765fbf457493a475d8b4610c7a"
            }
          },
          "metadata": {}
        },
        {
          "output_type": "display_data",
          "data": {
            "text/plain": [
              "tokenizer_config.json:   0%|          | 0.00/26.0 [00:00<?, ?B/s]"
            ],
            "application/vnd.jupyter.widget-view+json": {
              "version_major": 2,
              "version_minor": 0,
              "model_id": "f9a30429de5b4038a1ab946503e600e9"
            }
          },
          "metadata": {}
        },
        {
          "output_type": "display_data",
          "data": {
            "text/plain": [
              "vocab.json:   0%|          | 0.00/1.04M [00:00<?, ?B/s]"
            ],
            "application/vnd.jupyter.widget-view+json": {
              "version_major": 2,
              "version_minor": 0,
              "model_id": "7bbdec4fc38441e5b69c853bbc5ebb85"
            }
          },
          "metadata": {}
        },
        {
          "output_type": "display_data",
          "data": {
            "text/plain": [
              "merges.txt:   0%|          | 0.00/456k [00:00<?, ?B/s]"
            ],
            "application/vnd.jupyter.widget-view+json": {
              "version_major": 2,
              "version_minor": 0,
              "model_id": "d5248c2e664b42109fa9b467934242a6"
            }
          },
          "metadata": {}
        },
        {
          "output_type": "display_data",
          "data": {
            "text/plain": [
              "tokenizer.json:   0%|          | 0.00/1.36M [00:00<?, ?B/s]"
            ],
            "application/vnd.jupyter.widget-view+json": {
              "version_major": 2,
              "version_minor": 0,
              "model_id": "d53ecf9b4ad744c38ed254dd23e3b0dd"
            }
          },
          "metadata": {}
        },
        {
          "output_type": "stream",
          "name": "stderr",
          "text": [
            "Device set to use cpu\n",
            "Setting `pad_token_id` to `eos_token_id`:50256 for open-end generation.\n"
          ]
        },
        {
          "output_type": "execute_result",
          "data": {
            "text/plain": [
              "[{'generated_text': 'Three Rings for the Elven-kings under the sky, Seven for the Dwarf-lords in their halls of stone, Four Rings for all of their fallen warriors (their names are given to as many as they wish), Five Rings for all their warriors'},\n",
              " {'generated_text': 'Three Rings for the Elven-kings under the sky, Seven for the Dwarf-lords in their halls of stone and eight for the Dwarves in the fortress and its cargoes and its cargoes. These are the Seven Rings, given'}]"
            ]
          },
          "metadata": {},
          "execution_count": 2
        }
      ],
      "source": [
        "generator = pipeline(task=\"text-generation\")\n",
        "generator(\n",
        "    \"Three Rings for the Elven-kings under the sky, Seven for the Dwarf-lords in their halls of stone\",\n",
        "    num_return_sequences=2,\n",
        ")"
      ]
    },
    {
      "cell_type": "code",
      "execution_count": 3,
      "metadata": {
        "id": "tqpU7h8dOCNg",
        "colab": {
          "base_uri": "https://localhost:8080/",
          "height": 261,
          "referenced_widgets": [
            "562ac731bdd046f5ae1ea6b515374548",
            "18f49c23a34140a2b1562497af1b1208",
            "750d4fd28c1c43d2b1ea465a663f8274",
            "28ec7f25992246fea9aa3a089e2e4d04",
            "8a8f1679588d477e83486567d8ee9416",
            "8e7a9d70099e42bab5c6f56758846bdf",
            "e29fa7621f2c49df83b1c6c47cec6dc7",
            "a6a5eacc8a7f4522a3ceab43733548ee",
            "74bc71caf1c84ec7bb15bf351b0d6715",
            "6554e0f22dc84be6833027514786b91c",
            "1b682efbd1b94b01b9af735b09eb79fb",
            "bfb038e6ebcc4297ada889c49c421fe7",
            "3d14522abd434e199d0b345d6d8210be",
            "f605d97053944c4097e55b24195e6272",
            "58337b6287814a4d8561afac61b461ab",
            "20ca2506105b4f7f81ea35355d352ec7",
            "ca4535ce856f45f280ddaaee833f6e4d",
            "efe81a78fbbb41a6a8c206c08b12c284",
            "367a78f33eb048bd9b89a31139213da1",
            "6172296ae84f4d7db8e6f43c4c905855",
            "7f3b1b3a0dca42aeac086b13d3171fec",
            "4a9edbc55d78419fa8ef56f0f3d89581",
            "a84bb639ac0c42a0a8435d4031996999",
            "baf9c3bff8ab47af98d6c5e82238f41d",
            "de310ba44f914bae8d2a4d6f81f6acaf",
            "6fd0e8620d69407e8fcf4b20d3b5ced3",
            "d1e688bd8ad44b2285b365a8cd9ed335",
            "3164e0d05491480998d3cf474fcb2e52",
            "a21d50ff1f844e71a99e7090148c21ad",
            "9b508303d7934480b5c46b8284ee46e2",
            "ff0adcf3014444f1b3e97862ed1b323d",
            "1faeb06d94d642cf86d5be7315cb9fa8",
            "7391cf9a63e04dd5826faaf13df3afa2",
            "ea96df88c19241f5b7c815cbe693ee9e",
            "d739d4e79e354f34a1e9fea3672c0ea2",
            "c1da66bbd4084dadb679ce3dd57c51ec",
            "a3213ba390f44ca0ba61010204a75ee5",
            "35a0516ffcd74b94aa2f1baa54d2ad33",
            "53c9eac43de842f68100c19210d14db8",
            "4b002bbe80324f8cb03ca5199d842cac",
            "6f6ca939b9be4666a650ba06bba7bb80",
            "f742f979e94f403798f4cdf804e2b4bf",
            "b80fd0bfce2b434fbb018d9cad51ba58",
            "a35c5cb5e1ea4f4dac7d2623e8802f88",
            "9702a05c9364403ca23f957e4b55d497",
            "04c0a21a96a04c1091d9956183791328",
            "036144a709bd4f83b29b56f0b3d26230",
            "696fd73108594478b6d8e33af44a311f",
            "0c98ee1ff939442abf6ee7d34c972c66",
            "65e9948a47d040668123cb213516201b",
            "6cbce1c93fac4400be6b25efe522c019",
            "1b5028b0b81848a6838da45bb0732342",
            "09d314ecfe1c4fa9bb80493cf4a2ec1e",
            "03c535e780204cd1a70cdb3ec6e612ac",
            "9ea8f4ebe1c6450db6c52944c8297baf",
            "f68d803691c64a8289e26d7e4a0bbdd8",
            "c9a949c738b34655b6de5abe324757a9",
            "34c415eb16cb4e2699c7eb1f08791f88",
            "30caebbba1de4729a0d9b666a912fb5a",
            "70848ebc2b294857a5d1ed5c9cb1f816",
            "37489ebe2f9a487ca99148cf5a7cc627",
            "b2010dd969f14c3aafffdd9aa6fca251",
            "3224062b698348869c0b867c0988f8c1",
            "9379aa79a6b844e9a902ac21262696bc",
            "0214bb52dd8546fd85ea3503d9b9e05f",
            "aaf4c412f606464f84c08d4339797538"
          ]
        },
        "outputId": "8d5c5778-1d5d-4278-a3ee-301a93ade92a"
      },
      "outputs": [
        {
          "output_type": "stream",
          "name": "stderr",
          "text": [
            "No model was supplied, defaulted to sshleifer/distilbart-cnn-12-6 and revision a4f8f3e (https://huggingface.co/sshleifer/distilbart-cnn-12-6).\n",
            "Using a pipeline without specifying a model name and revision in production is not recommended.\n"
          ]
        },
        {
          "output_type": "display_data",
          "data": {
            "text/plain": [
              "config.json:   0%|          | 0.00/1.80k [00:00<?, ?B/s]"
            ],
            "application/vnd.jupyter.widget-view+json": {
              "version_major": 2,
              "version_minor": 0,
              "model_id": "562ac731bdd046f5ae1ea6b515374548"
            }
          },
          "metadata": {}
        },
        {
          "output_type": "display_data",
          "data": {
            "text/plain": [
              "pytorch_model.bin:   0%|          | 0.00/1.22G [00:00<?, ?B/s]"
            ],
            "application/vnd.jupyter.widget-view+json": {
              "version_major": 2,
              "version_minor": 0,
              "model_id": "bfb038e6ebcc4297ada889c49c421fe7"
            }
          },
          "metadata": {}
        },
        {
          "output_type": "display_data",
          "data": {
            "text/plain": [
              "model.safetensors:   0%|          | 0.00/1.22G [00:00<?, ?B/s]"
            ],
            "application/vnd.jupyter.widget-view+json": {
              "version_major": 2,
              "version_minor": 0,
              "model_id": "a84bb639ac0c42a0a8435d4031996999"
            }
          },
          "metadata": {}
        },
        {
          "output_type": "display_data",
          "data": {
            "text/plain": [
              "tokenizer_config.json:   0%|          | 0.00/26.0 [00:00<?, ?B/s]"
            ],
            "application/vnd.jupyter.widget-view+json": {
              "version_major": 2,
              "version_minor": 0,
              "model_id": "ea96df88c19241f5b7c815cbe693ee9e"
            }
          },
          "metadata": {}
        },
        {
          "output_type": "display_data",
          "data": {
            "text/plain": [
              "vocab.json:   0%|          | 0.00/899k [00:00<?, ?B/s]"
            ],
            "application/vnd.jupyter.widget-view+json": {
              "version_major": 2,
              "version_minor": 0,
              "model_id": "9702a05c9364403ca23f957e4b55d497"
            }
          },
          "metadata": {}
        },
        {
          "output_type": "display_data",
          "data": {
            "text/plain": [
              "merges.txt:   0%|          | 0.00/456k [00:00<?, ?B/s]"
            ],
            "application/vnd.jupyter.widget-view+json": {
              "version_major": 2,
              "version_minor": 0,
              "model_id": "f68d803691c64a8289e26d7e4a0bbdd8"
            }
          },
          "metadata": {}
        },
        {
          "output_type": "stream",
          "name": "stderr",
          "text": [
            "Device set to use cpu\n"
          ]
        }
      ],
      "source": [
        "summarizer = pipeline(\"summarization\")\n",
        "\n",
        "ARTICLE = \"\"\" New York (CNN)When Liana Barrientos was 23 years old, she got married in Westchester County, New York.\n",
        "A year later, she got married again in Westchester County, but to a different man and without divorcing her first husband.\n",
        "Only 18 days after that marriage, she got hitched yet again. Then, Barrientos declared \"I do\" five more times, sometimes only within two weeks of each other.\n",
        "In 2010, she married once more, this time in the Bronx. In an application for a marriage license, she stated it was her \"first and only\" marriage.\n",
        "Barrientos, now 39, is facing two criminal counts of \"offering a false instrument for filing in the first degree,\" referring to her false statements on the\n",
        "2010 marriage license application, according to court documents.\n",
        "Prosecutors said the marriages were part of an immigration scam.\n",
        "On Friday, she pleaded not guilty at State Supreme Court in the Bronx, according to her attorney, Christopher Wright, who declined to comment further.\n",
        "After leaving court, Barrientos was arrested and charged with theft of service and criminal trespass for allegedly sneaking into the New York subway through an emergency exit, said Detective\n",
        "Annette Markowski, a police spokeswoman. In total, Barrientos has been married 10 times, with nine of her marriages occurring between 1999 and 2002.\n",
        "All occurred either in Westchester County, Long Island, New Jersey or the Bronx. She is believed to still be married to four men, and at one time, she was married to eight men at once, prosecutors say.\n",
        "Prosecutors said the immigration scam involved some of her husbands, who filed for permanent residence status shortly after the marriages.\n",
        "Any divorces happened only after such filings were approved. It was unclear whether any of the men will be prosecuted.\n",
        "The case was referred to the Bronx District Attorney\\'s Office by Immigration and Customs Enforcement and the Department of Homeland Security\\'s\n",
        "Investigation Division. Seven of the men are from so-called \"red-flagged\" countries, including Egypt, Turkey, Georgia, Pakistan and Mali.\n",
        "Her eighth husband, Rashid Rajput, was deported in 2006 to his native Pakistan after an investigation by the Joint Terrorism Task Force.\n",
        "If convicted, Barrientos faces up to four years in prison.  Her next court appearance is scheduled for May 18.\n",
        "\"\"\""
      ]
    },
    {
      "cell_type": "code",
      "execution_count": 5,
      "metadata": {
        "id": "pjkycZxKOaXn",
        "colab": {
          "base_uri": "https://localhost:8080/",
          "height": 52
        },
        "outputId": "3c468f8f-3caf-4091-a11b-7ff79670980d"
      },
      "outputs": [
        {
          "output_type": "display_data",
          "data": {
            "text/plain": [
              "[{'summary_text': ' Liana Barrientos, 39, is charged with two counts of \"offering a false instrument for filing in the first degree\" In total, she has been married 10 times, with nine of her marriages occurring between 1999 and 2002 . At one time, she was married to eight men at once, prosecutors say .'}]"
            ]
          },
          "metadata": {}
        }
      ],
      "source": [
        "display(summarizer(ARTICLE, max_length=130, min_length=30, do_sample=False))"
      ]
    }
  ],
  "metadata": {
    "colab": {
      "provenance": []
    },
    "kernelspec": {
      "display_name": "Python 3",
      "name": "python3"
    },
    "language_info": {
      "name": "python"
    },
    "widgets": {
      "application/vnd.jupyter.widget-state+json": {
        "7c072c78f5b24dec8d6ff5076a676a85": {
          "model_module": "@jupyter-widgets/controls",
          "model_name": "HBoxModel",
          "model_module_version": "1.5.0",
          "state": {
            "_dom_classes": [],
            "_model_module": "@jupyter-widgets/controls",
            "_model_module_version": "1.5.0",
            "_model_name": "HBoxModel",
            "_view_count": null,
            "_view_module": "@jupyter-widgets/controls",
            "_view_module_version": "1.5.0",
            "_view_name": "HBoxView",
            "box_style": "",
            "children": [
              "IPY_MODEL_23eef085eb174e7aa3e28f7fbb982625",
              "IPY_MODEL_bd38b47961194dd9bec95726d0756ef1",
              "IPY_MODEL_437ad48a03ad466e8c71142135b703a1"
            ],
            "layout": "IPY_MODEL_fd6c8683cb5a4cf7990cbf3b8e0dca78"
          }
        },
        "23eef085eb174e7aa3e28f7fbb982625": {
          "model_module": "@jupyter-widgets/controls",
          "model_name": "HTMLModel",
          "model_module_version": "1.5.0",
          "state": {
            "_dom_classes": [],
            "_model_module": "@jupyter-widgets/controls",
            "_model_module_version": "1.5.0",
            "_model_name": "HTMLModel",
            "_view_count": null,
            "_view_module": "@jupyter-widgets/controls",
            "_view_module_version": "1.5.0",
            "_view_name": "HTMLView",
            "description": "",
            "description_tooltip": null,
            "layout": "IPY_MODEL_3dac48dbfd0c4820b770173ca77ddc95",
            "placeholder": "​",
            "style": "IPY_MODEL_d00ac483cc8649e29072a13df0c6f158",
            "value": "config.json: 100%"
          }
        },
        "bd38b47961194dd9bec95726d0756ef1": {
          "model_module": "@jupyter-widgets/controls",
          "model_name": "FloatProgressModel",
          "model_module_version": "1.5.0",
          "state": {
            "_dom_classes": [],
            "_model_module": "@jupyter-widgets/controls",
            "_model_module_version": "1.5.0",
            "_model_name": "FloatProgressModel",
            "_view_count": null,
            "_view_module": "@jupyter-widgets/controls",
            "_view_module_version": "1.5.0",
            "_view_name": "ProgressView",
            "bar_style": "success",
            "description": "",
            "description_tooltip": null,
            "layout": "IPY_MODEL_1596530f97fb4a479ee7231b80f19427",
            "max": 629,
            "min": 0,
            "orientation": "horizontal",
            "style": "IPY_MODEL_6d699b53f8fc46ba9a52886299b8f8fb",
            "value": 629
          }
        },
        "437ad48a03ad466e8c71142135b703a1": {
          "model_module": "@jupyter-widgets/controls",
          "model_name": "HTMLModel",
          "model_module_version": "1.5.0",
          "state": {
            "_dom_classes": [],
            "_model_module": "@jupyter-widgets/controls",
            "_model_module_version": "1.5.0",
            "_model_name": "HTMLModel",
            "_view_count": null,
            "_view_module": "@jupyter-widgets/controls",
            "_view_module_version": "1.5.0",
            "_view_name": "HTMLView",
            "description": "",
            "description_tooltip": null,
            "layout": "IPY_MODEL_a17df019bca04e2995276667884e5e6b",
            "placeholder": "​",
            "style": "IPY_MODEL_b2a5c13629f5416384fec407aa5a5f9a",
            "value": " 629/629 [00:00&lt;00:00, 11.9kB/s]"
          }
        },
        "fd6c8683cb5a4cf7990cbf3b8e0dca78": {
          "model_module": "@jupyter-widgets/base",
          "model_name": "LayoutModel",
          "model_module_version": "1.2.0",
          "state": {
            "_model_module": "@jupyter-widgets/base",
            "_model_module_version": "1.2.0",
            "_model_name": "LayoutModel",
            "_view_count": null,
            "_view_module": "@jupyter-widgets/base",
            "_view_module_version": "1.2.0",
            "_view_name": "LayoutView",
            "align_content": null,
            "align_items": null,
            "align_self": null,
            "border": null,
            "bottom": null,
            "display": null,
            "flex": null,
            "flex_flow": null,
            "grid_area": null,
            "grid_auto_columns": null,
            "grid_auto_flow": null,
            "grid_auto_rows": null,
            "grid_column": null,
            "grid_gap": null,
            "grid_row": null,
            "grid_template_areas": null,
            "grid_template_columns": null,
            "grid_template_rows": null,
            "height": null,
            "justify_content": null,
            "justify_items": null,
            "left": null,
            "margin": null,
            "max_height": null,
            "max_width": null,
            "min_height": null,
            "min_width": null,
            "object_fit": null,
            "object_position": null,
            "order": null,
            "overflow": null,
            "overflow_x": null,
            "overflow_y": null,
            "padding": null,
            "right": null,
            "top": null,
            "visibility": null,
            "width": null
          }
        },
        "3dac48dbfd0c4820b770173ca77ddc95": {
          "model_module": "@jupyter-widgets/base",
          "model_name": "LayoutModel",
          "model_module_version": "1.2.0",
          "state": {
            "_model_module": "@jupyter-widgets/base",
            "_model_module_version": "1.2.0",
            "_model_name": "LayoutModel",
            "_view_count": null,
            "_view_module": "@jupyter-widgets/base",
            "_view_module_version": "1.2.0",
            "_view_name": "LayoutView",
            "align_content": null,
            "align_items": null,
            "align_self": null,
            "border": null,
            "bottom": null,
            "display": null,
            "flex": null,
            "flex_flow": null,
            "grid_area": null,
            "grid_auto_columns": null,
            "grid_auto_flow": null,
            "grid_auto_rows": null,
            "grid_column": null,
            "grid_gap": null,
            "grid_row": null,
            "grid_template_areas": null,
            "grid_template_columns": null,
            "grid_template_rows": null,
            "height": null,
            "justify_content": null,
            "justify_items": null,
            "left": null,
            "margin": null,
            "max_height": null,
            "max_width": null,
            "min_height": null,
            "min_width": null,
            "object_fit": null,
            "object_position": null,
            "order": null,
            "overflow": null,
            "overflow_x": null,
            "overflow_y": null,
            "padding": null,
            "right": null,
            "top": null,
            "visibility": null,
            "width": null
          }
        },
        "d00ac483cc8649e29072a13df0c6f158": {
          "model_module": "@jupyter-widgets/controls",
          "model_name": "DescriptionStyleModel",
          "model_module_version": "1.5.0",
          "state": {
            "_model_module": "@jupyter-widgets/controls",
            "_model_module_version": "1.5.0",
            "_model_name": "DescriptionStyleModel",
            "_view_count": null,
            "_view_module": "@jupyter-widgets/base",
            "_view_module_version": "1.2.0",
            "_view_name": "StyleView",
            "description_width": ""
          }
        },
        "1596530f97fb4a479ee7231b80f19427": {
          "model_module": "@jupyter-widgets/base",
          "model_name": "LayoutModel",
          "model_module_version": "1.2.0",
          "state": {
            "_model_module": "@jupyter-widgets/base",
            "_model_module_version": "1.2.0",
            "_model_name": "LayoutModel",
            "_view_count": null,
            "_view_module": "@jupyter-widgets/base",
            "_view_module_version": "1.2.0",
            "_view_name": "LayoutView",
            "align_content": null,
            "align_items": null,
            "align_self": null,
            "border": null,
            "bottom": null,
            "display": null,
            "flex": null,
            "flex_flow": null,
            "grid_area": null,
            "grid_auto_columns": null,
            "grid_auto_flow": null,
            "grid_auto_rows": null,
            "grid_column": null,
            "grid_gap": null,
            "grid_row": null,
            "grid_template_areas": null,
            "grid_template_columns": null,
            "grid_template_rows": null,
            "height": null,
            "justify_content": null,
            "justify_items": null,
            "left": null,
            "margin": null,
            "max_height": null,
            "max_width": null,
            "min_height": null,
            "min_width": null,
            "object_fit": null,
            "object_position": null,
            "order": null,
            "overflow": null,
            "overflow_x": null,
            "overflow_y": null,
            "padding": null,
            "right": null,
            "top": null,
            "visibility": null,
            "width": null
          }
        },
        "6d699b53f8fc46ba9a52886299b8f8fb": {
          "model_module": "@jupyter-widgets/controls",
          "model_name": "ProgressStyleModel",
          "model_module_version": "1.5.0",
          "state": {
            "_model_module": "@jupyter-widgets/controls",
            "_model_module_version": "1.5.0",
            "_model_name": "ProgressStyleModel",
            "_view_count": null,
            "_view_module": "@jupyter-widgets/base",
            "_view_module_version": "1.2.0",
            "_view_name": "StyleView",
            "bar_color": null,
            "description_width": ""
          }
        },
        "a17df019bca04e2995276667884e5e6b": {
          "model_module": "@jupyter-widgets/base",
          "model_name": "LayoutModel",
          "model_module_version": "1.2.0",
          "state": {
            "_model_module": "@jupyter-widgets/base",
            "_model_module_version": "1.2.0",
            "_model_name": "LayoutModel",
            "_view_count": null,
            "_view_module": "@jupyter-widgets/base",
            "_view_module_version": "1.2.0",
            "_view_name": "LayoutView",
            "align_content": null,
            "align_items": null,
            "align_self": null,
            "border": null,
            "bottom": null,
            "display": null,
            "flex": null,
            "flex_flow": null,
            "grid_area": null,
            "grid_auto_columns": null,
            "grid_auto_flow": null,
            "grid_auto_rows": null,
            "grid_column": null,
            "grid_gap": null,
            "grid_row": null,
            "grid_template_areas": null,
            "grid_template_columns": null,
            "grid_template_rows": null,
            "height": null,
            "justify_content": null,
            "justify_items": null,
            "left": null,
            "margin": null,
            "max_height": null,
            "max_width": null,
            "min_height": null,
            "min_width": null,
            "object_fit": null,
            "object_position": null,
            "order": null,
            "overflow": null,
            "overflow_x": null,
            "overflow_y": null,
            "padding": null,
            "right": null,
            "top": null,
            "visibility": null,
            "width": null
          }
        },
        "b2a5c13629f5416384fec407aa5a5f9a": {
          "model_module": "@jupyter-widgets/controls",
          "model_name": "DescriptionStyleModel",
          "model_module_version": "1.5.0",
          "state": {
            "_model_module": "@jupyter-widgets/controls",
            "_model_module_version": "1.5.0",
            "_model_name": "DescriptionStyleModel",
            "_view_count": null,
            "_view_module": "@jupyter-widgets/base",
            "_view_module_version": "1.2.0",
            "_view_name": "StyleView",
            "description_width": ""
          }
        },
        "2a60648db1e9466e9c48fe878d041364": {
          "model_module": "@jupyter-widgets/controls",
          "model_name": "HBoxModel",
          "model_module_version": "1.5.0",
          "state": {
            "_dom_classes": [],
            "_model_module": "@jupyter-widgets/controls",
            "_model_module_version": "1.5.0",
            "_model_name": "HBoxModel",
            "_view_count": null,
            "_view_module": "@jupyter-widgets/controls",
            "_view_module_version": "1.5.0",
            "_view_name": "HBoxView",
            "box_style": "",
            "children": [
              "IPY_MODEL_1a83ff355992408fbb6cb41ce6d6ebc9",
              "IPY_MODEL_2c064daec3f44f1499b609a9b717d200",
              "IPY_MODEL_50a4971aeae74512a439b280a18db882"
            ],
            "layout": "IPY_MODEL_6757dbd876cf4c0f84878b3b014c42b1"
          }
        },
        "1a83ff355992408fbb6cb41ce6d6ebc9": {
          "model_module": "@jupyter-widgets/controls",
          "model_name": "HTMLModel",
          "model_module_version": "1.5.0",
          "state": {
            "_dom_classes": [],
            "_model_module": "@jupyter-widgets/controls",
            "_model_module_version": "1.5.0",
            "_model_name": "HTMLModel",
            "_view_count": null,
            "_view_module": "@jupyter-widgets/controls",
            "_view_module_version": "1.5.0",
            "_view_name": "HTMLView",
            "description": "",
            "description_tooltip": null,
            "layout": "IPY_MODEL_5d84a2be970c4878bd1b6035687405b4",
            "placeholder": "​",
            "style": "IPY_MODEL_4c40685232ad4bdcacf18d6b552e213f",
            "value": "model.safetensors: 100%"
          }
        },
        "2c064daec3f44f1499b609a9b717d200": {
          "model_module": "@jupyter-widgets/controls",
          "model_name": "FloatProgressModel",
          "model_module_version": "1.5.0",
          "state": {
            "_dom_classes": [],
            "_model_module": "@jupyter-widgets/controls",
            "_model_module_version": "1.5.0",
            "_model_name": "FloatProgressModel",
            "_view_count": null,
            "_view_module": "@jupyter-widgets/controls",
            "_view_module_version": "1.5.0",
            "_view_name": "ProgressView",
            "bar_style": "success",
            "description": "",
            "description_tooltip": null,
            "layout": "IPY_MODEL_2f44906fb48a44d0987d34990f56425c",
            "max": 267832558,
            "min": 0,
            "orientation": "horizontal",
            "style": "IPY_MODEL_587859f6b2e541e98e52e95d38c1173c",
            "value": 267832558
          }
        },
        "50a4971aeae74512a439b280a18db882": {
          "model_module": "@jupyter-widgets/controls",
          "model_name": "HTMLModel",
          "model_module_version": "1.5.0",
          "state": {
            "_dom_classes": [],
            "_model_module": "@jupyter-widgets/controls",
            "_model_module_version": "1.5.0",
            "_model_name": "HTMLModel",
            "_view_count": null,
            "_view_module": "@jupyter-widgets/controls",
            "_view_module_version": "1.5.0",
            "_view_name": "HTMLView",
            "description": "",
            "description_tooltip": null,
            "layout": "IPY_MODEL_ba55a62a8f4e40fcaeabe618eebd311b",
            "placeholder": "​",
            "style": "IPY_MODEL_341f6784000b4548959b741cefb17d69",
            "value": " 268M/268M [00:04&lt;00:00, 64.4MB/s]"
          }
        },
        "6757dbd876cf4c0f84878b3b014c42b1": {
          "model_module": "@jupyter-widgets/base",
          "model_name": "LayoutModel",
          "model_module_version": "1.2.0",
          "state": {
            "_model_module": "@jupyter-widgets/base",
            "_model_module_version": "1.2.0",
            "_model_name": "LayoutModel",
            "_view_count": null,
            "_view_module": "@jupyter-widgets/base",
            "_view_module_version": "1.2.0",
            "_view_name": "LayoutView",
            "align_content": null,
            "align_items": null,
            "align_self": null,
            "border": null,
            "bottom": null,
            "display": null,
            "flex": null,
            "flex_flow": null,
            "grid_area": null,
            "grid_auto_columns": null,
            "grid_auto_flow": null,
            "grid_auto_rows": null,
            "grid_column": null,
            "grid_gap": null,
            "grid_row": null,
            "grid_template_areas": null,
            "grid_template_columns": null,
            "grid_template_rows": null,
            "height": null,
            "justify_content": null,
            "justify_items": null,
            "left": null,
            "margin": null,
            "max_height": null,
            "max_width": null,
            "min_height": null,
            "min_width": null,
            "object_fit": null,
            "object_position": null,
            "order": null,
            "overflow": null,
            "overflow_x": null,
            "overflow_y": null,
            "padding": null,
            "right": null,
            "top": null,
            "visibility": null,
            "width": null
          }
        },
        "5d84a2be970c4878bd1b6035687405b4": {
          "model_module": "@jupyter-widgets/base",
          "model_name": "LayoutModel",
          "model_module_version": "1.2.0",
          "state": {
            "_model_module": "@jupyter-widgets/base",
            "_model_module_version": "1.2.0",
            "_model_name": "LayoutModel",
            "_view_count": null,
            "_view_module": "@jupyter-widgets/base",
            "_view_module_version": "1.2.0",
            "_view_name": "LayoutView",
            "align_content": null,
            "align_items": null,
            "align_self": null,
            "border": null,
            "bottom": null,
            "display": null,
            "flex": null,
            "flex_flow": null,
            "grid_area": null,
            "grid_auto_columns": null,
            "grid_auto_flow": null,
            "grid_auto_rows": null,
            "grid_column": null,
            "grid_gap": null,
            "grid_row": null,
            "grid_template_areas": null,
            "grid_template_columns": null,
            "grid_template_rows": null,
            "height": null,
            "justify_content": null,
            "justify_items": null,
            "left": null,
            "margin": null,
            "max_height": null,
            "max_width": null,
            "min_height": null,
            "min_width": null,
            "object_fit": null,
            "object_position": null,
            "order": null,
            "overflow": null,
            "overflow_x": null,
            "overflow_y": null,
            "padding": null,
            "right": null,
            "top": null,
            "visibility": null,
            "width": null
          }
        },
        "4c40685232ad4bdcacf18d6b552e213f": {
          "model_module": "@jupyter-widgets/controls",
          "model_name": "DescriptionStyleModel",
          "model_module_version": "1.5.0",
          "state": {
            "_model_module": "@jupyter-widgets/controls",
            "_model_module_version": "1.5.0",
            "_model_name": "DescriptionStyleModel",
            "_view_count": null,
            "_view_module": "@jupyter-widgets/base",
            "_view_module_version": "1.2.0",
            "_view_name": "StyleView",
            "description_width": ""
          }
        },
        "2f44906fb48a44d0987d34990f56425c": {
          "model_module": "@jupyter-widgets/base",
          "model_name": "LayoutModel",
          "model_module_version": "1.2.0",
          "state": {
            "_model_module": "@jupyter-widgets/base",
            "_model_module_version": "1.2.0",
            "_model_name": "LayoutModel",
            "_view_count": null,
            "_view_module": "@jupyter-widgets/base",
            "_view_module_version": "1.2.0",
            "_view_name": "LayoutView",
            "align_content": null,
            "align_items": null,
            "align_self": null,
            "border": null,
            "bottom": null,
            "display": null,
            "flex": null,
            "flex_flow": null,
            "grid_area": null,
            "grid_auto_columns": null,
            "grid_auto_flow": null,
            "grid_auto_rows": null,
            "grid_column": null,
            "grid_gap": null,
            "grid_row": null,
            "grid_template_areas": null,
            "grid_template_columns": null,
            "grid_template_rows": null,
            "height": null,
            "justify_content": null,
            "justify_items": null,
            "left": null,
            "margin": null,
            "max_height": null,
            "max_width": null,
            "min_height": null,
            "min_width": null,
            "object_fit": null,
            "object_position": null,
            "order": null,
            "overflow": null,
            "overflow_x": null,
            "overflow_y": null,
            "padding": null,
            "right": null,
            "top": null,
            "visibility": null,
            "width": null
          }
        },
        "587859f6b2e541e98e52e95d38c1173c": {
          "model_module": "@jupyter-widgets/controls",
          "model_name": "ProgressStyleModel",
          "model_module_version": "1.5.0",
          "state": {
            "_model_module": "@jupyter-widgets/controls",
            "_model_module_version": "1.5.0",
            "_model_name": "ProgressStyleModel",
            "_view_count": null,
            "_view_module": "@jupyter-widgets/base",
            "_view_module_version": "1.2.0",
            "_view_name": "StyleView",
            "bar_color": null,
            "description_width": ""
          }
        },
        "ba55a62a8f4e40fcaeabe618eebd311b": {
          "model_module": "@jupyter-widgets/base",
          "model_name": "LayoutModel",
          "model_module_version": "1.2.0",
          "state": {
            "_model_module": "@jupyter-widgets/base",
            "_model_module_version": "1.2.0",
            "_model_name": "LayoutModel",
            "_view_count": null,
            "_view_module": "@jupyter-widgets/base",
            "_view_module_version": "1.2.0",
            "_view_name": "LayoutView",
            "align_content": null,
            "align_items": null,
            "align_self": null,
            "border": null,
            "bottom": null,
            "display": null,
            "flex": null,
            "flex_flow": null,
            "grid_area": null,
            "grid_auto_columns": null,
            "grid_auto_flow": null,
            "grid_auto_rows": null,
            "grid_column": null,
            "grid_gap": null,
            "grid_row": null,
            "grid_template_areas": null,
            "grid_template_columns": null,
            "grid_template_rows": null,
            "height": null,
            "justify_content": null,
            "justify_items": null,
            "left": null,
            "margin": null,
            "max_height": null,
            "max_width": null,
            "min_height": null,
            "min_width": null,
            "object_fit": null,
            "object_position": null,
            "order": null,
            "overflow": null,
            "overflow_x": null,
            "overflow_y": null,
            "padding": null,
            "right": null,
            "top": null,
            "visibility": null,
            "width": null
          }
        },
        "341f6784000b4548959b741cefb17d69": {
          "model_module": "@jupyter-widgets/controls",
          "model_name": "DescriptionStyleModel",
          "model_module_version": "1.5.0",
          "state": {
            "_model_module": "@jupyter-widgets/controls",
            "_model_module_version": "1.5.0",
            "_model_name": "DescriptionStyleModel",
            "_view_count": null,
            "_view_module": "@jupyter-widgets/base",
            "_view_module_version": "1.2.0",
            "_view_name": "StyleView",
            "description_width": ""
          }
        },
        "f8e86f24891748d9882f3e0508047d77": {
          "model_module": "@jupyter-widgets/controls",
          "model_name": "HBoxModel",
          "model_module_version": "1.5.0",
          "state": {
            "_dom_classes": [],
            "_model_module": "@jupyter-widgets/controls",
            "_model_module_version": "1.5.0",
            "_model_name": "HBoxModel",
            "_view_count": null,
            "_view_module": "@jupyter-widgets/controls",
            "_view_module_version": "1.5.0",
            "_view_name": "HBoxView",
            "box_style": "",
            "children": [
              "IPY_MODEL_cfbd23c6f55a47639250f5ca91c6d4e5",
              "IPY_MODEL_1a89662c419e4eb1a51da44f6a3ff125",
              "IPY_MODEL_bab7fe7e10fa4b6c9c4f32e084841183"
            ],
            "layout": "IPY_MODEL_9c81b4d3bec44a5a82c3cc787c7a9c0e"
          }
        },
        "cfbd23c6f55a47639250f5ca91c6d4e5": {
          "model_module": "@jupyter-widgets/controls",
          "model_name": "HTMLModel",
          "model_module_version": "1.5.0",
          "state": {
            "_dom_classes": [],
            "_model_module": "@jupyter-widgets/controls",
            "_model_module_version": "1.5.0",
            "_model_name": "HTMLModel",
            "_view_count": null,
            "_view_module": "@jupyter-widgets/controls",
            "_view_module_version": "1.5.0",
            "_view_name": "HTMLView",
            "description": "",
            "description_tooltip": null,
            "layout": "IPY_MODEL_59a24456a8c84a13a82f4799e223231f",
            "placeholder": "​",
            "style": "IPY_MODEL_83fc1b8e39584ff2b7109db2c0ba8672",
            "value": "tokenizer_config.json: 100%"
          }
        },
        "1a89662c419e4eb1a51da44f6a3ff125": {
          "model_module": "@jupyter-widgets/controls",
          "model_name": "FloatProgressModel",
          "model_module_version": "1.5.0",
          "state": {
            "_dom_classes": [],
            "_model_module": "@jupyter-widgets/controls",
            "_model_module_version": "1.5.0",
            "_model_name": "FloatProgressModel",
            "_view_count": null,
            "_view_module": "@jupyter-widgets/controls",
            "_view_module_version": "1.5.0",
            "_view_name": "ProgressView",
            "bar_style": "success",
            "description": "",
            "description_tooltip": null,
            "layout": "IPY_MODEL_3709ec77a1434c5ebd5f277cb64c9ba6",
            "max": 48,
            "min": 0,
            "orientation": "horizontal",
            "style": "IPY_MODEL_338d37043a93451d9f9660b5fbf8f24f",
            "value": 48
          }
        },
        "bab7fe7e10fa4b6c9c4f32e084841183": {
          "model_module": "@jupyter-widgets/controls",
          "model_name": "HTMLModel",
          "model_module_version": "1.5.0",
          "state": {
            "_dom_classes": [],
            "_model_module": "@jupyter-widgets/controls",
            "_model_module_version": "1.5.0",
            "_model_name": "HTMLModel",
            "_view_count": null,
            "_view_module": "@jupyter-widgets/controls",
            "_view_module_version": "1.5.0",
            "_view_name": "HTMLView",
            "description": "",
            "description_tooltip": null,
            "layout": "IPY_MODEL_b1cf105ae9914c65af36650c3f5e7bb9",
            "placeholder": "​",
            "style": "IPY_MODEL_f2c2d3e8556042979e61915e04546f8c",
            "value": " 48.0/48.0 [00:00&lt;00:00, 575B/s]"
          }
        },
        "9c81b4d3bec44a5a82c3cc787c7a9c0e": {
          "model_module": "@jupyter-widgets/base",
          "model_name": "LayoutModel",
          "model_module_version": "1.2.0",
          "state": {
            "_model_module": "@jupyter-widgets/base",
            "_model_module_version": "1.2.0",
            "_model_name": "LayoutModel",
            "_view_count": null,
            "_view_module": "@jupyter-widgets/base",
            "_view_module_version": "1.2.0",
            "_view_name": "LayoutView",
            "align_content": null,
            "align_items": null,
            "align_self": null,
            "border": null,
            "bottom": null,
            "display": null,
            "flex": null,
            "flex_flow": null,
            "grid_area": null,
            "grid_auto_columns": null,
            "grid_auto_flow": null,
            "grid_auto_rows": null,
            "grid_column": null,
            "grid_gap": null,
            "grid_row": null,
            "grid_template_areas": null,
            "grid_template_columns": null,
            "grid_template_rows": null,
            "height": null,
            "justify_content": null,
            "justify_items": null,
            "left": null,
            "margin": null,
            "max_height": null,
            "max_width": null,
            "min_height": null,
            "min_width": null,
            "object_fit": null,
            "object_position": null,
            "order": null,
            "overflow": null,
            "overflow_x": null,
            "overflow_y": null,
            "padding": null,
            "right": null,
            "top": null,
            "visibility": null,
            "width": null
          }
        },
        "59a24456a8c84a13a82f4799e223231f": {
          "model_module": "@jupyter-widgets/base",
          "model_name": "LayoutModel",
          "model_module_version": "1.2.0",
          "state": {
            "_model_module": "@jupyter-widgets/base",
            "_model_module_version": "1.2.0",
            "_model_name": "LayoutModel",
            "_view_count": null,
            "_view_module": "@jupyter-widgets/base",
            "_view_module_version": "1.2.0",
            "_view_name": "LayoutView",
            "align_content": null,
            "align_items": null,
            "align_self": null,
            "border": null,
            "bottom": null,
            "display": null,
            "flex": null,
            "flex_flow": null,
            "grid_area": null,
            "grid_auto_columns": null,
            "grid_auto_flow": null,
            "grid_auto_rows": null,
            "grid_column": null,
            "grid_gap": null,
            "grid_row": null,
            "grid_template_areas": null,
            "grid_template_columns": null,
            "grid_template_rows": null,
            "height": null,
            "justify_content": null,
            "justify_items": null,
            "left": null,
            "margin": null,
            "max_height": null,
            "max_width": null,
            "min_height": null,
            "min_width": null,
            "object_fit": null,
            "object_position": null,
            "order": null,
            "overflow": null,
            "overflow_x": null,
            "overflow_y": null,
            "padding": null,
            "right": null,
            "top": null,
            "visibility": null,
            "width": null
          }
        },
        "83fc1b8e39584ff2b7109db2c0ba8672": {
          "model_module": "@jupyter-widgets/controls",
          "model_name": "DescriptionStyleModel",
          "model_module_version": "1.5.0",
          "state": {
            "_model_module": "@jupyter-widgets/controls",
            "_model_module_version": "1.5.0",
            "_model_name": "DescriptionStyleModel",
            "_view_count": null,
            "_view_module": "@jupyter-widgets/base",
            "_view_module_version": "1.2.0",
            "_view_name": "StyleView",
            "description_width": ""
          }
        },
        "3709ec77a1434c5ebd5f277cb64c9ba6": {
          "model_module": "@jupyter-widgets/base",
          "model_name": "LayoutModel",
          "model_module_version": "1.2.0",
          "state": {
            "_model_module": "@jupyter-widgets/base",
            "_model_module_version": "1.2.0",
            "_model_name": "LayoutModel",
            "_view_count": null,
            "_view_module": "@jupyter-widgets/base",
            "_view_module_version": "1.2.0",
            "_view_name": "LayoutView",
            "align_content": null,
            "align_items": null,
            "align_self": null,
            "border": null,
            "bottom": null,
            "display": null,
            "flex": null,
            "flex_flow": null,
            "grid_area": null,
            "grid_auto_columns": null,
            "grid_auto_flow": null,
            "grid_auto_rows": null,
            "grid_column": null,
            "grid_gap": null,
            "grid_row": null,
            "grid_template_areas": null,
            "grid_template_columns": null,
            "grid_template_rows": null,
            "height": null,
            "justify_content": null,
            "justify_items": null,
            "left": null,
            "margin": null,
            "max_height": null,
            "max_width": null,
            "min_height": null,
            "min_width": null,
            "object_fit": null,
            "object_position": null,
            "order": null,
            "overflow": null,
            "overflow_x": null,
            "overflow_y": null,
            "padding": null,
            "right": null,
            "top": null,
            "visibility": null,
            "width": null
          }
        },
        "338d37043a93451d9f9660b5fbf8f24f": {
          "model_module": "@jupyter-widgets/controls",
          "model_name": "ProgressStyleModel",
          "model_module_version": "1.5.0",
          "state": {
            "_model_module": "@jupyter-widgets/controls",
            "_model_module_version": "1.5.0",
            "_model_name": "ProgressStyleModel",
            "_view_count": null,
            "_view_module": "@jupyter-widgets/base",
            "_view_module_version": "1.2.0",
            "_view_name": "StyleView",
            "bar_color": null,
            "description_width": ""
          }
        },
        "b1cf105ae9914c65af36650c3f5e7bb9": {
          "model_module": "@jupyter-widgets/base",
          "model_name": "LayoutModel",
          "model_module_version": "1.2.0",
          "state": {
            "_model_module": "@jupyter-widgets/base",
            "_model_module_version": "1.2.0",
            "_model_name": "LayoutModel",
            "_view_count": null,
            "_view_module": "@jupyter-widgets/base",
            "_view_module_version": "1.2.0",
            "_view_name": "LayoutView",
            "align_content": null,
            "align_items": null,
            "align_self": null,
            "border": null,
            "bottom": null,
            "display": null,
            "flex": null,
            "flex_flow": null,
            "grid_area": null,
            "grid_auto_columns": null,
            "grid_auto_flow": null,
            "grid_auto_rows": null,
            "grid_column": null,
            "grid_gap": null,
            "grid_row": null,
            "grid_template_areas": null,
            "grid_template_columns": null,
            "grid_template_rows": null,
            "height": null,
            "justify_content": null,
            "justify_items": null,
            "left": null,
            "margin": null,
            "max_height": null,
            "max_width": null,
            "min_height": null,
            "min_width": null,
            "object_fit": null,
            "object_position": null,
            "order": null,
            "overflow": null,
            "overflow_x": null,
            "overflow_y": null,
            "padding": null,
            "right": null,
            "top": null,
            "visibility": null,
            "width": null
          }
        },
        "f2c2d3e8556042979e61915e04546f8c": {
          "model_module": "@jupyter-widgets/controls",
          "model_name": "DescriptionStyleModel",
          "model_module_version": "1.5.0",
          "state": {
            "_model_module": "@jupyter-widgets/controls",
            "_model_module_version": "1.5.0",
            "_model_name": "DescriptionStyleModel",
            "_view_count": null,
            "_view_module": "@jupyter-widgets/base",
            "_view_module_version": "1.2.0",
            "_view_name": "StyleView",
            "description_width": ""
          }
        },
        "19c9c3bd695e41cb990c08b2dfff5c03": {
          "model_module": "@jupyter-widgets/controls",
          "model_name": "HBoxModel",
          "model_module_version": "1.5.0",
          "state": {
            "_dom_classes": [],
            "_model_module": "@jupyter-widgets/controls",
            "_model_module_version": "1.5.0",
            "_model_name": "HBoxModel",
            "_view_count": null,
            "_view_module": "@jupyter-widgets/controls",
            "_view_module_version": "1.5.0",
            "_view_name": "HBoxView",
            "box_style": "",
            "children": [
              "IPY_MODEL_f179496206c44e20a0d827f897ff586d",
              "IPY_MODEL_eea859b214944a919c8d7f35b81c9432",
              "IPY_MODEL_41c56aff38d64f8495b274e1d4576d91"
            ],
            "layout": "IPY_MODEL_3bffad1cb09740b9a62f9072f9d56965"
          }
        },
        "f179496206c44e20a0d827f897ff586d": {
          "model_module": "@jupyter-widgets/controls",
          "model_name": "HTMLModel",
          "model_module_version": "1.5.0",
          "state": {
            "_dom_classes": [],
            "_model_module": "@jupyter-widgets/controls",
            "_model_module_version": "1.5.0",
            "_model_name": "HTMLModel",
            "_view_count": null,
            "_view_module": "@jupyter-widgets/controls",
            "_view_module_version": "1.5.0",
            "_view_name": "HTMLView",
            "description": "",
            "description_tooltip": null,
            "layout": "IPY_MODEL_e4d5ce40c85a4d4099e4165a5b92d389",
            "placeholder": "​",
            "style": "IPY_MODEL_a8bb9f31e2ba404da508ba71316ba430",
            "value": "vocab.txt: 100%"
          }
        },
        "eea859b214944a919c8d7f35b81c9432": {
          "model_module": "@jupyter-widgets/controls",
          "model_name": "FloatProgressModel",
          "model_module_version": "1.5.0",
          "state": {
            "_dom_classes": [],
            "_model_module": "@jupyter-widgets/controls",
            "_model_module_version": "1.5.0",
            "_model_name": "FloatProgressModel",
            "_view_count": null,
            "_view_module": "@jupyter-widgets/controls",
            "_view_module_version": "1.5.0",
            "_view_name": "ProgressView",
            "bar_style": "success",
            "description": "",
            "description_tooltip": null,
            "layout": "IPY_MODEL_8e1cef2fa81540a8bbd01daf7684db92",
            "max": 231508,
            "min": 0,
            "orientation": "horizontal",
            "style": "IPY_MODEL_645d170305b8448a9e3912fd6cfa8f7d",
            "value": 231508
          }
        },
        "41c56aff38d64f8495b274e1d4576d91": {
          "model_module": "@jupyter-widgets/controls",
          "model_name": "HTMLModel",
          "model_module_version": "1.5.0",
          "state": {
            "_dom_classes": [],
            "_model_module": "@jupyter-widgets/controls",
            "_model_module_version": "1.5.0",
            "_model_name": "HTMLModel",
            "_view_count": null,
            "_view_module": "@jupyter-widgets/controls",
            "_view_module_version": "1.5.0",
            "_view_name": "HTMLView",
            "description": "",
            "description_tooltip": null,
            "layout": "IPY_MODEL_812104fa071048e7856396c62bf7cac9",
            "placeholder": "​",
            "style": "IPY_MODEL_30cccb16e29e44858c98a04b0c6fdfab",
            "value": " 232k/232k [00:00&lt;00:00, 2.02MB/s]"
          }
        },
        "3bffad1cb09740b9a62f9072f9d56965": {
          "model_module": "@jupyter-widgets/base",
          "model_name": "LayoutModel",
          "model_module_version": "1.2.0",
          "state": {
            "_model_module": "@jupyter-widgets/base",
            "_model_module_version": "1.2.0",
            "_model_name": "LayoutModel",
            "_view_count": null,
            "_view_module": "@jupyter-widgets/base",
            "_view_module_version": "1.2.0",
            "_view_name": "LayoutView",
            "align_content": null,
            "align_items": null,
            "align_self": null,
            "border": null,
            "bottom": null,
            "display": null,
            "flex": null,
            "flex_flow": null,
            "grid_area": null,
            "grid_auto_columns": null,
            "grid_auto_flow": null,
            "grid_auto_rows": null,
            "grid_column": null,
            "grid_gap": null,
            "grid_row": null,
            "grid_template_areas": null,
            "grid_template_columns": null,
            "grid_template_rows": null,
            "height": null,
            "justify_content": null,
            "justify_items": null,
            "left": null,
            "margin": null,
            "max_height": null,
            "max_width": null,
            "min_height": null,
            "min_width": null,
            "object_fit": null,
            "object_position": null,
            "order": null,
            "overflow": null,
            "overflow_x": null,
            "overflow_y": null,
            "padding": null,
            "right": null,
            "top": null,
            "visibility": null,
            "width": null
          }
        },
        "e4d5ce40c85a4d4099e4165a5b92d389": {
          "model_module": "@jupyter-widgets/base",
          "model_name": "LayoutModel",
          "model_module_version": "1.2.0",
          "state": {
            "_model_module": "@jupyter-widgets/base",
            "_model_module_version": "1.2.0",
            "_model_name": "LayoutModel",
            "_view_count": null,
            "_view_module": "@jupyter-widgets/base",
            "_view_module_version": "1.2.0",
            "_view_name": "LayoutView",
            "align_content": null,
            "align_items": null,
            "align_self": null,
            "border": null,
            "bottom": null,
            "display": null,
            "flex": null,
            "flex_flow": null,
            "grid_area": null,
            "grid_auto_columns": null,
            "grid_auto_flow": null,
            "grid_auto_rows": null,
            "grid_column": null,
            "grid_gap": null,
            "grid_row": null,
            "grid_template_areas": null,
            "grid_template_columns": null,
            "grid_template_rows": null,
            "height": null,
            "justify_content": null,
            "justify_items": null,
            "left": null,
            "margin": null,
            "max_height": null,
            "max_width": null,
            "min_height": null,
            "min_width": null,
            "object_fit": null,
            "object_position": null,
            "order": null,
            "overflow": null,
            "overflow_x": null,
            "overflow_y": null,
            "padding": null,
            "right": null,
            "top": null,
            "visibility": null,
            "width": null
          }
        },
        "a8bb9f31e2ba404da508ba71316ba430": {
          "model_module": "@jupyter-widgets/controls",
          "model_name": "DescriptionStyleModel",
          "model_module_version": "1.5.0",
          "state": {
            "_model_module": "@jupyter-widgets/controls",
            "_model_module_version": "1.5.0",
            "_model_name": "DescriptionStyleModel",
            "_view_count": null,
            "_view_module": "@jupyter-widgets/base",
            "_view_module_version": "1.2.0",
            "_view_name": "StyleView",
            "description_width": ""
          }
        },
        "8e1cef2fa81540a8bbd01daf7684db92": {
          "model_module": "@jupyter-widgets/base",
          "model_name": "LayoutModel",
          "model_module_version": "1.2.0",
          "state": {
            "_model_module": "@jupyter-widgets/base",
            "_model_module_version": "1.2.0",
            "_model_name": "LayoutModel",
            "_view_count": null,
            "_view_module": "@jupyter-widgets/base",
            "_view_module_version": "1.2.0",
            "_view_name": "LayoutView",
            "align_content": null,
            "align_items": null,
            "align_self": null,
            "border": null,
            "bottom": null,
            "display": null,
            "flex": null,
            "flex_flow": null,
            "grid_area": null,
            "grid_auto_columns": null,
            "grid_auto_flow": null,
            "grid_auto_rows": null,
            "grid_column": null,
            "grid_gap": null,
            "grid_row": null,
            "grid_template_areas": null,
            "grid_template_columns": null,
            "grid_template_rows": null,
            "height": null,
            "justify_content": null,
            "justify_items": null,
            "left": null,
            "margin": null,
            "max_height": null,
            "max_width": null,
            "min_height": null,
            "min_width": null,
            "object_fit": null,
            "object_position": null,
            "order": null,
            "overflow": null,
            "overflow_x": null,
            "overflow_y": null,
            "padding": null,
            "right": null,
            "top": null,
            "visibility": null,
            "width": null
          }
        },
        "645d170305b8448a9e3912fd6cfa8f7d": {
          "model_module": "@jupyter-widgets/controls",
          "model_name": "ProgressStyleModel",
          "model_module_version": "1.5.0",
          "state": {
            "_model_module": "@jupyter-widgets/controls",
            "_model_module_version": "1.5.0",
            "_model_name": "ProgressStyleModel",
            "_view_count": null,
            "_view_module": "@jupyter-widgets/base",
            "_view_module_version": "1.2.0",
            "_view_name": "StyleView",
            "bar_color": null,
            "description_width": ""
          }
        },
        "812104fa071048e7856396c62bf7cac9": {
          "model_module": "@jupyter-widgets/base",
          "model_name": "LayoutModel",
          "model_module_version": "1.2.0",
          "state": {
            "_model_module": "@jupyter-widgets/base",
            "_model_module_version": "1.2.0",
            "_model_name": "LayoutModel",
            "_view_count": null,
            "_view_module": "@jupyter-widgets/base",
            "_view_module_version": "1.2.0",
            "_view_name": "LayoutView",
            "align_content": null,
            "align_items": null,
            "align_self": null,
            "border": null,
            "bottom": null,
            "display": null,
            "flex": null,
            "flex_flow": null,
            "grid_area": null,
            "grid_auto_columns": null,
            "grid_auto_flow": null,
            "grid_auto_rows": null,
            "grid_column": null,
            "grid_gap": null,
            "grid_row": null,
            "grid_template_areas": null,
            "grid_template_columns": null,
            "grid_template_rows": null,
            "height": null,
            "justify_content": null,
            "justify_items": null,
            "left": null,
            "margin": null,
            "max_height": null,
            "max_width": null,
            "min_height": null,
            "min_width": null,
            "object_fit": null,
            "object_position": null,
            "order": null,
            "overflow": null,
            "overflow_x": null,
            "overflow_y": null,
            "padding": null,
            "right": null,
            "top": null,
            "visibility": null,
            "width": null
          }
        },
        "30cccb16e29e44858c98a04b0c6fdfab": {
          "model_module": "@jupyter-widgets/controls",
          "model_name": "DescriptionStyleModel",
          "model_module_version": "1.5.0",
          "state": {
            "_model_module": "@jupyter-widgets/controls",
            "_model_module_version": "1.5.0",
            "_model_name": "DescriptionStyleModel",
            "_view_count": null,
            "_view_module": "@jupyter-widgets/base",
            "_view_module_version": "1.2.0",
            "_view_name": "StyleView",
            "description_width": ""
          }
        },
        "494b48fa33ae493d9878ed2094d93963": {
          "model_module": "@jupyter-widgets/controls",
          "model_name": "HBoxModel",
          "model_module_version": "1.5.0",
          "state": {
            "_dom_classes": [],
            "_model_module": "@jupyter-widgets/controls",
            "_model_module_version": "1.5.0",
            "_model_name": "HBoxModel",
            "_view_count": null,
            "_view_module": "@jupyter-widgets/controls",
            "_view_module_version": "1.5.0",
            "_view_name": "HBoxView",
            "box_style": "",
            "children": [
              "IPY_MODEL_eaa0a953aefb416a921eb937f05d550a",
              "IPY_MODEL_728165ec503a4266ba33dcadeec1ff01",
              "IPY_MODEL_cefc510565764eb9b4d697fe70f37f32"
            ],
            "layout": "IPY_MODEL_022ef2f44013426daa9d499f9c31d7e5"
          }
        },
        "eaa0a953aefb416a921eb937f05d550a": {
          "model_module": "@jupyter-widgets/controls",
          "model_name": "HTMLModel",
          "model_module_version": "1.5.0",
          "state": {
            "_dom_classes": [],
            "_model_module": "@jupyter-widgets/controls",
            "_model_module_version": "1.5.0",
            "_model_name": "HTMLModel",
            "_view_count": null,
            "_view_module": "@jupyter-widgets/controls",
            "_view_module_version": "1.5.0",
            "_view_name": "HTMLView",
            "description": "",
            "description_tooltip": null,
            "layout": "IPY_MODEL_a0522e843a4849bbb268ec54803bbd27",
            "placeholder": "​",
            "style": "IPY_MODEL_e63b8206aba94cb3852e5e3b7e1a8261",
            "value": "config.json: 100%"
          }
        },
        "728165ec503a4266ba33dcadeec1ff01": {
          "model_module": "@jupyter-widgets/controls",
          "model_name": "FloatProgressModel",
          "model_module_version": "1.5.0",
          "state": {
            "_dom_classes": [],
            "_model_module": "@jupyter-widgets/controls",
            "_model_module_version": "1.5.0",
            "_model_name": "FloatProgressModel",
            "_view_count": null,
            "_view_module": "@jupyter-widgets/controls",
            "_view_module_version": "1.5.0",
            "_view_name": "ProgressView",
            "bar_style": "success",
            "description": "",
            "description_tooltip": null,
            "layout": "IPY_MODEL_b2763cfd9d2347338bb3f8949175e84e",
            "max": 665,
            "min": 0,
            "orientation": "horizontal",
            "style": "IPY_MODEL_886e9af4f3024ecc9a03fd7a4336fa75",
            "value": 665
          }
        },
        "cefc510565764eb9b4d697fe70f37f32": {
          "model_module": "@jupyter-widgets/controls",
          "model_name": "HTMLModel",
          "model_module_version": "1.5.0",
          "state": {
            "_dom_classes": [],
            "_model_module": "@jupyter-widgets/controls",
            "_model_module_version": "1.5.0",
            "_model_name": "HTMLModel",
            "_view_count": null,
            "_view_module": "@jupyter-widgets/controls",
            "_view_module_version": "1.5.0",
            "_view_name": "HTMLView",
            "description": "",
            "description_tooltip": null,
            "layout": "IPY_MODEL_b71da68b328d42b6b4040f56df1c4f9e",
            "placeholder": "​",
            "style": "IPY_MODEL_87febcaba6db40649fd155dc50b78524",
            "value": " 665/665 [00:00&lt;00:00, 39.2kB/s]"
          }
        },
        "022ef2f44013426daa9d499f9c31d7e5": {
          "model_module": "@jupyter-widgets/base",
          "model_name": "LayoutModel",
          "model_module_version": "1.2.0",
          "state": {
            "_model_module": "@jupyter-widgets/base",
            "_model_module_version": "1.2.0",
            "_model_name": "LayoutModel",
            "_view_count": null,
            "_view_module": "@jupyter-widgets/base",
            "_view_module_version": "1.2.0",
            "_view_name": "LayoutView",
            "align_content": null,
            "align_items": null,
            "align_self": null,
            "border": null,
            "bottom": null,
            "display": null,
            "flex": null,
            "flex_flow": null,
            "grid_area": null,
            "grid_auto_columns": null,
            "grid_auto_flow": null,
            "grid_auto_rows": null,
            "grid_column": null,
            "grid_gap": null,
            "grid_row": null,
            "grid_template_areas": null,
            "grid_template_columns": null,
            "grid_template_rows": null,
            "height": null,
            "justify_content": null,
            "justify_items": null,
            "left": null,
            "margin": null,
            "max_height": null,
            "max_width": null,
            "min_height": null,
            "min_width": null,
            "object_fit": null,
            "object_position": null,
            "order": null,
            "overflow": null,
            "overflow_x": null,
            "overflow_y": null,
            "padding": null,
            "right": null,
            "top": null,
            "visibility": null,
            "width": null
          }
        },
        "a0522e843a4849bbb268ec54803bbd27": {
          "model_module": "@jupyter-widgets/base",
          "model_name": "LayoutModel",
          "model_module_version": "1.2.0",
          "state": {
            "_model_module": "@jupyter-widgets/base",
            "_model_module_version": "1.2.0",
            "_model_name": "LayoutModel",
            "_view_count": null,
            "_view_module": "@jupyter-widgets/base",
            "_view_module_version": "1.2.0",
            "_view_name": "LayoutView",
            "align_content": null,
            "align_items": null,
            "align_self": null,
            "border": null,
            "bottom": null,
            "display": null,
            "flex": null,
            "flex_flow": null,
            "grid_area": null,
            "grid_auto_columns": null,
            "grid_auto_flow": null,
            "grid_auto_rows": null,
            "grid_column": null,
            "grid_gap": null,
            "grid_row": null,
            "grid_template_areas": null,
            "grid_template_columns": null,
            "grid_template_rows": null,
            "height": null,
            "justify_content": null,
            "justify_items": null,
            "left": null,
            "margin": null,
            "max_height": null,
            "max_width": null,
            "min_height": null,
            "min_width": null,
            "object_fit": null,
            "object_position": null,
            "order": null,
            "overflow": null,
            "overflow_x": null,
            "overflow_y": null,
            "padding": null,
            "right": null,
            "top": null,
            "visibility": null,
            "width": null
          }
        },
        "e63b8206aba94cb3852e5e3b7e1a8261": {
          "model_module": "@jupyter-widgets/controls",
          "model_name": "DescriptionStyleModel",
          "model_module_version": "1.5.0",
          "state": {
            "_model_module": "@jupyter-widgets/controls",
            "_model_module_version": "1.5.0",
            "_model_name": "DescriptionStyleModel",
            "_view_count": null,
            "_view_module": "@jupyter-widgets/base",
            "_view_module_version": "1.2.0",
            "_view_name": "StyleView",
            "description_width": ""
          }
        },
        "b2763cfd9d2347338bb3f8949175e84e": {
          "model_module": "@jupyter-widgets/base",
          "model_name": "LayoutModel",
          "model_module_version": "1.2.0",
          "state": {
            "_model_module": "@jupyter-widgets/base",
            "_model_module_version": "1.2.0",
            "_model_name": "LayoutModel",
            "_view_count": null,
            "_view_module": "@jupyter-widgets/base",
            "_view_module_version": "1.2.0",
            "_view_name": "LayoutView",
            "align_content": null,
            "align_items": null,
            "align_self": null,
            "border": null,
            "bottom": null,
            "display": null,
            "flex": null,
            "flex_flow": null,
            "grid_area": null,
            "grid_auto_columns": null,
            "grid_auto_flow": null,
            "grid_auto_rows": null,
            "grid_column": null,
            "grid_gap": null,
            "grid_row": null,
            "grid_template_areas": null,
            "grid_template_columns": null,
            "grid_template_rows": null,
            "height": null,
            "justify_content": null,
            "justify_items": null,
            "left": null,
            "margin": null,
            "max_height": null,
            "max_width": null,
            "min_height": null,
            "min_width": null,
            "object_fit": null,
            "object_position": null,
            "order": null,
            "overflow": null,
            "overflow_x": null,
            "overflow_y": null,
            "padding": null,
            "right": null,
            "top": null,
            "visibility": null,
            "width": null
          }
        },
        "886e9af4f3024ecc9a03fd7a4336fa75": {
          "model_module": "@jupyter-widgets/controls",
          "model_name": "ProgressStyleModel",
          "model_module_version": "1.5.0",
          "state": {
            "_model_module": "@jupyter-widgets/controls",
            "_model_module_version": "1.5.0",
            "_model_name": "ProgressStyleModel",
            "_view_count": null,
            "_view_module": "@jupyter-widgets/base",
            "_view_module_version": "1.2.0",
            "_view_name": "StyleView",
            "bar_color": null,
            "description_width": ""
          }
        },
        "b71da68b328d42b6b4040f56df1c4f9e": {
          "model_module": "@jupyter-widgets/base",
          "model_name": "LayoutModel",
          "model_module_version": "1.2.0",
          "state": {
            "_model_module": "@jupyter-widgets/base",
            "_model_module_version": "1.2.0",
            "_model_name": "LayoutModel",
            "_view_count": null,
            "_view_module": "@jupyter-widgets/base",
            "_view_module_version": "1.2.0",
            "_view_name": "LayoutView",
            "align_content": null,
            "align_items": null,
            "align_self": null,
            "border": null,
            "bottom": null,
            "display": null,
            "flex": null,
            "flex_flow": null,
            "grid_area": null,
            "grid_auto_columns": null,
            "grid_auto_flow": null,
            "grid_auto_rows": null,
            "grid_column": null,
            "grid_gap": null,
            "grid_row": null,
            "grid_template_areas": null,
            "grid_template_columns": null,
            "grid_template_rows": null,
            "height": null,
            "justify_content": null,
            "justify_items": null,
            "left": null,
            "margin": null,
            "max_height": null,
            "max_width": null,
            "min_height": null,
            "min_width": null,
            "object_fit": null,
            "object_position": null,
            "order": null,
            "overflow": null,
            "overflow_x": null,
            "overflow_y": null,
            "padding": null,
            "right": null,
            "top": null,
            "visibility": null,
            "width": null
          }
        },
        "87febcaba6db40649fd155dc50b78524": {
          "model_module": "@jupyter-widgets/controls",
          "model_name": "DescriptionStyleModel",
          "model_module_version": "1.5.0",
          "state": {
            "_model_module": "@jupyter-widgets/controls",
            "_model_module_version": "1.5.0",
            "_model_name": "DescriptionStyleModel",
            "_view_count": null,
            "_view_module": "@jupyter-widgets/base",
            "_view_module_version": "1.2.0",
            "_view_name": "StyleView",
            "description_width": ""
          }
        },
        "d15226d47c06447aaceb852b5923eada": {
          "model_module": "@jupyter-widgets/controls",
          "model_name": "HBoxModel",
          "model_module_version": "1.5.0",
          "state": {
            "_dom_classes": [],
            "_model_module": "@jupyter-widgets/controls",
            "_model_module_version": "1.5.0",
            "_model_name": "HBoxModel",
            "_view_count": null,
            "_view_module": "@jupyter-widgets/controls",
            "_view_module_version": "1.5.0",
            "_view_name": "HBoxView",
            "box_style": "",
            "children": [
              "IPY_MODEL_810a0ce3f15b44cf99ab4a929e0ae486",
              "IPY_MODEL_9567f019a1a24b7a936081ac22e14e93",
              "IPY_MODEL_c63e948c264e4d6b9b33259349812fc0"
            ],
            "layout": "IPY_MODEL_0aa72ec7d387488796b71db3fe19e6f9"
          }
        },
        "810a0ce3f15b44cf99ab4a929e0ae486": {
          "model_module": "@jupyter-widgets/controls",
          "model_name": "HTMLModel",
          "model_module_version": "1.5.0",
          "state": {
            "_dom_classes": [],
            "_model_module": "@jupyter-widgets/controls",
            "_model_module_version": "1.5.0",
            "_model_name": "HTMLModel",
            "_view_count": null,
            "_view_module": "@jupyter-widgets/controls",
            "_view_module_version": "1.5.0",
            "_view_name": "HTMLView",
            "description": "",
            "description_tooltip": null,
            "layout": "IPY_MODEL_2ecab8f7a2f5423994ee98a20150703d",
            "placeholder": "​",
            "style": "IPY_MODEL_567cf2c06e024f8da2c48caaf2cad750",
            "value": "model.safetensors: 100%"
          }
        },
        "9567f019a1a24b7a936081ac22e14e93": {
          "model_module": "@jupyter-widgets/controls",
          "model_name": "FloatProgressModel",
          "model_module_version": "1.5.0",
          "state": {
            "_dom_classes": [],
            "_model_module": "@jupyter-widgets/controls",
            "_model_module_version": "1.5.0",
            "_model_name": "FloatProgressModel",
            "_view_count": null,
            "_view_module": "@jupyter-widgets/controls",
            "_view_module_version": "1.5.0",
            "_view_name": "ProgressView",
            "bar_style": "success",
            "description": "",
            "description_tooltip": null,
            "layout": "IPY_MODEL_a46f8d8fd43945c6a820dd3ac4fd02f7",
            "max": 548105171,
            "min": 0,
            "orientation": "horizontal",
            "style": "IPY_MODEL_f6133435dc1c4e11be9367b70e12754a",
            "value": 548105171
          }
        },
        "c63e948c264e4d6b9b33259349812fc0": {
          "model_module": "@jupyter-widgets/controls",
          "model_name": "HTMLModel",
          "model_module_version": "1.5.0",
          "state": {
            "_dom_classes": [],
            "_model_module": "@jupyter-widgets/controls",
            "_model_module_version": "1.5.0",
            "_model_name": "HTMLModel",
            "_view_count": null,
            "_view_module": "@jupyter-widgets/controls",
            "_view_module_version": "1.5.0",
            "_view_name": "HTMLView",
            "description": "",
            "description_tooltip": null,
            "layout": "IPY_MODEL_c3ece073d7d5472d92b6a092b4ea2abe",
            "placeholder": "​",
            "style": "IPY_MODEL_b85b5243e7084e3c819e9f58d5c0efa6",
            "value": " 548M/548M [00:04&lt;00:00, 102MB/s]"
          }
        },
        "0aa72ec7d387488796b71db3fe19e6f9": {
          "model_module": "@jupyter-widgets/base",
          "model_name": "LayoutModel",
          "model_module_version": "1.2.0",
          "state": {
            "_model_module": "@jupyter-widgets/base",
            "_model_module_version": "1.2.0",
            "_model_name": "LayoutModel",
            "_view_count": null,
            "_view_module": "@jupyter-widgets/base",
            "_view_module_version": "1.2.0",
            "_view_name": "LayoutView",
            "align_content": null,
            "align_items": null,
            "align_self": null,
            "border": null,
            "bottom": null,
            "display": null,
            "flex": null,
            "flex_flow": null,
            "grid_area": null,
            "grid_auto_columns": null,
            "grid_auto_flow": null,
            "grid_auto_rows": null,
            "grid_column": null,
            "grid_gap": null,
            "grid_row": null,
            "grid_template_areas": null,
            "grid_template_columns": null,
            "grid_template_rows": null,
            "height": null,
            "justify_content": null,
            "justify_items": null,
            "left": null,
            "margin": null,
            "max_height": null,
            "max_width": null,
            "min_height": null,
            "min_width": null,
            "object_fit": null,
            "object_position": null,
            "order": null,
            "overflow": null,
            "overflow_x": null,
            "overflow_y": null,
            "padding": null,
            "right": null,
            "top": null,
            "visibility": null,
            "width": null
          }
        },
        "2ecab8f7a2f5423994ee98a20150703d": {
          "model_module": "@jupyter-widgets/base",
          "model_name": "LayoutModel",
          "model_module_version": "1.2.0",
          "state": {
            "_model_module": "@jupyter-widgets/base",
            "_model_module_version": "1.2.0",
            "_model_name": "LayoutModel",
            "_view_count": null,
            "_view_module": "@jupyter-widgets/base",
            "_view_module_version": "1.2.0",
            "_view_name": "LayoutView",
            "align_content": null,
            "align_items": null,
            "align_self": null,
            "border": null,
            "bottom": null,
            "display": null,
            "flex": null,
            "flex_flow": null,
            "grid_area": null,
            "grid_auto_columns": null,
            "grid_auto_flow": null,
            "grid_auto_rows": null,
            "grid_column": null,
            "grid_gap": null,
            "grid_row": null,
            "grid_template_areas": null,
            "grid_template_columns": null,
            "grid_template_rows": null,
            "height": null,
            "justify_content": null,
            "justify_items": null,
            "left": null,
            "margin": null,
            "max_height": null,
            "max_width": null,
            "min_height": null,
            "min_width": null,
            "object_fit": null,
            "object_position": null,
            "order": null,
            "overflow": null,
            "overflow_x": null,
            "overflow_y": null,
            "padding": null,
            "right": null,
            "top": null,
            "visibility": null,
            "width": null
          }
        },
        "567cf2c06e024f8da2c48caaf2cad750": {
          "model_module": "@jupyter-widgets/controls",
          "model_name": "DescriptionStyleModel",
          "model_module_version": "1.5.0",
          "state": {
            "_model_module": "@jupyter-widgets/controls",
            "_model_module_version": "1.5.0",
            "_model_name": "DescriptionStyleModel",
            "_view_count": null,
            "_view_module": "@jupyter-widgets/base",
            "_view_module_version": "1.2.0",
            "_view_name": "StyleView",
            "description_width": ""
          }
        },
        "a46f8d8fd43945c6a820dd3ac4fd02f7": {
          "model_module": "@jupyter-widgets/base",
          "model_name": "LayoutModel",
          "model_module_version": "1.2.0",
          "state": {
            "_model_module": "@jupyter-widgets/base",
            "_model_module_version": "1.2.0",
            "_model_name": "LayoutModel",
            "_view_count": null,
            "_view_module": "@jupyter-widgets/base",
            "_view_module_version": "1.2.0",
            "_view_name": "LayoutView",
            "align_content": null,
            "align_items": null,
            "align_self": null,
            "border": null,
            "bottom": null,
            "display": null,
            "flex": null,
            "flex_flow": null,
            "grid_area": null,
            "grid_auto_columns": null,
            "grid_auto_flow": null,
            "grid_auto_rows": null,
            "grid_column": null,
            "grid_gap": null,
            "grid_row": null,
            "grid_template_areas": null,
            "grid_template_columns": null,
            "grid_template_rows": null,
            "height": null,
            "justify_content": null,
            "justify_items": null,
            "left": null,
            "margin": null,
            "max_height": null,
            "max_width": null,
            "min_height": null,
            "min_width": null,
            "object_fit": null,
            "object_position": null,
            "order": null,
            "overflow": null,
            "overflow_x": null,
            "overflow_y": null,
            "padding": null,
            "right": null,
            "top": null,
            "visibility": null,
            "width": null
          }
        },
        "f6133435dc1c4e11be9367b70e12754a": {
          "model_module": "@jupyter-widgets/controls",
          "model_name": "ProgressStyleModel",
          "model_module_version": "1.5.0",
          "state": {
            "_model_module": "@jupyter-widgets/controls",
            "_model_module_version": "1.5.0",
            "_model_name": "ProgressStyleModel",
            "_view_count": null,
            "_view_module": "@jupyter-widgets/base",
            "_view_module_version": "1.2.0",
            "_view_name": "StyleView",
            "bar_color": null,
            "description_width": ""
          }
        },
        "c3ece073d7d5472d92b6a092b4ea2abe": {
          "model_module": "@jupyter-widgets/base",
          "model_name": "LayoutModel",
          "model_module_version": "1.2.0",
          "state": {
            "_model_module": "@jupyter-widgets/base",
            "_model_module_version": "1.2.0",
            "_model_name": "LayoutModel",
            "_view_count": null,
            "_view_module": "@jupyter-widgets/base",
            "_view_module_version": "1.2.0",
            "_view_name": "LayoutView",
            "align_content": null,
            "align_items": null,
            "align_self": null,
            "border": null,
            "bottom": null,
            "display": null,
            "flex": null,
            "flex_flow": null,
            "grid_area": null,
            "grid_auto_columns": null,
            "grid_auto_flow": null,
            "grid_auto_rows": null,
            "grid_column": null,
            "grid_gap": null,
            "grid_row": null,
            "grid_template_areas": null,
            "grid_template_columns": null,
            "grid_template_rows": null,
            "height": null,
            "justify_content": null,
            "justify_items": null,
            "left": null,
            "margin": null,
            "max_height": null,
            "max_width": null,
            "min_height": null,
            "min_width": null,
            "object_fit": null,
            "object_position": null,
            "order": null,
            "overflow": null,
            "overflow_x": null,
            "overflow_y": null,
            "padding": null,
            "right": null,
            "top": null,
            "visibility": null,
            "width": null
          }
        },
        "b85b5243e7084e3c819e9f58d5c0efa6": {
          "model_module": "@jupyter-widgets/controls",
          "model_name": "DescriptionStyleModel",
          "model_module_version": "1.5.0",
          "state": {
            "_model_module": "@jupyter-widgets/controls",
            "_model_module_version": "1.5.0",
            "_model_name": "DescriptionStyleModel",
            "_view_count": null,
            "_view_module": "@jupyter-widgets/base",
            "_view_module_version": "1.2.0",
            "_view_name": "StyleView",
            "description_width": ""
          }
        },
        "9bdf44765fbf457493a475d8b4610c7a": {
          "model_module": "@jupyter-widgets/controls",
          "model_name": "HBoxModel",
          "model_module_version": "1.5.0",
          "state": {
            "_dom_classes": [],
            "_model_module": "@jupyter-widgets/controls",
            "_model_module_version": "1.5.0",
            "_model_name": "HBoxModel",
            "_view_count": null,
            "_view_module": "@jupyter-widgets/controls",
            "_view_module_version": "1.5.0",
            "_view_name": "HBoxView",
            "box_style": "",
            "children": [
              "IPY_MODEL_238c556788574f8484363c6b8bde7880",
              "IPY_MODEL_30c1ba262da541b3935b3d8de035af0e",
              "IPY_MODEL_1ff2c90248564010af6cf30d8a06c573"
            ],
            "layout": "IPY_MODEL_076ff3a6c383427097a23da2f2113250"
          }
        },
        "238c556788574f8484363c6b8bde7880": {
          "model_module": "@jupyter-widgets/controls",
          "model_name": "HTMLModel",
          "model_module_version": "1.5.0",
          "state": {
            "_dom_classes": [],
            "_model_module": "@jupyter-widgets/controls",
            "_model_module_version": "1.5.0",
            "_model_name": "HTMLModel",
            "_view_count": null,
            "_view_module": "@jupyter-widgets/controls",
            "_view_module_version": "1.5.0",
            "_view_name": "HTMLView",
            "description": "",
            "description_tooltip": null,
            "layout": "IPY_MODEL_3cec86293b7f4a45b9faede0902763e3",
            "placeholder": "​",
            "style": "IPY_MODEL_25676f37744148a09a8a4851969fa4bd",
            "value": "generation_config.json: 100%"
          }
        },
        "30c1ba262da541b3935b3d8de035af0e": {
          "model_module": "@jupyter-widgets/controls",
          "model_name": "FloatProgressModel",
          "model_module_version": "1.5.0",
          "state": {
            "_dom_classes": [],
            "_model_module": "@jupyter-widgets/controls",
            "_model_module_version": "1.5.0",
            "_model_name": "FloatProgressModel",
            "_view_count": null,
            "_view_module": "@jupyter-widgets/controls",
            "_view_module_version": "1.5.0",
            "_view_name": "ProgressView",
            "bar_style": "success",
            "description": "",
            "description_tooltip": null,
            "layout": "IPY_MODEL_104f0dca71ab454687c0b393366dfecb",
            "max": 124,
            "min": 0,
            "orientation": "horizontal",
            "style": "IPY_MODEL_953c1be60ec44eca9752bb4d69319a01",
            "value": 124
          }
        },
        "1ff2c90248564010af6cf30d8a06c573": {
          "model_module": "@jupyter-widgets/controls",
          "model_name": "HTMLModel",
          "model_module_version": "1.5.0",
          "state": {
            "_dom_classes": [],
            "_model_module": "@jupyter-widgets/controls",
            "_model_module_version": "1.5.0",
            "_model_name": "HTMLModel",
            "_view_count": null,
            "_view_module": "@jupyter-widgets/controls",
            "_view_module_version": "1.5.0",
            "_view_name": "HTMLView",
            "description": "",
            "description_tooltip": null,
            "layout": "IPY_MODEL_768d45d761ac4d64a5b3a36a70786e27",
            "placeholder": "​",
            "style": "IPY_MODEL_d87c8cb54f5746d2b80ad8def23ceeca",
            "value": " 124/124 [00:00&lt;00:00, 8.83kB/s]"
          }
        },
        "076ff3a6c383427097a23da2f2113250": {
          "model_module": "@jupyter-widgets/base",
          "model_name": "LayoutModel",
          "model_module_version": "1.2.0",
          "state": {
            "_model_module": "@jupyter-widgets/base",
            "_model_module_version": "1.2.0",
            "_model_name": "LayoutModel",
            "_view_count": null,
            "_view_module": "@jupyter-widgets/base",
            "_view_module_version": "1.2.0",
            "_view_name": "LayoutView",
            "align_content": null,
            "align_items": null,
            "align_self": null,
            "border": null,
            "bottom": null,
            "display": null,
            "flex": null,
            "flex_flow": null,
            "grid_area": null,
            "grid_auto_columns": null,
            "grid_auto_flow": null,
            "grid_auto_rows": null,
            "grid_column": null,
            "grid_gap": null,
            "grid_row": null,
            "grid_template_areas": null,
            "grid_template_columns": null,
            "grid_template_rows": null,
            "height": null,
            "justify_content": null,
            "justify_items": null,
            "left": null,
            "margin": null,
            "max_height": null,
            "max_width": null,
            "min_height": null,
            "min_width": null,
            "object_fit": null,
            "object_position": null,
            "order": null,
            "overflow": null,
            "overflow_x": null,
            "overflow_y": null,
            "padding": null,
            "right": null,
            "top": null,
            "visibility": null,
            "width": null
          }
        },
        "3cec86293b7f4a45b9faede0902763e3": {
          "model_module": "@jupyter-widgets/base",
          "model_name": "LayoutModel",
          "model_module_version": "1.2.0",
          "state": {
            "_model_module": "@jupyter-widgets/base",
            "_model_module_version": "1.2.0",
            "_model_name": "LayoutModel",
            "_view_count": null,
            "_view_module": "@jupyter-widgets/base",
            "_view_module_version": "1.2.0",
            "_view_name": "LayoutView",
            "align_content": null,
            "align_items": null,
            "align_self": null,
            "border": null,
            "bottom": null,
            "display": null,
            "flex": null,
            "flex_flow": null,
            "grid_area": null,
            "grid_auto_columns": null,
            "grid_auto_flow": null,
            "grid_auto_rows": null,
            "grid_column": null,
            "grid_gap": null,
            "grid_row": null,
            "grid_template_areas": null,
            "grid_template_columns": null,
            "grid_template_rows": null,
            "height": null,
            "justify_content": null,
            "justify_items": null,
            "left": null,
            "margin": null,
            "max_height": null,
            "max_width": null,
            "min_height": null,
            "min_width": null,
            "object_fit": null,
            "object_position": null,
            "order": null,
            "overflow": null,
            "overflow_x": null,
            "overflow_y": null,
            "padding": null,
            "right": null,
            "top": null,
            "visibility": null,
            "width": null
          }
        },
        "25676f37744148a09a8a4851969fa4bd": {
          "model_module": "@jupyter-widgets/controls",
          "model_name": "DescriptionStyleModel",
          "model_module_version": "1.5.0",
          "state": {
            "_model_module": "@jupyter-widgets/controls",
            "_model_module_version": "1.5.0",
            "_model_name": "DescriptionStyleModel",
            "_view_count": null,
            "_view_module": "@jupyter-widgets/base",
            "_view_module_version": "1.2.0",
            "_view_name": "StyleView",
            "description_width": ""
          }
        },
        "104f0dca71ab454687c0b393366dfecb": {
          "model_module": "@jupyter-widgets/base",
          "model_name": "LayoutModel",
          "model_module_version": "1.2.0",
          "state": {
            "_model_module": "@jupyter-widgets/base",
            "_model_module_version": "1.2.0",
            "_model_name": "LayoutModel",
            "_view_count": null,
            "_view_module": "@jupyter-widgets/base",
            "_view_module_version": "1.2.0",
            "_view_name": "LayoutView",
            "align_content": null,
            "align_items": null,
            "align_self": null,
            "border": null,
            "bottom": null,
            "display": null,
            "flex": null,
            "flex_flow": null,
            "grid_area": null,
            "grid_auto_columns": null,
            "grid_auto_flow": null,
            "grid_auto_rows": null,
            "grid_column": null,
            "grid_gap": null,
            "grid_row": null,
            "grid_template_areas": null,
            "grid_template_columns": null,
            "grid_template_rows": null,
            "height": null,
            "justify_content": null,
            "justify_items": null,
            "left": null,
            "margin": null,
            "max_height": null,
            "max_width": null,
            "min_height": null,
            "min_width": null,
            "object_fit": null,
            "object_position": null,
            "order": null,
            "overflow": null,
            "overflow_x": null,
            "overflow_y": null,
            "padding": null,
            "right": null,
            "top": null,
            "visibility": null,
            "width": null
          }
        },
        "953c1be60ec44eca9752bb4d69319a01": {
          "model_module": "@jupyter-widgets/controls",
          "model_name": "ProgressStyleModel",
          "model_module_version": "1.5.0",
          "state": {
            "_model_module": "@jupyter-widgets/controls",
            "_model_module_version": "1.5.0",
            "_model_name": "ProgressStyleModel",
            "_view_count": null,
            "_view_module": "@jupyter-widgets/base",
            "_view_module_version": "1.2.0",
            "_view_name": "StyleView",
            "bar_color": null,
            "description_width": ""
          }
        },
        "768d45d761ac4d64a5b3a36a70786e27": {
          "model_module": "@jupyter-widgets/base",
          "model_name": "LayoutModel",
          "model_module_version": "1.2.0",
          "state": {
            "_model_module": "@jupyter-widgets/base",
            "_model_module_version": "1.2.0",
            "_model_name": "LayoutModel",
            "_view_count": null,
            "_view_module": "@jupyter-widgets/base",
            "_view_module_version": "1.2.0",
            "_view_name": "LayoutView",
            "align_content": null,
            "align_items": null,
            "align_self": null,
            "border": null,
            "bottom": null,
            "display": null,
            "flex": null,
            "flex_flow": null,
            "grid_area": null,
            "grid_auto_columns": null,
            "grid_auto_flow": null,
            "grid_auto_rows": null,
            "grid_column": null,
            "grid_gap": null,
            "grid_row": null,
            "grid_template_areas": null,
            "grid_template_columns": null,
            "grid_template_rows": null,
            "height": null,
            "justify_content": null,
            "justify_items": null,
            "left": null,
            "margin": null,
            "max_height": null,
            "max_width": null,
            "min_height": null,
            "min_width": null,
            "object_fit": null,
            "object_position": null,
            "order": null,
            "overflow": null,
            "overflow_x": null,
            "overflow_y": null,
            "padding": null,
            "right": null,
            "top": null,
            "visibility": null,
            "width": null
          }
        },
        "d87c8cb54f5746d2b80ad8def23ceeca": {
          "model_module": "@jupyter-widgets/controls",
          "model_name": "DescriptionStyleModel",
          "model_module_version": "1.5.0",
          "state": {
            "_model_module": "@jupyter-widgets/controls",
            "_model_module_version": "1.5.0",
            "_model_name": "DescriptionStyleModel",
            "_view_count": null,
            "_view_module": "@jupyter-widgets/base",
            "_view_module_version": "1.2.0",
            "_view_name": "StyleView",
            "description_width": ""
          }
        },
        "f9a30429de5b4038a1ab946503e600e9": {
          "model_module": "@jupyter-widgets/controls",
          "model_name": "HBoxModel",
          "model_module_version": "1.5.0",
          "state": {
            "_dom_classes": [],
            "_model_module": "@jupyter-widgets/controls",
            "_model_module_version": "1.5.0",
            "_model_name": "HBoxModel",
            "_view_count": null,
            "_view_module": "@jupyter-widgets/controls",
            "_view_module_version": "1.5.0",
            "_view_name": "HBoxView",
            "box_style": "",
            "children": [
              "IPY_MODEL_fb12350bf0034fe4999e6c7c1086802f",
              "IPY_MODEL_0d68e8156136420092e8e9a578336c0b",
              "IPY_MODEL_5216ee504d874fc2aa0934bfd7ee3150"
            ],
            "layout": "IPY_MODEL_e53e81c6b16c4b778924e90fb7467a7d"
          }
        },
        "fb12350bf0034fe4999e6c7c1086802f": {
          "model_module": "@jupyter-widgets/controls",
          "model_name": "HTMLModel",
          "model_module_version": "1.5.0",
          "state": {
            "_dom_classes": [],
            "_model_module": "@jupyter-widgets/controls",
            "_model_module_version": "1.5.0",
            "_model_name": "HTMLModel",
            "_view_count": null,
            "_view_module": "@jupyter-widgets/controls",
            "_view_module_version": "1.5.0",
            "_view_name": "HTMLView",
            "description": "",
            "description_tooltip": null,
            "layout": "IPY_MODEL_96d927bad74f4484a01e8eaad3a6d71d",
            "placeholder": "​",
            "style": "IPY_MODEL_8f2afe085b5e499d9dd342d1d698bb71",
            "value": "tokenizer_config.json: 100%"
          }
        },
        "0d68e8156136420092e8e9a578336c0b": {
          "model_module": "@jupyter-widgets/controls",
          "model_name": "FloatProgressModel",
          "model_module_version": "1.5.0",
          "state": {
            "_dom_classes": [],
            "_model_module": "@jupyter-widgets/controls",
            "_model_module_version": "1.5.0",
            "_model_name": "FloatProgressModel",
            "_view_count": null,
            "_view_module": "@jupyter-widgets/controls",
            "_view_module_version": "1.5.0",
            "_view_name": "ProgressView",
            "bar_style": "success",
            "description": "",
            "description_tooltip": null,
            "layout": "IPY_MODEL_7b02375247c74e868d73dff876e6025d",
            "max": 26,
            "min": 0,
            "orientation": "horizontal",
            "style": "IPY_MODEL_bc882116c53542c69ab5f1dfccf474a5",
            "value": 26
          }
        },
        "5216ee504d874fc2aa0934bfd7ee3150": {
          "model_module": "@jupyter-widgets/controls",
          "model_name": "HTMLModel",
          "model_module_version": "1.5.0",
          "state": {
            "_dom_classes": [],
            "_model_module": "@jupyter-widgets/controls",
            "_model_module_version": "1.5.0",
            "_model_name": "HTMLModel",
            "_view_count": null,
            "_view_module": "@jupyter-widgets/controls",
            "_view_module_version": "1.5.0",
            "_view_name": "HTMLView",
            "description": "",
            "description_tooltip": null,
            "layout": "IPY_MODEL_9edf06d6d0e84f71823bed4f8983f609",
            "placeholder": "​",
            "style": "IPY_MODEL_d80b897f932947d395e9a9d0ad1ffa27",
            "value": " 26.0/26.0 [00:00&lt;00:00, 2.00kB/s]"
          }
        },
        "e53e81c6b16c4b778924e90fb7467a7d": {
          "model_module": "@jupyter-widgets/base",
          "model_name": "LayoutModel",
          "model_module_version": "1.2.0",
          "state": {
            "_model_module": "@jupyter-widgets/base",
            "_model_module_version": "1.2.0",
            "_model_name": "LayoutModel",
            "_view_count": null,
            "_view_module": "@jupyter-widgets/base",
            "_view_module_version": "1.2.0",
            "_view_name": "LayoutView",
            "align_content": null,
            "align_items": null,
            "align_self": null,
            "border": null,
            "bottom": null,
            "display": null,
            "flex": null,
            "flex_flow": null,
            "grid_area": null,
            "grid_auto_columns": null,
            "grid_auto_flow": null,
            "grid_auto_rows": null,
            "grid_column": null,
            "grid_gap": null,
            "grid_row": null,
            "grid_template_areas": null,
            "grid_template_columns": null,
            "grid_template_rows": null,
            "height": null,
            "justify_content": null,
            "justify_items": null,
            "left": null,
            "margin": null,
            "max_height": null,
            "max_width": null,
            "min_height": null,
            "min_width": null,
            "object_fit": null,
            "object_position": null,
            "order": null,
            "overflow": null,
            "overflow_x": null,
            "overflow_y": null,
            "padding": null,
            "right": null,
            "top": null,
            "visibility": null,
            "width": null
          }
        },
        "96d927bad74f4484a01e8eaad3a6d71d": {
          "model_module": "@jupyter-widgets/base",
          "model_name": "LayoutModel",
          "model_module_version": "1.2.0",
          "state": {
            "_model_module": "@jupyter-widgets/base",
            "_model_module_version": "1.2.0",
            "_model_name": "LayoutModel",
            "_view_count": null,
            "_view_module": "@jupyter-widgets/base",
            "_view_module_version": "1.2.0",
            "_view_name": "LayoutView",
            "align_content": null,
            "align_items": null,
            "align_self": null,
            "border": null,
            "bottom": null,
            "display": null,
            "flex": null,
            "flex_flow": null,
            "grid_area": null,
            "grid_auto_columns": null,
            "grid_auto_flow": null,
            "grid_auto_rows": null,
            "grid_column": null,
            "grid_gap": null,
            "grid_row": null,
            "grid_template_areas": null,
            "grid_template_columns": null,
            "grid_template_rows": null,
            "height": null,
            "justify_content": null,
            "justify_items": null,
            "left": null,
            "margin": null,
            "max_height": null,
            "max_width": null,
            "min_height": null,
            "min_width": null,
            "object_fit": null,
            "object_position": null,
            "order": null,
            "overflow": null,
            "overflow_x": null,
            "overflow_y": null,
            "padding": null,
            "right": null,
            "top": null,
            "visibility": null,
            "width": null
          }
        },
        "8f2afe085b5e499d9dd342d1d698bb71": {
          "model_module": "@jupyter-widgets/controls",
          "model_name": "DescriptionStyleModel",
          "model_module_version": "1.5.0",
          "state": {
            "_model_module": "@jupyter-widgets/controls",
            "_model_module_version": "1.5.0",
            "_model_name": "DescriptionStyleModel",
            "_view_count": null,
            "_view_module": "@jupyter-widgets/base",
            "_view_module_version": "1.2.0",
            "_view_name": "StyleView",
            "description_width": ""
          }
        },
        "7b02375247c74e868d73dff876e6025d": {
          "model_module": "@jupyter-widgets/base",
          "model_name": "LayoutModel",
          "model_module_version": "1.2.0",
          "state": {
            "_model_module": "@jupyter-widgets/base",
            "_model_module_version": "1.2.0",
            "_model_name": "LayoutModel",
            "_view_count": null,
            "_view_module": "@jupyter-widgets/base",
            "_view_module_version": "1.2.0",
            "_view_name": "LayoutView",
            "align_content": null,
            "align_items": null,
            "align_self": null,
            "border": null,
            "bottom": null,
            "display": null,
            "flex": null,
            "flex_flow": null,
            "grid_area": null,
            "grid_auto_columns": null,
            "grid_auto_flow": null,
            "grid_auto_rows": null,
            "grid_column": null,
            "grid_gap": null,
            "grid_row": null,
            "grid_template_areas": null,
            "grid_template_columns": null,
            "grid_template_rows": null,
            "height": null,
            "justify_content": null,
            "justify_items": null,
            "left": null,
            "margin": null,
            "max_height": null,
            "max_width": null,
            "min_height": null,
            "min_width": null,
            "object_fit": null,
            "object_position": null,
            "order": null,
            "overflow": null,
            "overflow_x": null,
            "overflow_y": null,
            "padding": null,
            "right": null,
            "top": null,
            "visibility": null,
            "width": null
          }
        },
        "bc882116c53542c69ab5f1dfccf474a5": {
          "model_module": "@jupyter-widgets/controls",
          "model_name": "ProgressStyleModel",
          "model_module_version": "1.5.0",
          "state": {
            "_model_module": "@jupyter-widgets/controls",
            "_model_module_version": "1.5.0",
            "_model_name": "ProgressStyleModel",
            "_view_count": null,
            "_view_module": "@jupyter-widgets/base",
            "_view_module_version": "1.2.0",
            "_view_name": "StyleView",
            "bar_color": null,
            "description_width": ""
          }
        },
        "9edf06d6d0e84f71823bed4f8983f609": {
          "model_module": "@jupyter-widgets/base",
          "model_name": "LayoutModel",
          "model_module_version": "1.2.0",
          "state": {
            "_model_module": "@jupyter-widgets/base",
            "_model_module_version": "1.2.0",
            "_model_name": "LayoutModel",
            "_view_count": null,
            "_view_module": "@jupyter-widgets/base",
            "_view_module_version": "1.2.0",
            "_view_name": "LayoutView",
            "align_content": null,
            "align_items": null,
            "align_self": null,
            "border": null,
            "bottom": null,
            "display": null,
            "flex": null,
            "flex_flow": null,
            "grid_area": null,
            "grid_auto_columns": null,
            "grid_auto_flow": null,
            "grid_auto_rows": null,
            "grid_column": null,
            "grid_gap": null,
            "grid_row": null,
            "grid_template_areas": null,
            "grid_template_columns": null,
            "grid_template_rows": null,
            "height": null,
            "justify_content": null,
            "justify_items": null,
            "left": null,
            "margin": null,
            "max_height": null,
            "max_width": null,
            "min_height": null,
            "min_width": null,
            "object_fit": null,
            "object_position": null,
            "order": null,
            "overflow": null,
            "overflow_x": null,
            "overflow_y": null,
            "padding": null,
            "right": null,
            "top": null,
            "visibility": null,
            "width": null
          }
        },
        "d80b897f932947d395e9a9d0ad1ffa27": {
          "model_module": "@jupyter-widgets/controls",
          "model_name": "DescriptionStyleModel",
          "model_module_version": "1.5.0",
          "state": {
            "_model_module": "@jupyter-widgets/controls",
            "_model_module_version": "1.5.0",
            "_model_name": "DescriptionStyleModel",
            "_view_count": null,
            "_view_module": "@jupyter-widgets/base",
            "_view_module_version": "1.2.0",
            "_view_name": "StyleView",
            "description_width": ""
          }
        },
        "7bbdec4fc38441e5b69c853bbc5ebb85": {
          "model_module": "@jupyter-widgets/controls",
          "model_name": "HBoxModel",
          "model_module_version": "1.5.0",
          "state": {
            "_dom_classes": [],
            "_model_module": "@jupyter-widgets/controls",
            "_model_module_version": "1.5.0",
            "_model_name": "HBoxModel",
            "_view_count": null,
            "_view_module": "@jupyter-widgets/controls",
            "_view_module_version": "1.5.0",
            "_view_name": "HBoxView",
            "box_style": "",
            "children": [
              "IPY_MODEL_6ce8226a1c8340788e4c6d80629d863a",
              "IPY_MODEL_95c8ac834ab8417a887c47f5fba695e0",
              "IPY_MODEL_8ad917a30b39412db97f74ed16685b23"
            ],
            "layout": "IPY_MODEL_c1a45498f8a748d4bc25316d34facb84"
          }
        },
        "6ce8226a1c8340788e4c6d80629d863a": {
          "model_module": "@jupyter-widgets/controls",
          "model_name": "HTMLModel",
          "model_module_version": "1.5.0",
          "state": {
            "_dom_classes": [],
            "_model_module": "@jupyter-widgets/controls",
            "_model_module_version": "1.5.0",
            "_model_name": "HTMLModel",
            "_view_count": null,
            "_view_module": "@jupyter-widgets/controls",
            "_view_module_version": "1.5.0",
            "_view_name": "HTMLView",
            "description": "",
            "description_tooltip": null,
            "layout": "IPY_MODEL_3925defc8fe743ae8eb4f7573d848bf1",
            "placeholder": "​",
            "style": "IPY_MODEL_45ed0ed688624acd9ea63ed70a07f125",
            "value": "vocab.json: 100%"
          }
        },
        "95c8ac834ab8417a887c47f5fba695e0": {
          "model_module": "@jupyter-widgets/controls",
          "model_name": "FloatProgressModel",
          "model_module_version": "1.5.0",
          "state": {
            "_dom_classes": [],
            "_model_module": "@jupyter-widgets/controls",
            "_model_module_version": "1.5.0",
            "_model_name": "FloatProgressModel",
            "_view_count": null,
            "_view_module": "@jupyter-widgets/controls",
            "_view_module_version": "1.5.0",
            "_view_name": "ProgressView",
            "bar_style": "success",
            "description": "",
            "description_tooltip": null,
            "layout": "IPY_MODEL_0728aeaeb25945cab5ff8da00e26dea3",
            "max": 1042301,
            "min": 0,
            "orientation": "horizontal",
            "style": "IPY_MODEL_fb8a07c6e2f94d9b94f938888d197c6e",
            "value": 1042301
          }
        },
        "8ad917a30b39412db97f74ed16685b23": {
          "model_module": "@jupyter-widgets/controls",
          "model_name": "HTMLModel",
          "model_module_version": "1.5.0",
          "state": {
            "_dom_classes": [],
            "_model_module": "@jupyter-widgets/controls",
            "_model_module_version": "1.5.0",
            "_model_name": "HTMLModel",
            "_view_count": null,
            "_view_module": "@jupyter-widgets/controls",
            "_view_module_version": "1.5.0",
            "_view_name": "HTMLView",
            "description": "",
            "description_tooltip": null,
            "layout": "IPY_MODEL_e729c3d288d6462488502f89bca17563",
            "placeholder": "​",
            "style": "IPY_MODEL_38542b4497134f4aa245391d19fa9ab3",
            "value": " 1.04M/1.04M [00:00&lt;00:00, 10.4MB/s]"
          }
        },
        "c1a45498f8a748d4bc25316d34facb84": {
          "model_module": "@jupyter-widgets/base",
          "model_name": "LayoutModel",
          "model_module_version": "1.2.0",
          "state": {
            "_model_module": "@jupyter-widgets/base",
            "_model_module_version": "1.2.0",
            "_model_name": "LayoutModel",
            "_view_count": null,
            "_view_module": "@jupyter-widgets/base",
            "_view_module_version": "1.2.0",
            "_view_name": "LayoutView",
            "align_content": null,
            "align_items": null,
            "align_self": null,
            "border": null,
            "bottom": null,
            "display": null,
            "flex": null,
            "flex_flow": null,
            "grid_area": null,
            "grid_auto_columns": null,
            "grid_auto_flow": null,
            "grid_auto_rows": null,
            "grid_column": null,
            "grid_gap": null,
            "grid_row": null,
            "grid_template_areas": null,
            "grid_template_columns": null,
            "grid_template_rows": null,
            "height": null,
            "justify_content": null,
            "justify_items": null,
            "left": null,
            "margin": null,
            "max_height": null,
            "max_width": null,
            "min_height": null,
            "min_width": null,
            "object_fit": null,
            "object_position": null,
            "order": null,
            "overflow": null,
            "overflow_x": null,
            "overflow_y": null,
            "padding": null,
            "right": null,
            "top": null,
            "visibility": null,
            "width": null
          }
        },
        "3925defc8fe743ae8eb4f7573d848bf1": {
          "model_module": "@jupyter-widgets/base",
          "model_name": "LayoutModel",
          "model_module_version": "1.2.0",
          "state": {
            "_model_module": "@jupyter-widgets/base",
            "_model_module_version": "1.2.0",
            "_model_name": "LayoutModel",
            "_view_count": null,
            "_view_module": "@jupyter-widgets/base",
            "_view_module_version": "1.2.0",
            "_view_name": "LayoutView",
            "align_content": null,
            "align_items": null,
            "align_self": null,
            "border": null,
            "bottom": null,
            "display": null,
            "flex": null,
            "flex_flow": null,
            "grid_area": null,
            "grid_auto_columns": null,
            "grid_auto_flow": null,
            "grid_auto_rows": null,
            "grid_column": null,
            "grid_gap": null,
            "grid_row": null,
            "grid_template_areas": null,
            "grid_template_columns": null,
            "grid_template_rows": null,
            "height": null,
            "justify_content": null,
            "justify_items": null,
            "left": null,
            "margin": null,
            "max_height": null,
            "max_width": null,
            "min_height": null,
            "min_width": null,
            "object_fit": null,
            "object_position": null,
            "order": null,
            "overflow": null,
            "overflow_x": null,
            "overflow_y": null,
            "padding": null,
            "right": null,
            "top": null,
            "visibility": null,
            "width": null
          }
        },
        "45ed0ed688624acd9ea63ed70a07f125": {
          "model_module": "@jupyter-widgets/controls",
          "model_name": "DescriptionStyleModel",
          "model_module_version": "1.5.0",
          "state": {
            "_model_module": "@jupyter-widgets/controls",
            "_model_module_version": "1.5.0",
            "_model_name": "DescriptionStyleModel",
            "_view_count": null,
            "_view_module": "@jupyter-widgets/base",
            "_view_module_version": "1.2.0",
            "_view_name": "StyleView",
            "description_width": ""
          }
        },
        "0728aeaeb25945cab5ff8da00e26dea3": {
          "model_module": "@jupyter-widgets/base",
          "model_name": "LayoutModel",
          "model_module_version": "1.2.0",
          "state": {
            "_model_module": "@jupyter-widgets/base",
            "_model_module_version": "1.2.0",
            "_model_name": "LayoutModel",
            "_view_count": null,
            "_view_module": "@jupyter-widgets/base",
            "_view_module_version": "1.2.0",
            "_view_name": "LayoutView",
            "align_content": null,
            "align_items": null,
            "align_self": null,
            "border": null,
            "bottom": null,
            "display": null,
            "flex": null,
            "flex_flow": null,
            "grid_area": null,
            "grid_auto_columns": null,
            "grid_auto_flow": null,
            "grid_auto_rows": null,
            "grid_column": null,
            "grid_gap": null,
            "grid_row": null,
            "grid_template_areas": null,
            "grid_template_columns": null,
            "grid_template_rows": null,
            "height": null,
            "justify_content": null,
            "justify_items": null,
            "left": null,
            "margin": null,
            "max_height": null,
            "max_width": null,
            "min_height": null,
            "min_width": null,
            "object_fit": null,
            "object_position": null,
            "order": null,
            "overflow": null,
            "overflow_x": null,
            "overflow_y": null,
            "padding": null,
            "right": null,
            "top": null,
            "visibility": null,
            "width": null
          }
        },
        "fb8a07c6e2f94d9b94f938888d197c6e": {
          "model_module": "@jupyter-widgets/controls",
          "model_name": "ProgressStyleModel",
          "model_module_version": "1.5.0",
          "state": {
            "_model_module": "@jupyter-widgets/controls",
            "_model_module_version": "1.5.0",
            "_model_name": "ProgressStyleModel",
            "_view_count": null,
            "_view_module": "@jupyter-widgets/base",
            "_view_module_version": "1.2.0",
            "_view_name": "StyleView",
            "bar_color": null,
            "description_width": ""
          }
        },
        "e729c3d288d6462488502f89bca17563": {
          "model_module": "@jupyter-widgets/base",
          "model_name": "LayoutModel",
          "model_module_version": "1.2.0",
          "state": {
            "_model_module": "@jupyter-widgets/base",
            "_model_module_version": "1.2.0",
            "_model_name": "LayoutModel",
            "_view_count": null,
            "_view_module": "@jupyter-widgets/base",
            "_view_module_version": "1.2.0",
            "_view_name": "LayoutView",
            "align_content": null,
            "align_items": null,
            "align_self": null,
            "border": null,
            "bottom": null,
            "display": null,
            "flex": null,
            "flex_flow": null,
            "grid_area": null,
            "grid_auto_columns": null,
            "grid_auto_flow": null,
            "grid_auto_rows": null,
            "grid_column": null,
            "grid_gap": null,
            "grid_row": null,
            "grid_template_areas": null,
            "grid_template_columns": null,
            "grid_template_rows": null,
            "height": null,
            "justify_content": null,
            "justify_items": null,
            "left": null,
            "margin": null,
            "max_height": null,
            "max_width": null,
            "min_height": null,
            "min_width": null,
            "object_fit": null,
            "object_position": null,
            "order": null,
            "overflow": null,
            "overflow_x": null,
            "overflow_y": null,
            "padding": null,
            "right": null,
            "top": null,
            "visibility": null,
            "width": null
          }
        },
        "38542b4497134f4aa245391d19fa9ab3": {
          "model_module": "@jupyter-widgets/controls",
          "model_name": "DescriptionStyleModel",
          "model_module_version": "1.5.0",
          "state": {
            "_model_module": "@jupyter-widgets/controls",
            "_model_module_version": "1.5.0",
            "_model_name": "DescriptionStyleModel",
            "_view_count": null,
            "_view_module": "@jupyter-widgets/base",
            "_view_module_version": "1.2.0",
            "_view_name": "StyleView",
            "description_width": ""
          }
        },
        "d5248c2e664b42109fa9b467934242a6": {
          "model_module": "@jupyter-widgets/controls",
          "model_name": "HBoxModel",
          "model_module_version": "1.5.0",
          "state": {
            "_dom_classes": [],
            "_model_module": "@jupyter-widgets/controls",
            "_model_module_version": "1.5.0",
            "_model_name": "HBoxModel",
            "_view_count": null,
            "_view_module": "@jupyter-widgets/controls",
            "_view_module_version": "1.5.0",
            "_view_name": "HBoxView",
            "box_style": "",
            "children": [
              "IPY_MODEL_32e2e75154094eee9078abb41bf75418",
              "IPY_MODEL_9e9a0f72aa3d45aaa631fa1e2c8c31e4",
              "IPY_MODEL_e3f983bf20304f5d80a28c798102c879"
            ],
            "layout": "IPY_MODEL_e81e89d9b4124c21b870828d2c28fbb2"
          }
        },
        "32e2e75154094eee9078abb41bf75418": {
          "model_module": "@jupyter-widgets/controls",
          "model_name": "HTMLModel",
          "model_module_version": "1.5.0",
          "state": {
            "_dom_classes": [],
            "_model_module": "@jupyter-widgets/controls",
            "_model_module_version": "1.5.0",
            "_model_name": "HTMLModel",
            "_view_count": null,
            "_view_module": "@jupyter-widgets/controls",
            "_view_module_version": "1.5.0",
            "_view_name": "HTMLView",
            "description": "",
            "description_tooltip": null,
            "layout": "IPY_MODEL_07ff4dcb5cdf4033849b84d118ceeb4f",
            "placeholder": "​",
            "style": "IPY_MODEL_ab9a74673eba48369b4bd833be37388f",
            "value": "merges.txt: 100%"
          }
        },
        "9e9a0f72aa3d45aaa631fa1e2c8c31e4": {
          "model_module": "@jupyter-widgets/controls",
          "model_name": "FloatProgressModel",
          "model_module_version": "1.5.0",
          "state": {
            "_dom_classes": [],
            "_model_module": "@jupyter-widgets/controls",
            "_model_module_version": "1.5.0",
            "_model_name": "FloatProgressModel",
            "_view_count": null,
            "_view_module": "@jupyter-widgets/controls",
            "_view_module_version": "1.5.0",
            "_view_name": "ProgressView",
            "bar_style": "success",
            "description": "",
            "description_tooltip": null,
            "layout": "IPY_MODEL_305b43aa8728444fb0a3edc5c17bedc2",
            "max": 456318,
            "min": 0,
            "orientation": "horizontal",
            "style": "IPY_MODEL_2af1fed19bc94876b679f5cca81c7236",
            "value": 456318
          }
        },
        "e3f983bf20304f5d80a28c798102c879": {
          "model_module": "@jupyter-widgets/controls",
          "model_name": "HTMLModel",
          "model_module_version": "1.5.0",
          "state": {
            "_dom_classes": [],
            "_model_module": "@jupyter-widgets/controls",
            "_model_module_version": "1.5.0",
            "_model_name": "HTMLModel",
            "_view_count": null,
            "_view_module": "@jupyter-widgets/controls",
            "_view_module_version": "1.5.0",
            "_view_name": "HTMLView",
            "description": "",
            "description_tooltip": null,
            "layout": "IPY_MODEL_0c79244048ec4680947957b9973aaae7",
            "placeholder": "​",
            "style": "IPY_MODEL_5b467fc19f5040108f3ca3f9a4404298",
            "value": " 456k/456k [00:00&lt;00:00, 8.34MB/s]"
          }
        },
        "e81e89d9b4124c21b870828d2c28fbb2": {
          "model_module": "@jupyter-widgets/base",
          "model_name": "LayoutModel",
          "model_module_version": "1.2.0",
          "state": {
            "_model_module": "@jupyter-widgets/base",
            "_model_module_version": "1.2.0",
            "_model_name": "LayoutModel",
            "_view_count": null,
            "_view_module": "@jupyter-widgets/base",
            "_view_module_version": "1.2.0",
            "_view_name": "LayoutView",
            "align_content": null,
            "align_items": null,
            "align_self": null,
            "border": null,
            "bottom": null,
            "display": null,
            "flex": null,
            "flex_flow": null,
            "grid_area": null,
            "grid_auto_columns": null,
            "grid_auto_flow": null,
            "grid_auto_rows": null,
            "grid_column": null,
            "grid_gap": null,
            "grid_row": null,
            "grid_template_areas": null,
            "grid_template_columns": null,
            "grid_template_rows": null,
            "height": null,
            "justify_content": null,
            "justify_items": null,
            "left": null,
            "margin": null,
            "max_height": null,
            "max_width": null,
            "min_height": null,
            "min_width": null,
            "object_fit": null,
            "object_position": null,
            "order": null,
            "overflow": null,
            "overflow_x": null,
            "overflow_y": null,
            "padding": null,
            "right": null,
            "top": null,
            "visibility": null,
            "width": null
          }
        },
        "07ff4dcb5cdf4033849b84d118ceeb4f": {
          "model_module": "@jupyter-widgets/base",
          "model_name": "LayoutModel",
          "model_module_version": "1.2.0",
          "state": {
            "_model_module": "@jupyter-widgets/base",
            "_model_module_version": "1.2.0",
            "_model_name": "LayoutModel",
            "_view_count": null,
            "_view_module": "@jupyter-widgets/base",
            "_view_module_version": "1.2.0",
            "_view_name": "LayoutView",
            "align_content": null,
            "align_items": null,
            "align_self": null,
            "border": null,
            "bottom": null,
            "display": null,
            "flex": null,
            "flex_flow": null,
            "grid_area": null,
            "grid_auto_columns": null,
            "grid_auto_flow": null,
            "grid_auto_rows": null,
            "grid_column": null,
            "grid_gap": null,
            "grid_row": null,
            "grid_template_areas": null,
            "grid_template_columns": null,
            "grid_template_rows": null,
            "height": null,
            "justify_content": null,
            "justify_items": null,
            "left": null,
            "margin": null,
            "max_height": null,
            "max_width": null,
            "min_height": null,
            "min_width": null,
            "object_fit": null,
            "object_position": null,
            "order": null,
            "overflow": null,
            "overflow_x": null,
            "overflow_y": null,
            "padding": null,
            "right": null,
            "top": null,
            "visibility": null,
            "width": null
          }
        },
        "ab9a74673eba48369b4bd833be37388f": {
          "model_module": "@jupyter-widgets/controls",
          "model_name": "DescriptionStyleModel",
          "model_module_version": "1.5.0",
          "state": {
            "_model_module": "@jupyter-widgets/controls",
            "_model_module_version": "1.5.0",
            "_model_name": "DescriptionStyleModel",
            "_view_count": null,
            "_view_module": "@jupyter-widgets/base",
            "_view_module_version": "1.2.0",
            "_view_name": "StyleView",
            "description_width": ""
          }
        },
        "305b43aa8728444fb0a3edc5c17bedc2": {
          "model_module": "@jupyter-widgets/base",
          "model_name": "LayoutModel",
          "model_module_version": "1.2.0",
          "state": {
            "_model_module": "@jupyter-widgets/base",
            "_model_module_version": "1.2.0",
            "_model_name": "LayoutModel",
            "_view_count": null,
            "_view_module": "@jupyter-widgets/base",
            "_view_module_version": "1.2.0",
            "_view_name": "LayoutView",
            "align_content": null,
            "align_items": null,
            "align_self": null,
            "border": null,
            "bottom": null,
            "display": null,
            "flex": null,
            "flex_flow": null,
            "grid_area": null,
            "grid_auto_columns": null,
            "grid_auto_flow": null,
            "grid_auto_rows": null,
            "grid_column": null,
            "grid_gap": null,
            "grid_row": null,
            "grid_template_areas": null,
            "grid_template_columns": null,
            "grid_template_rows": null,
            "height": null,
            "justify_content": null,
            "justify_items": null,
            "left": null,
            "margin": null,
            "max_height": null,
            "max_width": null,
            "min_height": null,
            "min_width": null,
            "object_fit": null,
            "object_position": null,
            "order": null,
            "overflow": null,
            "overflow_x": null,
            "overflow_y": null,
            "padding": null,
            "right": null,
            "top": null,
            "visibility": null,
            "width": null
          }
        },
        "2af1fed19bc94876b679f5cca81c7236": {
          "model_module": "@jupyter-widgets/controls",
          "model_name": "ProgressStyleModel",
          "model_module_version": "1.5.0",
          "state": {
            "_model_module": "@jupyter-widgets/controls",
            "_model_module_version": "1.5.0",
            "_model_name": "ProgressStyleModel",
            "_view_count": null,
            "_view_module": "@jupyter-widgets/base",
            "_view_module_version": "1.2.0",
            "_view_name": "StyleView",
            "bar_color": null,
            "description_width": ""
          }
        },
        "0c79244048ec4680947957b9973aaae7": {
          "model_module": "@jupyter-widgets/base",
          "model_name": "LayoutModel",
          "model_module_version": "1.2.0",
          "state": {
            "_model_module": "@jupyter-widgets/base",
            "_model_module_version": "1.2.0",
            "_model_name": "LayoutModel",
            "_view_count": null,
            "_view_module": "@jupyter-widgets/base",
            "_view_module_version": "1.2.0",
            "_view_name": "LayoutView",
            "align_content": null,
            "align_items": null,
            "align_self": null,
            "border": null,
            "bottom": null,
            "display": null,
            "flex": null,
            "flex_flow": null,
            "grid_area": null,
            "grid_auto_columns": null,
            "grid_auto_flow": null,
            "grid_auto_rows": null,
            "grid_column": null,
            "grid_gap": null,
            "grid_row": null,
            "grid_template_areas": null,
            "grid_template_columns": null,
            "grid_template_rows": null,
            "height": null,
            "justify_content": null,
            "justify_items": null,
            "left": null,
            "margin": null,
            "max_height": null,
            "max_width": null,
            "min_height": null,
            "min_width": null,
            "object_fit": null,
            "object_position": null,
            "order": null,
            "overflow": null,
            "overflow_x": null,
            "overflow_y": null,
            "padding": null,
            "right": null,
            "top": null,
            "visibility": null,
            "width": null
          }
        },
        "5b467fc19f5040108f3ca3f9a4404298": {
          "model_module": "@jupyter-widgets/controls",
          "model_name": "DescriptionStyleModel",
          "model_module_version": "1.5.0",
          "state": {
            "_model_module": "@jupyter-widgets/controls",
            "_model_module_version": "1.5.0",
            "_model_name": "DescriptionStyleModel",
            "_view_count": null,
            "_view_module": "@jupyter-widgets/base",
            "_view_module_version": "1.2.0",
            "_view_name": "StyleView",
            "description_width": ""
          }
        },
        "d53ecf9b4ad744c38ed254dd23e3b0dd": {
          "model_module": "@jupyter-widgets/controls",
          "model_name": "HBoxModel",
          "model_module_version": "1.5.0",
          "state": {
            "_dom_classes": [],
            "_model_module": "@jupyter-widgets/controls",
            "_model_module_version": "1.5.0",
            "_model_name": "HBoxModel",
            "_view_count": null,
            "_view_module": "@jupyter-widgets/controls",
            "_view_module_version": "1.5.0",
            "_view_name": "HBoxView",
            "box_style": "",
            "children": [
              "IPY_MODEL_23623909e2014ed7898edab47e773084",
              "IPY_MODEL_e17d6358e4974deca067d83799ccf99f",
              "IPY_MODEL_27c754d9d2a1498aad63efa7eac43253"
            ],
            "layout": "IPY_MODEL_7830112af742418cb915132b007e46b2"
          }
        },
        "23623909e2014ed7898edab47e773084": {
          "model_module": "@jupyter-widgets/controls",
          "model_name": "HTMLModel",
          "model_module_version": "1.5.0",
          "state": {
            "_dom_classes": [],
            "_model_module": "@jupyter-widgets/controls",
            "_model_module_version": "1.5.0",
            "_model_name": "HTMLModel",
            "_view_count": null,
            "_view_module": "@jupyter-widgets/controls",
            "_view_module_version": "1.5.0",
            "_view_name": "HTMLView",
            "description": "",
            "description_tooltip": null,
            "layout": "IPY_MODEL_0d4ad55c2f784f458c6e30b8698e9816",
            "placeholder": "​",
            "style": "IPY_MODEL_461a00d9a6f143c599062d8aa4880993",
            "value": "tokenizer.json: 100%"
          }
        },
        "e17d6358e4974deca067d83799ccf99f": {
          "model_module": "@jupyter-widgets/controls",
          "model_name": "FloatProgressModel",
          "model_module_version": "1.5.0",
          "state": {
            "_dom_classes": [],
            "_model_module": "@jupyter-widgets/controls",
            "_model_module_version": "1.5.0",
            "_model_name": "FloatProgressModel",
            "_view_count": null,
            "_view_module": "@jupyter-widgets/controls",
            "_view_module_version": "1.5.0",
            "_view_name": "ProgressView",
            "bar_style": "success",
            "description": "",
            "description_tooltip": null,
            "layout": "IPY_MODEL_7344a84951e7492c9d1afd56117d3f84",
            "max": 1355256,
            "min": 0,
            "orientation": "horizontal",
            "style": "IPY_MODEL_62c6ec5b8dd6499397977a74dd39c73b",
            "value": 1355256
          }
        },
        "27c754d9d2a1498aad63efa7eac43253": {
          "model_module": "@jupyter-widgets/controls",
          "model_name": "HTMLModel",
          "model_module_version": "1.5.0",
          "state": {
            "_dom_classes": [],
            "_model_module": "@jupyter-widgets/controls",
            "_model_module_version": "1.5.0",
            "_model_name": "HTMLModel",
            "_view_count": null,
            "_view_module": "@jupyter-widgets/controls",
            "_view_module_version": "1.5.0",
            "_view_name": "HTMLView",
            "description": "",
            "description_tooltip": null,
            "layout": "IPY_MODEL_27900d4ecc80450eb0185e5df23907b1",
            "placeholder": "​",
            "style": "IPY_MODEL_6a8226919cdd4553ba00034600d7455a",
            "value": " 1.36M/1.36M [00:00&lt;00:00, 15.8MB/s]"
          }
        },
        "7830112af742418cb915132b007e46b2": {
          "model_module": "@jupyter-widgets/base",
          "model_name": "LayoutModel",
          "model_module_version": "1.2.0",
          "state": {
            "_model_module": "@jupyter-widgets/base",
            "_model_module_version": "1.2.0",
            "_model_name": "LayoutModel",
            "_view_count": null,
            "_view_module": "@jupyter-widgets/base",
            "_view_module_version": "1.2.0",
            "_view_name": "LayoutView",
            "align_content": null,
            "align_items": null,
            "align_self": null,
            "border": null,
            "bottom": null,
            "display": null,
            "flex": null,
            "flex_flow": null,
            "grid_area": null,
            "grid_auto_columns": null,
            "grid_auto_flow": null,
            "grid_auto_rows": null,
            "grid_column": null,
            "grid_gap": null,
            "grid_row": null,
            "grid_template_areas": null,
            "grid_template_columns": null,
            "grid_template_rows": null,
            "height": null,
            "justify_content": null,
            "justify_items": null,
            "left": null,
            "margin": null,
            "max_height": null,
            "max_width": null,
            "min_height": null,
            "min_width": null,
            "object_fit": null,
            "object_position": null,
            "order": null,
            "overflow": null,
            "overflow_x": null,
            "overflow_y": null,
            "padding": null,
            "right": null,
            "top": null,
            "visibility": null,
            "width": null
          }
        },
        "0d4ad55c2f784f458c6e30b8698e9816": {
          "model_module": "@jupyter-widgets/base",
          "model_name": "LayoutModel",
          "model_module_version": "1.2.0",
          "state": {
            "_model_module": "@jupyter-widgets/base",
            "_model_module_version": "1.2.0",
            "_model_name": "LayoutModel",
            "_view_count": null,
            "_view_module": "@jupyter-widgets/base",
            "_view_module_version": "1.2.0",
            "_view_name": "LayoutView",
            "align_content": null,
            "align_items": null,
            "align_self": null,
            "border": null,
            "bottom": null,
            "display": null,
            "flex": null,
            "flex_flow": null,
            "grid_area": null,
            "grid_auto_columns": null,
            "grid_auto_flow": null,
            "grid_auto_rows": null,
            "grid_column": null,
            "grid_gap": null,
            "grid_row": null,
            "grid_template_areas": null,
            "grid_template_columns": null,
            "grid_template_rows": null,
            "height": null,
            "justify_content": null,
            "justify_items": null,
            "left": null,
            "margin": null,
            "max_height": null,
            "max_width": null,
            "min_height": null,
            "min_width": null,
            "object_fit": null,
            "object_position": null,
            "order": null,
            "overflow": null,
            "overflow_x": null,
            "overflow_y": null,
            "padding": null,
            "right": null,
            "top": null,
            "visibility": null,
            "width": null
          }
        },
        "461a00d9a6f143c599062d8aa4880993": {
          "model_module": "@jupyter-widgets/controls",
          "model_name": "DescriptionStyleModel",
          "model_module_version": "1.5.0",
          "state": {
            "_model_module": "@jupyter-widgets/controls",
            "_model_module_version": "1.5.0",
            "_model_name": "DescriptionStyleModel",
            "_view_count": null,
            "_view_module": "@jupyter-widgets/base",
            "_view_module_version": "1.2.0",
            "_view_name": "StyleView",
            "description_width": ""
          }
        },
        "7344a84951e7492c9d1afd56117d3f84": {
          "model_module": "@jupyter-widgets/base",
          "model_name": "LayoutModel",
          "model_module_version": "1.2.0",
          "state": {
            "_model_module": "@jupyter-widgets/base",
            "_model_module_version": "1.2.0",
            "_model_name": "LayoutModel",
            "_view_count": null,
            "_view_module": "@jupyter-widgets/base",
            "_view_module_version": "1.2.0",
            "_view_name": "LayoutView",
            "align_content": null,
            "align_items": null,
            "align_self": null,
            "border": null,
            "bottom": null,
            "display": null,
            "flex": null,
            "flex_flow": null,
            "grid_area": null,
            "grid_auto_columns": null,
            "grid_auto_flow": null,
            "grid_auto_rows": null,
            "grid_column": null,
            "grid_gap": null,
            "grid_row": null,
            "grid_template_areas": null,
            "grid_template_columns": null,
            "grid_template_rows": null,
            "height": null,
            "justify_content": null,
            "justify_items": null,
            "left": null,
            "margin": null,
            "max_height": null,
            "max_width": null,
            "min_height": null,
            "min_width": null,
            "object_fit": null,
            "object_position": null,
            "order": null,
            "overflow": null,
            "overflow_x": null,
            "overflow_y": null,
            "padding": null,
            "right": null,
            "top": null,
            "visibility": null,
            "width": null
          }
        },
        "62c6ec5b8dd6499397977a74dd39c73b": {
          "model_module": "@jupyter-widgets/controls",
          "model_name": "ProgressStyleModel",
          "model_module_version": "1.5.0",
          "state": {
            "_model_module": "@jupyter-widgets/controls",
            "_model_module_version": "1.5.0",
            "_model_name": "ProgressStyleModel",
            "_view_count": null,
            "_view_module": "@jupyter-widgets/base",
            "_view_module_version": "1.2.0",
            "_view_name": "StyleView",
            "bar_color": null,
            "description_width": ""
          }
        },
        "27900d4ecc80450eb0185e5df23907b1": {
          "model_module": "@jupyter-widgets/base",
          "model_name": "LayoutModel",
          "model_module_version": "1.2.0",
          "state": {
            "_model_module": "@jupyter-widgets/base",
            "_model_module_version": "1.2.0",
            "_model_name": "LayoutModel",
            "_view_count": null,
            "_view_module": "@jupyter-widgets/base",
            "_view_module_version": "1.2.0",
            "_view_name": "LayoutView",
            "align_content": null,
            "align_items": null,
            "align_self": null,
            "border": null,
            "bottom": null,
            "display": null,
            "flex": null,
            "flex_flow": null,
            "grid_area": null,
            "grid_auto_columns": null,
            "grid_auto_flow": null,
            "grid_auto_rows": null,
            "grid_column": null,
            "grid_gap": null,
            "grid_row": null,
            "grid_template_areas": null,
            "grid_template_columns": null,
            "grid_template_rows": null,
            "height": null,
            "justify_content": null,
            "justify_items": null,
            "left": null,
            "margin": null,
            "max_height": null,
            "max_width": null,
            "min_height": null,
            "min_width": null,
            "object_fit": null,
            "object_position": null,
            "order": null,
            "overflow": null,
            "overflow_x": null,
            "overflow_y": null,
            "padding": null,
            "right": null,
            "top": null,
            "visibility": null,
            "width": null
          }
        },
        "6a8226919cdd4553ba00034600d7455a": {
          "model_module": "@jupyter-widgets/controls",
          "model_name": "DescriptionStyleModel",
          "model_module_version": "1.5.0",
          "state": {
            "_model_module": "@jupyter-widgets/controls",
            "_model_module_version": "1.5.0",
            "_model_name": "DescriptionStyleModel",
            "_view_count": null,
            "_view_module": "@jupyter-widgets/base",
            "_view_module_version": "1.2.0",
            "_view_name": "StyleView",
            "description_width": ""
          }
        },
        "562ac731bdd046f5ae1ea6b515374548": {
          "model_module": "@jupyter-widgets/controls",
          "model_name": "HBoxModel",
          "model_module_version": "1.5.0",
          "state": {
            "_dom_classes": [],
            "_model_module": "@jupyter-widgets/controls",
            "_model_module_version": "1.5.0",
            "_model_name": "HBoxModel",
            "_view_count": null,
            "_view_module": "@jupyter-widgets/controls",
            "_view_module_version": "1.5.0",
            "_view_name": "HBoxView",
            "box_style": "",
            "children": [
              "IPY_MODEL_18f49c23a34140a2b1562497af1b1208",
              "IPY_MODEL_750d4fd28c1c43d2b1ea465a663f8274",
              "IPY_MODEL_28ec7f25992246fea9aa3a089e2e4d04"
            ],
            "layout": "IPY_MODEL_8a8f1679588d477e83486567d8ee9416"
          }
        },
        "18f49c23a34140a2b1562497af1b1208": {
          "model_module": "@jupyter-widgets/controls",
          "model_name": "HTMLModel",
          "model_module_version": "1.5.0",
          "state": {
            "_dom_classes": [],
            "_model_module": "@jupyter-widgets/controls",
            "_model_module_version": "1.5.0",
            "_model_name": "HTMLModel",
            "_view_count": null,
            "_view_module": "@jupyter-widgets/controls",
            "_view_module_version": "1.5.0",
            "_view_name": "HTMLView",
            "description": "",
            "description_tooltip": null,
            "layout": "IPY_MODEL_8e7a9d70099e42bab5c6f56758846bdf",
            "placeholder": "​",
            "style": "IPY_MODEL_e29fa7621f2c49df83b1c6c47cec6dc7",
            "value": "config.json: 100%"
          }
        },
        "750d4fd28c1c43d2b1ea465a663f8274": {
          "model_module": "@jupyter-widgets/controls",
          "model_name": "FloatProgressModel",
          "model_module_version": "1.5.0",
          "state": {
            "_dom_classes": [],
            "_model_module": "@jupyter-widgets/controls",
            "_model_module_version": "1.5.0",
            "_model_name": "FloatProgressModel",
            "_view_count": null,
            "_view_module": "@jupyter-widgets/controls",
            "_view_module_version": "1.5.0",
            "_view_name": "ProgressView",
            "bar_style": "success",
            "description": "",
            "description_tooltip": null,
            "layout": "IPY_MODEL_a6a5eacc8a7f4522a3ceab43733548ee",
            "max": 1802,
            "min": 0,
            "orientation": "horizontal",
            "style": "IPY_MODEL_74bc71caf1c84ec7bb15bf351b0d6715",
            "value": 1802
          }
        },
        "28ec7f25992246fea9aa3a089e2e4d04": {
          "model_module": "@jupyter-widgets/controls",
          "model_name": "HTMLModel",
          "model_module_version": "1.5.0",
          "state": {
            "_dom_classes": [],
            "_model_module": "@jupyter-widgets/controls",
            "_model_module_version": "1.5.0",
            "_model_name": "HTMLModel",
            "_view_count": null,
            "_view_module": "@jupyter-widgets/controls",
            "_view_module_version": "1.5.0",
            "_view_name": "HTMLView",
            "description": "",
            "description_tooltip": null,
            "layout": "IPY_MODEL_6554e0f22dc84be6833027514786b91c",
            "placeholder": "​",
            "style": "IPY_MODEL_1b682efbd1b94b01b9af735b09eb79fb",
            "value": " 1.80k/1.80k [00:00&lt;00:00, 107kB/s]"
          }
        },
        "8a8f1679588d477e83486567d8ee9416": {
          "model_module": "@jupyter-widgets/base",
          "model_name": "LayoutModel",
          "model_module_version": "1.2.0",
          "state": {
            "_model_module": "@jupyter-widgets/base",
            "_model_module_version": "1.2.0",
            "_model_name": "LayoutModel",
            "_view_count": null,
            "_view_module": "@jupyter-widgets/base",
            "_view_module_version": "1.2.0",
            "_view_name": "LayoutView",
            "align_content": null,
            "align_items": null,
            "align_self": null,
            "border": null,
            "bottom": null,
            "display": null,
            "flex": null,
            "flex_flow": null,
            "grid_area": null,
            "grid_auto_columns": null,
            "grid_auto_flow": null,
            "grid_auto_rows": null,
            "grid_column": null,
            "grid_gap": null,
            "grid_row": null,
            "grid_template_areas": null,
            "grid_template_columns": null,
            "grid_template_rows": null,
            "height": null,
            "justify_content": null,
            "justify_items": null,
            "left": null,
            "margin": null,
            "max_height": null,
            "max_width": null,
            "min_height": null,
            "min_width": null,
            "object_fit": null,
            "object_position": null,
            "order": null,
            "overflow": null,
            "overflow_x": null,
            "overflow_y": null,
            "padding": null,
            "right": null,
            "top": null,
            "visibility": null,
            "width": null
          }
        },
        "8e7a9d70099e42bab5c6f56758846bdf": {
          "model_module": "@jupyter-widgets/base",
          "model_name": "LayoutModel",
          "model_module_version": "1.2.0",
          "state": {
            "_model_module": "@jupyter-widgets/base",
            "_model_module_version": "1.2.0",
            "_model_name": "LayoutModel",
            "_view_count": null,
            "_view_module": "@jupyter-widgets/base",
            "_view_module_version": "1.2.0",
            "_view_name": "LayoutView",
            "align_content": null,
            "align_items": null,
            "align_self": null,
            "border": null,
            "bottom": null,
            "display": null,
            "flex": null,
            "flex_flow": null,
            "grid_area": null,
            "grid_auto_columns": null,
            "grid_auto_flow": null,
            "grid_auto_rows": null,
            "grid_column": null,
            "grid_gap": null,
            "grid_row": null,
            "grid_template_areas": null,
            "grid_template_columns": null,
            "grid_template_rows": null,
            "height": null,
            "justify_content": null,
            "justify_items": null,
            "left": null,
            "margin": null,
            "max_height": null,
            "max_width": null,
            "min_height": null,
            "min_width": null,
            "object_fit": null,
            "object_position": null,
            "order": null,
            "overflow": null,
            "overflow_x": null,
            "overflow_y": null,
            "padding": null,
            "right": null,
            "top": null,
            "visibility": null,
            "width": null
          }
        },
        "e29fa7621f2c49df83b1c6c47cec6dc7": {
          "model_module": "@jupyter-widgets/controls",
          "model_name": "DescriptionStyleModel",
          "model_module_version": "1.5.0",
          "state": {
            "_model_module": "@jupyter-widgets/controls",
            "_model_module_version": "1.5.0",
            "_model_name": "DescriptionStyleModel",
            "_view_count": null,
            "_view_module": "@jupyter-widgets/base",
            "_view_module_version": "1.2.0",
            "_view_name": "StyleView",
            "description_width": ""
          }
        },
        "a6a5eacc8a7f4522a3ceab43733548ee": {
          "model_module": "@jupyter-widgets/base",
          "model_name": "LayoutModel",
          "model_module_version": "1.2.0",
          "state": {
            "_model_module": "@jupyter-widgets/base",
            "_model_module_version": "1.2.0",
            "_model_name": "LayoutModel",
            "_view_count": null,
            "_view_module": "@jupyter-widgets/base",
            "_view_module_version": "1.2.0",
            "_view_name": "LayoutView",
            "align_content": null,
            "align_items": null,
            "align_self": null,
            "border": null,
            "bottom": null,
            "display": null,
            "flex": null,
            "flex_flow": null,
            "grid_area": null,
            "grid_auto_columns": null,
            "grid_auto_flow": null,
            "grid_auto_rows": null,
            "grid_column": null,
            "grid_gap": null,
            "grid_row": null,
            "grid_template_areas": null,
            "grid_template_columns": null,
            "grid_template_rows": null,
            "height": null,
            "justify_content": null,
            "justify_items": null,
            "left": null,
            "margin": null,
            "max_height": null,
            "max_width": null,
            "min_height": null,
            "min_width": null,
            "object_fit": null,
            "object_position": null,
            "order": null,
            "overflow": null,
            "overflow_x": null,
            "overflow_y": null,
            "padding": null,
            "right": null,
            "top": null,
            "visibility": null,
            "width": null
          }
        },
        "74bc71caf1c84ec7bb15bf351b0d6715": {
          "model_module": "@jupyter-widgets/controls",
          "model_name": "ProgressStyleModel",
          "model_module_version": "1.5.0",
          "state": {
            "_model_module": "@jupyter-widgets/controls",
            "_model_module_version": "1.5.0",
            "_model_name": "ProgressStyleModel",
            "_view_count": null,
            "_view_module": "@jupyter-widgets/base",
            "_view_module_version": "1.2.0",
            "_view_name": "StyleView",
            "bar_color": null,
            "description_width": ""
          }
        },
        "6554e0f22dc84be6833027514786b91c": {
          "model_module": "@jupyter-widgets/base",
          "model_name": "LayoutModel",
          "model_module_version": "1.2.0",
          "state": {
            "_model_module": "@jupyter-widgets/base",
            "_model_module_version": "1.2.0",
            "_model_name": "LayoutModel",
            "_view_count": null,
            "_view_module": "@jupyter-widgets/base",
            "_view_module_version": "1.2.0",
            "_view_name": "LayoutView",
            "align_content": null,
            "align_items": null,
            "align_self": null,
            "border": null,
            "bottom": null,
            "display": null,
            "flex": null,
            "flex_flow": null,
            "grid_area": null,
            "grid_auto_columns": null,
            "grid_auto_flow": null,
            "grid_auto_rows": null,
            "grid_column": null,
            "grid_gap": null,
            "grid_row": null,
            "grid_template_areas": null,
            "grid_template_columns": null,
            "grid_template_rows": null,
            "height": null,
            "justify_content": null,
            "justify_items": null,
            "left": null,
            "margin": null,
            "max_height": null,
            "max_width": null,
            "min_height": null,
            "min_width": null,
            "object_fit": null,
            "object_position": null,
            "order": null,
            "overflow": null,
            "overflow_x": null,
            "overflow_y": null,
            "padding": null,
            "right": null,
            "top": null,
            "visibility": null,
            "width": null
          }
        },
        "1b682efbd1b94b01b9af735b09eb79fb": {
          "model_module": "@jupyter-widgets/controls",
          "model_name": "DescriptionStyleModel",
          "model_module_version": "1.5.0",
          "state": {
            "_model_module": "@jupyter-widgets/controls",
            "_model_module_version": "1.5.0",
            "_model_name": "DescriptionStyleModel",
            "_view_count": null,
            "_view_module": "@jupyter-widgets/base",
            "_view_module_version": "1.2.0",
            "_view_name": "StyleView",
            "description_width": ""
          }
        },
        "bfb038e6ebcc4297ada889c49c421fe7": {
          "model_module": "@jupyter-widgets/controls",
          "model_name": "HBoxModel",
          "model_module_version": "1.5.0",
          "state": {
            "_dom_classes": [],
            "_model_module": "@jupyter-widgets/controls",
            "_model_module_version": "1.5.0",
            "_model_name": "HBoxModel",
            "_view_count": null,
            "_view_module": "@jupyter-widgets/controls",
            "_view_module_version": "1.5.0",
            "_view_name": "HBoxView",
            "box_style": "",
            "children": [
              "IPY_MODEL_3d14522abd434e199d0b345d6d8210be",
              "IPY_MODEL_f605d97053944c4097e55b24195e6272",
              "IPY_MODEL_58337b6287814a4d8561afac61b461ab"
            ],
            "layout": "IPY_MODEL_20ca2506105b4f7f81ea35355d352ec7"
          }
        },
        "3d14522abd434e199d0b345d6d8210be": {
          "model_module": "@jupyter-widgets/controls",
          "model_name": "HTMLModel",
          "model_module_version": "1.5.0",
          "state": {
            "_dom_classes": [],
            "_model_module": "@jupyter-widgets/controls",
            "_model_module_version": "1.5.0",
            "_model_name": "HTMLModel",
            "_view_count": null,
            "_view_module": "@jupyter-widgets/controls",
            "_view_module_version": "1.5.0",
            "_view_name": "HTMLView",
            "description": "",
            "description_tooltip": null,
            "layout": "IPY_MODEL_ca4535ce856f45f280ddaaee833f6e4d",
            "placeholder": "​",
            "style": "IPY_MODEL_efe81a78fbbb41a6a8c206c08b12c284",
            "value": "pytorch_model.bin: 100%"
          }
        },
        "f605d97053944c4097e55b24195e6272": {
          "model_module": "@jupyter-widgets/controls",
          "model_name": "FloatProgressModel",
          "model_module_version": "1.5.0",
          "state": {
            "_dom_classes": [],
            "_model_module": "@jupyter-widgets/controls",
            "_model_module_version": "1.5.0",
            "_model_name": "FloatProgressModel",
            "_view_count": null,
            "_view_module": "@jupyter-widgets/controls",
            "_view_module_version": "1.5.0",
            "_view_name": "ProgressView",
            "bar_style": "success",
            "description": "",
            "description_tooltip": null,
            "layout": "IPY_MODEL_367a78f33eb048bd9b89a31139213da1",
            "max": 1222317369,
            "min": 0,
            "orientation": "horizontal",
            "style": "IPY_MODEL_6172296ae84f4d7db8e6f43c4c905855",
            "value": 1222317369
          }
        },
        "58337b6287814a4d8561afac61b461ab": {
          "model_module": "@jupyter-widgets/controls",
          "model_name": "HTMLModel",
          "model_module_version": "1.5.0",
          "state": {
            "_dom_classes": [],
            "_model_module": "@jupyter-widgets/controls",
            "_model_module_version": "1.5.0",
            "_model_name": "HTMLModel",
            "_view_count": null,
            "_view_module": "@jupyter-widgets/controls",
            "_view_module_version": "1.5.0",
            "_view_name": "HTMLView",
            "description": "",
            "description_tooltip": null,
            "layout": "IPY_MODEL_7f3b1b3a0dca42aeac086b13d3171fec",
            "placeholder": "​",
            "style": "IPY_MODEL_4a9edbc55d78419fa8ef56f0f3d89581",
            "value": " 1.22G/1.22G [00:11&lt;00:00, 165MB/s]"
          }
        },
        "20ca2506105b4f7f81ea35355d352ec7": {
          "model_module": "@jupyter-widgets/base",
          "model_name": "LayoutModel",
          "model_module_version": "1.2.0",
          "state": {
            "_model_module": "@jupyter-widgets/base",
            "_model_module_version": "1.2.0",
            "_model_name": "LayoutModel",
            "_view_count": null,
            "_view_module": "@jupyter-widgets/base",
            "_view_module_version": "1.2.0",
            "_view_name": "LayoutView",
            "align_content": null,
            "align_items": null,
            "align_self": null,
            "border": null,
            "bottom": null,
            "display": null,
            "flex": null,
            "flex_flow": null,
            "grid_area": null,
            "grid_auto_columns": null,
            "grid_auto_flow": null,
            "grid_auto_rows": null,
            "grid_column": null,
            "grid_gap": null,
            "grid_row": null,
            "grid_template_areas": null,
            "grid_template_columns": null,
            "grid_template_rows": null,
            "height": null,
            "justify_content": null,
            "justify_items": null,
            "left": null,
            "margin": null,
            "max_height": null,
            "max_width": null,
            "min_height": null,
            "min_width": null,
            "object_fit": null,
            "object_position": null,
            "order": null,
            "overflow": null,
            "overflow_x": null,
            "overflow_y": null,
            "padding": null,
            "right": null,
            "top": null,
            "visibility": null,
            "width": null
          }
        },
        "ca4535ce856f45f280ddaaee833f6e4d": {
          "model_module": "@jupyter-widgets/base",
          "model_name": "LayoutModel",
          "model_module_version": "1.2.0",
          "state": {
            "_model_module": "@jupyter-widgets/base",
            "_model_module_version": "1.2.0",
            "_model_name": "LayoutModel",
            "_view_count": null,
            "_view_module": "@jupyter-widgets/base",
            "_view_module_version": "1.2.0",
            "_view_name": "LayoutView",
            "align_content": null,
            "align_items": null,
            "align_self": null,
            "border": null,
            "bottom": null,
            "display": null,
            "flex": null,
            "flex_flow": null,
            "grid_area": null,
            "grid_auto_columns": null,
            "grid_auto_flow": null,
            "grid_auto_rows": null,
            "grid_column": null,
            "grid_gap": null,
            "grid_row": null,
            "grid_template_areas": null,
            "grid_template_columns": null,
            "grid_template_rows": null,
            "height": null,
            "justify_content": null,
            "justify_items": null,
            "left": null,
            "margin": null,
            "max_height": null,
            "max_width": null,
            "min_height": null,
            "min_width": null,
            "object_fit": null,
            "object_position": null,
            "order": null,
            "overflow": null,
            "overflow_x": null,
            "overflow_y": null,
            "padding": null,
            "right": null,
            "top": null,
            "visibility": null,
            "width": null
          }
        },
        "efe81a78fbbb41a6a8c206c08b12c284": {
          "model_module": "@jupyter-widgets/controls",
          "model_name": "DescriptionStyleModel",
          "model_module_version": "1.5.0",
          "state": {
            "_model_module": "@jupyter-widgets/controls",
            "_model_module_version": "1.5.0",
            "_model_name": "DescriptionStyleModel",
            "_view_count": null,
            "_view_module": "@jupyter-widgets/base",
            "_view_module_version": "1.2.0",
            "_view_name": "StyleView",
            "description_width": ""
          }
        },
        "367a78f33eb048bd9b89a31139213da1": {
          "model_module": "@jupyter-widgets/base",
          "model_name": "LayoutModel",
          "model_module_version": "1.2.0",
          "state": {
            "_model_module": "@jupyter-widgets/base",
            "_model_module_version": "1.2.0",
            "_model_name": "LayoutModel",
            "_view_count": null,
            "_view_module": "@jupyter-widgets/base",
            "_view_module_version": "1.2.0",
            "_view_name": "LayoutView",
            "align_content": null,
            "align_items": null,
            "align_self": null,
            "border": null,
            "bottom": null,
            "display": null,
            "flex": null,
            "flex_flow": null,
            "grid_area": null,
            "grid_auto_columns": null,
            "grid_auto_flow": null,
            "grid_auto_rows": null,
            "grid_column": null,
            "grid_gap": null,
            "grid_row": null,
            "grid_template_areas": null,
            "grid_template_columns": null,
            "grid_template_rows": null,
            "height": null,
            "justify_content": null,
            "justify_items": null,
            "left": null,
            "margin": null,
            "max_height": null,
            "max_width": null,
            "min_height": null,
            "min_width": null,
            "object_fit": null,
            "object_position": null,
            "order": null,
            "overflow": null,
            "overflow_x": null,
            "overflow_y": null,
            "padding": null,
            "right": null,
            "top": null,
            "visibility": null,
            "width": null
          }
        },
        "6172296ae84f4d7db8e6f43c4c905855": {
          "model_module": "@jupyter-widgets/controls",
          "model_name": "ProgressStyleModel",
          "model_module_version": "1.5.0",
          "state": {
            "_model_module": "@jupyter-widgets/controls",
            "_model_module_version": "1.5.0",
            "_model_name": "ProgressStyleModel",
            "_view_count": null,
            "_view_module": "@jupyter-widgets/base",
            "_view_module_version": "1.2.0",
            "_view_name": "StyleView",
            "bar_color": null,
            "description_width": ""
          }
        },
        "7f3b1b3a0dca42aeac086b13d3171fec": {
          "model_module": "@jupyter-widgets/base",
          "model_name": "LayoutModel",
          "model_module_version": "1.2.0",
          "state": {
            "_model_module": "@jupyter-widgets/base",
            "_model_module_version": "1.2.0",
            "_model_name": "LayoutModel",
            "_view_count": null,
            "_view_module": "@jupyter-widgets/base",
            "_view_module_version": "1.2.0",
            "_view_name": "LayoutView",
            "align_content": null,
            "align_items": null,
            "align_self": null,
            "border": null,
            "bottom": null,
            "display": null,
            "flex": null,
            "flex_flow": null,
            "grid_area": null,
            "grid_auto_columns": null,
            "grid_auto_flow": null,
            "grid_auto_rows": null,
            "grid_column": null,
            "grid_gap": null,
            "grid_row": null,
            "grid_template_areas": null,
            "grid_template_columns": null,
            "grid_template_rows": null,
            "height": null,
            "justify_content": null,
            "justify_items": null,
            "left": null,
            "margin": null,
            "max_height": null,
            "max_width": null,
            "min_height": null,
            "min_width": null,
            "object_fit": null,
            "object_position": null,
            "order": null,
            "overflow": null,
            "overflow_x": null,
            "overflow_y": null,
            "padding": null,
            "right": null,
            "top": null,
            "visibility": null,
            "width": null
          }
        },
        "4a9edbc55d78419fa8ef56f0f3d89581": {
          "model_module": "@jupyter-widgets/controls",
          "model_name": "DescriptionStyleModel",
          "model_module_version": "1.5.0",
          "state": {
            "_model_module": "@jupyter-widgets/controls",
            "_model_module_version": "1.5.0",
            "_model_name": "DescriptionStyleModel",
            "_view_count": null,
            "_view_module": "@jupyter-widgets/base",
            "_view_module_version": "1.2.0",
            "_view_name": "StyleView",
            "description_width": ""
          }
        },
        "a84bb639ac0c42a0a8435d4031996999": {
          "model_module": "@jupyter-widgets/controls",
          "model_name": "HBoxModel",
          "model_module_version": "1.5.0",
          "state": {
            "_dom_classes": [],
            "_model_module": "@jupyter-widgets/controls",
            "_model_module_version": "1.5.0",
            "_model_name": "HBoxModel",
            "_view_count": null,
            "_view_module": "@jupyter-widgets/controls",
            "_view_module_version": "1.5.0",
            "_view_name": "HBoxView",
            "box_style": "",
            "children": [
              "IPY_MODEL_baf9c3bff8ab47af98d6c5e82238f41d",
              "IPY_MODEL_de310ba44f914bae8d2a4d6f81f6acaf",
              "IPY_MODEL_6fd0e8620d69407e8fcf4b20d3b5ced3"
            ],
            "layout": "IPY_MODEL_d1e688bd8ad44b2285b365a8cd9ed335"
          }
        },
        "baf9c3bff8ab47af98d6c5e82238f41d": {
          "model_module": "@jupyter-widgets/controls",
          "model_name": "HTMLModel",
          "model_module_version": "1.5.0",
          "state": {
            "_dom_classes": [],
            "_model_module": "@jupyter-widgets/controls",
            "_model_module_version": "1.5.0",
            "_model_name": "HTMLModel",
            "_view_count": null,
            "_view_module": "@jupyter-widgets/controls",
            "_view_module_version": "1.5.0",
            "_view_name": "HTMLView",
            "description": "",
            "description_tooltip": null,
            "layout": "IPY_MODEL_3164e0d05491480998d3cf474fcb2e52",
            "placeholder": "​",
            "style": "IPY_MODEL_a21d50ff1f844e71a99e7090148c21ad",
            "value": "model.safetensors: 100%"
          }
        },
        "de310ba44f914bae8d2a4d6f81f6acaf": {
          "model_module": "@jupyter-widgets/controls",
          "model_name": "FloatProgressModel",
          "model_module_version": "1.5.0",
          "state": {
            "_dom_classes": [],
            "_model_module": "@jupyter-widgets/controls",
            "_model_module_version": "1.5.0",
            "_model_name": "FloatProgressModel",
            "_view_count": null,
            "_view_module": "@jupyter-widgets/controls",
            "_view_module_version": "1.5.0",
            "_view_name": "ProgressView",
            "bar_style": "success",
            "description": "",
            "description_tooltip": null,
            "layout": "IPY_MODEL_9b508303d7934480b5c46b8284ee46e2",
            "max": 1222284424,
            "min": 0,
            "orientation": "horizontal",
            "style": "IPY_MODEL_ff0adcf3014444f1b3e97862ed1b323d",
            "value": 1222284424
          }
        },
        "6fd0e8620d69407e8fcf4b20d3b5ced3": {
          "model_module": "@jupyter-widgets/controls",
          "model_name": "HTMLModel",
          "model_module_version": "1.5.0",
          "state": {
            "_dom_classes": [],
            "_model_module": "@jupyter-widgets/controls",
            "_model_module_version": "1.5.0",
            "_model_name": "HTMLModel",
            "_view_count": null,
            "_view_module": "@jupyter-widgets/controls",
            "_view_module_version": "1.5.0",
            "_view_name": "HTMLView",
            "description": "",
            "description_tooltip": null,
            "layout": "IPY_MODEL_1faeb06d94d642cf86d5be7315cb9fa8",
            "placeholder": "​",
            "style": "IPY_MODEL_7391cf9a63e04dd5826faaf13df3afa2",
            "value": " 1.22G/1.22G [00:17&lt;00:00, 115MB/s]"
          }
        },
        "d1e688bd8ad44b2285b365a8cd9ed335": {
          "model_module": "@jupyter-widgets/base",
          "model_name": "LayoutModel",
          "model_module_version": "1.2.0",
          "state": {
            "_model_module": "@jupyter-widgets/base",
            "_model_module_version": "1.2.0",
            "_model_name": "LayoutModel",
            "_view_count": null,
            "_view_module": "@jupyter-widgets/base",
            "_view_module_version": "1.2.0",
            "_view_name": "LayoutView",
            "align_content": null,
            "align_items": null,
            "align_self": null,
            "border": null,
            "bottom": null,
            "display": null,
            "flex": null,
            "flex_flow": null,
            "grid_area": null,
            "grid_auto_columns": null,
            "grid_auto_flow": null,
            "grid_auto_rows": null,
            "grid_column": null,
            "grid_gap": null,
            "grid_row": null,
            "grid_template_areas": null,
            "grid_template_columns": null,
            "grid_template_rows": null,
            "height": null,
            "justify_content": null,
            "justify_items": null,
            "left": null,
            "margin": null,
            "max_height": null,
            "max_width": null,
            "min_height": null,
            "min_width": null,
            "object_fit": null,
            "object_position": null,
            "order": null,
            "overflow": null,
            "overflow_x": null,
            "overflow_y": null,
            "padding": null,
            "right": null,
            "top": null,
            "visibility": null,
            "width": null
          }
        },
        "3164e0d05491480998d3cf474fcb2e52": {
          "model_module": "@jupyter-widgets/base",
          "model_name": "LayoutModel",
          "model_module_version": "1.2.0",
          "state": {
            "_model_module": "@jupyter-widgets/base",
            "_model_module_version": "1.2.0",
            "_model_name": "LayoutModel",
            "_view_count": null,
            "_view_module": "@jupyter-widgets/base",
            "_view_module_version": "1.2.0",
            "_view_name": "LayoutView",
            "align_content": null,
            "align_items": null,
            "align_self": null,
            "border": null,
            "bottom": null,
            "display": null,
            "flex": null,
            "flex_flow": null,
            "grid_area": null,
            "grid_auto_columns": null,
            "grid_auto_flow": null,
            "grid_auto_rows": null,
            "grid_column": null,
            "grid_gap": null,
            "grid_row": null,
            "grid_template_areas": null,
            "grid_template_columns": null,
            "grid_template_rows": null,
            "height": null,
            "justify_content": null,
            "justify_items": null,
            "left": null,
            "margin": null,
            "max_height": null,
            "max_width": null,
            "min_height": null,
            "min_width": null,
            "object_fit": null,
            "object_position": null,
            "order": null,
            "overflow": null,
            "overflow_x": null,
            "overflow_y": null,
            "padding": null,
            "right": null,
            "top": null,
            "visibility": null,
            "width": null
          }
        },
        "a21d50ff1f844e71a99e7090148c21ad": {
          "model_module": "@jupyter-widgets/controls",
          "model_name": "DescriptionStyleModel",
          "model_module_version": "1.5.0",
          "state": {
            "_model_module": "@jupyter-widgets/controls",
            "_model_module_version": "1.5.0",
            "_model_name": "DescriptionStyleModel",
            "_view_count": null,
            "_view_module": "@jupyter-widgets/base",
            "_view_module_version": "1.2.0",
            "_view_name": "StyleView",
            "description_width": ""
          }
        },
        "9b508303d7934480b5c46b8284ee46e2": {
          "model_module": "@jupyter-widgets/base",
          "model_name": "LayoutModel",
          "model_module_version": "1.2.0",
          "state": {
            "_model_module": "@jupyter-widgets/base",
            "_model_module_version": "1.2.0",
            "_model_name": "LayoutModel",
            "_view_count": null,
            "_view_module": "@jupyter-widgets/base",
            "_view_module_version": "1.2.0",
            "_view_name": "LayoutView",
            "align_content": null,
            "align_items": null,
            "align_self": null,
            "border": null,
            "bottom": null,
            "display": null,
            "flex": null,
            "flex_flow": null,
            "grid_area": null,
            "grid_auto_columns": null,
            "grid_auto_flow": null,
            "grid_auto_rows": null,
            "grid_column": null,
            "grid_gap": null,
            "grid_row": null,
            "grid_template_areas": null,
            "grid_template_columns": null,
            "grid_template_rows": null,
            "height": null,
            "justify_content": null,
            "justify_items": null,
            "left": null,
            "margin": null,
            "max_height": null,
            "max_width": null,
            "min_height": null,
            "min_width": null,
            "object_fit": null,
            "object_position": null,
            "order": null,
            "overflow": null,
            "overflow_x": null,
            "overflow_y": null,
            "padding": null,
            "right": null,
            "top": null,
            "visibility": null,
            "width": null
          }
        },
        "ff0adcf3014444f1b3e97862ed1b323d": {
          "model_module": "@jupyter-widgets/controls",
          "model_name": "ProgressStyleModel",
          "model_module_version": "1.5.0",
          "state": {
            "_model_module": "@jupyter-widgets/controls",
            "_model_module_version": "1.5.0",
            "_model_name": "ProgressStyleModel",
            "_view_count": null,
            "_view_module": "@jupyter-widgets/base",
            "_view_module_version": "1.2.0",
            "_view_name": "StyleView",
            "bar_color": null,
            "description_width": ""
          }
        },
        "1faeb06d94d642cf86d5be7315cb9fa8": {
          "model_module": "@jupyter-widgets/base",
          "model_name": "LayoutModel",
          "model_module_version": "1.2.0",
          "state": {
            "_model_module": "@jupyter-widgets/base",
            "_model_module_version": "1.2.0",
            "_model_name": "LayoutModel",
            "_view_count": null,
            "_view_module": "@jupyter-widgets/base",
            "_view_module_version": "1.2.0",
            "_view_name": "LayoutView",
            "align_content": null,
            "align_items": null,
            "align_self": null,
            "border": null,
            "bottom": null,
            "display": null,
            "flex": null,
            "flex_flow": null,
            "grid_area": null,
            "grid_auto_columns": null,
            "grid_auto_flow": null,
            "grid_auto_rows": null,
            "grid_column": null,
            "grid_gap": null,
            "grid_row": null,
            "grid_template_areas": null,
            "grid_template_columns": null,
            "grid_template_rows": null,
            "height": null,
            "justify_content": null,
            "justify_items": null,
            "left": null,
            "margin": null,
            "max_height": null,
            "max_width": null,
            "min_height": null,
            "min_width": null,
            "object_fit": null,
            "object_position": null,
            "order": null,
            "overflow": null,
            "overflow_x": null,
            "overflow_y": null,
            "padding": null,
            "right": null,
            "top": null,
            "visibility": null,
            "width": null
          }
        },
        "7391cf9a63e04dd5826faaf13df3afa2": {
          "model_module": "@jupyter-widgets/controls",
          "model_name": "DescriptionStyleModel",
          "model_module_version": "1.5.0",
          "state": {
            "_model_module": "@jupyter-widgets/controls",
            "_model_module_version": "1.5.0",
            "_model_name": "DescriptionStyleModel",
            "_view_count": null,
            "_view_module": "@jupyter-widgets/base",
            "_view_module_version": "1.2.0",
            "_view_name": "StyleView",
            "description_width": ""
          }
        },
        "ea96df88c19241f5b7c815cbe693ee9e": {
          "model_module": "@jupyter-widgets/controls",
          "model_name": "HBoxModel",
          "model_module_version": "1.5.0",
          "state": {
            "_dom_classes": [],
            "_model_module": "@jupyter-widgets/controls",
            "_model_module_version": "1.5.0",
            "_model_name": "HBoxModel",
            "_view_count": null,
            "_view_module": "@jupyter-widgets/controls",
            "_view_module_version": "1.5.0",
            "_view_name": "HBoxView",
            "box_style": "",
            "children": [
              "IPY_MODEL_d739d4e79e354f34a1e9fea3672c0ea2",
              "IPY_MODEL_c1da66bbd4084dadb679ce3dd57c51ec",
              "IPY_MODEL_a3213ba390f44ca0ba61010204a75ee5"
            ],
            "layout": "IPY_MODEL_35a0516ffcd74b94aa2f1baa54d2ad33"
          }
        },
        "d739d4e79e354f34a1e9fea3672c0ea2": {
          "model_module": "@jupyter-widgets/controls",
          "model_name": "HTMLModel",
          "model_module_version": "1.5.0",
          "state": {
            "_dom_classes": [],
            "_model_module": "@jupyter-widgets/controls",
            "_model_module_version": "1.5.0",
            "_model_name": "HTMLModel",
            "_view_count": null,
            "_view_module": "@jupyter-widgets/controls",
            "_view_module_version": "1.5.0",
            "_view_name": "HTMLView",
            "description": "",
            "description_tooltip": null,
            "layout": "IPY_MODEL_53c9eac43de842f68100c19210d14db8",
            "placeholder": "​",
            "style": "IPY_MODEL_4b002bbe80324f8cb03ca5199d842cac",
            "value": "tokenizer_config.json: 100%"
          }
        },
        "c1da66bbd4084dadb679ce3dd57c51ec": {
          "model_module": "@jupyter-widgets/controls",
          "model_name": "FloatProgressModel",
          "model_module_version": "1.5.0",
          "state": {
            "_dom_classes": [],
            "_model_module": "@jupyter-widgets/controls",
            "_model_module_version": "1.5.0",
            "_model_name": "FloatProgressModel",
            "_view_count": null,
            "_view_module": "@jupyter-widgets/controls",
            "_view_module_version": "1.5.0",
            "_view_name": "ProgressView",
            "bar_style": "success",
            "description": "",
            "description_tooltip": null,
            "layout": "IPY_MODEL_6f6ca939b9be4666a650ba06bba7bb80",
            "max": 26,
            "min": 0,
            "orientation": "horizontal",
            "style": "IPY_MODEL_f742f979e94f403798f4cdf804e2b4bf",
            "value": 26
          }
        },
        "a3213ba390f44ca0ba61010204a75ee5": {
          "model_module": "@jupyter-widgets/controls",
          "model_name": "HTMLModel",
          "model_module_version": "1.5.0",
          "state": {
            "_dom_classes": [],
            "_model_module": "@jupyter-widgets/controls",
            "_model_module_version": "1.5.0",
            "_model_name": "HTMLModel",
            "_view_count": null,
            "_view_module": "@jupyter-widgets/controls",
            "_view_module_version": "1.5.0",
            "_view_name": "HTMLView",
            "description": "",
            "description_tooltip": null,
            "layout": "IPY_MODEL_b80fd0bfce2b434fbb018d9cad51ba58",
            "placeholder": "​",
            "style": "IPY_MODEL_a35c5cb5e1ea4f4dac7d2623e8802f88",
            "value": " 26.0/26.0 [00:00&lt;00:00, 1.59kB/s]"
          }
        },
        "35a0516ffcd74b94aa2f1baa54d2ad33": {
          "model_module": "@jupyter-widgets/base",
          "model_name": "LayoutModel",
          "model_module_version": "1.2.0",
          "state": {
            "_model_module": "@jupyter-widgets/base",
            "_model_module_version": "1.2.0",
            "_model_name": "LayoutModel",
            "_view_count": null,
            "_view_module": "@jupyter-widgets/base",
            "_view_module_version": "1.2.0",
            "_view_name": "LayoutView",
            "align_content": null,
            "align_items": null,
            "align_self": null,
            "border": null,
            "bottom": null,
            "display": null,
            "flex": null,
            "flex_flow": null,
            "grid_area": null,
            "grid_auto_columns": null,
            "grid_auto_flow": null,
            "grid_auto_rows": null,
            "grid_column": null,
            "grid_gap": null,
            "grid_row": null,
            "grid_template_areas": null,
            "grid_template_columns": null,
            "grid_template_rows": null,
            "height": null,
            "justify_content": null,
            "justify_items": null,
            "left": null,
            "margin": null,
            "max_height": null,
            "max_width": null,
            "min_height": null,
            "min_width": null,
            "object_fit": null,
            "object_position": null,
            "order": null,
            "overflow": null,
            "overflow_x": null,
            "overflow_y": null,
            "padding": null,
            "right": null,
            "top": null,
            "visibility": null,
            "width": null
          }
        },
        "53c9eac43de842f68100c19210d14db8": {
          "model_module": "@jupyter-widgets/base",
          "model_name": "LayoutModel",
          "model_module_version": "1.2.0",
          "state": {
            "_model_module": "@jupyter-widgets/base",
            "_model_module_version": "1.2.0",
            "_model_name": "LayoutModel",
            "_view_count": null,
            "_view_module": "@jupyter-widgets/base",
            "_view_module_version": "1.2.0",
            "_view_name": "LayoutView",
            "align_content": null,
            "align_items": null,
            "align_self": null,
            "border": null,
            "bottom": null,
            "display": null,
            "flex": null,
            "flex_flow": null,
            "grid_area": null,
            "grid_auto_columns": null,
            "grid_auto_flow": null,
            "grid_auto_rows": null,
            "grid_column": null,
            "grid_gap": null,
            "grid_row": null,
            "grid_template_areas": null,
            "grid_template_columns": null,
            "grid_template_rows": null,
            "height": null,
            "justify_content": null,
            "justify_items": null,
            "left": null,
            "margin": null,
            "max_height": null,
            "max_width": null,
            "min_height": null,
            "min_width": null,
            "object_fit": null,
            "object_position": null,
            "order": null,
            "overflow": null,
            "overflow_x": null,
            "overflow_y": null,
            "padding": null,
            "right": null,
            "top": null,
            "visibility": null,
            "width": null
          }
        },
        "4b002bbe80324f8cb03ca5199d842cac": {
          "model_module": "@jupyter-widgets/controls",
          "model_name": "DescriptionStyleModel",
          "model_module_version": "1.5.0",
          "state": {
            "_model_module": "@jupyter-widgets/controls",
            "_model_module_version": "1.5.0",
            "_model_name": "DescriptionStyleModel",
            "_view_count": null,
            "_view_module": "@jupyter-widgets/base",
            "_view_module_version": "1.2.0",
            "_view_name": "StyleView",
            "description_width": ""
          }
        },
        "6f6ca939b9be4666a650ba06bba7bb80": {
          "model_module": "@jupyter-widgets/base",
          "model_name": "LayoutModel",
          "model_module_version": "1.2.0",
          "state": {
            "_model_module": "@jupyter-widgets/base",
            "_model_module_version": "1.2.0",
            "_model_name": "LayoutModel",
            "_view_count": null,
            "_view_module": "@jupyter-widgets/base",
            "_view_module_version": "1.2.0",
            "_view_name": "LayoutView",
            "align_content": null,
            "align_items": null,
            "align_self": null,
            "border": null,
            "bottom": null,
            "display": null,
            "flex": null,
            "flex_flow": null,
            "grid_area": null,
            "grid_auto_columns": null,
            "grid_auto_flow": null,
            "grid_auto_rows": null,
            "grid_column": null,
            "grid_gap": null,
            "grid_row": null,
            "grid_template_areas": null,
            "grid_template_columns": null,
            "grid_template_rows": null,
            "height": null,
            "justify_content": null,
            "justify_items": null,
            "left": null,
            "margin": null,
            "max_height": null,
            "max_width": null,
            "min_height": null,
            "min_width": null,
            "object_fit": null,
            "object_position": null,
            "order": null,
            "overflow": null,
            "overflow_x": null,
            "overflow_y": null,
            "padding": null,
            "right": null,
            "top": null,
            "visibility": null,
            "width": null
          }
        },
        "f742f979e94f403798f4cdf804e2b4bf": {
          "model_module": "@jupyter-widgets/controls",
          "model_name": "ProgressStyleModel",
          "model_module_version": "1.5.0",
          "state": {
            "_model_module": "@jupyter-widgets/controls",
            "_model_module_version": "1.5.0",
            "_model_name": "ProgressStyleModel",
            "_view_count": null,
            "_view_module": "@jupyter-widgets/base",
            "_view_module_version": "1.2.0",
            "_view_name": "StyleView",
            "bar_color": null,
            "description_width": ""
          }
        },
        "b80fd0bfce2b434fbb018d9cad51ba58": {
          "model_module": "@jupyter-widgets/base",
          "model_name": "LayoutModel",
          "model_module_version": "1.2.0",
          "state": {
            "_model_module": "@jupyter-widgets/base",
            "_model_module_version": "1.2.0",
            "_model_name": "LayoutModel",
            "_view_count": null,
            "_view_module": "@jupyter-widgets/base",
            "_view_module_version": "1.2.0",
            "_view_name": "LayoutView",
            "align_content": null,
            "align_items": null,
            "align_self": null,
            "border": null,
            "bottom": null,
            "display": null,
            "flex": null,
            "flex_flow": null,
            "grid_area": null,
            "grid_auto_columns": null,
            "grid_auto_flow": null,
            "grid_auto_rows": null,
            "grid_column": null,
            "grid_gap": null,
            "grid_row": null,
            "grid_template_areas": null,
            "grid_template_columns": null,
            "grid_template_rows": null,
            "height": null,
            "justify_content": null,
            "justify_items": null,
            "left": null,
            "margin": null,
            "max_height": null,
            "max_width": null,
            "min_height": null,
            "min_width": null,
            "object_fit": null,
            "object_position": null,
            "order": null,
            "overflow": null,
            "overflow_x": null,
            "overflow_y": null,
            "padding": null,
            "right": null,
            "top": null,
            "visibility": null,
            "width": null
          }
        },
        "a35c5cb5e1ea4f4dac7d2623e8802f88": {
          "model_module": "@jupyter-widgets/controls",
          "model_name": "DescriptionStyleModel",
          "model_module_version": "1.5.0",
          "state": {
            "_model_module": "@jupyter-widgets/controls",
            "_model_module_version": "1.5.0",
            "_model_name": "DescriptionStyleModel",
            "_view_count": null,
            "_view_module": "@jupyter-widgets/base",
            "_view_module_version": "1.2.0",
            "_view_name": "StyleView",
            "description_width": ""
          }
        },
        "9702a05c9364403ca23f957e4b55d497": {
          "model_module": "@jupyter-widgets/controls",
          "model_name": "HBoxModel",
          "model_module_version": "1.5.0",
          "state": {
            "_dom_classes": [],
            "_model_module": "@jupyter-widgets/controls",
            "_model_module_version": "1.5.0",
            "_model_name": "HBoxModel",
            "_view_count": null,
            "_view_module": "@jupyter-widgets/controls",
            "_view_module_version": "1.5.0",
            "_view_name": "HBoxView",
            "box_style": "",
            "children": [
              "IPY_MODEL_04c0a21a96a04c1091d9956183791328",
              "IPY_MODEL_036144a709bd4f83b29b56f0b3d26230",
              "IPY_MODEL_696fd73108594478b6d8e33af44a311f"
            ],
            "layout": "IPY_MODEL_0c98ee1ff939442abf6ee7d34c972c66"
          }
        },
        "04c0a21a96a04c1091d9956183791328": {
          "model_module": "@jupyter-widgets/controls",
          "model_name": "HTMLModel",
          "model_module_version": "1.5.0",
          "state": {
            "_dom_classes": [],
            "_model_module": "@jupyter-widgets/controls",
            "_model_module_version": "1.5.0",
            "_model_name": "HTMLModel",
            "_view_count": null,
            "_view_module": "@jupyter-widgets/controls",
            "_view_module_version": "1.5.0",
            "_view_name": "HTMLView",
            "description": "",
            "description_tooltip": null,
            "layout": "IPY_MODEL_65e9948a47d040668123cb213516201b",
            "placeholder": "​",
            "style": "IPY_MODEL_6cbce1c93fac4400be6b25efe522c019",
            "value": "vocab.json: 100%"
          }
        },
        "036144a709bd4f83b29b56f0b3d26230": {
          "model_module": "@jupyter-widgets/controls",
          "model_name": "FloatProgressModel",
          "model_module_version": "1.5.0",
          "state": {
            "_dom_classes": [],
            "_model_module": "@jupyter-widgets/controls",
            "_model_module_version": "1.5.0",
            "_model_name": "FloatProgressModel",
            "_view_count": null,
            "_view_module": "@jupyter-widgets/controls",
            "_view_module_version": "1.5.0",
            "_view_name": "ProgressView",
            "bar_style": "success",
            "description": "",
            "description_tooltip": null,
            "layout": "IPY_MODEL_1b5028b0b81848a6838da45bb0732342",
            "max": 898822,
            "min": 0,
            "orientation": "horizontal",
            "style": "IPY_MODEL_09d314ecfe1c4fa9bb80493cf4a2ec1e",
            "value": 898822
          }
        },
        "696fd73108594478b6d8e33af44a311f": {
          "model_module": "@jupyter-widgets/controls",
          "model_name": "HTMLModel",
          "model_module_version": "1.5.0",
          "state": {
            "_dom_classes": [],
            "_model_module": "@jupyter-widgets/controls",
            "_model_module_version": "1.5.0",
            "_model_name": "HTMLModel",
            "_view_count": null,
            "_view_module": "@jupyter-widgets/controls",
            "_view_module_version": "1.5.0",
            "_view_name": "HTMLView",
            "description": "",
            "description_tooltip": null,
            "layout": "IPY_MODEL_03c535e780204cd1a70cdb3ec6e612ac",
            "placeholder": "​",
            "style": "IPY_MODEL_9ea8f4ebe1c6450db6c52944c8297baf",
            "value": " 899k/899k [00:00&lt;00:00, 16.1MB/s]"
          }
        },
        "0c98ee1ff939442abf6ee7d34c972c66": {
          "model_module": "@jupyter-widgets/base",
          "model_name": "LayoutModel",
          "model_module_version": "1.2.0",
          "state": {
            "_model_module": "@jupyter-widgets/base",
            "_model_module_version": "1.2.0",
            "_model_name": "LayoutModel",
            "_view_count": null,
            "_view_module": "@jupyter-widgets/base",
            "_view_module_version": "1.2.0",
            "_view_name": "LayoutView",
            "align_content": null,
            "align_items": null,
            "align_self": null,
            "border": null,
            "bottom": null,
            "display": null,
            "flex": null,
            "flex_flow": null,
            "grid_area": null,
            "grid_auto_columns": null,
            "grid_auto_flow": null,
            "grid_auto_rows": null,
            "grid_column": null,
            "grid_gap": null,
            "grid_row": null,
            "grid_template_areas": null,
            "grid_template_columns": null,
            "grid_template_rows": null,
            "height": null,
            "justify_content": null,
            "justify_items": null,
            "left": null,
            "margin": null,
            "max_height": null,
            "max_width": null,
            "min_height": null,
            "min_width": null,
            "object_fit": null,
            "object_position": null,
            "order": null,
            "overflow": null,
            "overflow_x": null,
            "overflow_y": null,
            "padding": null,
            "right": null,
            "top": null,
            "visibility": null,
            "width": null
          }
        },
        "65e9948a47d040668123cb213516201b": {
          "model_module": "@jupyter-widgets/base",
          "model_name": "LayoutModel",
          "model_module_version": "1.2.0",
          "state": {
            "_model_module": "@jupyter-widgets/base",
            "_model_module_version": "1.2.0",
            "_model_name": "LayoutModel",
            "_view_count": null,
            "_view_module": "@jupyter-widgets/base",
            "_view_module_version": "1.2.0",
            "_view_name": "LayoutView",
            "align_content": null,
            "align_items": null,
            "align_self": null,
            "border": null,
            "bottom": null,
            "display": null,
            "flex": null,
            "flex_flow": null,
            "grid_area": null,
            "grid_auto_columns": null,
            "grid_auto_flow": null,
            "grid_auto_rows": null,
            "grid_column": null,
            "grid_gap": null,
            "grid_row": null,
            "grid_template_areas": null,
            "grid_template_columns": null,
            "grid_template_rows": null,
            "height": null,
            "justify_content": null,
            "justify_items": null,
            "left": null,
            "margin": null,
            "max_height": null,
            "max_width": null,
            "min_height": null,
            "min_width": null,
            "object_fit": null,
            "object_position": null,
            "order": null,
            "overflow": null,
            "overflow_x": null,
            "overflow_y": null,
            "padding": null,
            "right": null,
            "top": null,
            "visibility": null,
            "width": null
          }
        },
        "6cbce1c93fac4400be6b25efe522c019": {
          "model_module": "@jupyter-widgets/controls",
          "model_name": "DescriptionStyleModel",
          "model_module_version": "1.5.0",
          "state": {
            "_model_module": "@jupyter-widgets/controls",
            "_model_module_version": "1.5.0",
            "_model_name": "DescriptionStyleModel",
            "_view_count": null,
            "_view_module": "@jupyter-widgets/base",
            "_view_module_version": "1.2.0",
            "_view_name": "StyleView",
            "description_width": ""
          }
        },
        "1b5028b0b81848a6838da45bb0732342": {
          "model_module": "@jupyter-widgets/base",
          "model_name": "LayoutModel",
          "model_module_version": "1.2.0",
          "state": {
            "_model_module": "@jupyter-widgets/base",
            "_model_module_version": "1.2.0",
            "_model_name": "LayoutModel",
            "_view_count": null,
            "_view_module": "@jupyter-widgets/base",
            "_view_module_version": "1.2.0",
            "_view_name": "LayoutView",
            "align_content": null,
            "align_items": null,
            "align_self": null,
            "border": null,
            "bottom": null,
            "display": null,
            "flex": null,
            "flex_flow": null,
            "grid_area": null,
            "grid_auto_columns": null,
            "grid_auto_flow": null,
            "grid_auto_rows": null,
            "grid_column": null,
            "grid_gap": null,
            "grid_row": null,
            "grid_template_areas": null,
            "grid_template_columns": null,
            "grid_template_rows": null,
            "height": null,
            "justify_content": null,
            "justify_items": null,
            "left": null,
            "margin": null,
            "max_height": null,
            "max_width": null,
            "min_height": null,
            "min_width": null,
            "object_fit": null,
            "object_position": null,
            "order": null,
            "overflow": null,
            "overflow_x": null,
            "overflow_y": null,
            "padding": null,
            "right": null,
            "top": null,
            "visibility": null,
            "width": null
          }
        },
        "09d314ecfe1c4fa9bb80493cf4a2ec1e": {
          "model_module": "@jupyter-widgets/controls",
          "model_name": "ProgressStyleModel",
          "model_module_version": "1.5.0",
          "state": {
            "_model_module": "@jupyter-widgets/controls",
            "_model_module_version": "1.5.0",
            "_model_name": "ProgressStyleModel",
            "_view_count": null,
            "_view_module": "@jupyter-widgets/base",
            "_view_module_version": "1.2.0",
            "_view_name": "StyleView",
            "bar_color": null,
            "description_width": ""
          }
        },
        "03c535e780204cd1a70cdb3ec6e612ac": {
          "model_module": "@jupyter-widgets/base",
          "model_name": "LayoutModel",
          "model_module_version": "1.2.0",
          "state": {
            "_model_module": "@jupyter-widgets/base",
            "_model_module_version": "1.2.0",
            "_model_name": "LayoutModel",
            "_view_count": null,
            "_view_module": "@jupyter-widgets/base",
            "_view_module_version": "1.2.0",
            "_view_name": "LayoutView",
            "align_content": null,
            "align_items": null,
            "align_self": null,
            "border": null,
            "bottom": null,
            "display": null,
            "flex": null,
            "flex_flow": null,
            "grid_area": null,
            "grid_auto_columns": null,
            "grid_auto_flow": null,
            "grid_auto_rows": null,
            "grid_column": null,
            "grid_gap": null,
            "grid_row": null,
            "grid_template_areas": null,
            "grid_template_columns": null,
            "grid_template_rows": null,
            "height": null,
            "justify_content": null,
            "justify_items": null,
            "left": null,
            "margin": null,
            "max_height": null,
            "max_width": null,
            "min_height": null,
            "min_width": null,
            "object_fit": null,
            "object_position": null,
            "order": null,
            "overflow": null,
            "overflow_x": null,
            "overflow_y": null,
            "padding": null,
            "right": null,
            "top": null,
            "visibility": null,
            "width": null
          }
        },
        "9ea8f4ebe1c6450db6c52944c8297baf": {
          "model_module": "@jupyter-widgets/controls",
          "model_name": "DescriptionStyleModel",
          "model_module_version": "1.5.0",
          "state": {
            "_model_module": "@jupyter-widgets/controls",
            "_model_module_version": "1.5.0",
            "_model_name": "DescriptionStyleModel",
            "_view_count": null,
            "_view_module": "@jupyter-widgets/base",
            "_view_module_version": "1.2.0",
            "_view_name": "StyleView",
            "description_width": ""
          }
        },
        "f68d803691c64a8289e26d7e4a0bbdd8": {
          "model_module": "@jupyter-widgets/controls",
          "model_name": "HBoxModel",
          "model_module_version": "1.5.0",
          "state": {
            "_dom_classes": [],
            "_model_module": "@jupyter-widgets/controls",
            "_model_module_version": "1.5.0",
            "_model_name": "HBoxModel",
            "_view_count": null,
            "_view_module": "@jupyter-widgets/controls",
            "_view_module_version": "1.5.0",
            "_view_name": "HBoxView",
            "box_style": "",
            "children": [
              "IPY_MODEL_c9a949c738b34655b6de5abe324757a9",
              "IPY_MODEL_34c415eb16cb4e2699c7eb1f08791f88",
              "IPY_MODEL_30caebbba1de4729a0d9b666a912fb5a"
            ],
            "layout": "IPY_MODEL_70848ebc2b294857a5d1ed5c9cb1f816"
          }
        },
        "c9a949c738b34655b6de5abe324757a9": {
          "model_module": "@jupyter-widgets/controls",
          "model_name": "HTMLModel",
          "model_module_version": "1.5.0",
          "state": {
            "_dom_classes": [],
            "_model_module": "@jupyter-widgets/controls",
            "_model_module_version": "1.5.0",
            "_model_name": "HTMLModel",
            "_view_count": null,
            "_view_module": "@jupyter-widgets/controls",
            "_view_module_version": "1.5.0",
            "_view_name": "HTMLView",
            "description": "",
            "description_tooltip": null,
            "layout": "IPY_MODEL_37489ebe2f9a487ca99148cf5a7cc627",
            "placeholder": "​",
            "style": "IPY_MODEL_b2010dd969f14c3aafffdd9aa6fca251",
            "value": "merges.txt: 100%"
          }
        },
        "34c415eb16cb4e2699c7eb1f08791f88": {
          "model_module": "@jupyter-widgets/controls",
          "model_name": "FloatProgressModel",
          "model_module_version": "1.5.0",
          "state": {
            "_dom_classes": [],
            "_model_module": "@jupyter-widgets/controls",
            "_model_module_version": "1.5.0",
            "_model_name": "FloatProgressModel",
            "_view_count": null,
            "_view_module": "@jupyter-widgets/controls",
            "_view_module_version": "1.5.0",
            "_view_name": "ProgressView",
            "bar_style": "success",
            "description": "",
            "description_tooltip": null,
            "layout": "IPY_MODEL_3224062b698348869c0b867c0988f8c1",
            "max": 456318,
            "min": 0,
            "orientation": "horizontal",
            "style": "IPY_MODEL_9379aa79a6b844e9a902ac21262696bc",
            "value": 456318
          }
        },
        "30caebbba1de4729a0d9b666a912fb5a": {
          "model_module": "@jupyter-widgets/controls",
          "model_name": "HTMLModel",
          "model_module_version": "1.5.0",
          "state": {
            "_dom_classes": [],
            "_model_module": "@jupyter-widgets/controls",
            "_model_module_version": "1.5.0",
            "_model_name": "HTMLModel",
            "_view_count": null,
            "_view_module": "@jupyter-widgets/controls",
            "_view_module_version": "1.5.0",
            "_view_name": "HTMLView",
            "description": "",
            "description_tooltip": null,
            "layout": "IPY_MODEL_0214bb52dd8546fd85ea3503d9b9e05f",
            "placeholder": "​",
            "style": "IPY_MODEL_aaf4c412f606464f84c08d4339797538",
            "value": " 456k/456k [00:00&lt;00:00, 12.6MB/s]"
          }
        },
        "70848ebc2b294857a5d1ed5c9cb1f816": {
          "model_module": "@jupyter-widgets/base",
          "model_name": "LayoutModel",
          "model_module_version": "1.2.0",
          "state": {
            "_model_module": "@jupyter-widgets/base",
            "_model_module_version": "1.2.0",
            "_model_name": "LayoutModel",
            "_view_count": null,
            "_view_module": "@jupyter-widgets/base",
            "_view_module_version": "1.2.0",
            "_view_name": "LayoutView",
            "align_content": null,
            "align_items": null,
            "align_self": null,
            "border": null,
            "bottom": null,
            "display": null,
            "flex": null,
            "flex_flow": null,
            "grid_area": null,
            "grid_auto_columns": null,
            "grid_auto_flow": null,
            "grid_auto_rows": null,
            "grid_column": null,
            "grid_gap": null,
            "grid_row": null,
            "grid_template_areas": null,
            "grid_template_columns": null,
            "grid_template_rows": null,
            "height": null,
            "justify_content": null,
            "justify_items": null,
            "left": null,
            "margin": null,
            "max_height": null,
            "max_width": null,
            "min_height": null,
            "min_width": null,
            "object_fit": null,
            "object_position": null,
            "order": null,
            "overflow": null,
            "overflow_x": null,
            "overflow_y": null,
            "padding": null,
            "right": null,
            "top": null,
            "visibility": null,
            "width": null
          }
        },
        "37489ebe2f9a487ca99148cf5a7cc627": {
          "model_module": "@jupyter-widgets/base",
          "model_name": "LayoutModel",
          "model_module_version": "1.2.0",
          "state": {
            "_model_module": "@jupyter-widgets/base",
            "_model_module_version": "1.2.0",
            "_model_name": "LayoutModel",
            "_view_count": null,
            "_view_module": "@jupyter-widgets/base",
            "_view_module_version": "1.2.0",
            "_view_name": "LayoutView",
            "align_content": null,
            "align_items": null,
            "align_self": null,
            "border": null,
            "bottom": null,
            "display": null,
            "flex": null,
            "flex_flow": null,
            "grid_area": null,
            "grid_auto_columns": null,
            "grid_auto_flow": null,
            "grid_auto_rows": null,
            "grid_column": null,
            "grid_gap": null,
            "grid_row": null,
            "grid_template_areas": null,
            "grid_template_columns": null,
            "grid_template_rows": null,
            "height": null,
            "justify_content": null,
            "justify_items": null,
            "left": null,
            "margin": null,
            "max_height": null,
            "max_width": null,
            "min_height": null,
            "min_width": null,
            "object_fit": null,
            "object_position": null,
            "order": null,
            "overflow": null,
            "overflow_x": null,
            "overflow_y": null,
            "padding": null,
            "right": null,
            "top": null,
            "visibility": null,
            "width": null
          }
        },
        "b2010dd969f14c3aafffdd9aa6fca251": {
          "model_module": "@jupyter-widgets/controls",
          "model_name": "DescriptionStyleModel",
          "model_module_version": "1.5.0",
          "state": {
            "_model_module": "@jupyter-widgets/controls",
            "_model_module_version": "1.5.0",
            "_model_name": "DescriptionStyleModel",
            "_view_count": null,
            "_view_module": "@jupyter-widgets/base",
            "_view_module_version": "1.2.0",
            "_view_name": "StyleView",
            "description_width": ""
          }
        },
        "3224062b698348869c0b867c0988f8c1": {
          "model_module": "@jupyter-widgets/base",
          "model_name": "LayoutModel",
          "model_module_version": "1.2.0",
          "state": {
            "_model_module": "@jupyter-widgets/base",
            "_model_module_version": "1.2.0",
            "_model_name": "LayoutModel",
            "_view_count": null,
            "_view_module": "@jupyter-widgets/base",
            "_view_module_version": "1.2.0",
            "_view_name": "LayoutView",
            "align_content": null,
            "align_items": null,
            "align_self": null,
            "border": null,
            "bottom": null,
            "display": null,
            "flex": null,
            "flex_flow": null,
            "grid_area": null,
            "grid_auto_columns": null,
            "grid_auto_flow": null,
            "grid_auto_rows": null,
            "grid_column": null,
            "grid_gap": null,
            "grid_row": null,
            "grid_template_areas": null,
            "grid_template_columns": null,
            "grid_template_rows": null,
            "height": null,
            "justify_content": null,
            "justify_items": null,
            "left": null,
            "margin": null,
            "max_height": null,
            "max_width": null,
            "min_height": null,
            "min_width": null,
            "object_fit": null,
            "object_position": null,
            "order": null,
            "overflow": null,
            "overflow_x": null,
            "overflow_y": null,
            "padding": null,
            "right": null,
            "top": null,
            "visibility": null,
            "width": null
          }
        },
        "9379aa79a6b844e9a902ac21262696bc": {
          "model_module": "@jupyter-widgets/controls",
          "model_name": "ProgressStyleModel",
          "model_module_version": "1.5.0",
          "state": {
            "_model_module": "@jupyter-widgets/controls",
            "_model_module_version": "1.5.0",
            "_model_name": "ProgressStyleModel",
            "_view_count": null,
            "_view_module": "@jupyter-widgets/base",
            "_view_module_version": "1.2.0",
            "_view_name": "StyleView",
            "bar_color": null,
            "description_width": ""
          }
        },
        "0214bb52dd8546fd85ea3503d9b9e05f": {
          "model_module": "@jupyter-widgets/base",
          "model_name": "LayoutModel",
          "model_module_version": "1.2.0",
          "state": {
            "_model_module": "@jupyter-widgets/base",
            "_model_module_version": "1.2.0",
            "_model_name": "LayoutModel",
            "_view_count": null,
            "_view_module": "@jupyter-widgets/base",
            "_view_module_version": "1.2.0",
            "_view_name": "LayoutView",
            "align_content": null,
            "align_items": null,
            "align_self": null,
            "border": null,
            "bottom": null,
            "display": null,
            "flex": null,
            "flex_flow": null,
            "grid_area": null,
            "grid_auto_columns": null,
            "grid_auto_flow": null,
            "grid_auto_rows": null,
            "grid_column": null,
            "grid_gap": null,
            "grid_row": null,
            "grid_template_areas": null,
            "grid_template_columns": null,
            "grid_template_rows": null,
            "height": null,
            "justify_content": null,
            "justify_items": null,
            "left": null,
            "margin": null,
            "max_height": null,
            "max_width": null,
            "min_height": null,
            "min_width": null,
            "object_fit": null,
            "object_position": null,
            "order": null,
            "overflow": null,
            "overflow_x": null,
            "overflow_y": null,
            "padding": null,
            "right": null,
            "top": null,
            "visibility": null,
            "width": null
          }
        },
        "aaf4c412f606464f84c08d4339797538": {
          "model_module": "@jupyter-widgets/controls",
          "model_name": "DescriptionStyleModel",
          "model_module_version": "1.5.0",
          "state": {
            "_model_module": "@jupyter-widgets/controls",
            "_model_module_version": "1.5.0",
            "_model_name": "DescriptionStyleModel",
            "_view_count": null,
            "_view_module": "@jupyter-widgets/base",
            "_view_module_version": "1.2.0",
            "_view_name": "StyleView",
            "description_width": ""
          }
        }
      }
    }
  },
  "nbformat": 4,
  "nbformat_minor": 0
}