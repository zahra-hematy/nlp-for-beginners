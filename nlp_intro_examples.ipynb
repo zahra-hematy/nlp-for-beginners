{
  "cells": [
    {
      "cell_type": "markdown",
      "source": [
        "## Import Libraries"
      ],
      "metadata": {
        "id": "jCDgqlESorm7"
      }
    },
    {
      "cell_type": "code",
      "source": [
        "import nltk\n",
        "from nltk.tokenize import word_tokenize\n",
        "import re\n",
        "from nltk.corpus import stopwords\n",
        "from hazm import word_tokenize, stopwords_list\n",
        "import spacy\n",
        "from sklearn.feature_extraction.text import TfidfVectorizer\n",
        "from sklearn.feature_extraction.text import CountVectorizer\n",
        "import gensim\n",
        "# !python -m spacy download en_core_web_md\n",
        "# !pip install hazm"
      ],
      "metadata": {
        "id": "F1wmN3YQonNX"
      },
      "execution_count": 7,
      "outputs": []
    },
    {
      "cell_type": "markdown",
      "metadata": {
        "id": "RmQM2G0rl3Cc"
      },
      "source": [
        "# Preprocessing with Python\n",
        "\n",
        "At the beginning, I provided a simple example of basic text preprocessing in Python for natural language processing (NLP):\n",
        "\n",
        "Convert Text to Lowercase:\n",
        "The input text is converted to lowercase to ensure uniformity and avoid case sensitivity during processing.\n",
        "\n",
        "Tokenization (Splitting Text into Words):\n",
        "The lowercase text is split into a list of individual words (tokens) for easier manipulation.\n",
        "\n",
        "Stop Words Removal:\n",
        "Common and less meaningful words such as “is,” “a,” “the,” and others are removed from the list to focus on more important words and improve further text analysis."
      ]
    },
    {
      "cell_type": "markdown",
      "metadata": {
        "id": "hIou6Z9Cj_jE"
      },
      "source": [
        "## Read text\n",
        "\n",
        "\n",
        "\n",
        "\n",
        "\n"
      ]
    },
    {
      "cell_type": "code",
      "execution_count": 2,
      "metadata": {
        "colab": {
          "base_uri": "https://localhost:8080/",
          "height": 36
        },
        "id": "wiozDTPvboiD",
        "outputId": "182b7ee3-1d61-411d-dcb1-83c827c3a8df"
      },
      "outputs": [
        {
          "output_type": "execute_result",
          "data": {
            "text/plain": [
              "'Hello this is me, again and this is our king. the king is a man. Apple is Green'"
            ],
            "application/vnd.google.colaboratory.intrinsic+json": {
              "type": "string"
            }
          },
          "metadata": {},
          "execution_count": 2
        }
      ],
      "source": [
        "text = 'Hello this is me, again and this is our king. the king is a man. Apple is Green'\n",
        "text"
      ]
    },
    {
      "cell_type": "markdown",
      "metadata": {
        "id": "Wy8KS8hAj1PF"
      },
      "source": [
        "## Split text into words and lower them\n"
      ]
    },
    {
      "cell_type": "code",
      "execution_count": 3,
      "metadata": {
        "colab": {
          "base_uri": "https://localhost:8080/"
        },
        "id": "XstRjS8NfNjB",
        "outputId": "c715994c-f5ea-412e-a8f5-9f08c057fa94"
      },
      "outputs": [
        {
          "output_type": "stream",
          "name": "stdout",
          "text": [
            "['hello', 'this', 'is', 'me,', 'again', 'and', 'this', 'is', 'our', 'king.', 'the', 'king', 'is', 'a', 'man.', 'apple', 'is', 'green'], <class 'list'>\n"
          ]
        }
      ],
      "source": [
        "words = text.lower()\n",
        "words = words.split()\n",
        "print('{}, {}'.format(words, type(words)))"
      ]
    },
    {
      "cell_type": "markdown",
      "metadata": {
        "id": "-mrTbA35kbvF"
      },
      "source": [
        "##Delete stop words\n",
        "stop words don't have valuable information"
      ]
    },
    {
      "cell_type": "code",
      "execution_count": 4,
      "metadata": {
        "colab": {
          "base_uri": "https://localhost:8080/"
        },
        "id": "BkSJqzZ4gCAQ",
        "outputId": "27b07089-1196-4b3a-e206-0112fe34d7ba"
      },
      "outputs": [
        {
          "output_type": "execute_result",
          "data": {
            "text/plain": [
              "['hello',\n",
              " 'me,',\n",
              " 'again',\n",
              " 'and',\n",
              " 'this',\n",
              " 'is',\n",
              " 'our',\n",
              " 'king.',\n",
              " 'king',\n",
              " 'is',\n",
              " 'man.',\n",
              " 'apple',\n",
              " 'is',\n",
              " 'green']"
            ]
          },
          "metadata": {},
          "execution_count": 4
        }
      ],
      "source": [
        "stop_words = ['is', 'a', 'the', 'that','this']\n",
        "for word in stop_words:\n",
        "  if word in words:\n",
        "        words.remove(word)\n",
        "words"
      ]
    },
    {
      "cell_type": "markdown",
      "source": [
        "# Preprocessing with nltk library\n",
        "\n",
        "NLTK (Natural Language Toolkit) is a popular Python library used for working with human language data (text). It provides easy-to-use tools for tasks such as tokenization, stop word removal, stemming, tagging, parsing, and more, making it a great choice for learning and implementing NLP.\n",
        "This library is simple and fast, but doesn't support persian texts\n",
        "\n",
        "\n",
        "\n"
      ],
      "metadata": {
        "id": "LDvhQzNrC4VK"
      }
    },
    {
      "cell_type": "markdown",
      "source": [
        "Remove Punctuation:\n",
        "Using the re.sub() function, all characters except word characters (\\w) and whitespace (\\s) are removed from the text. This cleans the text by eliminating punctuation marks and special symbols.\n",
        "\n",
        "Convert to Lowercase:\n",
        "After cleaning, the text is converted to lowercase to standardize it for further processing.\n",
        "\n"
      ],
      "metadata": {
        "id": "zQdHI5jZCG0d"
      }
    },
    {
      "cell_type": "code",
      "source": [
        "cleaned_data = re.sub(r'[^\\w\\s]', '', text)\n",
        "cleaned_data\n",
        "lowercase_text = cleaned_data.lower()\n",
        "print(lowercase_text)"
      ],
      "metadata": {
        "colab": {
          "base_uri": "https://localhost:8080/"
        },
        "id": "AtUtGKXMByiq",
        "outputId": "0985f59d-7eea-4629-d59f-860305bc868f"
      },
      "execution_count": 5,
      "outputs": [
        {
          "output_type": "stream",
          "name": "stdout",
          "text": [
            "hello this is me again and this is our king the king is a man apple is green\n"
          ]
        }
      ]
    },
    {
      "cell_type": "markdown",
      "source": [
        "##Tokenize sentence\n",
        "We use a pre-train model called 'punkt_tab'. Each sentence turn into multiple words (Word Tokenization)\n",
        "The word_tokenize function uses pre-trained models (downloaded with nltk.download('punkt')) to accurately identify word boundaries, including handling punctuation and contractions."
      ],
      "metadata": {
        "id": "u7CFyQ2CHyF_"
      }
    },
    {
      "cell_type": "code",
      "source": [
        "nltk.download('punkt_tab')\n",
        "t = word_tokenize(text)\n",
        "t"
      ],
      "metadata": {
        "colab": {
          "base_uri": "https://localhost:8080/"
        },
        "id": "9CPvdpOZHmQK",
        "outputId": "35e1d353-bd40-40bd-aed4-ee9c65464e0c"
      },
      "execution_count": 6,
      "outputs": [
        {
          "output_type": "stream",
          "name": "stderr",
          "text": [
            "[nltk_data] Downloading package punkt_tab to /root/nltk_data...\n",
            "[nltk_data]   Package punkt_tab is already up-to-date!\n"
          ]
        },
        {
          "output_type": "execute_result",
          "data": {
            "text/plain": [
              "['Hello',\n",
              " 'this',\n",
              " 'is',\n",
              " 'me',\n",
              " ',',\n",
              " 'again',\n",
              " 'and',\n",
              " 'this',\n",
              " 'is',\n",
              " 'our',\n",
              " 'king',\n",
              " '.',\n",
              " 'the',\n",
              " 'king',\n",
              " 'is',\n",
              " 'a',\n",
              " 'man',\n",
              " '.',\n",
              " 'Apple',\n",
              " 'is',\n",
              " 'Green']"
            ]
          },
          "metadata": {},
          "execution_count": 6
        }
      ]
    },
    {
      "cell_type": "markdown",
      "source": [
        "## Remove Stop Words and punctuations\n",
        "\n",
        "\n"
      ],
      "metadata": {
        "id": "LX0BqVcECtsW"
      }
    },
    {
      "cell_type": "code",
      "source": [
        "nltk.download('stopwords')\n",
        "# List of English stopwords\n",
        "stop_words = set(stopwords.words('english'))\n",
        "print(f'stop words in English are {stop_words}')\n",
        "# Remove stopwords\n",
        "filtered_tokens = [word for word in t if word.isalpha() and word.lower() not in stop_words]\n",
        "\n",
        "print(f'final tokens are: {filtered_tokens}')\n"
      ],
      "metadata": {
        "colab": {
          "base_uri": "https://localhost:8080/"
        },
        "id": "Mg9p7vIpCuZI",
        "outputId": "23227155-8afd-4b68-e087-8d10bba58242"
      },
      "execution_count": 7,
      "outputs": [
        {
          "output_type": "stream",
          "name": "stdout",
          "text": [
            "stop words in English are {'most', \"he's\", 'if', 'which', 'between', \"we'll\", \"mightn't\", 'by', 'an', \"they're\", \"i'd\", 'here', 'below', 'while', 'your', 'hasn', \"it's\", 'its', 'and', 'ourselves', 'each', 'do', \"i'll\", \"you'll\", 'weren', 'from', 'itself', 'in', 'because', \"i'm\", 'were', 'ma', 'all', 'll', 'yourself', \"doesn't\", \"that'll\", 'wasn', 'then', 'both', 'him', 'very', \"won't\", 'hadn', 'off', 'any', 'some', 'through', 'am', 'nor', 'doing', 'myself', 'than', \"wasn't\", 'me', 'few', 'his', 'own', 'with', 'further', 'after', \"we're\", 'have', \"needn't\", 'was', 'as', 'aren', 'mustn', 'or', 'shan', \"she's\", \"hadn't\", 'just', 'what', 'now', \"you're\", 'such', 'before', 'on', \"didn't\", 'under', 'yourselves', 'shouldn', 'didn', 'i', \"they'd\", 'not', 'this', 'against', 'o', \"mustn't\", 'down', 'my', 'their', 'ain', 'up', 'd', \"they'll\", \"shan't\", 'about', 'over', 'but', 'there', 're', 'you', \"he'll\", 'will', 'until', \"it'll\", 'during', 'couldn', \"shouldn't\", 've', 'isn', 'to', 'our', 'm', 'had', 'who', 'when', 'doesn', \"hasn't\", \"she'd\", 'where', 'these', 'won', 'why', 'is', \"she'll\", 'he', 'haven', 'her', 'ours', \"he'd\", 'of', 'theirs', \"wouldn't\", 'how', 'does', \"isn't\", 'themselves', 't', 'being', \"aren't\", 'himself', 'has', \"it'd\", 'so', \"weren't\", \"don't\", 'that', 'the', \"couldn't\", \"we'd\", 'mightn', 'they', 'those', 'can', 'hers', \"you'd\", 'again', 'did', 's', 'same', 'them', 'more', 'wouldn', 'out', 'once', \"should've\", 'been', 'no', 'a', \"they've\", 'she', 'should', 'too', 'are', \"we've\", 'only', 'herself', 'into', 'at', 'above', 'other', 'y', 'we', 'for', 'yours', 'be', \"haven't\", 'don', 'having', 'needn', 'whom', \"you've\", 'it', \"i've\"}\n",
            "final tokens are: ['Hello', 'king', 'king', 'man', 'Apple', 'Green']\n"
          ]
        },
        {
          "output_type": "stream",
          "name": "stderr",
          "text": [
            "[nltk_data] Downloading package stopwords to /root/nltk_data...\n",
            "[nltk_data]   Package stopwords is already up-to-date!\n"
          ]
        }
      ]
    },
    {
      "cell_type": "markdown",
      "source": [
        "#Preprocessing wit hazm library\n",
        "hazm lobrary is just like nltk but hazm support persian text."
      ],
      "metadata": {
        "id": "e6b70XniG0aD"
      }
    },
    {
      "cell_type": "code",
      "source": [
        "text2 = \"این یک متن نمونه است و باید پردازش شود.\"\n",
        "tokens = word_tokenize(text2)\n",
        "stop_words = set(stopwords_list())  # {'و', 'این', 'یک', ...}\n",
        "print(f'stop words in persian are {stop_words}')\n",
        "filtered_tokens = [word for word in tokens if word not in stop_words]\n",
        "print(f'finall token is  {filtered_tokens}')"
      ],
      "metadata": {
        "colab": {
          "base_uri": "https://localhost:8080/"
        },
        "id": "sSgao0tnB1Yw",
        "outputId": "4c4703bd-668b-4006-d22f-c01a6729a236"
      },
      "execution_count": 8,
      "outputs": [
        {
          "output_type": "stream",
          "name": "stdout",
          "text": [
            "stop words in persian are {'بی', 'رفت', 'سوی', 'دانست', 'بنابراین', 'نشست', 'گذاری', 'پی', 'دادند', 'خودش', 'درون', 'شده', 'بهترین', 'داشته_باشد', 'چیز', 'شده_اند', 'جمعی', 'زیادی', 'کردم', 'بزرگ', 'ساز', 'مانند', 'جریان', 'بوده', 'می\\u200cیابد', 'کرده_بود', 'همین', 'یکدیگر', 'باز', 'می\\u200cکرد', 'داشتند', 'شده_است', 'محسوب', 'می\\u200cکند', 'سی', 'نوعی', 'طی', 'چند', 'می\\u200cگوید', 'کوچک', 'باره', 'خواهد_شد', 'دارند', 'تبدیل', 'هیچ', 'بیشتر', 'اند', 'می\\u200cتوان', 'تهیه', 'پیدا', 'داشته_است', 'چهار', 'دوم', 'ترتیب', 'حداقل', 'سایر', 'گردد', 'لحاظ', 'بین', 'زاده', 'بوده_است', 'لازم', 'بعضی', 'شدند', 'کنید', 'همچنین', 'همیشه', 'آنان', 'کرد', 'میان', 'بیشتری', 'ساله', 'بر', 'شان', 'کامل', 'کنیم', 'اما', 'متاسفانه', 'دو', 'گفته', 'این', 'دارد', 'اش', 'می\\u200cکنیم', 'وی', 'باشد', 'آن', 'حال', 'کننده', 'پس', 'اکنون', 'برابر', 'همواره', 'چه', 'نیست', 'همچنان', 'خویش', 'اول', 'داده_است', 'آنجا', 'هنوز', 'ما', 'فوق', 'پر', 'رو', 'دور', 'چیزی', 'کسی', 'سپس', 'داده', 'علاوه', 'تعداد', 'بخشی', 'یک', 'ناشی', 'کنند', 'دهد', 'سالهای', 'طرف', 'سوم', 'افزود', 'هنگام', 'پخش', 'جایی', 'تنها', 'مشخص', 'جمع', 'داشت', 'طور', 'آنچه', 'همچون', 'جا', 'کنم', 'کمی', 'بیرون', 'آمده_است', 'وگو', 'هر', 'می\\u200cدهد', 'می\\u200cشود', 'ندارند', 'از', 'بسیار', 'دادن', 'کسانی', 'او', 'اینجا', 'بودن', 'حالی', 'دهند', 'افرادی', 'آخرین', 'می\\u200cشوند', 'تمامی', 'کل', 'براساس', 'باید', 'حد', 'ابتدا', 'حتی', 'می\\u200cتوانند', 'فکر', 'نیز', 'امر', 'می', 'گروهی', 'روند', 'شش', 'جدید', 'نیستند', 'نبود', 'اثر', 'مربوط', 'سبب', 'می\\u200cگویند', 'فقط', 'کنندگان', 'نه', 'می\\u200cرسد', 'هایی', 'صرف', 'کاملا', 'داشتن', 'تحت', 'البته', 'مواجه', 'شد', 'گرفته', 'دیگری', 'بهتر', 'کلی', 'نظر', 'داشته', 'ویژه', 'آنها', 'نوع', 'عدم', 'سراسر', 'بدون', 'افراد', 'و', 'نزدیک', 'طول', 'گرفته_است', 'بلکه', 'آمد', 'پشت', 'که', 'بار', 'شود', 'امکان', 'بندی', 'زیرا', 'متفاوت', 'عهده', 'نحوه', 'خصوص', 'چهارم', 'سه', 'من', 'نباید', 'آورد', 'وقتی', 'زیر', 'خاص', 'گرفت', 'شمار', 'دوباره', 'ع', 'طبق', 'دیگر', 'تمام', 'چون', 'خیلی', 'خوبی', 'رشد', 'می\\u200cتواند', 'نیاز', 'آیا', 'با', 'رسیدن', 'گیرد', 'می\\u200cگیرد', 'باعث', 'کردند', 'گونه', 'باشند', 'ضمن', 'موجب', 'هستند', 'دهه', 'پیش', 'داشته_باشند', 'تعیین', 'درباره', 'داریم', 'گفت', 'نظیر', 'کرده', 'دار', 'سعی', 'جای', 'جدی', 'تا', 'کدام', 'می\\u200cآید', 'یابد', 'می\\u200cشد', 'عین', 'گاه', 'اغلب', 'نخستین', 'چنین', 'برخی', 'جاری', 'بعد', 'آوری', 'مدت', 'جز', 'سمت', 'تو', 'شوند', 'سهم', 'خواهد_کرد', 'ریزی', 'آقای', 'حدود', 'منظور', 'سازی', 'در', 'فرد', 'وارد', 'نخست', 'اینکه', 'برای', 'بسیاری', 'فردی', 'به', 'راه', 'شخصی', 'کافی', 'می\\u200cرود', 'بیان', 'روی', 'قبل', 'علت', 'چرا', 'هستیم', 'رسید', 'چگونه', 'دیگران', 'شروع', 'کرده_است', 'ندارد', 'نمی\\u200cشود', 'ایشان', 'غیر', 'مثل', 'اخیر', 'اولین', 'بود', 'مورد', 'بالا', 'متر', 'علیه', 'کردن', 'برداری', 'وجود', 'هم', 'است', 'شامل', 'ممکن', 'همه', 'یعنی', 'شدن', 'قابل', 'مهم', 'می\\u200cکنم', 'خود', 'همان', 'شده_بود', 'می\\u200cدهند', 'یکی', 'عالی', 'را', 'خطر', 'آمده', 'دسته', 'کرده_اند', 'داد', 'آنکه', 'ولی', 'روبه', 'سال\\u200cهای', 'بخش', 'خوب', 'دچار', 'اجرا', 'بروز', 'یافته_است', 'می\\u200cباشد', 'شما', 'یافت', 'بیش', 'حالا', 'کم', 'کنار', 'گیری', 'شاید', 'زیاد', 'نسبت', 'خواهد_بود', 'یا', 'روش', 'حل', 'یافته', 'بودند', 'می\\u200cکنند', 'پنج', 'تاکنون', 'کند', 'اگر', 'خاطرنشان', 'مناسب', 'دارای', 'تغییر', 'می\\u200cکردند', 'نیمه', 'لذا'}\n",
            "finall token is  ['متن', 'نمونه', 'پردازش', '.']\n"
          ]
        }
      ]
    },
    {
      "cell_type": "markdown",
      "source": [
        "# Spacy library\n",
        "spaCy is a robust open-source library for Python, ideal for natural language processing (NLP) tasks.\n",
        "There is a pipeline for Spacy library:"
      ],
      "metadata": {
        "id": "ZkUVQNp1I38C"
      }
    },
    {
      "cell_type": "markdown",
      "source": [
        "![text_steps.png](data:image/png;base64,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)"
      ],
      "metadata": {
        "id": "XyWVuahQJBZ_"
      }
    },
    {
      "cell_type": "code",
      "source": [
        "nlp = spacy.load(\"en_core_web_sm\")\n",
        "text = \"Hello this is me, again and this is our king. the king is a man. Apple is Green! Ali doesn't like maryam\"\n",
        "doc = nlp(text)\n",
        "for token in doc:\n",
        "  display(token.text)"
      ],
      "metadata": {
        "colab": {
          "base_uri": "https://localhost:8080/",
          "height": 526
        },
        "id": "7_0B8SR6Kawk",
        "outputId": "6a0b3b86-b3fe-470e-8da8-62c08f677ef7"
      },
      "execution_count": 13,
      "outputs": [
        {
          "output_type": "display_data",
          "data": {
            "text/plain": [
              "'Hello'"
            ],
            "application/vnd.google.colaboratory.intrinsic+json": {
              "type": "string"
            }
          },
          "metadata": {}
        },
        {
          "output_type": "display_data",
          "data": {
            "text/plain": [
              "'this'"
            ],
            "application/vnd.google.colaboratory.intrinsic+json": {
              "type": "string"
            }
          },
          "metadata": {}
        },
        {
          "output_type": "display_data",
          "data": {
            "text/plain": [
              "'is'"
            ],
            "application/vnd.google.colaboratory.intrinsic+json": {
              "type": "string"
            }
          },
          "metadata": {}
        },
        {
          "output_type": "display_data",
          "data": {
            "text/plain": [
              "'me'"
            ],
            "application/vnd.google.colaboratory.intrinsic+json": {
              "type": "string"
            }
          },
          "metadata": {}
        },
        {
          "output_type": "display_data",
          "data": {
            "text/plain": [
              "','"
            ],
            "application/vnd.google.colaboratory.intrinsic+json": {
              "type": "string"
            }
          },
          "metadata": {}
        },
        {
          "output_type": "display_data",
          "data": {
            "text/plain": [
              "'again'"
            ],
            "application/vnd.google.colaboratory.intrinsic+json": {
              "type": "string"
            }
          },
          "metadata": {}
        },
        {
          "output_type": "display_data",
          "data": {
            "text/plain": [
              "'and'"
            ],
            "application/vnd.google.colaboratory.intrinsic+json": {
              "type": "string"
            }
          },
          "metadata": {}
        },
        {
          "output_type": "display_data",
          "data": {
            "text/plain": [
              "'this'"
            ],
            "application/vnd.google.colaboratory.intrinsic+json": {
              "type": "string"
            }
          },
          "metadata": {}
        },
        {
          "output_type": "display_data",
          "data": {
            "text/plain": [
              "'is'"
            ],
            "application/vnd.google.colaboratory.intrinsic+json": {
              "type": "string"
            }
          },
          "metadata": {}
        },
        {
          "output_type": "display_data",
          "data": {
            "text/plain": [
              "'our'"
            ],
            "application/vnd.google.colaboratory.intrinsic+json": {
              "type": "string"
            }
          },
          "metadata": {}
        },
        {
          "output_type": "display_data",
          "data": {
            "text/plain": [
              "'king'"
            ],
            "application/vnd.google.colaboratory.intrinsic+json": {
              "type": "string"
            }
          },
          "metadata": {}
        },
        {
          "output_type": "display_data",
          "data": {
            "text/plain": [
              "'.'"
            ],
            "application/vnd.google.colaboratory.intrinsic+json": {
              "type": "string"
            }
          },
          "metadata": {}
        },
        {
          "output_type": "display_data",
          "data": {
            "text/plain": [
              "'the'"
            ],
            "application/vnd.google.colaboratory.intrinsic+json": {
              "type": "string"
            }
          },
          "metadata": {}
        },
        {
          "output_type": "display_data",
          "data": {
            "text/plain": [
              "'king'"
            ],
            "application/vnd.google.colaboratory.intrinsic+json": {
              "type": "string"
            }
          },
          "metadata": {}
        },
        {
          "output_type": "display_data",
          "data": {
            "text/plain": [
              "'is'"
            ],
            "application/vnd.google.colaboratory.intrinsic+json": {
              "type": "string"
            }
          },
          "metadata": {}
        },
        {
          "output_type": "display_data",
          "data": {
            "text/plain": [
              "'a'"
            ],
            "application/vnd.google.colaboratory.intrinsic+json": {
              "type": "string"
            }
          },
          "metadata": {}
        },
        {
          "output_type": "display_data",
          "data": {
            "text/plain": [
              "'man'"
            ],
            "application/vnd.google.colaboratory.intrinsic+json": {
              "type": "string"
            }
          },
          "metadata": {}
        },
        {
          "output_type": "display_data",
          "data": {
            "text/plain": [
              "'.'"
            ],
            "application/vnd.google.colaboratory.intrinsic+json": {
              "type": "string"
            }
          },
          "metadata": {}
        },
        {
          "output_type": "display_data",
          "data": {
            "text/plain": [
              "'Apple'"
            ],
            "application/vnd.google.colaboratory.intrinsic+json": {
              "type": "string"
            }
          },
          "metadata": {}
        },
        {
          "output_type": "display_data",
          "data": {
            "text/plain": [
              "'is'"
            ],
            "application/vnd.google.colaboratory.intrinsic+json": {
              "type": "string"
            }
          },
          "metadata": {}
        },
        {
          "output_type": "display_data",
          "data": {
            "text/plain": [
              "'Green'"
            ],
            "application/vnd.google.colaboratory.intrinsic+json": {
              "type": "string"
            }
          },
          "metadata": {}
        },
        {
          "output_type": "display_data",
          "data": {
            "text/plain": [
              "'!'"
            ],
            "application/vnd.google.colaboratory.intrinsic+json": {
              "type": "string"
            }
          },
          "metadata": {}
        },
        {
          "output_type": "display_data",
          "data": {
            "text/plain": [
              "'Ali'"
            ],
            "application/vnd.google.colaboratory.intrinsic+json": {
              "type": "string"
            }
          },
          "metadata": {}
        },
        {
          "output_type": "display_data",
          "data": {
            "text/plain": [
              "'does'"
            ],
            "application/vnd.google.colaboratory.intrinsic+json": {
              "type": "string"
            }
          },
          "metadata": {}
        },
        {
          "output_type": "display_data",
          "data": {
            "text/plain": [
              "\"n't\""
            ],
            "application/vnd.google.colaboratory.intrinsic+json": {
              "type": "string"
            }
          },
          "metadata": {}
        },
        {
          "output_type": "display_data",
          "data": {
            "text/plain": [
              "'like'"
            ],
            "application/vnd.google.colaboratory.intrinsic+json": {
              "type": "string"
            }
          },
          "metadata": {}
        },
        {
          "output_type": "display_data",
          "data": {
            "text/plain": [
              "'maryam'"
            ],
            "application/vnd.google.colaboratory.intrinsic+json": {
              "type": "string"
            }
          },
          "metadata": {}
        }
      ]
    },
    {
      "cell_type": "markdown",
      "source": [
        "We can load a small English language model that includes vocabulary, syntax, and entities.(spacy.load(\"en_core_web_sm\") )\n",
        "\n",
        "The text is processed by the model (nlp(text)), which analyzes and tokenizes it.\n",
        "\n",
        "The for loop iterates over each token (word or punctuation) in the processed text and prints its text form.\n",
        "\n",
        "SpaCy’s tokenizer is powerful and context-aware, making it great for many NLP tasks like tokenization, part-of-speech tagging, and named entity recognition.\n",
        "\n"
      ],
      "metadata": {
        "id": "WU8-uxTQq2f7"
      }
    },
    {
      "cell_type": "code",
      "source": [
        "for token in doc:\n",
        "    display(f\"Token: {token.text}, POS: {token.pos_}, Tag: {token.tag_}, Dep: {token.dep_}\")"
      ],
      "metadata": {
        "colab": {
          "base_uri": "https://localhost:8080/",
          "height": 526
        },
        "id": "tMT9RgRnKiGC",
        "outputId": "154c033a-6837-440a-dd5f-edebcf5b27c4"
      },
      "execution_count": 17,
      "outputs": [
        {
          "output_type": "display_data",
          "data": {
            "text/plain": [
              "'Token: Hello, POS: INTJ, Tag: UH, Dep: intj'"
            ],
            "application/vnd.google.colaboratory.intrinsic+json": {
              "type": "string"
            }
          },
          "metadata": {}
        },
        {
          "output_type": "display_data",
          "data": {
            "text/plain": [
              "'Token: this, POS: PRON, Tag: DT, Dep: nsubj'"
            ],
            "application/vnd.google.colaboratory.intrinsic+json": {
              "type": "string"
            }
          },
          "metadata": {}
        },
        {
          "output_type": "display_data",
          "data": {
            "text/plain": [
              "'Token: is, POS: AUX, Tag: VBZ, Dep: ROOT'"
            ],
            "application/vnd.google.colaboratory.intrinsic+json": {
              "type": "string"
            }
          },
          "metadata": {}
        },
        {
          "output_type": "display_data",
          "data": {
            "text/plain": [
              "'Token: me, POS: PRON, Tag: PRP, Dep: attr'"
            ],
            "application/vnd.google.colaboratory.intrinsic+json": {
              "type": "string"
            }
          },
          "metadata": {}
        },
        {
          "output_type": "display_data",
          "data": {
            "text/plain": [
              "'Token: ,, POS: PUNCT, Tag: ,, Dep: punct'"
            ],
            "application/vnd.google.colaboratory.intrinsic+json": {
              "type": "string"
            }
          },
          "metadata": {}
        },
        {
          "output_type": "display_data",
          "data": {
            "text/plain": [
              "'Token: again, POS: ADV, Tag: RB, Dep: advmod'"
            ],
            "application/vnd.google.colaboratory.intrinsic+json": {
              "type": "string"
            }
          },
          "metadata": {}
        },
        {
          "output_type": "display_data",
          "data": {
            "text/plain": [
              "'Token: and, POS: CCONJ, Tag: CC, Dep: cc'"
            ],
            "application/vnd.google.colaboratory.intrinsic+json": {
              "type": "string"
            }
          },
          "metadata": {}
        },
        {
          "output_type": "display_data",
          "data": {
            "text/plain": [
              "'Token: this, POS: PRON, Tag: DT, Dep: nsubj'"
            ],
            "application/vnd.google.colaboratory.intrinsic+json": {
              "type": "string"
            }
          },
          "metadata": {}
        },
        {
          "output_type": "display_data",
          "data": {
            "text/plain": [
              "'Token: is, POS: AUX, Tag: VBZ, Dep: conj'"
            ],
            "application/vnd.google.colaboratory.intrinsic+json": {
              "type": "string"
            }
          },
          "metadata": {}
        },
        {
          "output_type": "display_data",
          "data": {
            "text/plain": [
              "'Token: our, POS: PRON, Tag: PRP$, Dep: poss'"
            ],
            "application/vnd.google.colaboratory.intrinsic+json": {
              "type": "string"
            }
          },
          "metadata": {}
        },
        {
          "output_type": "display_data",
          "data": {
            "text/plain": [
              "'Token: king, POS: NOUN, Tag: NN, Dep: attr'"
            ],
            "application/vnd.google.colaboratory.intrinsic+json": {
              "type": "string"
            }
          },
          "metadata": {}
        },
        {
          "output_type": "display_data",
          "data": {
            "text/plain": [
              "'Token: ., POS: PUNCT, Tag: ., Dep: punct'"
            ],
            "application/vnd.google.colaboratory.intrinsic+json": {
              "type": "string"
            }
          },
          "metadata": {}
        },
        {
          "output_type": "display_data",
          "data": {
            "text/plain": [
              "'Token: the, POS: DET, Tag: DT, Dep: det'"
            ],
            "application/vnd.google.colaboratory.intrinsic+json": {
              "type": "string"
            }
          },
          "metadata": {}
        },
        {
          "output_type": "display_data",
          "data": {
            "text/plain": [
              "'Token: king, POS: NOUN, Tag: NN, Dep: nsubj'"
            ],
            "application/vnd.google.colaboratory.intrinsic+json": {
              "type": "string"
            }
          },
          "metadata": {}
        },
        {
          "output_type": "display_data",
          "data": {
            "text/plain": [
              "'Token: is, POS: AUX, Tag: VBZ, Dep: ROOT'"
            ],
            "application/vnd.google.colaboratory.intrinsic+json": {
              "type": "string"
            }
          },
          "metadata": {}
        },
        {
          "output_type": "display_data",
          "data": {
            "text/plain": [
              "'Token: a, POS: DET, Tag: DT, Dep: det'"
            ],
            "application/vnd.google.colaboratory.intrinsic+json": {
              "type": "string"
            }
          },
          "metadata": {}
        },
        {
          "output_type": "display_data",
          "data": {
            "text/plain": [
              "'Token: man, POS: NOUN, Tag: NN, Dep: attr'"
            ],
            "application/vnd.google.colaboratory.intrinsic+json": {
              "type": "string"
            }
          },
          "metadata": {}
        },
        {
          "output_type": "display_data",
          "data": {
            "text/plain": [
              "'Token: ., POS: PUNCT, Tag: ., Dep: punct'"
            ],
            "application/vnd.google.colaboratory.intrinsic+json": {
              "type": "string"
            }
          },
          "metadata": {}
        },
        {
          "output_type": "display_data",
          "data": {
            "text/plain": [
              "'Token: Apple, POS: PROPN, Tag: NNP, Dep: nsubj'"
            ],
            "application/vnd.google.colaboratory.intrinsic+json": {
              "type": "string"
            }
          },
          "metadata": {}
        },
        {
          "output_type": "display_data",
          "data": {
            "text/plain": [
              "'Token: is, POS: AUX, Tag: VBZ, Dep: ROOT'"
            ],
            "application/vnd.google.colaboratory.intrinsic+json": {
              "type": "string"
            }
          },
          "metadata": {}
        },
        {
          "output_type": "display_data",
          "data": {
            "text/plain": [
              "'Token: Green, POS: PROPN, Tag: NNP, Dep: attr'"
            ],
            "application/vnd.google.colaboratory.intrinsic+json": {
              "type": "string"
            }
          },
          "metadata": {}
        },
        {
          "output_type": "display_data",
          "data": {
            "text/plain": [
              "'Token: !, POS: PUNCT, Tag: ., Dep: punct'"
            ],
            "application/vnd.google.colaboratory.intrinsic+json": {
              "type": "string"
            }
          },
          "metadata": {}
        },
        {
          "output_type": "display_data",
          "data": {
            "text/plain": [
              "'Token: Ali, POS: PROPN, Tag: NNP, Dep: nsubj'"
            ],
            "application/vnd.google.colaboratory.intrinsic+json": {
              "type": "string"
            }
          },
          "metadata": {}
        },
        {
          "output_type": "display_data",
          "data": {
            "text/plain": [
              "'Token: does, POS: AUX, Tag: VBZ, Dep: aux'"
            ],
            "application/vnd.google.colaboratory.intrinsic+json": {
              "type": "string"
            }
          },
          "metadata": {}
        },
        {
          "output_type": "display_data",
          "data": {
            "text/plain": [
              "\"Token: n't, POS: PART, Tag: RB, Dep: neg\""
            ],
            "application/vnd.google.colaboratory.intrinsic+json": {
              "type": "string"
            }
          },
          "metadata": {}
        },
        {
          "output_type": "display_data",
          "data": {
            "text/plain": [
              "'Token: like, POS: VERB, Tag: VB, Dep: ROOT'"
            ],
            "application/vnd.google.colaboratory.intrinsic+json": {
              "type": "string"
            }
          },
          "metadata": {}
        },
        {
          "output_type": "display_data",
          "data": {
            "text/plain": [
              "'Token: maryam, POS: NOUN, Tag: NN, Dep: dobj'"
            ],
            "application/vnd.google.colaboratory.intrinsic+json": {
              "type": "string"
            }
          },
          "metadata": {}
        }
      ]
    },
    {
      "cell_type": "code",
      "source": [
        "for ent in doc.ents:\n",
        "    print(ent.text, ent.start_char, ent.end_char, ent.label_)"
      ],
      "metadata": {
        "colab": {
          "base_uri": "https://localhost:8080/"
        },
        "id": "7MmPEJQoKwWn",
        "outputId": "0c138495-2842-42bc-d07a-f8fb4bdfab01"
      },
      "execution_count": 16,
      "outputs": [
        {
          "output_type": "stream",
          "name": "stdout",
          "text": [
            "Apple 65 70 ORG\n",
            "Ali 81 84 PERSON\n"
          ]
        }
      ]
    },
    {
      "cell_type": "markdown",
      "source": [
        "We should clean our tokens by these steps:\n",
        "\n",
        "Filtering out stop words (common words like \"is\", \"the\", etc. that usually don’t add meaning) using token.is_stop.\n",
        "\n",
        "Filtering out punctuation marks using token.is_punct.\n",
        "\n",
        "Appending only meaningful tokens (words) to the cleaned_tokens list.\n",
        "\n"
      ],
      "metadata": {
        "id": "GMNzaoSgr551"
      }
    },
    {
      "cell_type": "code",
      "source": [
        "cleaned_tokens = []\n",
        "for token in doc:\n",
        "    if not token.is_stop and not token.is_punct:\n",
        "        cleaned_tokens.append(token.text)\n",
        "\n",
        "display(\"Cleaned tokens:\", cleaned_tokens)"
      ],
      "metadata": {
        "colab": {
          "base_uri": "https://localhost:8080/",
          "height": 53
        },
        "id": "ymTQ7HZwK5Xc",
        "outputId": "ce769a0d-fb87-487a-bbd2-a4a3d497d438"
      },
      "execution_count": 19,
      "outputs": [
        {
          "output_type": "display_data",
          "data": {
            "text/plain": [
              "'Cleaned tokens:'"
            ],
            "application/vnd.google.colaboratory.intrinsic+json": {
              "type": "string"
            }
          },
          "metadata": {}
        },
        {
          "output_type": "display_data",
          "data": {
            "text/plain": [
              "['Hello', 'king', 'king', 'man', 'Apple', 'Green', 'Ali', 'like', 'maryam']"
            ]
          },
          "metadata": {}
        }
      ]
    },
    {
      "cell_type": "markdown",
      "metadata": {
        "id": "oEbYXAymkbbs"
      },
      "source": [
        "# Embedding with gensim library\n",
        "### Using Gensim for Word Embeddings\n",
        "Gensim is a powerful and popular Python library designed for topic modeling and natural language processing. It provides an efficient and easy-to-use implementation of Word2Vec, allowing you to train your own word embeddings on custom text data.\n",
        "\n",
        "Key advantages of using Gensim for Word2Vec include:\n",
        "\n",
        "Efficient Training: Supports large datasets with optimized algorithms and incremental training.\n",
        "\n",
        "Simple API: Easy to train, save, and load models.\n",
        "\n",
        "Flexibility: Allows tuning of parameters like vector size, window size, and training algorithm (CBOW or Skip-gram).\n",
        "\n",
        "Pre-trained Models: You can also use pre-trained embeddings for many languages.\n",
        "\n",
        "With Gensim, you can quickly convert words into meaningful vector representations that capture semantic relationships, which are useful for many downstream NLP tasks.\n",
        "\n"
      ]
    },
    {
      "cell_type": "markdown",
      "metadata": {
        "id": "cEokZwJGk4Gj"
      },
      "source": [
        "# Install gensim"
      ]
    },
    {
      "cell_type": "code",
      "execution_count": 21,
      "metadata": {
        "colab": {
          "base_uri": "https://localhost:8080/"
        },
        "id": "8AvRZazDRub6",
        "outputId": "667720b8-228b-44a1-db14-eac1e66c536c"
      },
      "outputs": [
        {
          "output_type": "stream",
          "name": "stdout",
          "text": [
            "Requirement already satisfied: gensim in /usr/local/lib/python3.11/dist-packages (4.3.3)\n",
            "Requirement already satisfied: numpy<2.0,>=1.18.5 in /usr/local/lib/python3.11/dist-packages (from gensim) (1.24.3)\n",
            "Requirement already satisfied: scipy<1.14.0,>=1.7.0 in /usr/local/lib/python3.11/dist-packages (from gensim) (1.13.1)\n",
            "Requirement already satisfied: smart-open>=1.8.1 in /usr/local/lib/python3.11/dist-packages (from gensim) (7.1.0)\n",
            "Requirement already satisfied: wrapt in /usr/local/lib/python3.11/dist-packages (from smart-open>=1.8.1->gensim) (1.17.2)\n"
          ]
        }
      ],
      "source": [
        "# !pip install --only-binary=gensim gensim\n",
        "# !pip install --upgrade pip setuptools wheel\n",
        "!pip install gensim"
      ]
    },
    {
      "cell_type": "markdown",
      "metadata": {
        "id": "3o9apLdMlBUB"
      },
      "source": [
        "Word embeddings are numerical vector representations of words that capture their meanings, semantic relationships, and syntactic properties in a continuous vector space. They allow machines to understand words in context, enabling many natural language processing (NLP) tasks such as sentiment analysis, machine translation, and text classification.\n",
        "\n",
        "One of the most important and widely used methods for creating word embeddings is Word2Vec.\n",
        "\n",
        "### Word2Vec\n",
        "Word2Vec is a popular technique that converts words into dense vectors of arbitrary dimensions. It learns word representations by predicting words based on their context in a large corpus of text.\n",
        "\n",
        "Word2Vec uses two main architectures for training word embeddings:\n",
        "\n",
        "1. CBOW (Continuous Bag of Words)\n",
        "Key Question:\n",
        "Given the surrounding words (context), what is the most likely target word at the center?\n",
        "\n",
        "Example:\n",
        "Sentence: \"The cat sits on the mat\"\n",
        "Input (context): [\"The\", \"cat\", \"on\", \"the\", \"mat\"]\n",
        "Output (target): \"sits\"\n",
        "\n",
        "Characteristics:\n",
        "\n",
        "Faster to train, making it suitable for large datasets.\n",
        "\n",
        "Performs better on frequent words.\n",
        "\n",
        "2. Skip-gram\n",
        "Key Question:\n",
        "Given a target word, what words are likely to appear around it (context)?\n",
        "\n",
        "Example:\n",
        "Sentence: \"The cat sits on the mat\"\n",
        "Input (target): \"sits\"\n",
        "Output (context): [\"The\", \"cat\", \"on\", \"the\", \"mat\"]\n",
        "\n",
        "Characteristics:\n",
        "\n",
        "Provides higher accuracy for rare words or complex phrases.\n",
        "\n",
        "Requires more training data and computational resources.\n",
        "\n"
      ]
    },
    {
      "cell_type": "code",
      "execution_count": 23,
      "metadata": {
        "colab": {
          "base_uri": "https://localhost:8080/"
        },
        "id": "eve4UjUERS2s",
        "outputId": "df511a3f-aad4-4571-bd0c-c7d05b82c55c"
      },
      "outputs": [
        {
          "output_type": "execute_result",
          "data": {
            "text/plain": [
              "array([-0.24397223, -0.07779229, -0.06459137], dtype=float32)"
            ]
          },
          "metadata": {},
          "execution_count": 23
        }
      ],
      "source": [
        "w = [['hi', 'my', 'name', 'is', 'zahra'],['king', 'has', 'power'],['queen', 'is', 'loyal'], words]\n",
        "model = gensim.models.Word2Vec(w, vector_size=3, window=5, min_count=1, workers=1, sg=0) # using CBOW Architecture for trainnig by sg=0\n",
        "# model = gensim.models.Word2Vec(w, vector_size=3, window=5, min_count=1, workers=1, sg=1) # using skipGram Architecture for training by sg=1\n",
        "vector = model.wv['hello']\n",
        "vector"
      ]
    },
    {
      "cell_type": "code",
      "execution_count": 25,
      "metadata": {
        "colab": {
          "base_uri": "https://localhost:8080/"
        },
        "id": "GfhcG374bGcL",
        "outputId": "94266cf4-8ef7-4dc0-90bb-4cd038548035"
      },
      "outputs": [
        {
          "output_type": "stream",
          "name": "stdout",
          "text": [
            "Word2Vec<vocab=20, vector_size=3, alpha=0.025>\n",
            "['is', 'king', 'green', 'apple', 'my', 'name', 'zahra', 'has', 'power', 'queen', 'loyal', 'hello', 'me,', 'again', 'and', 'this', 'our', 'king.', 'man.', 'hi']\n",
            "[-0.24397223 -0.07779229 -0.06459137]\n"
          ]
        }
      ],
      "source": [
        "#Summarize the loaded model\n",
        "print(model)\n",
        "# Summarize vocabulary\n",
        "words = list(model.wv.index_to_key)\n",
        "print(words)\n",
        "# Access vector for one word\n",
        "print(model.wv['hello'])  # Correct way to get vector"
      ]
    },
    {
      "cell_type": "code",
      "execution_count": 26,
      "metadata": {
        "colab": {
          "base_uri": "https://localhost:8080/"
        },
        "id": "cMAb4PZBbXr4",
        "outputId": "81342b85-97c1-4652-eb0d-0db5ac4e3ba2"
      },
      "outputs": [
        {
          "output_type": "stream",
          "name": "stdout",
          "text": [
            "Similarity between hi and hello: 0.4137667\n",
            "Similarity between king and hi: -0.53039074\n",
            "Similarity between king and queen: 0.988718\n"
          ]
        }
      ],
      "source": [
        "#Compute similarity\n",
        "print(\"Similarity between hi and hello:\",model.wv.similarity('hello', 'hi'))\n",
        "print(\"Similarity between king and hi:\",model.wv.similarity('king', 'hi'))\n",
        "print(\"Similarity between king and queen:\",model.wv.similarity('king', 'queen'))"
      ]
    },
    {
      "cell_type": "markdown",
      "metadata": {
        "id": "I0anwlj_bANn"
      },
      "source": [
        "Word Embedding with Classic Algorithm\n",
        "TF-IDF:"
      ]
    },
    {
      "cell_type": "code",
      "execution_count": 28,
      "metadata": {
        "colab": {
          "base_uri": "https://localhost:8080/"
        },
        "id": "GtEspgnCbbym",
        "outputId": "cdff751c-3605-47f5-a676-a9e57fb7dcca"
      },
      "outputs": [
        {
          "output_type": "stream",
          "name": "stdout",
          "text": [
            "[[0.         0.         0.         0.         0.78528828 0.\n",
            "  0.6191303 ]\n",
            " [0.         0.78528828 0.         0.         0.         0.\n",
            "  0.6191303 ]\n",
            " [0.61761437 0.         0.         0.48693426 0.         0.61761437\n",
            "  0.        ]\n",
            " [0.         0.         0.78528828 0.6191303  0.         0.\n",
            "  0.        ]]\n",
            "['enjoy' 'fun' 'great' 'learning' 'love' 'machine' 'nlp']\n"
          ]
        }
      ],
      "source": [
        "corpus = ['I love nlp', 'nlp is fun', 'I enjoy machine learning', 'learning is great']\n",
        "vectorize =TfidfVectorizer(stop_words='english')\n",
        "# vectorize =CountVectorizer(stop_words='english')\n",
        "x = vectorize.fit_transform(corpus)\n",
        "print(x.toarray())\n",
        "print(vectorize.get_feature_names_out())"
      ]
    },
    {
      "cell_type": "markdown",
      "metadata": {
        "id": "2_mP1cfKd2xR"
      },
      "source": [
        "The model is created by TfidfVectorizer, which is responsible for calculating TF-IDF (Term Frequency - Inverse Document Frequency). This model assigns a numerical weight to each word in a text, indicating the importance of that word within a given dataset of texts.\n",
        "\n",
        "TF (Term Frequency): The frequency of a word in a specific document.\n",
        "\n",
        "IDF (Inverse Document Frequency): The inverse of the frequency of documents that contain the word, indicating how rare or common a word is across the entire text corpus."
      ]
    },
    {
      "cell_type": "markdown",
      "source": [
        "## Word Embedding with spaCy"
      ],
      "metadata": {
        "id": "_ZEGehfCvdjG"
      }
    },
    {
      "cell_type": "code",
      "source": [
        "nlp = spacy.load(\"en_core_web_sm\")\n",
        "doc = nlp(\"I love coffee\")\n",
        "print(\"vectore of word  'I':\", doc[2].vector)  # the vector\n",
        "doc_vector = doc.vector\n",
        "print(\" whole vector :\", doc_vector)"
      ],
      "metadata": {
        "colab": {
          "base_uri": "https://localhost:8080/"
        },
        "id": "Jl8Q_BO3vjCl",
        "outputId": "7784ba2a-8f17-4f70-8ec4-76a670ee50d4"
      },
      "execution_count": 30,
      "outputs": [
        {
          "output_type": "stream",
          "name": "stdout",
          "text": [
            "vectore of word  'I': [ 0.2798245  -0.4124304   0.75736374  0.03007131  0.02294396  0.3065338\n",
            "  1.7175772   0.3070166   0.4685409  -0.18986315  0.3022109  -0.3004337\n",
            " -0.42582202  0.36418682  0.41736928  0.6758911  -0.71772003 -0.5916075\n",
            " -0.28403097 -0.01277104  0.08186535  1.42117    -0.7210002  -0.21898009\n",
            " -0.12691122  0.15890782  0.03687936 -0.43232912 -0.37768227  0.14926013\n",
            " -0.9221091   0.6519158   0.25451374  0.32057908 -0.6961285  -0.30604187\n",
            " -0.03522727  0.1458869   0.25056964  0.42449307 -0.7809199   1.1174874\n",
            "  0.11471996  0.43448016 -0.03251775 -0.01708399 -1.3525333  -0.1380522\n",
            " -0.7680636  -0.15767384  0.926775   -0.33059442  0.26376188 -0.90464526\n",
            "  0.45594794 -0.96185887  1.0394007   0.59627026  0.15457833 -0.33140746\n",
            " -0.42168117 -0.14860088 -0.1931392  -0.5490756  -0.11835518  0.15390676\n",
            "  1.1021172   0.01342243 -0.33302575 -0.06850247 -0.61401004  0.34231162\n",
            "  0.12139341 -0.44367623 -0.7450189  -0.2920655   0.34194952 -0.7470629\n",
            "  0.0877625  -0.98352003 -0.5173587  -0.28793448 -0.6207659  -0.2752583\n",
            " -0.4924601   0.30461946  0.7686437   0.1074997  -0.1316019   1.3336821\n",
            " -1.2673417   1.0227189   1.0667119  -0.6972965  -0.37022063  1.3158706 ]\n",
            " whole vector : [-0.5302075  -0.13380274 -0.02240531 -0.16881518  0.11229388 -0.02561291\n",
            "  0.9510879   0.11572037  0.6827218  -0.36877656  0.33989337  0.00311627\n",
            " -0.2655077  -0.16562812  0.20463891  0.3771886  -0.3638672   0.14554645\n",
            " -0.41011682 -0.27976725  0.13927235  0.6397176  -0.59170943 -0.20353208\n",
            " -0.00191736  0.09371623 -0.22138952  0.31192806 -0.5268655  -0.2885075\n",
            " -0.23101123 -0.065895   -0.08904723  0.12403268 -0.68000776 -0.5692673\n",
            " -0.44033143 -0.35647225  0.26729053  0.7082564   0.07920802  0.8507549\n",
            " -0.05039291  0.26433548 -0.09005757  0.1977043  -0.3055343   0.40444455\n",
            "  0.5743327  -0.21458109  0.09795781 -0.7616772  -0.11771259 -0.6786213\n",
            "  0.25984615 -1.0910287   0.65981996 -0.0800615  -0.4110858  -0.21205115\n",
            "  0.12343117 -0.24297099  0.18809362 -0.43916845 -0.14451441  0.1216059\n",
            " -0.15735435 -0.39909348 -0.06726515  0.450065   -0.49523482  0.15572558\n",
            "  0.81300837 -0.38263512 -0.8202165   0.8591264   0.15672301 -0.5795335\n",
            " -0.04330863 -0.43393493 -0.34638396 -0.48488227 -0.07389837  0.14735653\n",
            " -0.2277687   0.39822268  0.00678331  0.14140402  0.52894765  0.40236115\n",
            " -0.04413895  0.58505106  1.1597632   0.22398074 -0.0705222   1.134338  ]\n"
          ]
        }
      ]
    },
    {
      "cell_type": "markdown",
      "metadata": {
        "id": "HP8b_q8XuGoJ"
      },
      "source": [
        "Similarity between 2 senences:"
      ]
    },
    {
      "cell_type": "code",
      "execution_count": 33,
      "metadata": {
        "colab": {
          "base_uri": "https://localhost:8080/"
        },
        "id": "ueZaRY3ytpr5",
        "outputId": "cd473d85-98e8-443c-b84a-0bae5246a83b"
      },
      "outputs": [
        {
          "output_type": "stream",
          "name": "stdout",
          "text": [
            "I like salty fries and hamburgers. <-> Fast food tastes very good. 0.8015960629076846\n",
            "salty fries <-> hamburgers 0.5733411312103271\n"
          ]
        }
      ],
      "source": [
        "nlp = spacy.load(\"en_core_web_md\")  # make sure to use larger package!\n",
        "doc1 = nlp(\"I like salty fries and hamburgers.\")\n",
        "doc2 = nlp(\"Fast food tastes very good.\")\n",
        "\n",
        "# Similarity of two documents\n",
        "print(doc1, \"<->\", doc2, doc1.similarity(doc2))\n",
        "# Similarity of tokens and spans\n",
        "french_fries = doc1[2:4]\n",
        "burgers = doc1[5]\n",
        "print(french_fries, \"<->\", burgers, french_fries.similarity(burgers))\n"
      ]
    },
    {
      "cell_type": "markdown",
      "source": [
        "The pipeline() function is a high-level API designed to simplify using transformer models for a variety of natural language processing tasks. When you call pipeline() with a specific task name, it automatically:\n",
        "\n",
        "Loads a suitable pre-trained model and its corresponding tokenizer optimized for that task.\n",
        "\n",
        "Handles all the necessary preprocessing, tokenization, and postprocessing steps internally.\n",
        "\n",
        "Provides a simple interface to perform inference, allowing you to input raw text and receive meaningful outputs like classifications, answers, or summaries.\n",
        "\n",
        "This abstraction lets users quickly leverage powerful, state-of-the-art transformer models (like BERT, RoBERTa, GPT, etc.) without needing to understand the complex underlying mechanics."
      ],
      "metadata": {
        "id": "RE434xeJxXOM"
      }
    },
    {
      "cell_type": "code",
      "execution_count": 11,
      "metadata": {
        "id": "YfVIONSzcsPF"
      },
      "outputs": [],
      "source": [
        "# from transformers import pipeline\n",
        "# classifier = pipeline(\"sentiment-analysis\")\n",
        "# classifier(\"We are very happy to show you the Transformers library.\");"
      ]
    },
    {
      "cell_type": "markdown",
      "metadata": {
        "id": "HPOKWbvcwZQe"
      },
      "source": [
        "\n",
        "The pipeline() automatically loads a default model and tokenizer capable of inference for your task."
      ]
    },
    {
      "cell_type": "code",
      "execution_count": 9,
      "metadata": {
        "id": "7G7izybEwZ_Q"
      },
      "outputs": [],
      "source": [
        "# generator = pipeline(task=\"text-generation\")\n",
        "# generator(\n",
        "#     \"Three Rings for the Elven-kings under the sky, Seven for the Dwarf-lords in their halls of stone\",\n",
        "#     num_return_sequences=2,\n",
        "# )"
      ]
    },
    {
      "cell_type": "code",
      "execution_count": 8,
      "metadata": {
        "id": "tqpU7h8dOCNg"
      },
      "outputs": [],
      "source": [
        "# summarizer = pipeline(\"summarization\")\n",
        "\n",
        "# ARTICLE = \"\"\" New York (CNN)When Liana Barrientos was 23 years old, she got married in Westchester County, New York.\n",
        "# A year later, she got married again in Westchester County, but to a different man and without divorcing her first husband.\n",
        "# Only 18 days after that marriage, she got hitched yet again. Then, Barrientos declared \"I do\" five more times, sometimes only within two weeks of each other.\n",
        "# In 2010, she married once more, this time in the Bronx. In an application for a marriage license, she stated it was her \"first and only\" marriage.\n",
        "# Barrientos, now 39, is facing two criminal counts of \"offering a false instrument for filing in the first degree,\" referring to her false statements on the\n",
        "# 2010 marriage license application, according to court documents.\n",
        "# Prosecutors said the marriages were part of an immigration scam.\n",
        "# On Friday, she pleaded not guilty at State Supreme Court in the Bronx, according to her attorney, Christopher Wright, who declined to comment further.\n",
        "# After leaving court, Barrientos was arrested and charged with theft of service and criminal trespass for allegedly sneaking into the New York subway through an emergency exit, said Detective\n",
        "# Annette Markowski, a police spokeswoman. In total, Barrientos has been married 10 times, with nine of her marriages occurring between 1999 and 2002.\n",
        "# All occurred either in Westchester County, Long Island, New Jersey or the Bronx. She is believed to still be married to four men, and at one time, she was married to eight men at once, prosecutors say.\n",
        "# Prosecutors said the immigration scam involved some of her husbands, who filed for permanent residence status shortly after the marriages.\n",
        "# Any divorces happened only after such filings were approved. It was unclear whether any of the men will be prosecuted.\n",
        "# The case was referred to the Bronx District Attorney\\'s Office by Immigration and Customs Enforcement and the Department of Homeland Security\\'s\n",
        "# Investigation Division. Seven of the men are from so-called \"red-flagged\" countries, including Egypt, Turkey, Georgia, Pakistan and Mali.\n",
        "# Her eighth husband, Rashid Rajput, was deported in 2006 to his native Pakistan after an investigation by the Joint Terrorism Task Force.\n",
        "# If convicted, Barrientos faces up to four years in prison.  Her next court appearance is scheduled for May 18.\n",
        "# \"\"\""
      ]
    },
    {
      "cell_type": "code",
      "execution_count": 5,
      "metadata": {
        "id": "pjkycZxKOaXn",
        "colab": {
          "base_uri": "https://localhost:8080/",
          "height": 52
        },
        "outputId": "3c468f8f-3caf-4091-a11b-7ff79670980d"
      },
      "outputs": [
        {
          "output_type": "display_data",
          "data": {
            "text/plain": [
              "[{'summary_text': ' Liana Barrientos, 39, is charged with two counts of \"offering a false instrument for filing in the first degree\" In total, she has been married 10 times, with nine of her marriages occurring between 1999 and 2002 . At one time, she was married to eight men at once, prosecutors say .'}]"
            ]
          },
          "metadata": {}
        }
      ],
      "source": [
        "# display(summarizer(ARTICLE, max_length=130, min_length=30, do_sample=False))"
      ]
    }
  ],
  "metadata": {
    "colab": {
      "provenance": []
    },
    "kernelspec": {
      "display_name": "Python 3",
      "name": "python3"
    },
    "language_info": {
      "name": "python"
    }
  },
  "nbformat": 4,
  "nbformat_minor": 0
}