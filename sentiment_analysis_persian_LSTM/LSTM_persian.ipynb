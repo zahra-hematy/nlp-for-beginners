{
  "nbformat": 4,
  "nbformat_minor": 0,
  "metadata": {
    "colab": {
      "provenance": [],
      "gpuType": "T4"
    },
    "kernelspec": {
      "name": "python3",
      "display_name": "Python 3"
    },
    "language_info": {
      "name": "python"
    },
    "accelerator": "GPU"
  },
  "cells": [
    {
      "cell_type": "code",
      "source": [
        "import pandas as pd\n",
        "import matplotlib.pyplot as plt\n",
        "import numpy as np\n",
        "from sklearn.preprocessing import LabelEncoder\n",
        "from sklearn.model_selection import train_test_split\n",
        "from sklearn.preprocessing import StandardScaler\n",
        "from sklearn.metrics import confusion_matrix\n",
        "import seaborn as sns\n",
        "from sklearn.metrics import classification_report\n",
        "from transformers import AutoTokenizer\n",
        "from tensorflow.keras.preprocessing.sequence import pad_sequences\n",
        "from tensorflow.keras.models import Sequential\n",
        "from tensorflow.keras.layers import Embedding, GRU, Dense, LSTM, RNN\n",
        "from sklearn.utils.class_weight import compute_class_weight\n",
        "from sklearn.metrics import mean_squared_error\n",
        "import shap"
      ],
      "metadata": {
        "id": "5nF0pa9W8Ig7"
      },
      "execution_count": 1,
      "outputs": []
    },
    {
      "cell_type": "code",
      "source": [
        "from google.colab import drive\n",
        "drive.mount('/content/drive')"
      ],
      "metadata": {
        "colab": {
          "base_uri": "https://localhost:8080/"
        },
        "id": "2gvuVh8BLIhI",
        "outputId": "ecba6342-2933-4d45-adc6-490381a181bf"
      },
      "execution_count": null,
      "outputs": [
        {
          "output_type": "stream",
          "name": "stdout",
          "text": [
            "Drive already mounted at /content/drive; to attempt to forcibly remount, call drive.mount(\"/content/drive\", force_remount=True).\n"
          ]
        }
      ]
    },
    {
      "cell_type": "markdown",
      "source": [],
      "metadata": {
        "id": "AG5gMX7rP62L"
      }
    },
    {
      "cell_type": "code",
      "source": [
        "df = pd.read_csv('/content/drive/MyDrive/data_dig.csv', sep=',')\n",
        "df.head(10)"
      ],
      "metadata": {
        "colab": {
          "base_uri": "https://localhost:8080/",
          "height": 363
        },
        "id": "uBuEkVh08IX_",
        "outputId": "974938ab-003b-4227-b842-9eec987f03ff"
      },
      "execution_count": 2,
      "outputs": [
        {
          "output_type": "execute_result",
          "data": {
            "text/plain": [
              "                                                Text  Score  Suggestion\n",
              "0  این اولین تجربه من برای خرید ایفون هست   امروز...    100           1\n",
              "1                     خرید این محصول رو توصیه میکنم      84           1\n",
              "2  1 ساله این گوشی رو دارم   هیچ نقطه ضعفی ازش ند...     60           1\n",
              "3  سلام خدمت دوستان این گوشی از همه نظر عالی  کیف...     96           1\n",
              "4  سلام دوستانی که نگران شکستن صفحه نمایش هستند ا...     92           1\n",
              "5  من پکیج کاملش روخریدم   ازهرنظرعالیه   هیچ نقد...     60           1\n",
              "6  اول از همه خوشحالم که بالاخره نسخه های 128 گیگ...     96           1\n",
              "7  من دو ماهه خریدم واقعا راضیم  دوربینشم عالیه  ...    100           1\n",
              "8  بنظر من گوشی خوب و مقرون به صرفه ای بود توی ای...    100           1\n",
              "9  از خریدم راضی ام و گوشی بینظیریه  منتهی یه ایر...     92           1"
            ],
            "text/html": [
              "\n",
              "  <div id=\"df-115706e7-881c-439c-826b-9ea5b3f0af65\" class=\"colab-df-container\">\n",
              "    <div>\n",
              "<style scoped>\n",
              "    .dataframe tbody tr th:only-of-type {\n",
              "        vertical-align: middle;\n",
              "    }\n",
              "\n",
              "    .dataframe tbody tr th {\n",
              "        vertical-align: top;\n",
              "    }\n",
              "\n",
              "    .dataframe thead th {\n",
              "        text-align: right;\n",
              "    }\n",
              "</style>\n",
              "<table border=\"1\" class=\"dataframe\">\n",
              "  <thead>\n",
              "    <tr style=\"text-align: right;\">\n",
              "      <th></th>\n",
              "      <th>Text</th>\n",
              "      <th>Score</th>\n",
              "      <th>Suggestion</th>\n",
              "    </tr>\n",
              "  </thead>\n",
              "  <tbody>\n",
              "    <tr>\n",
              "      <th>0</th>\n",
              "      <td>این اولین تجربه من برای خرید ایفون هست   امروز...</td>\n",
              "      <td>100</td>\n",
              "      <td>1</td>\n",
              "    </tr>\n",
              "    <tr>\n",
              "      <th>1</th>\n",
              "      <td>خرید این محصول رو توصیه میکنم</td>\n",
              "      <td>84</td>\n",
              "      <td>1</td>\n",
              "    </tr>\n",
              "    <tr>\n",
              "      <th>2</th>\n",
              "      <td>1 ساله این گوشی رو دارم   هیچ نقطه ضعفی ازش ند...</td>\n",
              "      <td>60</td>\n",
              "      <td>1</td>\n",
              "    </tr>\n",
              "    <tr>\n",
              "      <th>3</th>\n",
              "      <td>سلام خدمت دوستان این گوشی از همه نظر عالی  کیف...</td>\n",
              "      <td>96</td>\n",
              "      <td>1</td>\n",
              "    </tr>\n",
              "    <tr>\n",
              "      <th>4</th>\n",
              "      <td>سلام دوستانی که نگران شکستن صفحه نمایش هستند ا...</td>\n",
              "      <td>92</td>\n",
              "      <td>1</td>\n",
              "    </tr>\n",
              "    <tr>\n",
              "      <th>5</th>\n",
              "      <td>من پکیج کاملش روخریدم   ازهرنظرعالیه   هیچ نقد...</td>\n",
              "      <td>60</td>\n",
              "      <td>1</td>\n",
              "    </tr>\n",
              "    <tr>\n",
              "      <th>6</th>\n",
              "      <td>اول از همه خوشحالم که بالاخره نسخه های 128 گیگ...</td>\n",
              "      <td>96</td>\n",
              "      <td>1</td>\n",
              "    </tr>\n",
              "    <tr>\n",
              "      <th>7</th>\n",
              "      <td>من دو ماهه خریدم واقعا راضیم  دوربینشم عالیه  ...</td>\n",
              "      <td>100</td>\n",
              "      <td>1</td>\n",
              "    </tr>\n",
              "    <tr>\n",
              "      <th>8</th>\n",
              "      <td>بنظر من گوشی خوب و مقرون به صرفه ای بود توی ای...</td>\n",
              "      <td>100</td>\n",
              "      <td>1</td>\n",
              "    </tr>\n",
              "    <tr>\n",
              "      <th>9</th>\n",
              "      <td>از خریدم راضی ام و گوشی بینظیریه  منتهی یه ایر...</td>\n",
              "      <td>92</td>\n",
              "      <td>1</td>\n",
              "    </tr>\n",
              "  </tbody>\n",
              "</table>\n",
              "</div>\n",
              "    <div class=\"colab-df-buttons\">\n",
              "\n",
              "  <div class=\"colab-df-container\">\n",
              "    <button class=\"colab-df-convert\" onclick=\"convertToInteractive('df-115706e7-881c-439c-826b-9ea5b3f0af65')\"\n",
              "            title=\"Convert this dataframe to an interactive table.\"\n",
              "            style=\"display:none;\">\n",
              "\n",
              "  <svg xmlns=\"http://www.w3.org/2000/svg\" height=\"24px\" viewBox=\"0 -960 960 960\">\n",
              "    <path d=\"M120-120v-720h720v720H120Zm60-500h600v-160H180v160Zm220 220h160v-160H400v160Zm0 220h160v-160H400v160ZM180-400h160v-160H180v160Zm440 0h160v-160H620v160ZM180-180h160v-160H180v160Zm440 0h160v-160H620v160Z\"/>\n",
              "  </svg>\n",
              "    </button>\n",
              "\n",
              "  <style>\n",
              "    .colab-df-container {\n",
              "      display:flex;\n",
              "      gap: 12px;\n",
              "    }\n",
              "\n",
              "    .colab-df-convert {\n",
              "      background-color: #E8F0FE;\n",
              "      border: none;\n",
              "      border-radius: 50%;\n",
              "      cursor: pointer;\n",
              "      display: none;\n",
              "      fill: #1967D2;\n",
              "      height: 32px;\n",
              "      padding: 0 0 0 0;\n",
              "      width: 32px;\n",
              "    }\n",
              "\n",
              "    .colab-df-convert:hover {\n",
              "      background-color: #E2EBFA;\n",
              "      box-shadow: 0px 1px 2px rgba(60, 64, 67, 0.3), 0px 1px 3px 1px rgba(60, 64, 67, 0.15);\n",
              "      fill: #174EA6;\n",
              "    }\n",
              "\n",
              "    .colab-df-buttons div {\n",
              "      margin-bottom: 4px;\n",
              "    }\n",
              "\n",
              "    [theme=dark] .colab-df-convert {\n",
              "      background-color: #3B4455;\n",
              "      fill: #D2E3FC;\n",
              "    }\n",
              "\n",
              "    [theme=dark] .colab-df-convert:hover {\n",
              "      background-color: #434B5C;\n",
              "      box-shadow: 0px 1px 3px 1px rgba(0, 0, 0, 0.15);\n",
              "      filter: drop-shadow(0px 1px 2px rgba(0, 0, 0, 0.3));\n",
              "      fill: #FFFFFF;\n",
              "    }\n",
              "  </style>\n",
              "\n",
              "    <script>\n",
              "      const buttonEl =\n",
              "        document.querySelector('#df-115706e7-881c-439c-826b-9ea5b3f0af65 button.colab-df-convert');\n",
              "      buttonEl.style.display =\n",
              "        google.colab.kernel.accessAllowed ? 'block' : 'none';\n",
              "\n",
              "      async function convertToInteractive(key) {\n",
              "        const element = document.querySelector('#df-115706e7-881c-439c-826b-9ea5b3f0af65');\n",
              "        const dataTable =\n",
              "          await google.colab.kernel.invokeFunction('convertToInteractive',\n",
              "                                                    [key], {});\n",
              "        if (!dataTable) return;\n",
              "\n",
              "        const docLinkHtml = 'Like what you see? Visit the ' +\n",
              "          '<a target=\"_blank\" href=https://colab.research.google.com/notebooks/data_table.ipynb>data table notebook</a>'\n",
              "          + ' to learn more about interactive tables.';\n",
              "        element.innerHTML = '';\n",
              "        dataTable['output_type'] = 'display_data';\n",
              "        await google.colab.output.renderOutput(dataTable, element);\n",
              "        const docLink = document.createElement('div');\n",
              "        docLink.innerHTML = docLinkHtml;\n",
              "        element.appendChild(docLink);\n",
              "      }\n",
              "    </script>\n",
              "  </div>\n",
              "\n",
              "\n",
              "    <div id=\"df-910c86d6-41d8-4944-90b0-69b0fdc236e1\">\n",
              "      <button class=\"colab-df-quickchart\" onclick=\"quickchart('df-910c86d6-41d8-4944-90b0-69b0fdc236e1')\"\n",
              "                title=\"Suggest charts\"\n",
              "                style=\"display:none;\">\n",
              "\n",
              "<svg xmlns=\"http://www.w3.org/2000/svg\" height=\"24px\"viewBox=\"0 0 24 24\"\n",
              "     width=\"24px\">\n",
              "    <g>\n",
              "        <path d=\"M19 3H5c-1.1 0-2 .9-2 2v14c0 1.1.9 2 2 2h14c1.1 0 2-.9 2-2V5c0-1.1-.9-2-2-2zM9 17H7v-7h2v7zm4 0h-2V7h2v10zm4 0h-2v-4h2v4z\"/>\n",
              "    </g>\n",
              "</svg>\n",
              "      </button>\n",
              "\n",
              "<style>\n",
              "  .colab-df-quickchart {\n",
              "      --bg-color: #E8F0FE;\n",
              "      --fill-color: #1967D2;\n",
              "      --hover-bg-color: #E2EBFA;\n",
              "      --hover-fill-color: #174EA6;\n",
              "      --disabled-fill-color: #AAA;\n",
              "      --disabled-bg-color: #DDD;\n",
              "  }\n",
              "\n",
              "  [theme=dark] .colab-df-quickchart {\n",
              "      --bg-color: #3B4455;\n",
              "      --fill-color: #D2E3FC;\n",
              "      --hover-bg-color: #434B5C;\n",
              "      --hover-fill-color: #FFFFFF;\n",
              "      --disabled-bg-color: #3B4455;\n",
              "      --disabled-fill-color: #666;\n",
              "  }\n",
              "\n",
              "  .colab-df-quickchart {\n",
              "    background-color: var(--bg-color);\n",
              "    border: none;\n",
              "    border-radius: 50%;\n",
              "    cursor: pointer;\n",
              "    display: none;\n",
              "    fill: var(--fill-color);\n",
              "    height: 32px;\n",
              "    padding: 0;\n",
              "    width: 32px;\n",
              "  }\n",
              "\n",
              "  .colab-df-quickchart:hover {\n",
              "    background-color: var(--hover-bg-color);\n",
              "    box-shadow: 0 1px 2px rgba(60, 64, 67, 0.3), 0 1px 3px 1px rgba(60, 64, 67, 0.15);\n",
              "    fill: var(--button-hover-fill-color);\n",
              "  }\n",
              "\n",
              "  .colab-df-quickchart-complete:disabled,\n",
              "  .colab-df-quickchart-complete:disabled:hover {\n",
              "    background-color: var(--disabled-bg-color);\n",
              "    fill: var(--disabled-fill-color);\n",
              "    box-shadow: none;\n",
              "  }\n",
              "\n",
              "  .colab-df-spinner {\n",
              "    border: 2px solid var(--fill-color);\n",
              "    border-color: transparent;\n",
              "    border-bottom-color: var(--fill-color);\n",
              "    animation:\n",
              "      spin 1s steps(1) infinite;\n",
              "  }\n",
              "\n",
              "  @keyframes spin {\n",
              "    0% {\n",
              "      border-color: transparent;\n",
              "      border-bottom-color: var(--fill-color);\n",
              "      border-left-color: var(--fill-color);\n",
              "    }\n",
              "    20% {\n",
              "      border-color: transparent;\n",
              "      border-left-color: var(--fill-color);\n",
              "      border-top-color: var(--fill-color);\n",
              "    }\n",
              "    30% {\n",
              "      border-color: transparent;\n",
              "      border-left-color: var(--fill-color);\n",
              "      border-top-color: var(--fill-color);\n",
              "      border-right-color: var(--fill-color);\n",
              "    }\n",
              "    40% {\n",
              "      border-color: transparent;\n",
              "      border-right-color: var(--fill-color);\n",
              "      border-top-color: var(--fill-color);\n",
              "    }\n",
              "    60% {\n",
              "      border-color: transparent;\n",
              "      border-right-color: var(--fill-color);\n",
              "    }\n",
              "    80% {\n",
              "      border-color: transparent;\n",
              "      border-right-color: var(--fill-color);\n",
              "      border-bottom-color: var(--fill-color);\n",
              "    }\n",
              "    90% {\n",
              "      border-color: transparent;\n",
              "      border-bottom-color: var(--fill-color);\n",
              "    }\n",
              "  }\n",
              "</style>\n",
              "\n",
              "      <script>\n",
              "        async function quickchart(key) {\n",
              "          const quickchartButtonEl =\n",
              "            document.querySelector('#' + key + ' button');\n",
              "          quickchartButtonEl.disabled = true;  // To prevent multiple clicks.\n",
              "          quickchartButtonEl.classList.add('colab-df-spinner');\n",
              "          try {\n",
              "            const charts = await google.colab.kernel.invokeFunction(\n",
              "                'suggestCharts', [key], {});\n",
              "          } catch (error) {\n",
              "            console.error('Error during call to suggestCharts:', error);\n",
              "          }\n",
              "          quickchartButtonEl.classList.remove('colab-df-spinner');\n",
              "          quickchartButtonEl.classList.add('colab-df-quickchart-complete');\n",
              "        }\n",
              "        (() => {\n",
              "          let quickchartButtonEl =\n",
              "            document.querySelector('#df-910c86d6-41d8-4944-90b0-69b0fdc236e1 button');\n",
              "          quickchartButtonEl.style.display =\n",
              "            google.colab.kernel.accessAllowed ? 'block' : 'none';\n",
              "        })();\n",
              "      </script>\n",
              "    </div>\n",
              "    </div>\n",
              "  </div>\n"
            ],
            "application/vnd.google.colaboratory.intrinsic+json": {
              "type": "dataframe",
              "variable_name": "df",
              "summary": "{\n  \"name\": \"df\",\n  \"rows\": 3261,\n  \"fields\": [\n    {\n      \"column\": \"Text\",\n      \"properties\": {\n        \"dtype\": \"string\",\n        \"num_unique_values\": 3021,\n        \"samples\": [\n          \"\\u067e\\u0631\\u06cc\\u0646\\u062a\\u0631 \\u06cc\\u06a9 \\u0633\\u0627\\u0644 \\u062f\\u0627\\u0631\\u0645 \\u0648\\u0627\\u0642\\u0639\\u0627 \\u0627\\u0632\\u0634 \\u0631\\u0627\\u0636\\u06cc \\u0627\\u0645 \\u06cc\\u0647 \\u0645\\u0634\\u06a9\\u0644\\u06cc \\u06a9 \\u0641\\u06a9 \\u06a9\\u0646\\u0645 \\u0627\\u0648\\u0646\\u0627\\u06cc \\u06a9\\u0647 \\u0645\\u06cc\\u062e\\u0648\\u0627\\u0645 \\u0648\\u0627\\u0633\\u0647 \\u062e\\u0648\\u0646\\u0647 \\u0628\\u062e\\u0631\\u0646 \\u0627\\u06cc\\u0646\\u0647 \\u06a9\\u0647 \\u0647\\u0631 \\u0631\\u0648\\u0632 \\u0628\\u0627\\u06cc\\u062f \\u067e\\u0631\\u06cc\\u0646\\u062a \\u0628\\u06af\\u06cc\\u0631\\u0646 \\u06a9\\u0647 \\u062c\\u0648\\u0647\\u0631\\u0634 \\u062e\\u0634\\u06a9 \\u0646\\u0634\\u0647 \\u0648\\u0644\\u06cc \\u062f\\u0631 \\u0645\\u062c\\u0645\\u0648\\u0639 \\u0648\\u0627\\u0642\\u0639\\u0627 \\u06a9\\u06cc\\u0641\\u06cc\\u062a \\u0686\\u0627\\u067e\\u0634 \\u0648 \\u0645\\u0648\\u0646\\u06af\\u0627\\u0631\\u06cc\\u0634 \\u0639\\u0627\\u0644\\u06cc\\u0647 \",\n          \"\\u0628\\u0631\\u0627\\u06cc \\u06a9\\u0627\\u0631\\u0647\\u0627\\u06cc \\u062f\\u0627\\u0646\\u0634\\u062c\\u0648\\u06cc\\u06cc \\u0628\\u0633\\u06cc\\u0627\\u0631 \\u0639\\u0627\\u0644\\u06cc\\u0633\\u062a \\u0648 \\u067e\\u06cc\\u0634\\u0646\\u0647\\u0627\\u062f \\u0645\\u06cc\\u06a9\\u0646\\u0645  \",\n          \"\\u062f\\u0648 \\u0645\\u0627\\u0647\\u0647 \\u062e\\u0631\\u06cc\\u062f\\u0645\\u0634   \\u0645\\u062d\\u0634\\u0631\\u0647 \\u0627\\u0648\\u0644 \\u0627\\u06cc\\u0646 \\u06a9\\u0647 \\u0628\\u0627\\u062a\\u0631\\u06cc \\u0641\\u0648\\u0642 \\u0627\\u0644\\u0639\\u0627\\u062f\\u0647 \\u0639\\u0627\\u0644\\u06cc \\u062f\\u0627\\u0631\\u0647   \\u062a\\u0648 \\u067e\\u0627\\u0648\\u0631 \\u0633\\u06cc\\u0648\\u0634 \\u062f\\u0647 \\u0633\\u0627\\u0639\\u062a \\u0648 \\u0645\\u0639\\u0645\\u0648\\u0644\\u06cc \\u0647\\u0641\\u062a \\u0633\\u0627\\u0639\\u062a \\u0631\\u0648 \\u062c\\u0648\\u0627\\u0628\\u0647   \\u062b\\u0627\\u0646\\u06cc\\u0627 \\u06a9\\u06cc\\u0641\\u06cc\\u062a \\u0633\\u0627\\u062e\\u062a \\u0639\\u0627\\u0644\\u06cc  \\u0628\\u0639\\u062f \\u0627\\u0628\\u0646\\u06a9\\u0647 \\u0628\\u0627 \\u0627\\u06cc\\u0646\\u06a9\\u0647 \\u0627\\u06cc \\u0641\\u0627\\u06cc\\u0648\\u0647 \\u0648\\u0644\\u06cc 6200 u  \\u06a9 \\u06a9\\u0627\\u0631 \\u0627\\u06cc \\u0633\\u0648\\u0646 5000  \\u0631\\u0648 \\u0645\\u06cc\\u06a9\\u0646\\u0647  \\u062b\\u0627\\u0644\\u062b\\u0627\\u062f\\u0648 \\u062a\\u0627 \\u06af\\u0631\\u0627\\u0641\\u06cc\\u06a9 \\u062f\\u0627\\u0631\\u0647 \\u06cc\\u06a9\\u06cc \\u0628\\u0631\\u0627 \\u0627\\u0645\\u0648\\u0631 \\u0633\\u0627\\u062f\\u0647 \\u0648 \\u06cc\\u06a9\\u06cc \\u0628\\u0631\\u0627 \\u0645\\u062d\\u0627\\u0633\\u0628\\u0627\\u062a \\u0633\\u0646\\u06af\\u06cc\\u0646 \\u0645\\u062b \\u06af\\u06cc\\u0645  \\u0633\\u0646\\u0633\\u0648\\u0631 \\u0627\\u062b\\u0631 \\u0627\\u0646\\u06af\\u0634\\u062a\\u0634\\u0645 \\u0639\\u0627\\u0644\\u06cc\\u0647  \\u0641\\u0642\\u0637 \\u0628\\u062f\\u06cc\\u0634 \\u0627\\u06cc\\u0646\\u0647 \\u06a9 \\u06a9\\u06cc\\u0628\\u0648\\u0631\\u062f\\u0634 \\u0646\\u0648\\u0631 \\u067e\\u0633 \\u0646\\u062f\\u0627\\u0631\\u0647 \\u0648 \\u0627\\u06cc\\u0646\\u06a9\\u0647 \\u0648\\u0628\\u06a9\\u0645\\u0634 \\u0636\\u0639\\u06cc\\u0641\\u0647 \"\n        ],\n        \"semantic_type\": \"\",\n        \"description\": \"\"\n      }\n    },\n    {\n      \"column\": \"Score\",\n      \"properties\": {\n        \"dtype\": \"number\",\n        \"std\": 21,\n        \"min\": 0,\n        \"max\": 100,\n        \"num_unique_values\": 31,\n        \"samples\": [\n          10,\n          56,\n          94\n        ],\n        \"semantic_type\": \"\",\n        \"description\": \"\"\n      }\n    },\n    {\n      \"column\": \"Suggestion\",\n      \"properties\": {\n        \"dtype\": \"number\",\n        \"std\": 0,\n        \"min\": 1,\n        \"max\": 3,\n        \"num_unique_values\": 3,\n        \"samples\": [\n          1,\n          3,\n          2\n        ],\n        \"semantic_type\": \"\",\n        \"description\": \"\"\n      }\n    }\n  ]\n}"
            }
          },
          "metadata": {},
          "execution_count": 2
        }
      ]
    },
    {
      "cell_type": "code",
      "source": [
        "print(df.loc[22, 'Text'])\n"
      ],
      "metadata": {
        "colab": {
          "base_uri": "https://localhost:8080/"
        },
        "id": "vzOLq5VZOJ84",
        "outputId": "cd83e39a-d706-471d-c6ed-4bb3b70c9c0e"
      },
      "execution_count": null,
      "outputs": [
        {
          "output_type": "stream",
          "name": "stdout",
          "text": [
            "موبایل را خریدم   راحت هک میشه   اس ام اس دادن باهاش زجر آوره   لیست بلک لیست تماس و بلک لیست پیامش کمه   تعداد فولدر های پیام کم است   یکی چند بار با هک کردن موبایلم با لیست کانتکت های من تماس گرفته   یک بار هم گوشی روی میز بود که هکر با گوشی به کانتکت من زنگ زده و قطع کرده   یک بار هم ساعت 2 نصفه شب طرف موبایلم را هک کرده و به کانتکت من زنگ زده چند بار    لطفا فقط موبایلی که محافظت داره و نمیشه راحت هکش کرد بیارین   این بلا سر گوشی اچ تی سی چاچا هم برایم پیش اومده است   \n"
          ]
        }
      ]
    },
    {
      "cell_type": "code",
      "source": [
        "# Get unique values from a column\n",
        "unique_values = pd.unique(df['Suggestion'])\n",
        "print(unique_values)"
      ],
      "metadata": {
        "colab": {
          "base_uri": "https://localhost:8080/"
        },
        "id": "WETzlCZQNDC1",
        "outputId": "e4bc9956-f996-409d-84be-4c093f949912"
      },
      "execution_count": null,
      "outputs": [
        {
          "output_type": "stream",
          "name": "stdout",
          "text": [
            "[1 3 2]\n"
          ]
        }
      ]
    },
    {
      "cell_type": "code",
      "source": [
        "print(df.columns)\n",
        "print(len(df))"
      ],
      "metadata": {
        "colab": {
          "base_uri": "https://localhost:8080/"
        },
        "id": "NfCcFg2iyE6P",
        "outputId": "897a8585-d06d-4139-b57a-95819dc44db8"
      },
      "execution_count": null,
      "outputs": [
        {
          "output_type": "stream",
          "name": "stdout",
          "text": [
            "Index(['Text', 'Score', 'Suggestion'], dtype='object')\n",
            "3261\n"
          ]
        }
      ]
    },
    {
      "cell_type": "code",
      "source": [
        "print(df.info())\n",
        "print(df.describe())"
      ],
      "metadata": {
        "colab": {
          "base_uri": "https://localhost:8080/"
        },
        "id": "DHTAR9G7-gmb",
        "outputId": "b800e619-f7c1-4119-d536-10ce42a5da41"
      },
      "execution_count": null,
      "outputs": [
        {
          "output_type": "stream",
          "name": "stdout",
          "text": [
            "<class 'pandas.core.frame.DataFrame'>\n",
            "RangeIndex: 3261 entries, 0 to 3260\n",
            "Data columns (total 3 columns):\n",
            " #   Column      Non-Null Count  Dtype \n",
            "---  ------      --------------  ----- \n",
            " 0   Text        3261 non-null   object\n",
            " 1   Score       3261 non-null   int64 \n",
            " 2   Suggestion  3261 non-null   int64 \n",
            "dtypes: int64(2), object(1)\n",
            "memory usage: 76.6+ KB\n",
            "None\n",
            "             Score  Suggestion\n",
            "count  3261.000000  3261.00000\n",
            "mean     74.719411     1.41061\n",
            "std      21.514015     0.72408\n",
            "min       0.000000     1.00000\n",
            "25%      60.000000     1.00000\n",
            "50%      80.000000     1.00000\n",
            "75%      92.000000     2.00000\n",
            "max     100.000000     3.00000\n"
          ]
        }
      ]
    },
    {
      "cell_type": "code",
      "source": [
        "df.nunique()"
      ],
      "metadata": {
        "colab": {
          "base_uri": "https://localhost:8080/",
          "height": 178
        },
        "id": "7oMBt8v2ywrG",
        "outputId": "2181c6e1-3650-4a53-a165-29b9726bf28f"
      },
      "execution_count": null,
      "outputs": [
        {
          "output_type": "execute_result",
          "data": {
            "text/plain": [
              "Text          3021\n",
              "Score           31\n",
              "Suggestion       3\n",
              "dtype: int64"
            ],
            "text/html": [
              "<div>\n",
              "<style scoped>\n",
              "    .dataframe tbody tr th:only-of-type {\n",
              "        vertical-align: middle;\n",
              "    }\n",
              "\n",
              "    .dataframe tbody tr th {\n",
              "        vertical-align: top;\n",
              "    }\n",
              "\n",
              "    .dataframe thead th {\n",
              "        text-align: right;\n",
              "    }\n",
              "</style>\n",
              "<table border=\"1\" class=\"dataframe\">\n",
              "  <thead>\n",
              "    <tr style=\"text-align: right;\">\n",
              "      <th></th>\n",
              "      <th>0</th>\n",
              "    </tr>\n",
              "  </thead>\n",
              "  <tbody>\n",
              "    <tr>\n",
              "      <th>Text</th>\n",
              "      <td>3021</td>\n",
              "    </tr>\n",
              "    <tr>\n",
              "      <th>Score</th>\n",
              "      <td>31</td>\n",
              "    </tr>\n",
              "    <tr>\n",
              "      <th>Suggestion</th>\n",
              "      <td>3</td>\n",
              "    </tr>\n",
              "  </tbody>\n",
              "</table>\n",
              "</div><br><label><b>dtype:</b> int64</label>"
            ]
          },
          "metadata": {},
          "execution_count": 10
        }
      ]
    },
    {
      "cell_type": "code",
      "source": [
        "# انتخاب فقط ستون‌های عددی\n",
        "numeric_df = df.select_dtypes(include=['float64', 'int64'])\n",
        "\n",
        "# محاسبه همبستگی فقط روی ستون‌های عددی\n",
        "corr_matrix = numeric_df.corr()\n",
        "\n",
        "import seaborn as sns\n",
        "import matplotlib.pyplot as plt\n",
        "\n",
        "plt.figure(figsize=(8, 4))\n",
        "sns.heatmap(corr_matrix, cmap='coolwarm', annot=True)\n",
        "plt.title(\"Correlation Matrix \")\n",
        "plt.show()\n"
      ],
      "metadata": {
        "colab": {
          "base_uri": "https://localhost:8080/",
          "height": 391
        },
        "id": "nJEEz1cm82nd",
        "outputId": "20468dbf-b567-4af9-f25d-2726647677ba"
      },
      "execution_count": null,
      "outputs": [
        {
          "output_type": "display_data",
          "data": {
            "text/plain": [
              "<Figure size 800x400 with 2 Axes>"
            ],
            "image/png": "[encoded data removed]"
          },
          "metadata": {}
        }
      ]
    },
    {
      "cell_type": "code",
      "source": [
        "df.isnull().sum()"
      ],
      "metadata": {
        "colab": {
          "base_uri": "https://localhost:8080/",
          "height": 178
        },
        "id": "_6CZlmbZ9fhi",
        "outputId": "1e36c436-7b3c-4bc7-e57b-17ffb945a986"
      },
      "execution_count": null,
      "outputs": [
        {
          "output_type": "execute_result",
          "data": {
            "text/plain": [
              "Text          0\n",
              "Score         0\n",
              "Suggestion    0\n",
              "dtype: int64"
            ],
            "text/html": [
              "<div>\n",
              "<style scoped>\n",
              "    .dataframe tbody tr th:only-of-type {\n",
              "        vertical-align: middle;\n",
              "    }\n",
              "\n",
              "    .dataframe tbody tr th {\n",
              "        vertical-align: top;\n",
              "    }\n",
              "\n",
              "    .dataframe thead th {\n",
              "        text-align: right;\n",
              "    }\n",
              "</style>\n",
              "<table border=\"1\" class=\"dataframe\">\n",
              "  <thead>\n",
              "    <tr style=\"text-align: right;\">\n",
              "      <th></th>\n",
              "      <th>0</th>\n",
              "    </tr>\n",
              "  </thead>\n",
              "  <tbody>\n",
              "    <tr>\n",
              "      <th>Text</th>\n",
              "      <td>0</td>\n",
              "    </tr>\n",
              "    <tr>\n",
              "      <th>Score</th>\n",
              "      <td>0</td>\n",
              "    </tr>\n",
              "    <tr>\n",
              "      <th>Suggestion</th>\n",
              "      <td>0</td>\n",
              "    </tr>\n",
              "  </tbody>\n",
              "</table>\n",
              "</div><br><label><b>dtype:</b> int64</label>"
            ]
          },
          "metadata": {},
          "execution_count": 12
        }
      ]
    },
    {
      "cell_type": "code",
      "source": [
        "# df = df.drop_duplicates()\n",
        "# len(df)"
      ],
      "metadata": {
        "id": "_5tntaJPGdO5"
      },
      "execution_count": null,
      "outputs": []
    },
    {
      "cell_type": "code",
      "source": [
        "df['Score'] = df[\"Score\"].apply(lambda score: 'Positive' if score >= 50 else 'Negative')"
      ],
      "metadata": {
        "id": "d54lal3DXy3b"
      },
      "execution_count": 3,
      "outputs": []
    },
    {
      "cell_type": "code",
      "source": [
        "df['Score'] = df['Score'].map({'Positive': 1, 'Negative':0})"
      ],
      "metadata": {
        "id": "WZoQQv9-bMfh"
      },
      "execution_count": 4,
      "outputs": []
    },
    {
      "cell_type": "code",
      "source": [
        "df.head()"
      ],
      "metadata": {
        "colab": {
          "base_uri": "https://localhost:8080/",
          "height": 206
        },
        "id": "hn1Iz48gbml3",
        "outputId": "a3ddf414-9700-4512-cc57-333f0c82fb7d"
      },
      "execution_count": 5,
      "outputs": [
        {
          "output_type": "execute_result",
          "data": {
            "text/plain": [
              "                                                Text  Score  Suggestion\n",
              "0  این اولین تجربه من برای خرید ایفون هست   امروز...      1           1\n",
              "1                     خرید این محصول رو توصیه میکنم       1           1\n",
              "2  1 ساله این گوشی رو دارم   هیچ نقطه ضعفی ازش ند...      1           1\n",
              "3  سلام خدمت دوستان این گوشی از همه نظر عالی  کیف...      1           1\n",
              "4  سلام دوستانی که نگران شکستن صفحه نمایش هستند ا...      1           1"
            ],
            "text/html": [
              "\n",
              "  <div id=\"df-09d48ad0-9354-440b-81be-4aeda98a2710\" class=\"colab-df-container\">\n",
              "    <div>\n",
              "<style scoped>\n",
              "    .dataframe tbody tr th:only-of-type {\n",
              "        vertical-align: middle;\n",
              "    }\n",
              "\n",
              "    .dataframe tbody tr th {\n",
              "        vertical-align: top;\n",
              "    }\n",
              "\n",
              "    .dataframe thead th {\n",
              "        text-align: right;\n",
              "    }\n",
              "</style>\n",
              "<table border=\"1\" class=\"dataframe\">\n",
              "  <thead>\n",
              "    <tr style=\"text-align: right;\">\n",
              "      <th></th>\n",
              "      <th>Text</th>\n",
              "      <th>Score</th>\n",
              "      <th>Suggestion</th>\n",
              "    </tr>\n",
              "  </thead>\n",
              "  <tbody>\n",
              "    <tr>\n",
              "      <th>0</th>\n",
              "      <td>این اولین تجربه من برای خرید ایفون هست   امروز...</td>\n",
              "      <td>1</td>\n",
              "      <td>1</td>\n",
              "    </tr>\n",
              "    <tr>\n",
              "      <th>1</th>\n",
              "      <td>خرید این محصول رو توصیه میکنم</td>\n",
              "      <td>1</td>\n",
              "      <td>1</td>\n",
              "    </tr>\n",
              "    <tr>\n",
              "      <th>2</th>\n",
              "      <td>1 ساله این گوشی رو دارم   هیچ نقطه ضعفی ازش ند...</td>\n",
              "      <td>1</td>\n",
              "      <td>1</td>\n",
              "    </tr>\n",
              "    <tr>\n",
              "      <th>3</th>\n",
              "      <td>سلام خدمت دوستان این گوشی از همه نظر عالی  کیف...</td>\n",
              "      <td>1</td>\n",
              "      <td>1</td>\n",
              "    </tr>\n",
              "    <tr>\n",
              "      <th>4</th>\n",
              "      <td>سلام دوستانی که نگران شکستن صفحه نمایش هستند ا...</td>\n",
              "      <td>1</td>\n",
              "      <td>1</td>\n",
              "    </tr>\n",
              "  </tbody>\n",
              "</table>\n",
              "</div>\n",
              "    <div class=\"colab-df-buttons\">\n",
              "\n",
              "  <div class=\"colab-df-container\">\n",
              "    <button class=\"colab-df-convert\" onclick=\"convertToInteractive('df-09d48ad0-9354-440b-81be-4aeda98a2710')\"\n",
              "            title=\"Convert this dataframe to an interactive table.\"\n",
              "            style=\"display:none;\">\n",
              "\n",
              "  <svg xmlns=\"http://www.w3.org/2000/svg\" height=\"24px\" viewBox=\"0 -960 960 960\">\n",
              "    <path d=\"M120-120v-720h720v720H120Zm60-500h600v-160H180v160Zm220 220h160v-160H400v160Zm0 220h160v-160H400v160ZM180-400h160v-160H180v160Zm440 0h160v-160H620v160ZM180-180h160v-160H180v160Zm440 0h160v-160H620v160Z\"/>\n",
              "  </svg>\n",
              "    </button>\n",
              "\n",
              "  <style>\n",
              "    .colab-df-container {\n",
              "      display:flex;\n",
              "      gap: 12px;\n",
              "    }\n",
              "\n",
              "    .colab-df-convert {\n",
              "      background-color: #E8F0FE;\n",
              "      border: none;\n",
              "      border-radius: 50%;\n",
              "      cursor: pointer;\n",
              "      display: none;\n",
              "      fill: #1967D2;\n",
              "      height: 32px;\n",
              "      padding: 0 0 0 0;\n",
              "      width: 32px;\n",
              "    }\n",
              "\n",
              "    .colab-df-convert:hover {\n",
              "      background-color: #E2EBFA;\n",
              "      box-shadow: 0px 1px 2px rgba(60, 64, 67, 0.3), 0px 1px 3px 1px rgba(60, 64, 67, 0.15);\n",
              "      fill: #174EA6;\n",
              "    }\n",
              "\n",
              "    .colab-df-buttons div {\n",
              "      margin-bottom: 4px;\n",
              "    }\n",
              "\n",
              "    [theme=dark] .colab-df-convert {\n",
              "      background-color: #3B4455;\n",
              "      fill: #D2E3FC;\n",
              "    }\n",
              "\n",
              "    [theme=dark] .colab-df-convert:hover {\n",
              "      background-color: #434B5C;\n",
              "      box-shadow: 0px 1px 3px 1px rgba(0, 0, 0, 0.15);\n",
              "      filter: drop-shadow(0px 1px 2px rgba(0, 0, 0, 0.3));\n",
              "      fill: #FFFFFF;\n",
              "    }\n",
              "  </style>\n",
              "\n",
              "    <script>\n",
              "      const buttonEl =\n",
              "        document.querySelector('#df-09d48ad0-9354-440b-81be-4aeda98a2710 button.colab-df-convert');\n",
              "      buttonEl.style.display =\n",
              "        google.colab.kernel.accessAllowed ? 'block' : 'none';\n",
              "\n",
              "      async function convertToInteractive(key) {\n",
              "        const element = document.querySelector('#df-09d48ad0-9354-440b-81be-4aeda98a2710');\n",
              "        const dataTable =\n",
              "          await google.colab.kernel.invokeFunction('convertToInteractive',\n",
              "                                                    [key], {});\n",
              "        if (!dataTable) return;\n",
              "\n",
              "        const docLinkHtml = 'Like what you see? Visit the ' +\n",
              "          '<a target=\"_blank\" href=https://colab.research.google.com/notebooks/data_table.ipynb>data table notebook</a>'\n",
              "          + ' to learn more about interactive tables.';\n",
              "        element.innerHTML = '';\n",
              "        dataTable['output_type'] = 'display_data';\n",
              "        await google.colab.output.renderOutput(dataTable, element);\n",
              "        const docLink = document.createElement('div');\n",
              "        docLink.innerHTML = docLinkHtml;\n",
              "        element.appendChild(docLink);\n",
              "      }\n",
              "    </script>\n",
              "  </div>\n",
              "\n",
              "\n",
              "    <div id=\"df-2b653003-03af-4061-ba07-a843c82d15b4\">\n",
              "      <button class=\"colab-df-quickchart\" onclick=\"quickchart('df-2b653003-03af-4061-ba07-a843c82d15b4')\"\n",
              "                title=\"Suggest charts\"\n",
              "                style=\"display:none;\">\n",
              "\n",
              "<svg xmlns=\"http://www.w3.org/2000/svg\" height=\"24px\"viewBox=\"0 0 24 24\"\n",
              "     width=\"24px\">\n",
              "    <g>\n",
              "        <path d=\"M19 3H5c-1.1 0-2 .9-2 2v14c0 1.1.9 2 2 2h14c1.1 0 2-.9 2-2V5c0-1.1-.9-2-2-2zM9 17H7v-7h2v7zm4 0h-2V7h2v10zm4 0h-2v-4h2v4z\"/>\n",
              "    </g>\n",
              "</svg>\n",
              "      </button>\n",
              "\n",
              "<style>\n",
              "  .colab-df-quickchart {\n",
              "      --bg-color: #E8F0FE;\n",
              "      --fill-color: #1967D2;\n",
              "      --hover-bg-color: #E2EBFA;\n",
              "      --hover-fill-color: #174EA6;\n",
              "      --disabled-fill-color: #AAA;\n",
              "      --disabled-bg-color: #DDD;\n",
              "  }\n",
              "\n",
              "  [theme=dark] .colab-df-quickchart {\n",
              "      --bg-color: #3B4455;\n",
              "      --fill-color: #D2E3FC;\n",
              "      --hover-bg-color: #434B5C;\n",
              "      --hover-fill-color: #FFFFFF;\n",
              "      --disabled-bg-color: #3B4455;\n",
              "      --disabled-fill-color: #666;\n",
              "  }\n",
              "\n",
              "  .colab-df-quickchart {\n",
              "    background-color: var(--bg-color);\n",
              "    border: none;\n",
              "    border-radius: 50%;\n",
              "    cursor: pointer;\n",
              "    display: none;\n",
              "    fill: var(--fill-color);\n",
              "    height: 32px;\n",
              "    padding: 0;\n",
              "    width: 32px;\n",
              "  }\n",
              "\n",
              "  .colab-df-quickchart:hover {\n",
              "    background-color: var(--hover-bg-color);\n",
              "    box-shadow: 0 1px 2px rgba(60, 64, 67, 0.3), 0 1px 3px 1px rgba(60, 64, 67, 0.15);\n",
              "    fill: var(--button-hover-fill-color);\n",
              "  }\n",
              "\n",
              "  .colab-df-quickchart-complete:disabled,\n",
              "  .colab-df-quickchart-complete:disabled:hover {\n",
              "    background-color: var(--disabled-bg-color);\n",
              "    fill: var(--disabled-fill-color);\n",
              "    box-shadow: none;\n",
              "  }\n",
              "\n",
              "  .colab-df-spinner {\n",
              "    border: 2px solid var(--fill-color);\n",
              "    border-color: transparent;\n",
              "    border-bottom-color: var(--fill-color);\n",
              "    animation:\n",
              "      spin 1s steps(1) infinite;\n",
              "  }\n",
              "\n",
              "  @keyframes spin {\n",
              "    0% {\n",
              "      border-color: transparent;\n",
              "      border-bottom-color: var(--fill-color);\n",
              "      border-left-color: var(--fill-color);\n",
              "    }\n",
              "    20% {\n",
              "      border-color: transparent;\n",
              "      border-left-color: var(--fill-color);\n",
              "      border-top-color: var(--fill-color);\n",
              "    }\n",
              "    30% {\n",
              "      border-color: transparent;\n",
              "      border-left-color: var(--fill-color);\n",
              "      border-top-color: var(--fill-color);\n",
              "      border-right-color: var(--fill-color);\n",
              "    }\n",
              "    40% {\n",
              "      border-color: transparent;\n",
              "      border-right-color: var(--fill-color);\n",
              "      border-top-color: var(--fill-color);\n",
              "    }\n",
              "    60% {\n",
              "      border-color: transparent;\n",
              "      border-right-color: var(--fill-color);\n",
              "    }\n",
              "    80% {\n",
              "      border-color: transparent;\n",
              "      border-right-color: var(--fill-color);\n",
              "      border-bottom-color: var(--fill-color);\n",
              "    }\n",
              "    90% {\n",
              "      border-color: transparent;\n",
              "      border-bottom-color: var(--fill-color);\n",
              "    }\n",
              "  }\n",
              "</style>\n",
              "\n",
              "      <script>\n",
              "        async function quickchart(key) {\n",
              "          const quickchartButtonEl =\n",
              "            document.querySelector('#' + key + ' button');\n",
              "          quickchartButtonEl.disabled = true;  // To prevent multiple clicks.\n",
              "          quickchartButtonEl.classList.add('colab-df-spinner');\n",
              "          try {\n",
              "            const charts = await google.colab.kernel.invokeFunction(\n",
              "                'suggestCharts', [key], {});\n",
              "          } catch (error) {\n",
              "            console.error('Error during call to suggestCharts:', error);\n",
              "          }\n",
              "          quickchartButtonEl.classList.remove('colab-df-spinner');\n",
              "          quickchartButtonEl.classList.add('colab-df-quickchart-complete');\n",
              "        }\n",
              "        (() => {\n",
              "          let quickchartButtonEl =\n",
              "            document.querySelector('#df-2b653003-03af-4061-ba07-a843c82d15b4 button');\n",
              "          quickchartButtonEl.style.display =\n",
              "            google.colab.kernel.accessAllowed ? 'block' : 'none';\n",
              "        })();\n",
              "      </script>\n",
              "    </div>\n",
              "    </div>\n",
              "  </div>\n"
            ],
            "application/vnd.google.colaboratory.intrinsic+json": {
              "type": "dataframe",
              "variable_name": "df",
              "summary": "{\n  \"name\": \"df\",\n  \"rows\": 3261,\n  \"fields\": [\n    {\n      \"column\": \"Text\",\n      \"properties\": {\n        \"dtype\": \"string\",\n        \"num_unique_values\": 3021,\n        \"samples\": [\n          \"\\u067e\\u0631\\u06cc\\u0646\\u062a\\u0631 \\u06cc\\u06a9 \\u0633\\u0627\\u0644 \\u062f\\u0627\\u0631\\u0645 \\u0648\\u0627\\u0642\\u0639\\u0627 \\u0627\\u0632\\u0634 \\u0631\\u0627\\u0636\\u06cc \\u0627\\u0645 \\u06cc\\u0647 \\u0645\\u0634\\u06a9\\u0644\\u06cc \\u06a9 \\u0641\\u06a9 \\u06a9\\u0646\\u0645 \\u0627\\u0648\\u0646\\u0627\\u06cc \\u06a9\\u0647 \\u0645\\u06cc\\u062e\\u0648\\u0627\\u0645 \\u0648\\u0627\\u0633\\u0647 \\u062e\\u0648\\u0646\\u0647 \\u0628\\u062e\\u0631\\u0646 \\u0627\\u06cc\\u0646\\u0647 \\u06a9\\u0647 \\u0647\\u0631 \\u0631\\u0648\\u0632 \\u0628\\u0627\\u06cc\\u062f \\u067e\\u0631\\u06cc\\u0646\\u062a \\u0628\\u06af\\u06cc\\u0631\\u0646 \\u06a9\\u0647 \\u062c\\u0648\\u0647\\u0631\\u0634 \\u062e\\u0634\\u06a9 \\u0646\\u0634\\u0647 \\u0648\\u0644\\u06cc \\u062f\\u0631 \\u0645\\u062c\\u0645\\u0648\\u0639 \\u0648\\u0627\\u0642\\u0639\\u0627 \\u06a9\\u06cc\\u0641\\u06cc\\u062a \\u0686\\u0627\\u067e\\u0634 \\u0648 \\u0645\\u0648\\u0646\\u06af\\u0627\\u0631\\u06cc\\u0634 \\u0639\\u0627\\u0644\\u06cc\\u0647 \",\n          \"\\u0628\\u0631\\u0627\\u06cc \\u06a9\\u0627\\u0631\\u0647\\u0627\\u06cc \\u062f\\u0627\\u0646\\u0634\\u062c\\u0648\\u06cc\\u06cc \\u0628\\u0633\\u06cc\\u0627\\u0631 \\u0639\\u0627\\u0644\\u06cc\\u0633\\u062a \\u0648 \\u067e\\u06cc\\u0634\\u0646\\u0647\\u0627\\u062f \\u0645\\u06cc\\u06a9\\u0646\\u0645  \",\n          \"\\u062f\\u0648 \\u0645\\u0627\\u0647\\u0647 \\u062e\\u0631\\u06cc\\u062f\\u0645\\u0634   \\u0645\\u062d\\u0634\\u0631\\u0647 \\u0627\\u0648\\u0644 \\u0627\\u06cc\\u0646 \\u06a9\\u0647 \\u0628\\u0627\\u062a\\u0631\\u06cc \\u0641\\u0648\\u0642 \\u0627\\u0644\\u0639\\u0627\\u062f\\u0647 \\u0639\\u0627\\u0644\\u06cc \\u062f\\u0627\\u0631\\u0647   \\u062a\\u0648 \\u067e\\u0627\\u0648\\u0631 \\u0633\\u06cc\\u0648\\u0634 \\u062f\\u0647 \\u0633\\u0627\\u0639\\u062a \\u0648 \\u0645\\u0639\\u0645\\u0648\\u0644\\u06cc \\u0647\\u0641\\u062a \\u0633\\u0627\\u0639\\u062a \\u0631\\u0648 \\u062c\\u0648\\u0627\\u0628\\u0647   \\u062b\\u0627\\u0646\\u06cc\\u0627 \\u06a9\\u06cc\\u0641\\u06cc\\u062a \\u0633\\u0627\\u062e\\u062a \\u0639\\u0627\\u0644\\u06cc  \\u0628\\u0639\\u062f \\u0627\\u0628\\u0646\\u06a9\\u0647 \\u0628\\u0627 \\u0627\\u06cc\\u0646\\u06a9\\u0647 \\u0627\\u06cc \\u0641\\u0627\\u06cc\\u0648\\u0647 \\u0648\\u0644\\u06cc 6200 u  \\u06a9 \\u06a9\\u0627\\u0631 \\u0627\\u06cc \\u0633\\u0648\\u0646 5000  \\u0631\\u0648 \\u0645\\u06cc\\u06a9\\u0646\\u0647  \\u062b\\u0627\\u0644\\u062b\\u0627\\u062f\\u0648 \\u062a\\u0627 \\u06af\\u0631\\u0627\\u0641\\u06cc\\u06a9 \\u062f\\u0627\\u0631\\u0647 \\u06cc\\u06a9\\u06cc \\u0628\\u0631\\u0627 \\u0627\\u0645\\u0648\\u0631 \\u0633\\u0627\\u062f\\u0647 \\u0648 \\u06cc\\u06a9\\u06cc \\u0628\\u0631\\u0627 \\u0645\\u062d\\u0627\\u0633\\u0628\\u0627\\u062a \\u0633\\u0646\\u06af\\u06cc\\u0646 \\u0645\\u062b \\u06af\\u06cc\\u0645  \\u0633\\u0646\\u0633\\u0648\\u0631 \\u0627\\u062b\\u0631 \\u0627\\u0646\\u06af\\u0634\\u062a\\u0634\\u0645 \\u0639\\u0627\\u0644\\u06cc\\u0647  \\u0641\\u0642\\u0637 \\u0628\\u062f\\u06cc\\u0634 \\u0627\\u06cc\\u0646\\u0647 \\u06a9 \\u06a9\\u06cc\\u0628\\u0648\\u0631\\u062f\\u0634 \\u0646\\u0648\\u0631 \\u067e\\u0633 \\u0646\\u062f\\u0627\\u0631\\u0647 \\u0648 \\u0627\\u06cc\\u0646\\u06a9\\u0647 \\u0648\\u0628\\u06a9\\u0645\\u0634 \\u0636\\u0639\\u06cc\\u0641\\u0647 \"\n        ],\n        \"semantic_type\": \"\",\n        \"description\": \"\"\n      }\n    },\n    {\n      \"column\": \"Score\",\n      \"properties\": {\n        \"dtype\": \"number\",\n        \"std\": 0,\n        \"min\": 0,\n        \"max\": 1,\n        \"num_unique_values\": 2,\n        \"samples\": [\n          0,\n          1\n        ],\n        \"semantic_type\": \"\",\n        \"description\": \"\"\n      }\n    },\n    {\n      \"column\": \"Suggestion\",\n      \"properties\": {\n        \"dtype\": \"number\",\n        \"std\": 0,\n        \"min\": 1,\n        \"max\": 3,\n        \"num_unique_values\": 3,\n        \"samples\": [\n          1,\n          3\n        ],\n        \"semantic_type\": \"\",\n        \"description\": \"\"\n      }\n    }\n  ]\n}"
            }
          },
          "metadata": {},
          "execution_count": 5
        }
      ]
    },
    {
      "cell_type": "code",
      "source": [
        "print(df['Score'].value_counts())"
      ],
      "metadata": {
        "colab": {
          "base_uri": "https://localhost:8080/"
        },
        "id": "VfAKE0e26-Ic",
        "outputId": "d7576de2-f571-433c-c992-ea71212dada2"
      },
      "execution_count": 5,
      "outputs": [
        {
          "output_type": "stream",
          "name": "stdout",
          "text": [
            "Score\n",
            "1    2917\n",
            "0     344\n",
            "Name: count, dtype: int64\n"
          ]
        }
      ]
    },
    {
      "cell_type": "code",
      "source": [
        "label = df['Score'].value_counts()\n",
        "plt.figure(figsize=(10,5))\n",
        "plt.pie(label, labels=label.index, autopct='%1.1f%%', colors=['green', 'red'])\n",
        "plt.title('Distribution of Sentiment Labels')\n",
        "plt.axis('equal')\n",
        "plt.show()"
      ],
      "metadata": {
        "colab": {
          "base_uri": "https://localhost:8080/",
          "height": 444
        },
        "id": "XUBtfx297Xuy",
        "outputId": "20b7aade-7c56-4294-c4c4-3d5b22a24bd5"
      },
      "execution_count": 6,
      "outputs": [
        {
          "output_type": "display_data",
          "data": {
            "text/plain": [
              "<Figure size 1000x500 with 1 Axes>"
            ],
            "image/png": "[encoded data removed]"
          },
          "metadata": {}
        }
      ]
    },
    {
      "cell_type": "code",
      "source": [
        "from sklearn.utils import resample\n",
        "\n",
        "df_majority = df[df['Score'] == 1]\n",
        "df_minority = df[df['Score'] == 0]\n",
        "\n",
        "df_minority_upsampled = resample(df_minority,\n",
        "                                 replace=True,\n",
        "                                 n_samples=len(df_majority),\n",
        "                                 random_state=42)\n",
        "\n",
        "df_upsampled = pd.concat([df_majority, df_minority_upsampled])\n",
        "\n",
        "print(df_upsampled['Score'].value_counts())\n"
      ],
      "metadata": {
        "colab": {
          "base_uri": "https://localhost:8080/"
        },
        "id": "Jv3g2v6nXmWU",
        "outputId": "c56de10f-0b00-41ab-f665-be0320197e73"
      },
      "execution_count": 6,
      "outputs": [
        {
          "output_type": "stream",
          "name": "stdout",
          "text": [
            "Score\n",
            "1    2917\n",
            "0    2917\n",
            "Name: count, dtype: int64\n"
          ]
        }
      ]
    },
    {
      "cell_type": "code",
      "source": [
        "label = df_upsampled['Score'].value_counts()\n",
        "plt.figure(figsize=(10,5))\n",
        "plt.pie(label, labels=label.index, autopct='%1.1f%%', colors=['green', 'red'])\n",
        "plt.title('Distribution of Sentiment Labels')\n",
        "plt.axis('equal')\n",
        "plt.show()"
      ],
      "metadata": {
        "colab": {
          "base_uri": "https://localhost:8080/",
          "height": 451
        },
        "id": "xVAK-gIHXpOS",
        "outputId": "56727588-0d55-41e5-adcf-b842b21880ac"
      },
      "execution_count": 8,
      "outputs": [
        {
          "output_type": "display_data",
          "data": {
            "text/plain": [
              "<Figure size 1000x500 with 1 Axes>"
            ],
            "image/png": "[encoded data removed]"
          },
          "metadata": {}
        }
      ]
    },
    {
      "cell_type": "code",
      "source": [
        "tokenizer = AutoTokenizer.from_pretrained(\"HooshvareLab/bert-base-parsbert-uncased\")\n",
        "\n",
        "def tokenize_texts(texts, max_len=512):\n",
        "    input_ids = []\n",
        "    for text in texts:\n",
        "        encoded = tokenizer.encode(text, add_special_tokens=True, max_length=max_len, truncation=True)\n",
        "        input_ids.append(encoded)\n",
        "    input_ids = pad_sequences(input_ids, maxlen=max_len, padding='post', truncating='post')\n",
        "    return input_ids\n",
        "\n",
        "X_text = tokenize_texts(df_upsampled['Text'].tolist(), max_len=512)\n",
        "\n",
        "X_suggestion = df_upsampled['Suggestion'].values.reshape(-1, 1)\n",
        "\n",
        "X = np.concatenate((X_text, X_suggestion), axis=1)\n",
        "y = df_upsampled['Score'].values\n",
        "type(X)"
      ],
      "metadata": {
        "id": "28ppCRnp1AZA",
        "colab": {
          "base_uri": "https://localhost:8080/"
        },
        "outputId": "0d747fac-4663-482d-a9d2-096d4222fadf"
      },
      "execution_count": 7,
      "outputs": [
        {
          "output_type": "execute_result",
          "data": {
            "text/plain": [
              "numpy.ndarray"
            ]
          },
          "metadata": {},
          "execution_count": 7
        }
      ]
    },
    {
      "cell_type": "code",
      "source": [
        "X[0]"
      ],
      "metadata": {
        "colab": {
          "base_uri": "https://localhost:8080/"
        },
        "id": "MrP5-bAW7NR8",
        "outputId": "64a51cd7-7a7d-44b1-d7c2-fdc5a2c70003"
      },
      "execution_count": 8,
      "outputs": [
        {
          "output_type": "execute_result",
          "data": {
            "text/plain": [
              "array([    2,  2042,  3001,  3482,  2078,  2073,  2637,  5377,  2209,\n",
              "        2539,   306, 15712,  3364,  2031,  4856,  7510,  2209,  2752,\n",
              "       75108, 66652,  1177,  3062,  2063,  3321,  3852,  2209,     4,\n",
              "           0,     0,     0,     0,     0,     0,     0,     0,     0,\n",
              "           0,     0,     0,     0,     0,     0,     0,     0,     0,\n",
              "           0,     0,     0,     0,     0,     0,     0,     0,     0,\n",
              "           0,     0,     0,     0,     0,     0,     0,     0,     0,\n",
              "           0,     0,     0,     0,     0,     0,     0,     0,     0,\n",
              "           0,     0,     0,     0,     0,     0,     0,     0,     0,\n",
              "           0,     0,     0,     0,     0,     0,     0,     0,     0,\n",
              "           0,     0,     0,     0,     0,     0,     0,     0,     0,\n",
              "           0,     0,     0,     0,     0,     0,     0,     0,     0,\n",
              "           0,     0,     0,     0,     0,     0,     0,     0,     0,\n",
              "           0,     0,     0,     0,     0,     0,     0,     0,     0,\n",
              "           0,     0,     0,     0,     0,     0,     0,     0,     0,\n",
              "           0,     0,     0,     0,     0,     0,     0,     0,     0,\n",
              "           0,     0,     0,     0,     0,     0,     0,     0,     0,\n",
              "           0,     0,     0,     0,     0,     0,     0,     0,     0,\n",
              "           0,     0,     0,     0,     0,     0,     0,     0,     0,\n",
              "           0,     0,     0,     0,     0,     0,     0,     0,     0,\n",
              "           0,     0,     0,     0,     0,     0,     0,     0,     0,\n",
              "           0,     0,     0,     0,     0,     0,     0,     0,     0,\n",
              "           0,     0,     0,     0,     0,     0,     0,     0,     0,\n",
              "           0,     0,     0,     0,     0,     0,     0,     0,     0,\n",
              "           0,     0,     0,     0,     0,     0,     0,     0,     0,\n",
              "           0,     0,     0,     0,     0,     0,     0,     0,     0,\n",
              "           0,     0,     0,     0,     0,     0,     0,     0,     0,\n",
              "           0,     0,     0,     0,     0,     0,     0,     0,     0,\n",
              "           0,     0,     0,     0,     0,     0,     0,     0,     0,\n",
              "           0,     0,     0,     0,     0,     0,     0,     0,     0,\n",
              "           0,     0,     0,     0,     0,     0,     0,     0,     0,\n",
              "           0,     0,     0,     0,     0,     0,     0,     0,     0,\n",
              "           0,     0,     0,     0,     0,     0,     0,     0,     0,\n",
              "           0,     0,     0,     0,     0,     0,     0,     0,     0,\n",
              "           0,     0,     0,     0,     0,     0,     0,     0,     0,\n",
              "           0,     0,     0,     0,     0,     0,     0,     0,     0,\n",
              "           0,     0,     0,     0,     0,     0,     0,     0,     0,\n",
              "           0,     0,     0,     0,     0,     0,     0,     0,     0,\n",
              "           0,     0,     0,     0,     0,     0,     0,     0,     0,\n",
              "           0,     0,     0,     0,     0,     0,     0,     0,     0,\n",
              "           0,     0,     0,     0,     0,     0,     0,     0,     0,\n",
              "           0,     0,     0,     0,     0,     0,     0,     0,     0,\n",
              "           0,     0,     0,     0,     0,     0,     0,     0,     0,\n",
              "           0,     0,     0,     0,     0,     0,     0,     0,     0,\n",
              "           0,     0,     0,     0,     0,     0,     0,     0,     0,\n",
              "           0,     0,     0,     0,     0,     0,     0,     0,     0,\n",
              "           0,     0,     0,     0,     0,     0,     0,     0,     0,\n",
              "           0,     0,     0,     0,     0,     0,     0,     0,     0,\n",
              "           0,     0,     0,     0,     0,     0,     0,     0,     0,\n",
              "           0,     0,     0,     0,     0,     0,     0,     0,     0,\n",
              "           0,     0,     0,     0,     0,     0,     0,     0,     0,\n",
              "           0,     0,     0,     0,     0,     0,     0,     0,     0,\n",
              "           0,     0,     0,     0,     0,     0,     0,     0,     0,\n",
              "           0,     0,     0,     0,     0,     0,     0,     0,     0,\n",
              "           0,     0,     0,     0,     0,     0,     0,     0,     0,\n",
              "           0,     0,     0,     0,     0,     0,     0,     0,     0,\n",
              "           0,     0,     0,     0,     0,     0,     0,     0,     1])"
            ]
          },
          "metadata": {},
          "execution_count": 8
        }
      ]
    },
    {
      "cell_type": "code",
      "source": [
        "vocab_size = tokenizer.vocab_size\n",
        "from tensorflow.keras.layers import Dropout\n",
        "model = Sequential()\n",
        "model.add(Embedding(input_dim=vocab_size, output_dim=128))\n",
        "model.add(Dropout(0.5))\n",
        "model.add(LSTM(64))\n",
        "model.add(Dense(1, activation='sigmoid'))\n",
        "\n",
        "model.compile(optimizer='adam', loss='binary_crossentropy', metrics=['accuracy'])"
      ],
      "metadata": {
        "id": "GTRm0BGx8edO"
      },
      "execution_count": 9,
      "outputs": []
    },
    {
      "cell_type": "code",
      "source": [
        "X_train, X_test, y_train, y_test = train_test_split(X, y, test_size=0.2, random_state=0)\n"
      ],
      "metadata": {
        "id": "ge8A6sDe16nL"
      },
      "execution_count": 10,
      "outputs": []
    },
    {
      "cell_type": "code",
      "source": [
        "from sklearn.preprocessing import StandardScaler\n",
        "\n",
        "scaler = StandardScaler()\n",
        "X_train = scaler.fit_transform(X_train)"
      ],
      "metadata": {
        "id": "3SBOSxSpNrqV"
      },
      "execution_count": 21,
      "outputs": []
    },
    {
      "cell_type": "code",
      "source": [
        "\n",
        "model.fit(X_train, y_train, epochs=50, batch_size=32)\n"
      ],
      "metadata": {
        "colab": {
          "base_uri": "https://localhost:8080/"
        },
        "id": "7DOz2O6ns_Bk",
        "outputId": "7b3fef0a-ae0f-47fb-e1b6-fbd9702db6f6"
      },
      "execution_count": 22,
      "outputs": [
        {
          "output_type": "stream",
          "name": "stdout",
          "text": [
            "Epoch 1/50\n",
            "\u001b[1m146/146\u001b[0m \u001b[32m━━━━━━━━━━━━━━━━━━━━\u001b[0m\u001b[37m\u001b[0m \u001b[1m7s\u001b[0m 40ms/step - accuracy: 0.6953 - loss: 0.6697\n",
            "Epoch 2/50\n",
            "\u001b[1m146/146\u001b[0m \u001b[32m━━━━━━━━━━━━━━━━━━━━\u001b[0m\u001b[37m\u001b[0m \u001b[1m9s\u001b[0m 28ms/step - accuracy: 0.8550 - loss: 0.3908\n",
            "Epoch 3/50\n",
            "\u001b[1m146/146\u001b[0m \u001b[32m━━━━━━━━━━━━━━━━━━━━\u001b[0m\u001b[37m\u001b[0m \u001b[1m4s\u001b[0m 24ms/step - accuracy: 0.8595 - loss: 0.3658\n",
            "Epoch 4/50\n",
            "\u001b[1m146/146\u001b[0m \u001b[32m━━━━━━━━━━━━━━━━━━━━\u001b[0m\u001b[37m\u001b[0m \u001b[1m4s\u001b[0m 29ms/step - accuracy: 0.8467 - loss: 0.3906\n",
            "Epoch 5/50\n",
            "\u001b[1m146/146\u001b[0m \u001b[32m━━━━━━━━━━━━━━━━━━━━\u001b[0m\u001b[37m\u001b[0m \u001b[1m4s\u001b[0m 25ms/step - accuracy: 0.8495 - loss: 0.3897\n",
            "Epoch 6/50\n",
            "\u001b[1m146/146\u001b[0m \u001b[32m━━━━━━━━━━━━━━━━━━━━\u001b[0m\u001b[37m\u001b[0m \u001b[1m5s\u001b[0m 24ms/step - accuracy: 0.8552 - loss: 0.3842\n",
            "Epoch 7/50\n",
            "\u001b[1m146/146\u001b[0m \u001b[32m━━━━━━━━━━━━━━━━━━━━\u001b[0m\u001b[37m\u001b[0m \u001b[1m4s\u001b[0m 29ms/step - accuracy: 0.8558 - loss: 0.3778\n",
            "Epoch 8/50\n",
            "\u001b[1m146/146\u001b[0m \u001b[32m━━━━━━━━━━━━━━━━━━━━\u001b[0m\u001b[37m\u001b[0m \u001b[1m5s\u001b[0m 24ms/step - accuracy: 0.8491 - loss: 0.3915\n",
            "Epoch 9/50\n",
            "\u001b[1m146/146\u001b[0m \u001b[32m━━━━━━━━━━━━━━━━━━━━\u001b[0m\u001b[37m\u001b[0m \u001b[1m5s\u001b[0m 24ms/step - accuracy: 0.8500 - loss: 0.3850\n",
            "Epoch 10/50\n",
            "\u001b[1m146/146\u001b[0m \u001b[32m━━━━━━━━━━━━━━━━━━━━\u001b[0m\u001b[37m\u001b[0m \u001b[1m5s\u001b[0m 26ms/step - accuracy: 0.8478 - loss: 0.3965\n",
            "Epoch 11/50\n",
            "\u001b[1m146/146\u001b[0m \u001b[32m━━━━━━━━━━━━━━━━━━━━\u001b[0m\u001b[37m\u001b[0m \u001b[1m5s\u001b[0m 25ms/step - accuracy: 0.8543 - loss: 0.3836\n",
            "Epoch 12/50\n",
            "\u001b[1m146/146\u001b[0m \u001b[32m━━━━━━━━━━━━━━━━━━━━\u001b[0m\u001b[37m\u001b[0m \u001b[1m4s\u001b[0m 27ms/step - accuracy: 0.8446 - loss: 0.4004\n",
            "Epoch 13/50\n",
            "\u001b[1m146/146\u001b[0m \u001b[32m━━━━━━━━━━━━━━━━━━━━\u001b[0m\u001b[37m\u001b[0m \u001b[1m4s\u001b[0m 27ms/step - accuracy: 0.8531 - loss: 0.3884\n",
            "Epoch 14/50\n",
            "\u001b[1m146/146\u001b[0m \u001b[32m━━━━━━━━━━━━━━━━━━━━\u001b[0m\u001b[37m\u001b[0m \u001b[1m5s\u001b[0m 24ms/step - accuracy: 0.8503 - loss: 0.3782\n",
            "Epoch 15/50\n",
            "\u001b[1m146/146\u001b[0m \u001b[32m━━━━━━━━━━━━━━━━━━━━\u001b[0m\u001b[37m\u001b[0m \u001b[1m4s\u001b[0m 26ms/step - accuracy: 0.8586 - loss: 0.3683\n",
            "Epoch 16/50\n",
            "\u001b[1m146/146\u001b[0m \u001b[32m━━━━━━━━━━━━━━━━━━━━\u001b[0m\u001b[37m\u001b[0m \u001b[1m4s\u001b[0m 28ms/step - accuracy: 0.8499 - loss: 0.3904\n",
            "Epoch 17/50\n",
            "\u001b[1m146/146\u001b[0m \u001b[32m━━━━━━━━━━━━━━━━━━━━\u001b[0m\u001b[37m\u001b[0m \u001b[1m5s\u001b[0m 24ms/step - accuracy: 0.8497 - loss: 0.3898\n",
            "Epoch 18/50\n",
            "\u001b[1m146/146\u001b[0m \u001b[32m━━━━━━━━━━━━━━━━━━━━\u001b[0m\u001b[37m\u001b[0m \u001b[1m6s\u001b[0m 27ms/step - accuracy: 0.8494 - loss: 0.3849\n",
            "Epoch 19/50\n",
            "\u001b[1m146/146\u001b[0m \u001b[32m━━━━━━━━━━━━━━━━━━━━\u001b[0m\u001b[37m\u001b[0m \u001b[1m5s\u001b[0m 24ms/step - accuracy: 0.8477 - loss: 0.3889\n",
            "Epoch 20/50\n",
            "\u001b[1m146/146\u001b[0m \u001b[32m━━━━━━━━━━━━━━━━━━━━\u001b[0m\u001b[37m\u001b[0m \u001b[1m5s\u001b[0m 25ms/step - accuracy: 0.8500 - loss: 0.3871\n",
            "Epoch 21/50\n",
            "\u001b[1m146/146\u001b[0m \u001b[32m━━━━━━━━━━━━━━━━━━━━\u001b[0m\u001b[37m\u001b[0m \u001b[1m4s\u001b[0m 29ms/step - accuracy: 0.8673 - loss: 0.3595\n",
            "Epoch 22/50\n",
            "\u001b[1m146/146\u001b[0m \u001b[32m━━━━━━━━━━━━━━━━━━━━\u001b[0m\u001b[37m\u001b[0m \u001b[1m5s\u001b[0m 36ms/step - accuracy: 0.8461 - loss: 0.3988\n",
            "Epoch 23/50\n",
            "\u001b[1m146/146\u001b[0m \u001b[32m━━━━━━━━━━━━━━━━━━━━\u001b[0m\u001b[37m\u001b[0m \u001b[1m4s\u001b[0m 24ms/step - accuracy: 0.8536 - loss: 0.3832\n",
            "Epoch 24/50\n",
            "\u001b[1m146/146\u001b[0m \u001b[32m━━━━━━━━━━━━━━━━━━━━\u001b[0m\u001b[37m\u001b[0m \u001b[1m4s\u001b[0m 29ms/step - accuracy: 0.8482 - loss: 0.3895\n",
            "Epoch 25/50\n",
            "\u001b[1m146/146\u001b[0m \u001b[32m━━━━━━━━━━━━━━━━━━━━\u001b[0m\u001b[37m\u001b[0m \u001b[1m4s\u001b[0m 25ms/step - accuracy: 0.8467 - loss: 0.3888\n",
            "Epoch 26/50\n",
            "\u001b[1m146/146\u001b[0m \u001b[32m━━━━━━━━━━━━━━━━━━━━\u001b[0m\u001b[37m\u001b[0m \u001b[1m4s\u001b[0m 24ms/step - accuracy: 0.8467 - loss: 0.3894\n",
            "Epoch 27/50\n",
            "\u001b[1m146/146\u001b[0m \u001b[32m━━━━━━━━━━━━━━━━━━━━\u001b[0m\u001b[37m\u001b[0m \u001b[1m6s\u001b[0m 28ms/step - accuracy: 0.8577 - loss: 0.3645\n",
            "Epoch 28/50\n",
            "\u001b[1m146/146\u001b[0m \u001b[32m━━━━━━━━━━━━━━━━━━━━\u001b[0m\u001b[37m\u001b[0m \u001b[1m5s\u001b[0m 25ms/step - accuracy: 0.8570 - loss: 0.3727\n",
            "Epoch 29/50\n",
            "\u001b[1m146/146\u001b[0m \u001b[32m━━━━━━━━━━━━━━━━━━━━\u001b[0m\u001b[37m\u001b[0m \u001b[1m5s\u001b[0m 24ms/step - accuracy: 0.8534 - loss: 0.3760\n",
            "Epoch 30/50\n",
            "\u001b[1m146/146\u001b[0m \u001b[32m━━━━━━━━━━━━━━━━━━━━\u001b[0m\u001b[37m\u001b[0m \u001b[1m6s\u001b[0m 27ms/step - accuracy: 0.8589 - loss: 0.3762\n",
            "Epoch 31/50\n",
            "\u001b[1m146/146\u001b[0m \u001b[32m━━━━━━━━━━━━━━━━━━━━\u001b[0m\u001b[37m\u001b[0m \u001b[1m4s\u001b[0m 24ms/step - accuracy: 0.8490 - loss: 0.3916\n",
            "Epoch 32/50\n",
            "\u001b[1m146/146\u001b[0m \u001b[32m━━━━━━━━━━━━━━━━━━━━\u001b[0m\u001b[37m\u001b[0m \u001b[1m4s\u001b[0m 25ms/step - accuracy: 0.8511 - loss: 0.3877\n",
            "Epoch 33/50\n",
            "\u001b[1m146/146\u001b[0m \u001b[32m━━━━━━━━━━━━━━━━━━━━\u001b[0m\u001b[37m\u001b[0m \u001b[1m6s\u001b[0m 27ms/step - accuracy: 0.8510 - loss: 0.3906\n",
            "Epoch 34/50\n",
            "\u001b[1m146/146\u001b[0m \u001b[32m━━━━━━━━━━━━━━━━━━━━\u001b[0m\u001b[37m\u001b[0m \u001b[1m4s\u001b[0m 24ms/step - accuracy: 0.8499 - loss: 0.3852\n",
            "Epoch 35/50\n",
            "\u001b[1m146/146\u001b[0m \u001b[32m━━━━━━━━━━━━━━━━━━━━\u001b[0m\u001b[37m\u001b[0m \u001b[1m4s\u001b[0m 24ms/step - accuracy: 0.8561 - loss: 0.3782\n",
            "Epoch 36/50\n",
            "\u001b[1m146/146\u001b[0m \u001b[32m━━━━━━━━━━━━━━━━━━━━\u001b[0m\u001b[37m\u001b[0m \u001b[1m4s\u001b[0m 29ms/step - accuracy: 0.8473 - loss: 0.3875\n",
            "Epoch 37/50\n",
            "\u001b[1m146/146\u001b[0m \u001b[32m━━━━━━━━━━━━━━━━━━━━\u001b[0m\u001b[37m\u001b[0m \u001b[1m4s\u001b[0m 25ms/step - accuracy: 0.8551 - loss: 0.3746\n",
            "Epoch 38/50\n",
            "\u001b[1m146/146\u001b[0m \u001b[32m━━━━━━━━━━━━━━━━━━━━\u001b[0m\u001b[37m\u001b[0m \u001b[1m5s\u001b[0m 25ms/step - accuracy: 0.8500 - loss: 0.3820\n",
            "Epoch 39/50\n",
            "\u001b[1m146/146\u001b[0m \u001b[32m━━━━━━━━━━━━━━━━━━━━\u001b[0m\u001b[37m\u001b[0m \u001b[1m5s\u001b[0m 26ms/step - accuracy: 0.8524 - loss: 0.3833\n",
            "Epoch 40/50\n",
            "\u001b[1m146/146\u001b[0m \u001b[32m━━━━━━━━━━━━━━━━━━━━\u001b[0m\u001b[37m\u001b[0m \u001b[1m4s\u001b[0m 24ms/step - accuracy: 0.8540 - loss: 0.3816\n",
            "Epoch 41/50\n",
            "\u001b[1m146/146\u001b[0m \u001b[32m━━━━━━━━━━━━━━━━━━━━\u001b[0m\u001b[37m\u001b[0m \u001b[1m5s\u001b[0m 27ms/step - accuracy: 0.8540 - loss: 0.3842\n",
            "Epoch 42/50\n",
            "\u001b[1m146/146\u001b[0m \u001b[32m━━━━━━━━━━━━━━━━━━━━\u001b[0m\u001b[37m\u001b[0m \u001b[1m4s\u001b[0m 27ms/step - accuracy: 0.8522 - loss: 0.3796\n",
            "Epoch 43/50\n",
            "\u001b[1m146/146\u001b[0m \u001b[32m━━━━━━━━━━━━━━━━━━━━\u001b[0m\u001b[37m\u001b[0m \u001b[1m7s\u001b[0m 42ms/step - accuracy: 0.8588 - loss: 0.3753\n",
            "Epoch 44/50\n",
            "\u001b[1m146/146\u001b[0m \u001b[32m━━━━━━━━━━━━━━━━━━━━\u001b[0m\u001b[37m\u001b[0m \u001b[1m8s\u001b[0m 26ms/step - accuracy: 0.8517 - loss: 0.3889\n",
            "Epoch 45/50\n",
            "\u001b[1m146/146\u001b[0m \u001b[32m━━━━━━━━━━━━━━━━━━━━\u001b[0m\u001b[37m\u001b[0m \u001b[1m5s\u001b[0m 25ms/step - accuracy: 0.8580 - loss: 0.3753\n",
            "Epoch 46/50\n",
            "\u001b[1m146/146\u001b[0m \u001b[32m━━━━━━━━━━━━━━━━━━━━\u001b[0m\u001b[37m\u001b[0m \u001b[1m5s\u001b[0m 25ms/step - accuracy: 0.8443 - loss: 0.3997\n",
            "Epoch 47/50\n",
            "\u001b[1m146/146\u001b[0m \u001b[32m━━━━━━━━━━━━━━━━━━━━\u001b[0m\u001b[37m\u001b[0m \u001b[1m5s\u001b[0m 24ms/step - accuracy: 0.8516 - loss: 0.3779\n",
            "Epoch 48/50\n",
            "\u001b[1m146/146\u001b[0m \u001b[32m━━━━━━━━━━━━━━━━━━━━\u001b[0m\u001b[37m\u001b[0m \u001b[1m6s\u001b[0m 29ms/step - accuracy: 0.8537 - loss: 0.3854\n",
            "Epoch 49/50\n",
            "\u001b[1m146/146\u001b[0m \u001b[32m━━━━━━━━━━━━━━━━━━━━\u001b[0m\u001b[37m\u001b[0m \u001b[1m4s\u001b[0m 25ms/step - accuracy: 0.8510 - loss: 0.3791\n",
            "Epoch 50/50\n",
            "\u001b[1m146/146\u001b[0m \u001b[32m━━━━━━━━━━━━━━━━━━━━\u001b[0m\u001b[37m\u001b[0m \u001b[1m5s\u001b[0m 25ms/step - accuracy: 0.8512 - loss: 0.3840\n"
          ]
        },
        {
          "output_type": "execute_result",
          "data": {
            "text/plain": [
              "<keras.src.callbacks.history.History at 0x784a09db4e50>"
            ]
          },
          "metadata": {},
          "execution_count": 22
        }
      ]
    },
    {
      "cell_type": "code",
      "source": [
        "loss, accuracy = model.evaluate(X_train, y_train)\n",
        "print(f\"Loss: {loss}\")\n",
        "print(f\"Accuracy: {accuracy}\")\n"
      ],
      "metadata": {
        "colab": {
          "base_uri": "https://localhost:8080/"
        },
        "id": "6Npu1geWu08V",
        "outputId": "2845d839-fcc4-4bbe-b709-73b2c5e99108"
      },
      "execution_count": 23,
      "outputs": [
        {
          "output_type": "stream",
          "name": "stdout",
          "text": [
            "\u001b[1m146/146\u001b[0m \u001b[32m━━━━━━━━━━━━━━━━━━━━\u001b[0m\u001b[37m\u001b[0m \u001b[1m2s\u001b[0m 12ms/step - accuracy: 0.8432 - loss: 0.3845\n",
            "Loss: 0.38261622190475464\n",
            "Accuracy: 0.8525819778442383\n"
          ]
        }
      ]
    },
    {
      "cell_type": "code",
      "source": [
        "X_test = scaler.fit_transform(X_test)"
      ],
      "metadata": {
        "id": "cMNfIjoiO-Q2"
      },
      "execution_count": 26,
      "outputs": []
    },
    {
      "cell_type": "code",
      "source": [
        "loss, accuracy = model.evaluate(X_test, y_test)\n",
        "print(f\"Loss: {loss}\")\n",
        "print(f\"Accuracy: {accuracy}\")\n"
      ],
      "metadata": {
        "colab": {
          "base_uri": "https://localhost:8080/"
        },
        "id": "Ni0l_eOKyjF-",
        "outputId": "ec46f390-f1c1-45c3-d3d2-efb4882d87a8"
      },
      "execution_count": 27,
      "outputs": [
        {
          "output_type": "stream",
          "name": "stdout",
          "text": [
            "\u001b[1m37/37\u001b[0m \u001b[32m━━━━━━━━━━━━━━━━━━━━\u001b[0m\u001b[37m\u001b[0m \u001b[1m1s\u001b[0m 22ms/step - accuracy: 0.8502 - loss: 0.3840\n",
            "Loss: 0.39053425192832947\n",
            "Accuracy: 0.8483290672302246\n"
          ]
        }
      ]
    },
    {
      "cell_type": "code",
      "source": [
        "y_pred_prob = model.predict(X_test)\n",
        "y_pred = (y_pred_prob >= 0.5).astype(int)\n",
        "\n",
        "cm = confusion_matrix(y_test, y_pred)\n",
        "\n",
        "print(cm)"
      ],
      "metadata": {
        "colab": {
          "base_uri": "https://localhost:8080/"
        },
        "id": "2OZm7vDx8ZpZ",
        "outputId": "1517d1a3-a808-4912-8c28-4485a60eb6e1"
      },
      "execution_count": 28,
      "outputs": [
        {
          "output_type": "stream",
          "name": "stdout",
          "text": [
            "\u001b[1m37/37\u001b[0m \u001b[32m━━━━━━━━━━━━━━━━━━━━\u001b[0m\u001b[37m\u001b[0m \u001b[1m1s\u001b[0m 24ms/step\n",
            "[[528  63]\n",
            " [114 462]]\n"
          ]
        }
      ]
    },
    {
      "cell_type": "code",
      "source": [
        "y_pred_probs = model.predict([X_test[:4], X_suggestion[:4]])\n",
        "y_pred_classes = (y_pred_probs >= 0.5).astype(int)\n",
        "\n",
        "for i in range(4):\n",
        "    print(f\"\\nنمونه {i+1}:\")\n",
        "    print(\"متن:\", tokenizer.decode(X_test[i], skip_special_tokens=True))\n",
        "    print(f\"Suggestion: {X_suggestion[i][0]}\")\n",
        "    print(f\"احتمال مثبت بودن: {y_pred_probs[i][0]:.4f}\")\n",
        "    print(f\"کلاس پیش‌بینی‌شده: {'Positive' if y_pred_classes[i][0] >= 0.5 else 'Negative'}\")\n"
      ],
      "metadata": {
        "colab": {
          "base_uri": "https://localhost:8080/"
        },
        "id": "H1R8LacWq4yn",
        "outputId": "35bf5b78-4f70-440a-cff5-ff896b88b394"
      },
      "execution_count": 15,
      "outputs": [
        {
          "output_type": "stream",
          "name": "stdout",
          "text": [
            "\u001b[1m1/1\u001b[0m \u001b[32m━━━━━━━━━━━━━━━━━━━━\u001b[0m\u001b[37m\u001b[0m \u001b[1m0s\u001b[0m 125ms/step\n",
            "\n",
            "نمونه 1:\n",
            "متن: از مارک تفال انتظار بیشتری داشتیم کیفیت خیلی پایینی داشت به نحوی که تفلونش کامل از بین رفته و غذا میچسبه بهش اصلا راضی نیستیم\n",
            "Suggestion: 1\n",
            "احتمال مثبت بودن: 0.0912\n",
            "کلاس پیش‌بینی‌شده: Negative\n",
            "\n",
            "نمونه 2:\n",
            "متن: با سلام من از دیجی کالا رنگ سفید این محصول را خریداری کردم که بتونم تو زمان صرفه جویی کنم ولی متاسفانه نتیجه چیزی نبود که انتظارشو داشتم کیفیت بد اب که بدلیل چربیه روی اب و گچ محلول تو اب که بصورت شناوره کیفیت اب و خیلی تحت تاثیر قرار میده و من در استفاده از اب کتری تردید دارم چون خیلی با اب فاصله داره متاسفانه اینم بگم که این اتفاق تو اب کتری وجود نداره ای کاش خدمات پس از فروش فیلیپس یه راهنمایی به مصرف کننده بکنن\n",
            "Suggestion: 1\n",
            "احتمال مثبت بودن: 0.0912\n",
            "کلاس پیش‌بینی‌شده: Negative\n",
            "\n",
            "نمونه 3:\n",
            "متن: بسیار گوشی بیکیفت و ظریف و کند هست اصلا راضی نیستم\n",
            "Suggestion: 1\n",
            "احتمال مثبت بودن: 0.0912\n",
            "کلاس پیش‌بینی‌شده: Negative\n",
            "\n",
            "نمونه 4:\n",
            "متن: چند روزی میشه که این لپ تاپ رو تهیه کردم در کل راضیم ازش فقط چند تا نکته هست که باید بگم لپ تاپ بدون سیستم عامل هست و فقط ویندوز میتونه همه ی سخت افزار رو ساپورت کنه پس اجبارا باید ویندوز نصب کنید روش زاویه دیدش هیچ مشکلی نداره و تا درجه هم به خوبی دیده میشه رمش عالیه باتریش از صد درصد تا خاموش شدن حدود ساعت و نیم طول میکشه پیشنهاد میکنم بخرین و اینکه همین رو توی سایت های دیگه هزار تومن گرون تر دارن میفروشن\n",
            "Suggestion: 1\n",
            "احتمال مثبت بودن: 0.8939\n",
            "کلاس پیش‌بینی‌شده: Positive\n"
          ]
        },
        {
          "output_type": "stream",
          "name": "stderr",
          "text": [
            "/usr/local/lib/python3.11/dist-packages/keras/src/models/functional.py:237: UserWarning: The structure of `inputs` doesn't match the expected structure.\n",
            "Expected: keras_tensor\n",
            "Received: inputs=('Tensor(shape=(4, 513))', 'Tensor(shape=(4, 1))')\n",
            "  warnings.warn(msg)\n"
          ]
        }
      ]
    },
    {
      "cell_type": "code",
      "source": [
        "sns.heatmap(cm, cmap='gray', annot=True)"
      ],
      "metadata": {
        "colab": {
          "base_uri": "https://localhost:8080/",
          "height": 447
        },
        "id": "qaJuHx2CzEM6",
        "outputId": "851054ef-7641-4312-c387-4eb2ba07b8db"
      },
      "execution_count": 29,
      "outputs": [
        {
          "output_type": "execute_result",
          "data": {
            "text/plain": [
              "<Axes: >"
            ]
          },
          "metadata": {},
          "execution_count": 29
        },
        {
          "output_type": "display_data",
          "data": {
            "text/plain": [
              "<Figure size 640x480 with 2 Axes>"
            ],
            "image/png": "[encoded data removed]"
          },
          "metadata": {}
        }
      ]
    },
    {
      "cell_type": "code",
      "source": [
        "print(classification_report(y_test, y_pred))"
      ],
      "metadata": {
        "colab": {
          "base_uri": "https://localhost:8080/"
        },
        "id": "8rOduV4PzuX-",
        "outputId": "bba1435d-0f85-4472-eb91-2ffb3117691e"
      },
      "execution_count": 30,
      "outputs": [
        {
          "output_type": "stream",
          "name": "stdout",
          "text": [
            "              precision    recall  f1-score   support\n",
            "\n",
            "           0       0.82      0.89      0.86       591\n",
            "           1       0.88      0.80      0.84       576\n",
            "\n",
            "    accuracy                           0.85      1167\n",
            "   macro avg       0.85      0.85      0.85      1167\n",
            "weighted avg       0.85      0.85      0.85      1167\n",
            "\n"
          ]
        }
      ]
    }
  ]
}